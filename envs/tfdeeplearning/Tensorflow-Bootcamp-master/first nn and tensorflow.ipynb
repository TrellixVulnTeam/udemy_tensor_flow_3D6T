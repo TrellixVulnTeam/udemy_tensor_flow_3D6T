{
 "cells": [
  {
   "cell_type": "code",
   "execution_count": 1,
   "metadata": {
    "collapsed": true
   },
   "outputs": [],
   "source": [
    "import tensorflow as tf"
   ]
  },
  {
   "cell_type": "code",
   "execution_count": 2,
   "metadata": {},
   "outputs": [
    {
     "name": "stdout",
     "output_type": "stream",
     "text": [
      "1.3.0\n"
     ]
    }
   ],
   "source": [
    "print(tf.__version__)"
   ]
  },
  {
   "cell_type": "code",
   "execution_count": 3,
   "metadata": {
    "collapsed": true
   },
   "outputs": [],
   "source": [
    "hello = tf.constant('Hello ')"
   ]
  },
  {
   "cell_type": "code",
   "execution_count": 4,
   "metadata": {
    "collapsed": true
   },
   "outputs": [],
   "source": [
    "world = tf.constant('world')"
   ]
  },
  {
   "cell_type": "code",
   "execution_count": 5,
   "metadata": {},
   "outputs": [
    {
     "name": "stdout",
     "output_type": "stream",
     "text": [
      "Tensor(\"Const:0\", shape=(), dtype=string)\n"
     ]
    }
   ],
   "source": [
    "print(hello)"
   ]
  },
  {
   "cell_type": "code",
   "execution_count": 6,
   "metadata": {
    "collapsed": true
   },
   "outputs": [],
   "source": [
    "with tf.Session() as sess:\n",
    "    result = sess.run(hello+world)"
   ]
  },
  {
   "cell_type": "code",
   "execution_count": 7,
   "metadata": {},
   "outputs": [
    {
     "name": "stdout",
     "output_type": "stream",
     "text": [
      "b'Hello world'\n"
     ]
    }
   ],
   "source": [
    "print(result)"
   ]
  },
  {
   "cell_type": "code",
   "execution_count": 8,
   "metadata": {
    "collapsed": true
   },
   "outputs": [],
   "source": [
    "a = tf.constant(10)"
   ]
  },
  {
   "cell_type": "code",
   "execution_count": 9,
   "metadata": {
    "collapsed": true
   },
   "outputs": [],
   "source": [
    "b = tf.constant(20)"
   ]
  },
  {
   "cell_type": "code",
   "execution_count": 10,
   "metadata": {},
   "outputs": [
    {
     "data": {
      "text/plain": [
       "tensorflow.python.framework.ops.Tensor"
      ]
     },
     "execution_count": 10,
     "metadata": {},
     "output_type": "execute_result"
    }
   ],
   "source": [
    "type(a)"
   ]
  },
  {
   "cell_type": "code",
   "execution_count": 11,
   "metadata": {},
   "outputs": [
    {
     "data": {
      "text/plain": [
       "<tf.Tensor 'add_1:0' shape=() dtype=int32>"
      ]
     },
     "execution_count": 11,
     "metadata": {},
     "output_type": "execute_result"
    }
   ],
   "source": [
    "a + b "
   ]
  },
  {
   "cell_type": "code",
   "execution_count": 12,
   "metadata": {
    "collapsed": true
   },
   "outputs": [],
   "source": [
    "with tf.Session() as sess:\n",
    "    result = sess.run(a+b)"
   ]
  },
  {
   "cell_type": "code",
   "execution_count": 13,
   "metadata": {},
   "outputs": [
    {
     "data": {
      "text/plain": [
       "30"
      ]
     },
     "execution_count": 13,
     "metadata": {},
     "output_type": "execute_result"
    }
   ],
   "source": [
    "result"
   ]
  },
  {
   "cell_type": "code",
   "execution_count": 14,
   "metadata": {
    "collapsed": true
   },
   "outputs": [],
   "source": [
    "const = tf.constant(10)"
   ]
  },
  {
   "cell_type": "code",
   "execution_count": 15,
   "metadata": {
    "collapsed": true
   },
   "outputs": [],
   "source": [
    "\n",
    "fill_mat = tf.fill((4,4),10)"
   ]
  },
  {
   "cell_type": "code",
   "execution_count": 16,
   "metadata": {
    "collapsed": true
   },
   "outputs": [],
   "source": [
    "myzeros = tf.zeros((4,4))"
   ]
  },
  {
   "cell_type": "code",
   "execution_count": 17,
   "metadata": {
    "collapsed": true
   },
   "outputs": [],
   "source": [
    "myones = tf.ones((4,4))"
   ]
  },
  {
   "cell_type": "code",
   "execution_count": 18,
   "metadata": {
    "collapsed": true
   },
   "outputs": [],
   "source": [
    "myrandpois = tf.random_poisson(6,(7,7))"
   ]
  },
  {
   "cell_type": "code",
   "execution_count": 19,
   "metadata": {},
   "outputs": [
    {
     "data": {
      "text/plain": [
       "array([[  9.,   7.,   6.,   6.,   9.,  10.,   8.],\n",
       "       [  7.,   6.,   9.,   6.,   4.,   0.,   4.],\n",
       "       [  6.,   5.,   8.,   4.,   6.,   5.,   6.],\n",
       "       [  0.,   6.,  10.,   5.,  10.,   5.,   5.],\n",
       "       [  4.,  11.,   6.,   4.,   6.,   6.,   3.],\n",
       "       [  9.,   7.,  12.,   9.,   3.,   5.,   5.],\n",
       "       [  7.,   7.,   6.,   5.,   5.,   7.,   8.]], dtype=float32)"
      ]
     },
     "execution_count": 19,
     "metadata": {},
     "output_type": "execute_result"
    }
   ],
   "source": [
    "with tf.Session() as sess:\n",
    "    result = sess.run(myrandpois)\n",
    "result"
   ]
  },
  {
   "cell_type": "code",
   "execution_count": 20,
   "metadata": {
    "collapsed": true
   },
   "outputs": [],
   "source": [
    "myrandn = tf.random_normal((4,4), mean=0, stddev=1.0)"
   ]
  },
  {
   "cell_type": "code",
   "execution_count": 21,
   "metadata": {
    "collapsed": true
   },
   "outputs": [],
   "source": [
    "myranu = tf.random_uniform((4,4), minval=0,maxval=1)"
   ]
  },
  {
   "cell_type": "code",
   "execution_count": 22,
   "metadata": {},
   "outputs": [
    {
     "data": {
      "text/plain": [
       "<tf.Tensor 'zeros:0' shape=(4, 4) dtype=float32>"
      ]
     },
     "execution_count": 22,
     "metadata": {},
     "output_type": "execute_result"
    }
   ],
   "source": [
    "myzeros"
   ]
  },
  {
   "cell_type": "code",
   "execution_count": 23,
   "metadata": {
    "collapsed": true
   },
   "outputs": [],
   "source": [
    "my_ops = [const, fill_mat, myzeros, myrandn, myranu]"
   ]
  },
  {
   "cell_type": "code",
   "execution_count": 24,
   "metadata": {
    "collapsed": true
   },
   "outputs": [],
   "source": [
    "sess = tf.InteractiveSession()"
   ]
  },
  {
   "cell_type": "code",
   "execution_count": 25,
   "metadata": {},
   "outputs": [
    {
     "name": "stdout",
     "output_type": "stream",
     "text": [
      "10\n",
      "\n",
      "\n",
      "[[10 10 10 10]\n",
      " [10 10 10 10]\n",
      " [10 10 10 10]\n",
      " [10 10 10 10]]\n",
      "\n",
      "\n",
      "[[ 0.  0.  0.  0.]\n",
      " [ 0.  0.  0.  0.]\n",
      " [ 0.  0.  0.  0.]\n",
      " [ 0.  0.  0.  0.]]\n",
      "\n",
      "\n",
      "[[-0.52459723 -0.37854654 -0.22555238 -0.72409302]\n",
      " [-0.97020537  0.31437331 -0.56375307 -0.37523156]\n",
      " [ 0.52038223  0.47048816 -1.14742672 -0.84573102]\n",
      " [ 1.35935712  1.37095273 -0.06771495 -1.00580871]]\n",
      "\n",
      "\n",
      "[[ 0.1536175   0.72874081  0.32518005  0.35106039]\n",
      " [ 0.53115082  0.90317059  0.41368365  0.85604107]\n",
      " [ 0.18106198  0.26632845  0.60335445  0.37817061]\n",
      " [ 0.07744694  0.63255429  0.11629581  0.0159806 ]]\n",
      "\n",
      "\n"
     ]
    }
   ],
   "source": [
    "for op in my_ops:\n",
    "    print(sess.run(op))\n",
    "    print('\\n')"
   ]
  },
  {
   "cell_type": "code",
   "execution_count": 26,
   "metadata": {
    "collapsed": true
   },
   "outputs": [],
   "source": [
    "a = tf.constant([ [1,2],\n",
    "                 [ 3,4] ])"
   ]
  },
  {
   "cell_type": "code",
   "execution_count": 27,
   "metadata": {},
   "outputs": [
    {
     "data": {
      "text/plain": [
       "TensorShape([Dimension(2), Dimension(2)])"
      ]
     },
     "execution_count": 27,
     "metadata": {},
     "output_type": "execute_result"
    }
   ],
   "source": [
    "a.get_shape()"
   ]
  },
  {
   "cell_type": "code",
   "execution_count": 28,
   "metadata": {
    "collapsed": true
   },
   "outputs": [],
   "source": [
    "b = tf.constant([ [ 10], [100]])"
   ]
  },
  {
   "cell_type": "code",
   "execution_count": 29,
   "metadata": {
    "collapsed": true
   },
   "outputs": [],
   "source": [
    "result = tf.matmul(a,b)"
   ]
  },
  {
   "cell_type": "code",
   "execution_count": 30,
   "metadata": {},
   "outputs": [
    {
     "data": {
      "text/plain": [
       "array([[210],\n",
       "       [430]], dtype=int32)"
      ]
     },
     "execution_count": 30,
     "metadata": {},
     "output_type": "execute_result"
    }
   ],
   "source": [
    "sess.run(result)"
   ]
  },
  {
   "cell_type": "code",
   "execution_count": 31,
   "metadata": {},
   "outputs": [
    {
     "data": {
      "text/plain": [
       "array([[210],\n",
       "       [430]], dtype=int32)"
      ]
     },
     "execution_count": 31,
     "metadata": {},
     "output_type": "execute_result"
    }
   ],
   "source": [
    "result.eval()"
   ]
  },
  {
   "cell_type": "markdown",
   "metadata": {},
   "source": [
    "# TF Graphs"
   ]
  },
  {
   "cell_type": "code",
   "execution_count": 32,
   "metadata": {
    "collapsed": true
   },
   "outputs": [],
   "source": [
    "n1 = tf.constant(1)"
   ]
  },
  {
   "cell_type": "code",
   "execution_count": 33,
   "metadata": {
    "collapsed": true
   },
   "outputs": [],
   "source": [
    "n2 = tf.constant(2)"
   ]
  },
  {
   "cell_type": "code",
   "execution_count": 34,
   "metadata": {
    "collapsed": true
   },
   "outputs": [],
   "source": [
    "n3 = n1 + n2"
   ]
  },
  {
   "cell_type": "code",
   "execution_count": 35,
   "metadata": {
    "collapsed": true
   },
   "outputs": [],
   "source": [
    "with tf.Session():\n",
    "    result = sess.run(n3)"
   ]
  },
  {
   "cell_type": "code",
   "execution_count": 36,
   "metadata": {},
   "outputs": [
    {
     "data": {
      "text/plain": [
       "3"
      ]
     },
     "execution_count": 36,
     "metadata": {},
     "output_type": "execute_result"
    }
   ],
   "source": [
    "result"
   ]
  },
  {
   "cell_type": "code",
   "execution_count": 37,
   "metadata": {},
   "outputs": [
    {
     "name": "stdout",
     "output_type": "stream",
     "text": [
      "Tensor(\"add_3:0\", shape=(), dtype=int32)\n"
     ]
    }
   ],
   "source": [
    "print(n3)"
   ]
  },
  {
   "cell_type": "code",
   "execution_count": 38,
   "metadata": {
    "collapsed": true
   },
   "outputs": [],
   "source": [
    "g = tf.Graph()"
   ]
  },
  {
   "cell_type": "code",
   "execution_count": 39,
   "metadata": {},
   "outputs": [
    {
     "name": "stdout",
     "output_type": "stream",
     "text": [
      "<tensorflow.python.framework.ops.Graph object at 0x7ff03e8be6a0>\n"
     ]
    }
   ],
   "source": [
    "print(g)"
   ]
  },
  {
   "cell_type": "code",
   "execution_count": 40,
   "metadata": {
    "collapsed": true
   },
   "outputs": [],
   "source": [
    "graph_one = tf.get_default_graph()"
   ]
  },
  {
   "cell_type": "code",
   "execution_count": 41,
   "metadata": {
    "collapsed": true
   },
   "outputs": [],
   "source": [
    "graph_two = tf.Graph()"
   ]
  },
  {
   "cell_type": "code",
   "execution_count": 42,
   "metadata": {},
   "outputs": [
    {
     "name": "stdout",
     "output_type": "stream",
     "text": [
      "<tensorflow.python.framework.ops.Graph object at 0x7ff04095a080>\n",
      "<tensorflow.python.framework.ops.Graph object at 0x7ff03e8be7f0>\n"
     ]
    }
   ],
   "source": [
    "print(graph_one)\n",
    "print(graph_two)"
   ]
  },
  {
   "cell_type": "code",
   "execution_count": 43,
   "metadata": {},
   "outputs": [
    {
     "name": "stdout",
     "output_type": "stream",
     "text": [
      "True\n"
     ]
    }
   ],
   "source": [
    "with graph_two.as_default():\n",
    "    print(graph_two is tf.get_default_graph())"
   ]
  },
  {
   "cell_type": "code",
   "execution_count": 44,
   "metadata": {},
   "outputs": [
    {
     "name": "stdout",
     "output_type": "stream",
     "text": [
      "False\n"
     ]
    }
   ],
   "source": [
    "print(graph_two is tf.get_default_graph())"
   ]
  },
  {
   "cell_type": "code",
   "execution_count": 45,
   "metadata": {
    "collapsed": true
   },
   "outputs": [],
   "source": [
    "my_tensor = tf.random_uniform((4,4),0,1)"
   ]
  },
  {
   "cell_type": "code",
   "execution_count": 46,
   "metadata": {},
   "outputs": [
    {
     "data": {
      "text/plain": [
       "<tf.Tensor 'random_uniform_1:0' shape=(4, 4) dtype=float32>"
      ]
     },
     "execution_count": 46,
     "metadata": {},
     "output_type": "execute_result"
    }
   ],
   "source": [
    "my_tensor"
   ]
  },
  {
   "cell_type": "code",
   "execution_count": 47,
   "metadata": {
    "collapsed": true
   },
   "outputs": [],
   "source": [
    "my_var = tf.Variable(initial_value=my_tensor)"
   ]
  },
  {
   "cell_type": "code",
   "execution_count": 48,
   "metadata": {
    "collapsed": true
   },
   "outputs": [],
   "source": [
    "#sess.run(my_var)"
   ]
  },
  {
   "cell_type": "code",
   "execution_count": 49,
   "metadata": {
    "collapsed": true
   },
   "outputs": [],
   "source": [
    "init = tf.global_variables_initializer()"
   ]
  },
  {
   "cell_type": "code",
   "execution_count": 50,
   "metadata": {
    "collapsed": true
   },
   "outputs": [],
   "source": [
    "sess.run(init)"
   ]
  },
  {
   "cell_type": "code",
   "execution_count": 51,
   "metadata": {},
   "outputs": [
    {
     "data": {
      "text/plain": [
       "array([[ 0.32861638,  0.32375634,  0.64299357,  0.3676542 ],\n",
       "       [ 0.82637525,  0.03674316,  0.90989733,  0.23208249],\n",
       "       [ 0.97991478,  0.26734674,  0.57174599,  0.02884388],\n",
       "       [ 0.00440645,  0.46279514,  0.76277816,  0.9759053 ]], dtype=float32)"
      ]
     },
     "execution_count": 51,
     "metadata": {},
     "output_type": "execute_result"
    }
   ],
   "source": [
    "sess.run(my_var)"
   ]
  },
  {
   "cell_type": "code",
   "execution_count": 52,
   "metadata": {
    "collapsed": true
   },
   "outputs": [],
   "source": [
    "ph = tf.placeholder(tf.float32)"
   ]
  },
  {
   "cell_type": "markdown",
   "metadata": {},
   "source": [
    "# first network"
   ]
  },
  {
   "cell_type": "code",
   "execution_count": 53,
   "metadata": {
    "collapsed": true
   },
   "outputs": [],
   "source": [
    "import numpy as np"
   ]
  },
  {
   "cell_type": "code",
   "execution_count": 54,
   "metadata": {
    "collapsed": true
   },
   "outputs": [],
   "source": [
    "np.random.seed(101)\n",
    "tf.set_random_seed(101)"
   ]
  },
  {
   "cell_type": "code",
   "execution_count": 55,
   "metadata": {
    "collapsed": true
   },
   "outputs": [],
   "source": [
    "rand_a = np.random.uniform(0,100,(5,5))"
   ]
  },
  {
   "cell_type": "code",
   "execution_count": 56,
   "metadata": {},
   "outputs": [
    {
     "data": {
      "text/plain": [
       "array([[ 51.63986277,  57.06675869,   2.84742265,  17.15216562,\n",
       "         68.52769817],\n",
       "       [ 83.38968626,  30.69662197,  89.36130797,  72.15438618,\n",
       "         18.99389542],\n",
       "       [ 55.42275911,  35.2131954 ,  18.18924027,  78.56017619,\n",
       "         96.54832224],\n",
       "       [ 23.23536618,   8.35614337,  60.35484223,  72.89927573,\n",
       "         27.62388285],\n",
       "       [ 68.53063288,  51.78674742,   4.84845374,  13.78692376,\n",
       "         18.69674261]])"
      ]
     },
     "execution_count": 56,
     "metadata": {},
     "output_type": "execute_result"
    }
   ],
   "source": [
    "rand_a"
   ]
  },
  {
   "cell_type": "code",
   "execution_count": 57,
   "metadata": {
    "collapsed": true
   },
   "outputs": [],
   "source": [
    "rand_b = np.random.uniform(0,100,(5,1))"
   ]
  },
  {
   "cell_type": "code",
   "execution_count": 58,
   "metadata": {},
   "outputs": [
    {
     "data": {
      "text/plain": [
       "array([[ 99.43179012],\n",
       "       [ 52.06653967],\n",
       "       [ 57.87895355],\n",
       "       [ 73.48190583],\n",
       "       [ 54.19617722]])"
      ]
     },
     "execution_count": 58,
     "metadata": {},
     "output_type": "execute_result"
    }
   ],
   "source": [
    "rand_b"
   ]
  },
  {
   "cell_type": "code",
   "execution_count": 59,
   "metadata": {
    "collapsed": true
   },
   "outputs": [],
   "source": [
    "a = tf.placeholder(tf.float32)"
   ]
  },
  {
   "cell_type": "code",
   "execution_count": 60,
   "metadata": {
    "collapsed": true
   },
   "outputs": [],
   "source": [
    "b = tf.placeholder(tf.float32)"
   ]
  },
  {
   "cell_type": "code",
   "execution_count": 61,
   "metadata": {
    "collapsed": true
   },
   "outputs": [],
   "source": [
    "add_op = a + b"
   ]
  },
  {
   "cell_type": "code",
   "execution_count": 62,
   "metadata": {
    "collapsed": true
   },
   "outputs": [],
   "source": [
    "mul_op = a * b "
   ]
  },
  {
   "cell_type": "code",
   "execution_count": 63,
   "metadata": {},
   "outputs": [
    {
     "name": "stdout",
     "output_type": "stream",
     "text": [
      "[[ 151.07165527  156.49855042  102.27921295  116.58396149  167.95948792]\n",
      " [ 135.45622253   82.76316071  141.42784119  124.22093201   71.06043243]\n",
      " [ 113.30171204   93.09214783   76.06819153  136.43911743  154.42727661]\n",
      " [  96.7172699    81.83804321  133.83674622  146.38117981  101.10578918]\n",
      " [ 122.72680664  105.98292542   59.04463196   67.98310089   72.89292145]]\n",
      "[[ 5134.64404297  5674.25         283.12432861  1705.47070312\n",
      "   6813.83154297]\n",
      " [ 4341.8125      1598.26696777  4652.73388672  3756.8293457    988.9463501 ]\n",
      " [ 3207.8112793   2038.10290527  1052.77416992  4546.98046875\n",
      "   5588.11572266]\n",
      " [ 1707.37902832   614.02526855  4434.98876953  5356.77734375\n",
      "   2029.85546875]\n",
      " [ 3714.09838867  2806.64379883   262.76763916   747.19854736\n",
      "   1013.29199219]]\n"
     ]
    }
   ],
   "source": [
    "with tf.Session() as sess:\n",
    "    \n",
    "    add_result = sess.run(add_op, feed_dict = {a:rand_a, b:rand_b})\n",
    "    print(add_result)\n",
    "    \n",
    "    mult_result = sess.run(mul_op, feed_dict = {a:rand_a, b:rand_b})\n",
    "    print(mult_result)"
   ]
  },
  {
   "cell_type": "markdown",
   "metadata": {},
   "source": [
    "# Example NN"
   ]
  },
  {
   "cell_type": "code",
   "execution_count": 64,
   "metadata": {
    "collapsed": true
   },
   "outputs": [],
   "source": [
    "n_features = 10\n",
    "n_dense_neurons = 3"
   ]
  },
  {
   "cell_type": "code",
   "execution_count": 65,
   "metadata": {
    "collapsed": true
   },
   "outputs": [],
   "source": [
    "x = tf.placeholder(tf.float32,(None,n_features))"
   ]
  },
  {
   "cell_type": "code",
   "execution_count": 66,
   "metadata": {
    "collapsed": true
   },
   "outputs": [],
   "source": [
    "W = tf.Variable(tf.random_normal([n_features,n_dense_neurons]))\n",
    "\n",
    "b = tf.Variable(tf.ones([n_dense_neurons]))"
   ]
  },
  {
   "cell_type": "code",
   "execution_count": 67,
   "metadata": {
    "collapsed": true
   },
   "outputs": [],
   "source": [
    "xW = tf.matmul(x,W)"
   ]
  },
  {
   "cell_type": "code",
   "execution_count": 68,
   "metadata": {
    "collapsed": true
   },
   "outputs": [],
   "source": [
    "z = tf.add(xW,b)"
   ]
  },
  {
   "cell_type": "code",
   "execution_count": 69,
   "metadata": {
    "collapsed": true
   },
   "outputs": [],
   "source": [
    "a = tf.sigmoid(z)"
   ]
  },
  {
   "cell_type": "code",
   "execution_count": 70,
   "metadata": {
    "collapsed": true
   },
   "outputs": [],
   "source": [
    "init = tf.global_variables_initializer()"
   ]
  },
  {
   "cell_type": "code",
   "execution_count": 71,
   "metadata": {
    "collapsed": true
   },
   "outputs": [],
   "source": [
    "with tf.Session() as sess:\n",
    "    \n",
    "    sess.run(init)\n",
    "    \n",
    "    layer_out = sess.run(a,feed_dict = {x:np.random.random([1,n_features])})"
   ]
  },
  {
   "cell_type": "code",
   "execution_count": 72,
   "metadata": {},
   "outputs": [
    {
     "data": {
      "text/plain": [
       "array([[ 0.85899407,  0.926714  ,  0.45346338]], dtype=float32)"
      ]
     },
     "execution_count": 72,
     "metadata": {},
     "output_type": "execute_result"
    }
   ],
   "source": [
    "layer_out"
   ]
  },
  {
   "cell_type": "markdown",
   "metadata": {},
   "source": [
    "## Simple Regression Example"
   ]
  },
  {
   "cell_type": "code",
   "execution_count": 73,
   "metadata": {
    "collapsed": true
   },
   "outputs": [],
   "source": [
    "import matplotlib.pyplot as plt\n",
    "%matplotlib inline "
   ]
  },
  {
   "cell_type": "code",
   "execution_count": 74,
   "metadata": {
    "collapsed": true
   },
   "outputs": [],
   "source": [
    "x_data = np.linspace(0,10,10) + np.random.uniform(-1.5,1.5,10)"
   ]
  },
  {
   "cell_type": "code",
   "execution_count": 75,
   "metadata": {},
   "outputs": [
    {
     "data": {
      "text/plain": [
       "array([-1.20856056, -0.08034641,  2.82674411,  4.50477294,  3.42312535,\n",
       "        4.88227319,  7.18414126,  6.77068715,  9.4930023 ,  9.96290567])"
      ]
     },
     "execution_count": 75,
     "metadata": {},
     "output_type": "execute_result"
    }
   ],
   "source": [
    "x_data"
   ]
  },
  {
   "cell_type": "code",
   "execution_count": 76,
   "metadata": {
    "collapsed": true
   },
   "outputs": [],
   "source": [
    "y_label = np.linspace(0,10,10) + np.random.uniform(-1.5,1.5,10)"
   ]
  },
  {
   "cell_type": "code",
   "execution_count": 77,
   "metadata": {},
   "outputs": [
    {
     "data": {
      "text/plain": [
       "array([ 0.5420333 ,  1.17575569,  0.85241231,  2.50514314,  4.67005971,\n",
       "        4.41685654,  6.66701681,  6.69180648,  7.54731409,  9.03483077])"
      ]
     },
     "execution_count": 77,
     "metadata": {},
     "output_type": "execute_result"
    }
   ],
   "source": [
    "y_label"
   ]
  },
  {
   "cell_type": "code",
   "execution_count": 78,
   "metadata": {},
   "outputs": [
    {
     "data": {
      "text/plain": [
       "[<matplotlib.lines.Line2D at 0x7ff02624d198>]"
      ]
     },
     "execution_count": 78,
     "metadata": {},
     "output_type": "execute_result"
    },
    {
     "data": {
      "image/png": "[encoded data removed]",
      "text/plain": [
       "<matplotlib.figure.Figure at 0x7ff02677dcf8>"
      ]
     },
     "metadata": {},
     "output_type": "display_data"
    }
   ],
   "source": [
    "plt.plot(x_data, y_label, '*')"
   ]
  },
  {
   "cell_type": "markdown",
   "metadata": {},
   "source": [
    "y = mx + b "
   ]
  },
  {
   "cell_type": "code",
   "execution_count": 79,
   "metadata": {},
   "outputs": [
    {
     "data": {
      "text/plain": [
       "array([ 0.44236813,  0.87758732])"
      ]
     },
     "execution_count": 79,
     "metadata": {},
     "output_type": "execute_result"
    }
   ],
   "source": [
    "np.random.rand(2)"
   ]
  },
  {
   "cell_type": "code",
   "execution_count": 80,
   "metadata": {
    "collapsed": true
   },
   "outputs": [],
   "source": [
    "m = tf.Variable(0.49)\n",
    "b = tf.Variable(0.97)"
   ]
  },
  {
   "cell_type": "code",
   "execution_count": 81,
   "metadata": {
    "collapsed": true
   },
   "outputs": [],
   "source": [
    "error = 0 \n",
    "\n",
    "for x,y in zip(x_data,y_label):\n",
    "    \n",
    "    y_hat = m*x + b \n",
    "    \n",
    "    error += (y-y_hat)**2"
   ]
  },
  {
   "cell_type": "code",
   "execution_count": 82,
   "metadata": {
    "collapsed": true
   },
   "outputs": [],
   "source": [
    "optimizer = tf.train.GradientDescentOptimizer(learning_rate=0.001)\n",
    "train = optimizer.minimize(error)"
   ]
  },
  {
   "cell_type": "code",
   "execution_count": 83,
   "metadata": {
    "collapsed": true
   },
   "outputs": [],
   "source": [
    "init = tf.global_variables_initializer()"
   ]
  },
  {
   "cell_type": "code",
   "execution_count": 84,
   "metadata": {
    "collapsed": true
   },
   "outputs": [],
   "source": [
    "with tf.Session() as sess:\n",
    "    sess.run(init)\n",
    "    \n",
    "    training_steps = 100\n",
    "    \n",
    "    for i in range(training_steps):\n",
    "        sess.run(train)\n",
    "    final_slope , final_intercept = sess.run([m,b])"
   ]
  },
  {
   "cell_type": "code",
   "execution_count": 85,
   "metadata": {},
   "outputs": [
    {
     "data": {
      "text/plain": [
       "[<matplotlib.lines.Line2D at 0x7ff025d4d710>]"
      ]
     },
     "execution_count": 85,
     "metadata": {},
     "output_type": "execute_result"
    },
    {
     "data": {
      "image/png": "[encoded data removed]",
      "text/plain": [
       "<matplotlib.figure.Figure at 0x7ff025d412b0>"
      ]
     },
     "metadata": {},
     "output_type": "display_data"
    }
   ],
   "source": [
    "x_test = np.linspace(-1,11,10)\n",
    "\n",
    "#y = mx + b \n",
    "\n",
    "y_pred_plot = final_slope * x_test + final_intercept\n",
    "\n",
    "plt.plot(x_test , y_pred_plot, 'r')\n",
    "plt.plot(x_data, y_label, '*')"
   ]
  },
  {
   "cell_type": "markdown",
   "metadata": {},
   "source": [
    "# Regression Example (simple) "
   ]
  },
  {
   "cell_type": "code",
   "execution_count": 88,
   "metadata": {},
   "outputs": [],
   "source": [
    "import numpy as np\n",
    "import pandas as pd\n",
    "import matplotlib.pyplot as plt\n",
    "%matplotlib inline"
   ]
  },
  {
   "cell_type": "code",
   "execution_count": 89,
   "metadata": {
    "collapsed": true
   },
   "outputs": [],
   "source": [
    "import tensorflow as tf"
   ]
  },
  {
   "cell_type": "code",
   "execution_count": 90,
   "metadata": {
    "collapsed": true
   },
   "outputs": [],
   "source": [
    "x_data = np.linspace(0.0,10.0,1000000)"
   ]
  },
  {
   "cell_type": "code",
   "execution_count": 93,
   "metadata": {},
   "outputs": [],
   "source": [
    "noise = np.random.randn(len(x_data))"
   ]
  },
  {
   "cell_type": "markdown",
   "metadata": {},
   "source": [
    "y = mx + b \n",
    "\n",
    "b = 5 "
   ]
  },
  {
   "cell_type": "code",
   "execution_count": 95,
   "metadata": {
    "collapsed": true
   },
   "outputs": [],
   "source": [
    "y_true = (0.5 * x_data ) + 5 + noise "
   ]
  },
  {
   "cell_type": "code",
   "execution_count": null,
   "metadata": {
    "collapsed": true
   },
   "outputs": [],
   "source": [
    "x_df = pd.DataFrame(data=x_data, columns=['X Data'])"
   ]
  },
  {
   "cell_type": "code",
   "execution_count": 98,
   "metadata": {},
   "outputs": [],
   "source": [
    "y_df = pd.DataFrame(data=y_true, columns=['Y'])"
   ]
  },
  {
   "cell_type": "code",
   "execution_count": 100,
   "metadata": {},
   "outputs": [
    {
     "data": {
      "text/html": [
       "<div>\n",
       "<style>\n",
       "    .dataframe thead tr:only-child th {\n",
       "        text-align: right;\n",
       "    }\n",
       "\n",
       "    .dataframe thead th {\n",
       "        text-align: left;\n",
       "    }\n",
       "\n",
       "    .dataframe tbody tr th {\n",
       "        vertical-align: top;\n",
       "    }\n",
       "</style>\n",
       "<table border=\"1\" class=\"dataframe\">\n",
       "  <thead>\n",
       "    <tr style=\"text-align: right;\">\n",
       "      <th></th>\n",
       "      <th>Y</th>\n",
       "    </tr>\n",
       "  </thead>\n",
       "  <tbody>\n",
       "    <tr>\n",
       "      <th>0</th>\n",
       "      <td>4.968421</td>\n",
       "    </tr>\n",
       "    <tr>\n",
       "      <th>1</th>\n",
       "      <td>5.649831</td>\n",
       "    </tr>\n",
       "    <tr>\n",
       "      <th>2</th>\n",
       "      <td>7.154856</td>\n",
       "    </tr>\n",
       "    <tr>\n",
       "      <th>3</th>\n",
       "      <td>4.389756</td>\n",
       "    </tr>\n",
       "    <tr>\n",
       "      <th>4</th>\n",
       "      <td>4.244695</td>\n",
       "    </tr>\n",
       "  </tbody>\n",
       "</table>\n",
       "</div>"
      ],
      "text/plain": [
       "          Y\n",
       "0  4.968421\n",
       "1  5.649831\n",
       "2  7.154856\n",
       "3  4.389756\n",
       "4  4.244695"
      ]
     },
     "execution_count": 100,
     "metadata": {},
     "output_type": "execute_result"
    }
   ],
   "source": [
    "y_df.head()"
   ]
  },
  {
   "cell_type": "code",
   "execution_count": 101,
   "metadata": {},
   "outputs": [],
   "source": [
    "my_data = pd.concat([x_df, y_df],axis=1)"
   ]
  },
  {
   "cell_type": "code",
   "execution_count": 102,
   "metadata": {},
   "outputs": [
    {
     "data": {
      "text/html": [
       "<div>\n",
       "<style>\n",
       "    .dataframe thead tr:only-child th {\n",
       "        text-align: right;\n",
       "    }\n",
       "\n",
       "    .dataframe thead th {\n",
       "        text-align: left;\n",
       "    }\n",
       "\n",
       "    .dataframe tbody tr th {\n",
       "        vertical-align: top;\n",
       "    }\n",
       "</style>\n",
       "<table border=\"1\" class=\"dataframe\">\n",
       "  <thead>\n",
       "    <tr style=\"text-align: right;\">\n",
       "      <th></th>\n",
       "      <th>X Data</th>\n",
       "      <th>Y</th>\n",
       "    </tr>\n",
       "  </thead>\n",
       "  <tbody>\n",
       "    <tr>\n",
       "      <th>0</th>\n",
       "      <td>0.00000</td>\n",
       "      <td>4.968421</td>\n",
       "    </tr>\n",
       "    <tr>\n",
       "      <th>1</th>\n",
       "      <td>0.00001</td>\n",
       "      <td>5.649831</td>\n",
       "    </tr>\n",
       "    <tr>\n",
       "      <th>2</th>\n",
       "      <td>0.00002</td>\n",
       "      <td>7.154856</td>\n",
       "    </tr>\n",
       "    <tr>\n",
       "      <th>3</th>\n",
       "      <td>0.00003</td>\n",
       "      <td>4.389756</td>\n",
       "    </tr>\n",
       "    <tr>\n",
       "      <th>4</th>\n",
       "      <td>0.00004</td>\n",
       "      <td>4.244695</td>\n",
       "    </tr>\n",
       "  </tbody>\n",
       "</table>\n",
       "</div>"
      ],
      "text/plain": [
       "    X Data         Y\n",
       "0  0.00000  4.968421\n",
       "1  0.00001  5.649831\n",
       "2  0.00002  7.154856\n",
       "3  0.00003  4.389756\n",
       "4  0.00004  4.244695"
      ]
     },
     "execution_count": 102,
     "metadata": {},
     "output_type": "execute_result"
    }
   ],
   "source": [
    "my_data.head()"
   ]
  },
  {
   "cell_type": "code",
   "execution_count": 103,
   "metadata": {},
   "outputs": [
    {
     "data": {
      "text/plain": [
       "<matplotlib.axes._subplots.AxesSubplot at 0x7ff024353208>"
      ]
     },
     "execution_count": 103,
     "metadata": {},
     "output_type": "execute_result"
    },
    {
     "data": {
      "image/png": "[encoded data removed]",
      "text/plain": [
       "<matplotlib.figure.Figure at 0x7ff0243a4a20>"
      ]
     },
     "metadata": {},
     "output_type": "display_data"
    }
   ],
   "source": [
    "my_data.sample(250).plot(kind='scatter', x='X Data', y='Y')"
   ]
  },
  {
   "cell_type": "code",
   "execution_count": 104,
   "metadata": {
    "collapsed": true
   },
   "outputs": [],
   "source": [
    "batch_size = 8"
   ]
  },
  {
   "cell_type": "code",
   "execution_count": 105,
   "metadata": {
    "collapsed": true
   },
   "outputs": [],
   "source": [
    "m = tf.Variable(0.9)\n",
    "b = tf.Variable(0.16)"
   ]
  },
  {
   "cell_type": "code",
   "execution_count": 106,
   "metadata": {
    "collapsed": true
   },
   "outputs": [],
   "source": [
    "xph = tf.placeholder(tf.float32,[batch_size])"
   ]
  },
  {
   "cell_type": "code",
   "execution_count": 107,
   "metadata": {
    "collapsed": true
   },
   "outputs": [],
   "source": [
    "yph = tf.placeholder(tf.float32,[batch_size])"
   ]
  },
  {
   "cell_type": "code",
   "execution_count": 108,
   "metadata": {
    "collapsed": true
   },
   "outputs": [],
   "source": [
    "y_model = m*xph + b"
   ]
  },
  {
   "cell_type": "code",
   "execution_count": 109,
   "metadata": {
    "collapsed": true
   },
   "outputs": [],
   "source": [
    "error = tf.reduce_sum(tf.square(yph - y_model))"
   ]
  },
  {
   "cell_type": "code",
   "execution_count": 110,
   "metadata": {
    "collapsed": true
   },
   "outputs": [],
   "source": [
    "optimizer = tf.train.GradientDescentOptimizer(learning_rate=0.001)\n",
    "train = optimizer.minimize(error)"
   ]
  },
  {
   "cell_type": "code",
   "execution_count": 111,
   "metadata": {
    "collapsed": true
   },
   "outputs": [],
   "source": [
    "init = tf.global_variables_initializer()"
   ]
  },
  {
   "cell_type": "code",
   "execution_count": 138,
   "metadata": {},
   "outputs": [
    {
     "name": "stdout",
     "output_type": "stream",
     "text": [
      "Tensor(\"Sum:0\", shape=(), dtype=float32)\n",
      "Tensor(\"Sum:0\", shape=(), dtype=float32)\n",
      "Tensor(\"Sum:0\", shape=(), dtype=float32)\n",
      "Tensor(\"Sum:0\", shape=(), dtype=float32)\n",
      "Tensor(\"Sum:0\", shape=(), dtype=float32)\n",
      "Tensor(\"Sum:0\", shape=(), dtype=float32)\n",
      "Tensor(\"Sum:0\", shape=(), dtype=float32)\n",
      "Tensor(\"Sum:0\", shape=(), dtype=float32)\n",
      "Tensor(\"Sum:0\", shape=(), dtype=float32)\n",
      "Tensor(\"Sum:0\", shape=(), dtype=float32)\n",
      "Tensor(\"Sum:0\", shape=(), dtype=float32)\n",
      "Tensor(\"Sum:0\", shape=(), dtype=float32)\n",
      "Tensor(\"Sum:0\", shape=(), dtype=float32)\n",
      "Tensor(\"Sum:0\", shape=(), dtype=float32)\n",
      "Tensor(\"Sum:0\", shape=(), dtype=float32)\n",
      "Tensor(\"Sum:0\", shape=(), dtype=float32)\n",
      "Tensor(\"Sum:0\", shape=(), dtype=float32)\n",
      "Tensor(\"Sum:0\", shape=(), dtype=float32)\n",
      "Tensor(\"Sum:0\", shape=(), dtype=float32)\n",
      "Tensor(\"Sum:0\", shape=(), dtype=float32)\n",
      "Tensor(\"Sum:0\", shape=(), dtype=float32)\n",
      "Tensor(\"Sum:0\", shape=(), dtype=float32)\n",
      "Tensor(\"Sum:0\", shape=(), dtype=float32)\n",
      "Tensor(\"Sum:0\", shape=(), dtype=float32)\n",
      "Tensor(\"Sum:0\", shape=(), dtype=float32)\n",
      "Tensor(\"Sum:0\", shape=(), dtype=float32)\n",
      "Tensor(\"Sum:0\", shape=(), dtype=float32)\n",
      "Tensor(\"Sum:0\", shape=(), dtype=float32)\n",
      "Tensor(\"Sum:0\", shape=(), dtype=float32)\n",
      "Tensor(\"Sum:0\", shape=(), dtype=float32)\n",
      "Tensor(\"Sum:0\", shape=(), dtype=float32)\n",
      "Tensor(\"Sum:0\", shape=(), dtype=float32)\n",
      "Tensor(\"Sum:0\", shape=(), dtype=float32)\n",
      "Tensor(\"Sum:0\", shape=(), dtype=float32)\n",
      "Tensor(\"Sum:0\", shape=(), dtype=float32)\n",
      "Tensor(\"Sum:0\", shape=(), dtype=float32)\n",
      "Tensor(\"Sum:0\", shape=(), dtype=float32)\n",
      "Tensor(\"Sum:0\", shape=(), dtype=float32)\n",
      "Tensor(\"Sum:0\", shape=(), dtype=float32)\n",
      "Tensor(\"Sum:0\", shape=(), dtype=float32)\n",
      "Tensor(\"Sum:0\", shape=(), dtype=float32)\n",
      "Tensor(\"Sum:0\", shape=(), dtype=float32)\n",
      "Tensor(\"Sum:0\", shape=(), dtype=float32)\n",
      "Tensor(\"Sum:0\", shape=(), dtype=float32)\n",
      "Tensor(\"Sum:0\", shape=(), dtype=float32)\n",
      "Tensor(\"Sum:0\", shape=(), dtype=float32)\n",
      "Tensor(\"Sum:0\", shape=(), dtype=float32)\n",
      "Tensor(\"Sum:0\", shape=(), dtype=float32)\n",
      "Tensor(\"Sum:0\", shape=(), dtype=float32)\n",
      "Tensor(\"Sum:0\", shape=(), dtype=float32)\n",
      "Tensor(\"Sum:0\", shape=(), dtype=float32)\n",
      "Tensor(\"Sum:0\", shape=(), dtype=float32)\n",
      "Tensor(\"Sum:0\", shape=(), dtype=float32)\n",
      "Tensor(\"Sum:0\", shape=(), dtype=float32)\n",
      "Tensor(\"Sum:0\", shape=(), dtype=float32)\n",
      "Tensor(\"Sum:0\", shape=(), dtype=float32)\n",
      "Tensor(\"Sum:0\", shape=(), dtype=float32)\n",
      "Tensor(\"Sum:0\", shape=(), dtype=float32)\n",
      "Tensor(\"Sum:0\", shape=(), dtype=float32)\n",
      "Tensor(\"Sum:0\", shape=(), dtype=float32)\n",
      "Tensor(\"Sum:0\", shape=(), dtype=float32)\n",
      "Tensor(\"Sum:0\", shape=(), dtype=float32)\n",
      "Tensor(\"Sum:0\", shape=(), dtype=float32)\n",
      "Tensor(\"Sum:0\", shape=(), dtype=float32)\n",
      "Tensor(\"Sum:0\", shape=(), dtype=float32)\n",
      "Tensor(\"Sum:0\", shape=(), dtype=float32)\n",
      "Tensor(\"Sum:0\", shape=(), dtype=float32)\n",
      "Tensor(\"Sum:0\", shape=(), dtype=float32)\n",
      "Tensor(\"Sum:0\", shape=(), dtype=float32)\n",
      "Tensor(\"Sum:0\", shape=(), dtype=float32)\n",
      "Tensor(\"Sum:0\", shape=(), dtype=float32)\n",
      "Tensor(\"Sum:0\", shape=(), dtype=float32)\n",
      "Tensor(\"Sum:0\", shape=(), dtype=float32)\n",
      "Tensor(\"Sum:0\", shape=(), dtype=float32)\n",
      "Tensor(\"Sum:0\", shape=(), dtype=float32)\n",
      "Tensor(\"Sum:0\", shape=(), dtype=float32)\n",
      "Tensor(\"Sum:0\", shape=(), dtype=float32)\n",
      "Tensor(\"Sum:0\", shape=(), dtype=float32)\n",
      "Tensor(\"Sum:0\", shape=(), dtype=float32)\n",
      "Tensor(\"Sum:0\", shape=(), dtype=float32)\n",
      "Tensor(\"Sum:0\", shape=(), dtype=float32)\n",
      "Tensor(\"Sum:0\", shape=(), dtype=float32)\n",
      "Tensor(\"Sum:0\", shape=(), dtype=float32)\n",
      "Tensor(\"Sum:0\", shape=(), dtype=float32)\n",
      "Tensor(\"Sum:0\", shape=(), dtype=float32)\n",
      "Tensor(\"Sum:0\", shape=(), dtype=float32)\n",
      "Tensor(\"Sum:0\", shape=(), dtype=float32)\n",
      "Tensor(\"Sum:0\", shape=(), dtype=float32)\n",
      "Tensor(\"Sum:0\", shape=(), dtype=float32)\n",
      "Tensor(\"Sum:0\", shape=(), dtype=float32)\n",
      "Tensor(\"Sum:0\", shape=(), dtype=float32)\n",
      "Tensor(\"Sum:0\", shape=(), dtype=float32)\n",
      "Tensor(\"Sum:0\", shape=(), dtype=float32)\n",
      "Tensor(\"Sum:0\", shape=(), dtype=float32)\n",
      "Tensor(\"Sum:0\", shape=(), dtype=float32)\n",
      "Tensor(\"Sum:0\", shape=(), dtype=float32)\n",
      "Tensor(\"Sum:0\", shape=(), dtype=float32)\n",
      "Tensor(\"Sum:0\", shape=(), dtype=float32)\n",
      "Tensor(\"Sum:0\", shape=(), dtype=float32)\n",
      "Tensor(\"Sum:0\", shape=(), dtype=float32)\n",
      "Tensor(\"Sum:0\", shape=(), dtype=float32)\n",
      "Tensor(\"Sum:0\", shape=(), dtype=float32)\n",
      "Tensor(\"Sum:0\", shape=(), dtype=float32)\n",
      "Tensor(\"Sum:0\", shape=(), dtype=float32)\n",
      "Tensor(\"Sum:0\", shape=(), dtype=float32)\n",
      "Tensor(\"Sum:0\", shape=(), dtype=float32)\n",
      "Tensor(\"Sum:0\", shape=(), dtype=float32)\n",
      "Tensor(\"Sum:0\", shape=(), dtype=float32)\n",
      "Tensor(\"Sum:0\", shape=(), dtype=float32)\n",
      "Tensor(\"Sum:0\", shape=(), dtype=float32)\n",
      "Tensor(\"Sum:0\", shape=(), dtype=float32)\n",
      "Tensor(\"Sum:0\", shape=(), dtype=float32)\n",
      "Tensor(\"Sum:0\", shape=(), dtype=float32)\n",
      "Tensor(\"Sum:0\", shape=(), dtype=float32)\n",
      "Tensor(\"Sum:0\", shape=(), dtype=float32)\n",
      "Tensor(\"Sum:0\", shape=(), dtype=float32)\n",
      "Tensor(\"Sum:0\", shape=(), dtype=float32)\n",
      "Tensor(\"Sum:0\", shape=(), dtype=float32)\n",
      "Tensor(\"Sum:0\", shape=(), dtype=float32)\n",
      "Tensor(\"Sum:0\", shape=(), dtype=float32)\n",
      "Tensor(\"Sum:0\", shape=(), dtype=float32)\n",
      "Tensor(\"Sum:0\", shape=(), dtype=float32)\n",
      "Tensor(\"Sum:0\", shape=(), dtype=float32)\n",
      "Tensor(\"Sum:0\", shape=(), dtype=float32)\n",
      "Tensor(\"Sum:0\", shape=(), dtype=float32)\n",
      "Tensor(\"Sum:0\", shape=(), dtype=float32)\n",
      "Tensor(\"Sum:0\", shape=(), dtype=float32)\n",
      "Tensor(\"Sum:0\", shape=(), dtype=float32)\n",
      "Tensor(\"Sum:0\", shape=(), dtype=float32)\n",
      "Tensor(\"Sum:0\", shape=(), dtype=float32)\n",
      "Tensor(\"Sum:0\", shape=(), dtype=float32)\n",
      "Tensor(\"Sum:0\", shape=(), dtype=float32)\n",
      "Tensor(\"Sum:0\", shape=(), dtype=float32)\n",
      "Tensor(\"Sum:0\", shape=(), dtype=float32)\n",
      "Tensor(\"Sum:0\", shape=(), dtype=float32)\n",
      "Tensor(\"Sum:0\", shape=(), dtype=float32)\n",
      "Tensor(\"Sum:0\", shape=(), dtype=float32)\n",
      "Tensor(\"Sum:0\", shape=(), dtype=float32)\n",
      "Tensor(\"Sum:0\", shape=(), dtype=float32)\n",
      "Tensor(\"Sum:0\", shape=(), dtype=float32)\n",
      "Tensor(\"Sum:0\", shape=(), dtype=float32)\n",
      "Tensor(\"Sum:0\", shape=(), dtype=float32)\n",
      "Tensor(\"Sum:0\", shape=(), dtype=float32)\n",
      "Tensor(\"Sum:0\", shape=(), dtype=float32)\n",
      "Tensor(\"Sum:0\", shape=(), dtype=float32)\n",
      "Tensor(\"Sum:0\", shape=(), dtype=float32)\n",
      "Tensor(\"Sum:0\", shape=(), dtype=float32)\n",
      "Tensor(\"Sum:0\", shape=(), dtype=float32)\n",
      "Tensor(\"Sum:0\", shape=(), dtype=float32)\n",
      "Tensor(\"Sum:0\", shape=(), dtype=float32)\n",
      "Tensor(\"Sum:0\", shape=(), dtype=float32)\n",
      "Tensor(\"Sum:0\", shape=(), dtype=float32)\n",
      "Tensor(\"Sum:0\", shape=(), dtype=float32)\n",
      "Tensor(\"Sum:0\", shape=(), dtype=float32)\n",
      "Tensor(\"Sum:0\", shape=(), dtype=float32)\n",
      "Tensor(\"Sum:0\", shape=(), dtype=float32)\n",
      "Tensor(\"Sum:0\", shape=(), dtype=float32)\n",
      "Tensor(\"Sum:0\", shape=(), dtype=float32)\n",
      "Tensor(\"Sum:0\", shape=(), dtype=float32)\n",
      "Tensor(\"Sum:0\", shape=(), dtype=float32)\n",
      "Tensor(\"Sum:0\", shape=(), dtype=float32)\n",
      "Tensor(\"Sum:0\", shape=(), dtype=float32)\n",
      "Tensor(\"Sum:0\", shape=(), dtype=float32)\n",
      "Tensor(\"Sum:0\", shape=(), dtype=float32)\n",
      "Tensor(\"Sum:0\", shape=(), dtype=float32)\n",
      "Tensor(\"Sum:0\", shape=(), dtype=float32)\n",
      "Tensor(\"Sum:0\", shape=(), dtype=float32)\n",
      "Tensor(\"Sum:0\", shape=(), dtype=float32)\n",
      "Tensor(\"Sum:0\", shape=(), dtype=float32)\n",
      "Tensor(\"Sum:0\", shape=(), dtype=float32)\n",
      "Tensor(\"Sum:0\", shape=(), dtype=float32)\n",
      "Tensor(\"Sum:0\", shape=(), dtype=float32)\n",
      "Tensor(\"Sum:0\", shape=(), dtype=float32)\n",
      "Tensor(\"Sum:0\", shape=(), dtype=float32)\n",
      "Tensor(\"Sum:0\", shape=(), dtype=float32)\n",
      "Tensor(\"Sum:0\", shape=(), dtype=float32)\n",
      "Tensor(\"Sum:0\", shape=(), dtype=float32)\n",
      "Tensor(\"Sum:0\", shape=(), dtype=float32)\n",
      "Tensor(\"Sum:0\", shape=(), dtype=float32)\n",
      "Tensor(\"Sum:0\", shape=(), dtype=float32)\n",
      "Tensor(\"Sum:0\", shape=(), dtype=float32)\n",
      "Tensor(\"Sum:0\", shape=(), dtype=float32)\n",
      "Tensor(\"Sum:0\", shape=(), dtype=float32)\n",
      "Tensor(\"Sum:0\", shape=(), dtype=float32)\n",
      "Tensor(\"Sum:0\", shape=(), dtype=float32)\n",
      "Tensor(\"Sum:0\", shape=(), dtype=float32)\n",
      "Tensor(\"Sum:0\", shape=(), dtype=float32)\n",
      "Tensor(\"Sum:0\", shape=(), dtype=float32)\n",
      "Tensor(\"Sum:0\", shape=(), dtype=float32)\n",
      "Tensor(\"Sum:0\", shape=(), dtype=float32)\n",
      "Tensor(\"Sum:0\", shape=(), dtype=float32)\n",
      "Tensor(\"Sum:0\", shape=(), dtype=float32)\n",
      "Tensor(\"Sum:0\", shape=(), dtype=float32)\n",
      "Tensor(\"Sum:0\", shape=(), dtype=float32)\n",
      "Tensor(\"Sum:0\", shape=(), dtype=float32)\n",
      "Tensor(\"Sum:0\", shape=(), dtype=float32)\n",
      "Tensor(\"Sum:0\", shape=(), dtype=float32)\n",
      "Tensor(\"Sum:0\", shape=(), dtype=float32)\n",
      "Tensor(\"Sum:0\", shape=(), dtype=float32)\n",
      "Tensor(\"Sum:0\", shape=(), dtype=float32)\n",
      "Tensor(\"Sum:0\", shape=(), dtype=float32)\n",
      "Tensor(\"Sum:0\", shape=(), dtype=float32)\n",
      "Tensor(\"Sum:0\", shape=(), dtype=float32)\n",
      "Tensor(\"Sum:0\", shape=(), dtype=float32)\n",
      "Tensor(\"Sum:0\", shape=(), dtype=float32)\n",
      "Tensor(\"Sum:0\", shape=(), dtype=float32)\n",
      "Tensor(\"Sum:0\", shape=(), dtype=float32)\n",
      "Tensor(\"Sum:0\", shape=(), dtype=float32)\n",
      "Tensor(\"Sum:0\", shape=(), dtype=float32)\n",
      "Tensor(\"Sum:0\", shape=(), dtype=float32)\n",
      "Tensor(\"Sum:0\", shape=(), dtype=float32)\n",
      "Tensor(\"Sum:0\", shape=(), dtype=float32)\n",
      "Tensor(\"Sum:0\", shape=(), dtype=float32)\n",
      "Tensor(\"Sum:0\", shape=(), dtype=float32)\n",
      "Tensor(\"Sum:0\", shape=(), dtype=float32)\n",
      "Tensor(\"Sum:0\", shape=(), dtype=float32)\n",
      "Tensor(\"Sum:0\", shape=(), dtype=float32)\n",
      "Tensor(\"Sum:0\", shape=(), dtype=float32)\n",
      "Tensor(\"Sum:0\", shape=(), dtype=float32)\n",
      "Tensor(\"Sum:0\", shape=(), dtype=float32)\n",
      "Tensor(\"Sum:0\", shape=(), dtype=float32)\n",
      "Tensor(\"Sum:0\", shape=(), dtype=float32)\n",
      "Tensor(\"Sum:0\", shape=(), dtype=float32)\n",
      "Tensor(\"Sum:0\", shape=(), dtype=float32)\n",
      "Tensor(\"Sum:0\", shape=(), dtype=float32)\n",
      "Tensor(\"Sum:0\", shape=(), dtype=float32)\n",
      "Tensor(\"Sum:0\", shape=(), dtype=float32)\n",
      "Tensor(\"Sum:0\", shape=(), dtype=float32)\n",
      "Tensor(\"Sum:0\", shape=(), dtype=float32)\n",
      "Tensor(\"Sum:0\", shape=(), dtype=float32)\n",
      "Tensor(\"Sum:0\", shape=(), dtype=float32)\n",
      "Tensor(\"Sum:0\", shape=(), dtype=float32)\n",
      "Tensor(\"Sum:0\", shape=(), dtype=float32)\n",
      "Tensor(\"Sum:0\", shape=(), dtype=float32)\n",
      "Tensor(\"Sum:0\", shape=(), dtype=float32)\n",
      "Tensor(\"Sum:0\", shape=(), dtype=float32)\n",
      "Tensor(\"Sum:0\", shape=(), dtype=float32)\n",
      "Tensor(\"Sum:0\", shape=(), dtype=float32)\n",
      "Tensor(\"Sum:0\", shape=(), dtype=float32)\n",
      "Tensor(\"Sum:0\", shape=(), dtype=float32)\n",
      "Tensor(\"Sum:0\", shape=(), dtype=float32)\n",
      "Tensor(\"Sum:0\", shape=(), dtype=float32)\n",
      "Tensor(\"Sum:0\", shape=(), dtype=float32)\n",
      "Tensor(\"Sum:0\", shape=(), dtype=float32)\n",
      "Tensor(\"Sum:0\", shape=(), dtype=float32)\n",
      "Tensor(\"Sum:0\", shape=(), dtype=float32)\n",
      "Tensor(\"Sum:0\", shape=(), dtype=float32)\n",
      "Tensor(\"Sum:0\", shape=(), dtype=float32)\n",
      "Tensor(\"Sum:0\", shape=(), dtype=float32)\n",
      "Tensor(\"Sum:0\", shape=(), dtype=float32)\n",
      "Tensor(\"Sum:0\", shape=(), dtype=float32)\n",
      "Tensor(\"Sum:0\", shape=(), dtype=float32)\n",
      "Tensor(\"Sum:0\", shape=(), dtype=float32)\n",
      "Tensor(\"Sum:0\", shape=(), dtype=float32)\n",
      "Tensor(\"Sum:0\", shape=(), dtype=float32)\n",
      "Tensor(\"Sum:0\", shape=(), dtype=float32)\n",
      "Tensor(\"Sum:0\", shape=(), dtype=float32)\n",
      "Tensor(\"Sum:0\", shape=(), dtype=float32)\n",
      "Tensor(\"Sum:0\", shape=(), dtype=float32)\n",
      "Tensor(\"Sum:0\", shape=(), dtype=float32)\n",
      "Tensor(\"Sum:0\", shape=(), dtype=float32)\n",
      "Tensor(\"Sum:0\", shape=(), dtype=float32)\n",
      "Tensor(\"Sum:0\", shape=(), dtype=float32)\n",
      "Tensor(\"Sum:0\", shape=(), dtype=float32)\n",
      "Tensor(\"Sum:0\", shape=(), dtype=float32)\n",
      "Tensor(\"Sum:0\", shape=(), dtype=float32)\n",
      "Tensor(\"Sum:0\", shape=(), dtype=float32)\n",
      "Tensor(\"Sum:0\", shape=(), dtype=float32)\n",
      "Tensor(\"Sum:0\", shape=(), dtype=float32)\n",
      "Tensor(\"Sum:0\", shape=(), dtype=float32)\n",
      "Tensor(\"Sum:0\", shape=(), dtype=float32)\n",
      "Tensor(\"Sum:0\", shape=(), dtype=float32)\n",
      "Tensor(\"Sum:0\", shape=(), dtype=float32)\n",
      "Tensor(\"Sum:0\", shape=(), dtype=float32)\n",
      "Tensor(\"Sum:0\", shape=(), dtype=float32)\n",
      "Tensor(\"Sum:0\", shape=(), dtype=float32)\n",
      "Tensor(\"Sum:0\", shape=(), dtype=float32)\n",
      "Tensor(\"Sum:0\", shape=(), dtype=float32)\n",
      "Tensor(\"Sum:0\", shape=(), dtype=float32)\n",
      "Tensor(\"Sum:0\", shape=(), dtype=float32)\n",
      "Tensor(\"Sum:0\", shape=(), dtype=float32)\n",
      "Tensor(\"Sum:0\", shape=(), dtype=float32)\n",
      "Tensor(\"Sum:0\", shape=(), dtype=float32)\n",
      "Tensor(\"Sum:0\", shape=(), dtype=float32)\n",
      "Tensor(\"Sum:0\", shape=(), dtype=float32)\n",
      "Tensor(\"Sum:0\", shape=(), dtype=float32)\n",
      "Tensor(\"Sum:0\", shape=(), dtype=float32)\n",
      "Tensor(\"Sum:0\", shape=(), dtype=float32)\n",
      "Tensor(\"Sum:0\", shape=(), dtype=float32)\n",
      "Tensor(\"Sum:0\", shape=(), dtype=float32)\n",
      "Tensor(\"Sum:0\", shape=(), dtype=float32)\n",
      "Tensor(\"Sum:0\", shape=(), dtype=float32)\n",
      "Tensor(\"Sum:0\", shape=(), dtype=float32)\n",
      "Tensor(\"Sum:0\", shape=(), dtype=float32)\n",
      "Tensor(\"Sum:0\", shape=(), dtype=float32)\n",
      "Tensor(\"Sum:0\", shape=(), dtype=float32)\n",
      "Tensor(\"Sum:0\", shape=(), dtype=float32)\n",
      "Tensor(\"Sum:0\", shape=(), dtype=float32)\n",
      "Tensor(\"Sum:0\", shape=(), dtype=float32)\n",
      "Tensor(\"Sum:0\", shape=(), dtype=float32)\n",
      "Tensor(\"Sum:0\", shape=(), dtype=float32)\n",
      "Tensor(\"Sum:0\", shape=(), dtype=float32)\n",
      "Tensor(\"Sum:0\", shape=(), dtype=float32)\n",
      "Tensor(\"Sum:0\", shape=(), dtype=float32)\n",
      "Tensor(\"Sum:0\", shape=(), dtype=float32)\n",
      "Tensor(\"Sum:0\", shape=(), dtype=float32)\n",
      "Tensor(\"Sum:0\", shape=(), dtype=float32)\n",
      "Tensor(\"Sum:0\", shape=(), dtype=float32)\n",
      "Tensor(\"Sum:0\", shape=(), dtype=float32)\n",
      "Tensor(\"Sum:0\", shape=(), dtype=float32)\n",
      "Tensor(\"Sum:0\", shape=(), dtype=float32)\n",
      "Tensor(\"Sum:0\", shape=(), dtype=float32)\n",
      "Tensor(\"Sum:0\", shape=(), dtype=float32)\n",
      "Tensor(\"Sum:0\", shape=(), dtype=float32)\n",
      "Tensor(\"Sum:0\", shape=(), dtype=float32)\n",
      "Tensor(\"Sum:0\", shape=(), dtype=float32)\n",
      "Tensor(\"Sum:0\", shape=(), dtype=float32)\n",
      "Tensor(\"Sum:0\", shape=(), dtype=float32)\n",
      "Tensor(\"Sum:0\", shape=(), dtype=float32)\n",
      "Tensor(\"Sum:0\", shape=(), dtype=float32)\n",
      "Tensor(\"Sum:0\", shape=(), dtype=float32)\n",
      "Tensor(\"Sum:0\", shape=(), dtype=float32)\n",
      "Tensor(\"Sum:0\", shape=(), dtype=float32)\n",
      "Tensor(\"Sum:0\", shape=(), dtype=float32)\n",
      "Tensor(\"Sum:0\", shape=(), dtype=float32)\n",
      "Tensor(\"Sum:0\", shape=(), dtype=float32)\n",
      "Tensor(\"Sum:0\", shape=(), dtype=float32)\n",
      "Tensor(\"Sum:0\", shape=(), dtype=float32)\n",
      "Tensor(\"Sum:0\", shape=(), dtype=float32)\n",
      "Tensor(\"Sum:0\", shape=(), dtype=float32)\n",
      "Tensor(\"Sum:0\", shape=(), dtype=float32)\n",
      "Tensor(\"Sum:0\", shape=(), dtype=float32)\n",
      "Tensor(\"Sum:0\", shape=(), dtype=float32)\n",
      "Tensor(\"Sum:0\", shape=(), dtype=float32)\n",
      "Tensor(\"Sum:0\", shape=(), dtype=float32)\n",
      "Tensor(\"Sum:0\", shape=(), dtype=float32)\n",
      "Tensor(\"Sum:0\", shape=(), dtype=float32)\n",
      "Tensor(\"Sum:0\", shape=(), dtype=float32)\n",
      "Tensor(\"Sum:0\", shape=(), dtype=float32)\n",
      "Tensor(\"Sum:0\", shape=(), dtype=float32)\n",
      "Tensor(\"Sum:0\", shape=(), dtype=float32)\n",
      "Tensor(\"Sum:0\", shape=(), dtype=float32)\n",
      "Tensor(\"Sum:0\", shape=(), dtype=float32)\n",
      "Tensor(\"Sum:0\", shape=(), dtype=float32)\n",
      "Tensor(\"Sum:0\", shape=(), dtype=float32)\n",
      "Tensor(\"Sum:0\", shape=(), dtype=float32)\n",
      "Tensor(\"Sum:0\", shape=(), dtype=float32)\n",
      "Tensor(\"Sum:0\", shape=(), dtype=float32)\n",
      "Tensor(\"Sum:0\", shape=(), dtype=float32)\n",
      "Tensor(\"Sum:0\", shape=(), dtype=float32)\n",
      "Tensor(\"Sum:0\", shape=(), dtype=float32)\n",
      "Tensor(\"Sum:0\", shape=(), dtype=float32)\n",
      "Tensor(\"Sum:0\", shape=(), dtype=float32)\n",
      "Tensor(\"Sum:0\", shape=(), dtype=float32)\n",
      "Tensor(\"Sum:0\", shape=(), dtype=float32)\n",
      "Tensor(\"Sum:0\", shape=(), dtype=float32)\n",
      "Tensor(\"Sum:0\", shape=(), dtype=float32)\n",
      "Tensor(\"Sum:0\", shape=(), dtype=float32)\n",
      "Tensor(\"Sum:0\", shape=(), dtype=float32)\n",
      "Tensor(\"Sum:0\", shape=(), dtype=float32)\n",
      "Tensor(\"Sum:0\", shape=(), dtype=float32)\n",
      "Tensor(\"Sum:0\", shape=(), dtype=float32)\n",
      "Tensor(\"Sum:0\", shape=(), dtype=float32)\n",
      "Tensor(\"Sum:0\", shape=(), dtype=float32)\n",
      "Tensor(\"Sum:0\", shape=(), dtype=float32)\n",
      "Tensor(\"Sum:0\", shape=(), dtype=float32)\n",
      "Tensor(\"Sum:0\", shape=(), dtype=float32)\n",
      "Tensor(\"Sum:0\", shape=(), dtype=float32)\n",
      "Tensor(\"Sum:0\", shape=(), dtype=float32)\n",
      "Tensor(\"Sum:0\", shape=(), dtype=float32)\n",
      "Tensor(\"Sum:0\", shape=(), dtype=float32)\n",
      "Tensor(\"Sum:0\", shape=(), dtype=float32)\n",
      "Tensor(\"Sum:0\", shape=(), dtype=float32)\n",
      "Tensor(\"Sum:0\", shape=(), dtype=float32)\n",
      "Tensor(\"Sum:0\", shape=(), dtype=float32)\n",
      "Tensor(\"Sum:0\", shape=(), dtype=float32)\n",
      "Tensor(\"Sum:0\", shape=(), dtype=float32)\n",
      "Tensor(\"Sum:0\", shape=(), dtype=float32)\n",
      "Tensor(\"Sum:0\", shape=(), dtype=float32)\n",
      "Tensor(\"Sum:0\", shape=(), dtype=float32)\n",
      "Tensor(\"Sum:0\", shape=(), dtype=float32)\n",
      "Tensor(\"Sum:0\", shape=(), dtype=float32)\n",
      "Tensor(\"Sum:0\", shape=(), dtype=float32)\n",
      "Tensor(\"Sum:0\", shape=(), dtype=float32)\n",
      "Tensor(\"Sum:0\", shape=(), dtype=float32)\n",
      "Tensor(\"Sum:0\", shape=(), dtype=float32)\n",
      "Tensor(\"Sum:0\", shape=(), dtype=float32)\n",
      "Tensor(\"Sum:0\", shape=(), dtype=float32)\n",
      "Tensor(\"Sum:0\", shape=(), dtype=float32)\n",
      "Tensor(\"Sum:0\", shape=(), dtype=float32)\n",
      "Tensor(\"Sum:0\", shape=(), dtype=float32)\n",
      "Tensor(\"Sum:0\", shape=(), dtype=float32)\n",
      "Tensor(\"Sum:0\", shape=(), dtype=float32)\n",
      "Tensor(\"Sum:0\", shape=(), dtype=float32)\n",
      "Tensor(\"Sum:0\", shape=(), dtype=float32)\n",
      "Tensor(\"Sum:0\", shape=(), dtype=float32)\n",
      "Tensor(\"Sum:0\", shape=(), dtype=float32)\n",
      "Tensor(\"Sum:0\", shape=(), dtype=float32)\n",
      "Tensor(\"Sum:0\", shape=(), dtype=float32)\n",
      "Tensor(\"Sum:0\", shape=(), dtype=float32)\n",
      "Tensor(\"Sum:0\", shape=(), dtype=float32)\n",
      "Tensor(\"Sum:0\", shape=(), dtype=float32)\n",
      "Tensor(\"Sum:0\", shape=(), dtype=float32)\n",
      "Tensor(\"Sum:0\", shape=(), dtype=float32)\n",
      "Tensor(\"Sum:0\", shape=(), dtype=float32)\n",
      "Tensor(\"Sum:0\", shape=(), dtype=float32)\n",
      "Tensor(\"Sum:0\", shape=(), dtype=float32)\n",
      "Tensor(\"Sum:0\", shape=(), dtype=float32)\n",
      "Tensor(\"Sum:0\", shape=(), dtype=float32)\n",
      "Tensor(\"Sum:0\", shape=(), dtype=float32)\n",
      "Tensor(\"Sum:0\", shape=(), dtype=float32)\n",
      "Tensor(\"Sum:0\", shape=(), dtype=float32)\n",
      "Tensor(\"Sum:0\", shape=(), dtype=float32)\n",
      "Tensor(\"Sum:0\", shape=(), dtype=float32)\n",
      "Tensor(\"Sum:0\", shape=(), dtype=float32)\n",
      "Tensor(\"Sum:0\", shape=(), dtype=float32)\n",
      "Tensor(\"Sum:0\", shape=(), dtype=float32)\n",
      "Tensor(\"Sum:0\", shape=(), dtype=float32)\n",
      "Tensor(\"Sum:0\", shape=(), dtype=float32)\n",
      "Tensor(\"Sum:0\", shape=(), dtype=float32)\n",
      "Tensor(\"Sum:0\", shape=(), dtype=float32)\n",
      "Tensor(\"Sum:0\", shape=(), dtype=float32)\n",
      "Tensor(\"Sum:0\", shape=(), dtype=float32)\n",
      "Tensor(\"Sum:0\", shape=(), dtype=float32)\n",
      "Tensor(\"Sum:0\", shape=(), dtype=float32)\n",
      "Tensor(\"Sum:0\", shape=(), dtype=float32)\n",
      "Tensor(\"Sum:0\", shape=(), dtype=float32)\n",
      "Tensor(\"Sum:0\", shape=(), dtype=float32)\n",
      "Tensor(\"Sum:0\", shape=(), dtype=float32)\n",
      "Tensor(\"Sum:0\", shape=(), dtype=float32)\n",
      "Tensor(\"Sum:0\", shape=(), dtype=float32)\n",
      "Tensor(\"Sum:0\", shape=(), dtype=float32)\n",
      "Tensor(\"Sum:0\", shape=(), dtype=float32)\n",
      "Tensor(\"Sum:0\", shape=(), dtype=float32)\n",
      "Tensor(\"Sum:0\", shape=(), dtype=float32)\n",
      "Tensor(\"Sum:0\", shape=(), dtype=float32)\n",
      "Tensor(\"Sum:0\", shape=(), dtype=float32)\n",
      "Tensor(\"Sum:0\", shape=(), dtype=float32)\n",
      "Tensor(\"Sum:0\", shape=(), dtype=float32)\n",
      "Tensor(\"Sum:0\", shape=(), dtype=float32)\n",
      "Tensor(\"Sum:0\", shape=(), dtype=float32)\n",
      "Tensor(\"Sum:0\", shape=(), dtype=float32)\n",
      "Tensor(\"Sum:0\", shape=(), dtype=float32)\n",
      "Tensor(\"Sum:0\", shape=(), dtype=float32)\n",
      "Tensor(\"Sum:0\", shape=(), dtype=float32)\n",
      "Tensor(\"Sum:0\", shape=(), dtype=float32)\n",
      "Tensor(\"Sum:0\", shape=(), dtype=float32)\n",
      "Tensor(\"Sum:0\", shape=(), dtype=float32)\n",
      "Tensor(\"Sum:0\", shape=(), dtype=float32)\n",
      "Tensor(\"Sum:0\", shape=(), dtype=float32)\n",
      "Tensor(\"Sum:0\", shape=(), dtype=float32)\n",
      "Tensor(\"Sum:0\", shape=(), dtype=float32)\n",
      "Tensor(\"Sum:0\", shape=(), dtype=float32)\n",
      "Tensor(\"Sum:0\", shape=(), dtype=float32)\n",
      "Tensor(\"Sum:0\", shape=(), dtype=float32)\n",
      "Tensor(\"Sum:0\", shape=(), dtype=float32)\n",
      "Tensor(\"Sum:0\", shape=(), dtype=float32)\n",
      "Tensor(\"Sum:0\", shape=(), dtype=float32)\n",
      "Tensor(\"Sum:0\", shape=(), dtype=float32)\n",
      "Tensor(\"Sum:0\", shape=(), dtype=float32)\n",
      "Tensor(\"Sum:0\", shape=(), dtype=float32)\n",
      "Tensor(\"Sum:0\", shape=(), dtype=float32)\n",
      "Tensor(\"Sum:0\", shape=(), dtype=float32)\n",
      "Tensor(\"Sum:0\", shape=(), dtype=float32)\n",
      "Tensor(\"Sum:0\", shape=(), dtype=float32)\n",
      "Tensor(\"Sum:0\", shape=(), dtype=float32)\n",
      "Tensor(\"Sum:0\", shape=(), dtype=float32)\n",
      "Tensor(\"Sum:0\", shape=(), dtype=float32)\n",
      "Tensor(\"Sum:0\", shape=(), dtype=float32)\n",
      "Tensor(\"Sum:0\", shape=(), dtype=float32)\n",
      "Tensor(\"Sum:0\", shape=(), dtype=float32)\n",
      "Tensor(\"Sum:0\", shape=(), dtype=float32)\n",
      "Tensor(\"Sum:0\", shape=(), dtype=float32)\n",
      "Tensor(\"Sum:0\", shape=(), dtype=float32)\n",
      "Tensor(\"Sum:0\", shape=(), dtype=float32)\n",
      "Tensor(\"Sum:0\", shape=(), dtype=float32)\n",
      "Tensor(\"Sum:0\", shape=(), dtype=float32)\n",
      "Tensor(\"Sum:0\", shape=(), dtype=float32)\n",
      "Tensor(\"Sum:0\", shape=(), dtype=float32)\n",
      "Tensor(\"Sum:0\", shape=(), dtype=float32)\n",
      "Tensor(\"Sum:0\", shape=(), dtype=float32)\n",
      "Tensor(\"Sum:0\", shape=(), dtype=float32)\n",
      "Tensor(\"Sum:0\", shape=(), dtype=float32)\n",
      "Tensor(\"Sum:0\", shape=(), dtype=float32)\n",
      "Tensor(\"Sum:0\", shape=(), dtype=float32)\n",
      "Tensor(\"Sum:0\", shape=(), dtype=float32)\n",
      "Tensor(\"Sum:0\", shape=(), dtype=float32)\n",
      "Tensor(\"Sum:0\", shape=(), dtype=float32)\n",
      "Tensor(\"Sum:0\", shape=(), dtype=float32)\n",
      "Tensor(\"Sum:0\", shape=(), dtype=float32)\n",
      "Tensor(\"Sum:0\", shape=(), dtype=float32)\n",
      "Tensor(\"Sum:0\", shape=(), dtype=float32)\n",
      "Tensor(\"Sum:0\", shape=(), dtype=float32)\n",
      "Tensor(\"Sum:0\", shape=(), dtype=float32)\n",
      "Tensor(\"Sum:0\", shape=(), dtype=float32)\n",
      "Tensor(\"Sum:0\", shape=(), dtype=float32)\n",
      "Tensor(\"Sum:0\", shape=(), dtype=float32)\n",
      "Tensor(\"Sum:0\", shape=(), dtype=float32)\n",
      "Tensor(\"Sum:0\", shape=(), dtype=float32)\n",
      "Tensor(\"Sum:0\", shape=(), dtype=float32)\n",
      "Tensor(\"Sum:0\", shape=(), dtype=float32)\n",
      "Tensor(\"Sum:0\", shape=(), dtype=float32)\n",
      "Tensor(\"Sum:0\", shape=(), dtype=float32)\n",
      "Tensor(\"Sum:0\", shape=(), dtype=float32)\n",
      "Tensor(\"Sum:0\", shape=(), dtype=float32)\n",
      "Tensor(\"Sum:0\", shape=(), dtype=float32)\n",
      "Tensor(\"Sum:0\", shape=(), dtype=float32)\n",
      "Tensor(\"Sum:0\", shape=(), dtype=float32)\n",
      "Tensor(\"Sum:0\", shape=(), dtype=float32)\n",
      "Tensor(\"Sum:0\", shape=(), dtype=float32)\n",
      "Tensor(\"Sum:0\", shape=(), dtype=float32)\n",
      "Tensor(\"Sum:0\", shape=(), dtype=float32)\n",
      "Tensor(\"Sum:0\", shape=(), dtype=float32)\n",
      "Tensor(\"Sum:0\", shape=(), dtype=float32)\n",
      "Tensor(\"Sum:0\", shape=(), dtype=float32)\n",
      "Tensor(\"Sum:0\", shape=(), dtype=float32)\n",
      "Tensor(\"Sum:0\", shape=(), dtype=float32)\n",
      "Tensor(\"Sum:0\", shape=(), dtype=float32)\n",
      "Tensor(\"Sum:0\", shape=(), dtype=float32)\n",
      "Tensor(\"Sum:0\", shape=(), dtype=float32)\n",
      "Tensor(\"Sum:0\", shape=(), dtype=float32)\n",
      "Tensor(\"Sum:0\", shape=(), dtype=float32)\n",
      "Tensor(\"Sum:0\", shape=(), dtype=float32)\n",
      "Tensor(\"Sum:0\", shape=(), dtype=float32)\n",
      "Tensor(\"Sum:0\", shape=(), dtype=float32)\n",
      "Tensor(\"Sum:0\", shape=(), dtype=float32)\n",
      "Tensor(\"Sum:0\", shape=(), dtype=float32)\n",
      "Tensor(\"Sum:0\", shape=(), dtype=float32)\n",
      "Tensor(\"Sum:0\", shape=(), dtype=float32)\n",
      "Tensor(\"Sum:0\", shape=(), dtype=float32)\n",
      "Tensor(\"Sum:0\", shape=(), dtype=float32)\n",
      "Tensor(\"Sum:0\", shape=(), dtype=float32)\n",
      "Tensor(\"Sum:0\", shape=(), dtype=float32)\n",
      "Tensor(\"Sum:0\", shape=(), dtype=float32)\n",
      "Tensor(\"Sum:0\", shape=(), dtype=float32)\n",
      "Tensor(\"Sum:0\", shape=(), dtype=float32)\n",
      "Tensor(\"Sum:0\", shape=(), dtype=float32)\n",
      "Tensor(\"Sum:0\", shape=(), dtype=float32)\n",
      "Tensor(\"Sum:0\", shape=(), dtype=float32)\n",
      "Tensor(\"Sum:0\", shape=(), dtype=float32)\n",
      "Tensor(\"Sum:0\", shape=(), dtype=float32)\n",
      "Tensor(\"Sum:0\", shape=(), dtype=float32)\n",
      "Tensor(\"Sum:0\", shape=(), dtype=float32)\n",
      "Tensor(\"Sum:0\", shape=(), dtype=float32)\n",
      "Tensor(\"Sum:0\", shape=(), dtype=float32)\n",
      "Tensor(\"Sum:0\", shape=(), dtype=float32)\n",
      "Tensor(\"Sum:0\", shape=(), dtype=float32)\n",
      "Tensor(\"Sum:0\", shape=(), dtype=float32)\n",
      "Tensor(\"Sum:0\", shape=(), dtype=float32)\n",
      "Tensor(\"Sum:0\", shape=(), dtype=float32)\n",
      "Tensor(\"Sum:0\", shape=(), dtype=float32)\n",
      "Tensor(\"Sum:0\", shape=(), dtype=float32)\n",
      "Tensor(\"Sum:0\", shape=(), dtype=float32)\n",
      "Tensor(\"Sum:0\", shape=(), dtype=float32)\n",
      "Tensor(\"Sum:0\", shape=(), dtype=float32)\n",
      "Tensor(\"Sum:0\", shape=(), dtype=float32)\n",
      "Tensor(\"Sum:0\", shape=(), dtype=float32)\n",
      "Tensor(\"Sum:0\", shape=(), dtype=float32)\n",
      "Tensor(\"Sum:0\", shape=(), dtype=float32)\n",
      "Tensor(\"Sum:0\", shape=(), dtype=float32)\n",
      "Tensor(\"Sum:0\", shape=(), dtype=float32)\n",
      "Tensor(\"Sum:0\", shape=(), dtype=float32)\n",
      "Tensor(\"Sum:0\", shape=(), dtype=float32)\n",
      "Tensor(\"Sum:0\", shape=(), dtype=float32)\n",
      "Tensor(\"Sum:0\", shape=(), dtype=float32)\n",
      "Tensor(\"Sum:0\", shape=(), dtype=float32)\n",
      "Tensor(\"Sum:0\", shape=(), dtype=float32)\n",
      "Tensor(\"Sum:0\", shape=(), dtype=float32)\n",
      "Tensor(\"Sum:0\", shape=(), dtype=float32)\n",
      "Tensor(\"Sum:0\", shape=(), dtype=float32)\n",
      "Tensor(\"Sum:0\", shape=(), dtype=float32)\n",
      "Tensor(\"Sum:0\", shape=(), dtype=float32)\n",
      "Tensor(\"Sum:0\", shape=(), dtype=float32)\n",
      "Tensor(\"Sum:0\", shape=(), dtype=float32)\n",
      "Tensor(\"Sum:0\", shape=(), dtype=float32)\n",
      "Tensor(\"Sum:0\", shape=(), dtype=float32)\n",
      "Tensor(\"Sum:0\", shape=(), dtype=float32)\n",
      "Tensor(\"Sum:0\", shape=(), dtype=float32)\n",
      "Tensor(\"Sum:0\", shape=(), dtype=float32)\n",
      "Tensor(\"Sum:0\", shape=(), dtype=float32)\n",
      "Tensor(\"Sum:0\", shape=(), dtype=float32)\n",
      "Tensor(\"Sum:0\", shape=(), dtype=float32)\n",
      "Tensor(\"Sum:0\", shape=(), dtype=float32)\n",
      "Tensor(\"Sum:0\", shape=(), dtype=float32)\n",
      "Tensor(\"Sum:0\", shape=(), dtype=float32)\n",
      "Tensor(\"Sum:0\", shape=(), dtype=float32)\n",
      "Tensor(\"Sum:0\", shape=(), dtype=float32)\n",
      "Tensor(\"Sum:0\", shape=(), dtype=float32)\n",
      "Tensor(\"Sum:0\", shape=(), dtype=float32)\n",
      "Tensor(\"Sum:0\", shape=(), dtype=float32)\n",
      "Tensor(\"Sum:0\", shape=(), dtype=float32)\n",
      "Tensor(\"Sum:0\", shape=(), dtype=float32)\n",
      "Tensor(\"Sum:0\", shape=(), dtype=float32)\n",
      "Tensor(\"Sum:0\", shape=(), dtype=float32)\n",
      "Tensor(\"Sum:0\", shape=(), dtype=float32)\n",
      "Tensor(\"Sum:0\", shape=(), dtype=float32)\n",
      "Tensor(\"Sum:0\", shape=(), dtype=float32)\n",
      "Tensor(\"Sum:0\", shape=(), dtype=float32)\n",
      "Tensor(\"Sum:0\", shape=(), dtype=float32)\n",
      "Tensor(\"Sum:0\", shape=(), dtype=float32)\n",
      "Tensor(\"Sum:0\", shape=(), dtype=float32)\n",
      "Tensor(\"Sum:0\", shape=(), dtype=float32)\n",
      "Tensor(\"Sum:0\", shape=(), dtype=float32)\n",
      "Tensor(\"Sum:0\", shape=(), dtype=float32)\n",
      "Tensor(\"Sum:0\", shape=(), dtype=float32)\n",
      "Tensor(\"Sum:0\", shape=(), dtype=float32)\n",
      "Tensor(\"Sum:0\", shape=(), dtype=float32)\n",
      "Tensor(\"Sum:0\", shape=(), dtype=float32)\n",
      "Tensor(\"Sum:0\", shape=(), dtype=float32)\n",
      "Tensor(\"Sum:0\", shape=(), dtype=float32)\n",
      "Tensor(\"Sum:0\", shape=(), dtype=float32)\n",
      "Tensor(\"Sum:0\", shape=(), dtype=float32)\n",
      "Tensor(\"Sum:0\", shape=(), dtype=float32)\n",
      "Tensor(\"Sum:0\", shape=(), dtype=float32)\n",
      "Tensor(\"Sum:0\", shape=(), dtype=float32)\n",
      "Tensor(\"Sum:0\", shape=(), dtype=float32)\n",
      "Tensor(\"Sum:0\", shape=(), dtype=float32)\n",
      "Tensor(\"Sum:0\", shape=(), dtype=float32)\n",
      "Tensor(\"Sum:0\", shape=(), dtype=float32)\n",
      "Tensor(\"Sum:0\", shape=(), dtype=float32)\n",
      "Tensor(\"Sum:0\", shape=(), dtype=float32)\n",
      "Tensor(\"Sum:0\", shape=(), dtype=float32)\n",
      "Tensor(\"Sum:0\", shape=(), dtype=float32)\n",
      "Tensor(\"Sum:0\", shape=(), dtype=float32)\n",
      "Tensor(\"Sum:0\", shape=(), dtype=float32)\n",
      "Tensor(\"Sum:0\", shape=(), dtype=float32)\n",
      "Tensor(\"Sum:0\", shape=(), dtype=float32)\n",
      "Tensor(\"Sum:0\", shape=(), dtype=float32)\n",
      "Tensor(\"Sum:0\", shape=(), dtype=float32)\n",
      "Tensor(\"Sum:0\", shape=(), dtype=float32)\n",
      "Tensor(\"Sum:0\", shape=(), dtype=float32)\n",
      "Tensor(\"Sum:0\", shape=(), dtype=float32)\n",
      "Tensor(\"Sum:0\", shape=(), dtype=float32)\n",
      "Tensor(\"Sum:0\", shape=(), dtype=float32)\n",
      "Tensor(\"Sum:0\", shape=(), dtype=float32)\n",
      "Tensor(\"Sum:0\", shape=(), dtype=float32)\n",
      "Tensor(\"Sum:0\", shape=(), dtype=float32)\n",
      "Tensor(\"Sum:0\", shape=(), dtype=float32)\n",
      "Tensor(\"Sum:0\", shape=(), dtype=float32)\n",
      "Tensor(\"Sum:0\", shape=(), dtype=float32)\n",
      "Tensor(\"Sum:0\", shape=(), dtype=float32)\n",
      "Tensor(\"Sum:0\", shape=(), dtype=float32)\n",
      "Tensor(\"Sum:0\", shape=(), dtype=float32)\n",
      "Tensor(\"Sum:0\", shape=(), dtype=float32)\n",
      "Tensor(\"Sum:0\", shape=(), dtype=float32)\n",
      "Tensor(\"Sum:0\", shape=(), dtype=float32)\n",
      "Tensor(\"Sum:0\", shape=(), dtype=float32)\n",
      "Tensor(\"Sum:0\", shape=(), dtype=float32)\n",
      "Tensor(\"Sum:0\", shape=(), dtype=float32)\n",
      "Tensor(\"Sum:0\", shape=(), dtype=float32)\n",
      "Tensor(\"Sum:0\", shape=(), dtype=float32)\n",
      "Tensor(\"Sum:0\", shape=(), dtype=float32)\n",
      "Tensor(\"Sum:0\", shape=(), dtype=float32)\n",
      "Tensor(\"Sum:0\", shape=(), dtype=float32)\n",
      "Tensor(\"Sum:0\", shape=(), dtype=float32)\n",
      "Tensor(\"Sum:0\", shape=(), dtype=float32)\n",
      "Tensor(\"Sum:0\", shape=(), dtype=float32)\n",
      "Tensor(\"Sum:0\", shape=(), dtype=float32)\n",
      "Tensor(\"Sum:0\", shape=(), dtype=float32)\n",
      "Tensor(\"Sum:0\", shape=(), dtype=float32)\n",
      "Tensor(\"Sum:0\", shape=(), dtype=float32)\n",
      "Tensor(\"Sum:0\", shape=(), dtype=float32)\n",
      "Tensor(\"Sum:0\", shape=(), dtype=float32)\n",
      "Tensor(\"Sum:0\", shape=(), dtype=float32)\n",
      "Tensor(\"Sum:0\", shape=(), dtype=float32)\n",
      "Tensor(\"Sum:0\", shape=(), dtype=float32)\n",
      "Tensor(\"Sum:0\", shape=(), dtype=float32)\n",
      "Tensor(\"Sum:0\", shape=(), dtype=float32)\n",
      "Tensor(\"Sum:0\", shape=(), dtype=float32)\n",
      "Tensor(\"Sum:0\", shape=(), dtype=float32)\n"
     ]
    },
    {
     "name": "stdout",
     "output_type": "stream",
     "text": [
      "Tensor(\"Sum:0\", shape=(), dtype=float32)\n",
      "Tensor(\"Sum:0\", shape=(), dtype=float32)\n",
      "Tensor(\"Sum:0\", shape=(), dtype=float32)\n",
      "Tensor(\"Sum:0\", shape=(), dtype=float32)\n",
      "Tensor(\"Sum:0\", shape=(), dtype=float32)\n",
      "Tensor(\"Sum:0\", shape=(), dtype=float32)\n",
      "Tensor(\"Sum:0\", shape=(), dtype=float32)\n",
      "Tensor(\"Sum:0\", shape=(), dtype=float32)\n",
      "Tensor(\"Sum:0\", shape=(), dtype=float32)\n",
      "Tensor(\"Sum:0\", shape=(), dtype=float32)\n",
      "Tensor(\"Sum:0\", shape=(), dtype=float32)\n",
      "Tensor(\"Sum:0\", shape=(), dtype=float32)\n",
      "Tensor(\"Sum:0\", shape=(), dtype=float32)\n",
      "Tensor(\"Sum:0\", shape=(), dtype=float32)\n",
      "Tensor(\"Sum:0\", shape=(), dtype=float32)\n",
      "Tensor(\"Sum:0\", shape=(), dtype=float32)\n",
      "Tensor(\"Sum:0\", shape=(), dtype=float32)\n",
      "Tensor(\"Sum:0\", shape=(), dtype=float32)\n",
      "Tensor(\"Sum:0\", shape=(), dtype=float32)\n",
      "Tensor(\"Sum:0\", shape=(), dtype=float32)\n",
      "Tensor(\"Sum:0\", shape=(), dtype=float32)\n",
      "Tensor(\"Sum:0\", shape=(), dtype=float32)\n",
      "Tensor(\"Sum:0\", shape=(), dtype=float32)\n",
      "Tensor(\"Sum:0\", shape=(), dtype=float32)\n",
      "Tensor(\"Sum:0\", shape=(), dtype=float32)\n",
      "Tensor(\"Sum:0\", shape=(), dtype=float32)\n",
      "Tensor(\"Sum:0\", shape=(), dtype=float32)\n",
      "Tensor(\"Sum:0\", shape=(), dtype=float32)\n",
      "Tensor(\"Sum:0\", shape=(), dtype=float32)\n",
      "Tensor(\"Sum:0\", shape=(), dtype=float32)\n",
      "Tensor(\"Sum:0\", shape=(), dtype=float32)\n",
      "Tensor(\"Sum:0\", shape=(), dtype=float32)\n",
      "Tensor(\"Sum:0\", shape=(), dtype=float32)\n",
      "Tensor(\"Sum:0\", shape=(), dtype=float32)\n",
      "Tensor(\"Sum:0\", shape=(), dtype=float32)\n",
      "Tensor(\"Sum:0\", shape=(), dtype=float32)\n",
      "Tensor(\"Sum:0\", shape=(), dtype=float32)\n",
      "Tensor(\"Sum:0\", shape=(), dtype=float32)\n",
      "Tensor(\"Sum:0\", shape=(), dtype=float32)\n",
      "Tensor(\"Sum:0\", shape=(), dtype=float32)\n",
      "Tensor(\"Sum:0\", shape=(), dtype=float32)\n",
      "Tensor(\"Sum:0\", shape=(), dtype=float32)\n",
      "Tensor(\"Sum:0\", shape=(), dtype=float32)\n",
      "Tensor(\"Sum:0\", shape=(), dtype=float32)\n",
      "Tensor(\"Sum:0\", shape=(), dtype=float32)\n",
      "Tensor(\"Sum:0\", shape=(), dtype=float32)\n",
      "Tensor(\"Sum:0\", shape=(), dtype=float32)\n",
      "Tensor(\"Sum:0\", shape=(), dtype=float32)\n",
      "Tensor(\"Sum:0\", shape=(), dtype=float32)\n",
      "Tensor(\"Sum:0\", shape=(), dtype=float32)\n",
      "Tensor(\"Sum:0\", shape=(), dtype=float32)\n",
      "Tensor(\"Sum:0\", shape=(), dtype=float32)\n",
      "Tensor(\"Sum:0\", shape=(), dtype=float32)\n",
      "Tensor(\"Sum:0\", shape=(), dtype=float32)\n",
      "Tensor(\"Sum:0\", shape=(), dtype=float32)\n",
      "Tensor(\"Sum:0\", shape=(), dtype=float32)\n",
      "Tensor(\"Sum:0\", shape=(), dtype=float32)\n",
      "Tensor(\"Sum:0\", shape=(), dtype=float32)\n",
      "Tensor(\"Sum:0\", shape=(), dtype=float32)\n",
      "Tensor(\"Sum:0\", shape=(), dtype=float32)\n",
      "Tensor(\"Sum:0\", shape=(), dtype=float32)\n",
      "Tensor(\"Sum:0\", shape=(), dtype=float32)\n",
      "Tensor(\"Sum:0\", shape=(), dtype=float32)\n",
      "Tensor(\"Sum:0\", shape=(), dtype=float32)\n",
      "Tensor(\"Sum:0\", shape=(), dtype=float32)\n",
      "Tensor(\"Sum:0\", shape=(), dtype=float32)\n",
      "Tensor(\"Sum:0\", shape=(), dtype=float32)\n",
      "Tensor(\"Sum:0\", shape=(), dtype=float32)\n",
      "Tensor(\"Sum:0\", shape=(), dtype=float32)\n",
      "Tensor(\"Sum:0\", shape=(), dtype=float32)\n",
      "Tensor(\"Sum:0\", shape=(), dtype=float32)\n",
      "Tensor(\"Sum:0\", shape=(), dtype=float32)\n",
      "Tensor(\"Sum:0\", shape=(), dtype=float32)\n",
      "Tensor(\"Sum:0\", shape=(), dtype=float32)\n",
      "Tensor(\"Sum:0\", shape=(), dtype=float32)\n",
      "Tensor(\"Sum:0\", shape=(), dtype=float32)\n",
      "Tensor(\"Sum:0\", shape=(), dtype=float32)\n",
      "Tensor(\"Sum:0\", shape=(), dtype=float32)\n",
      "Tensor(\"Sum:0\", shape=(), dtype=float32)\n",
      "Tensor(\"Sum:0\", shape=(), dtype=float32)\n",
      "Tensor(\"Sum:0\", shape=(), dtype=float32)\n",
      "Tensor(\"Sum:0\", shape=(), dtype=float32)\n",
      "Tensor(\"Sum:0\", shape=(), dtype=float32)\n",
      "Tensor(\"Sum:0\", shape=(), dtype=float32)\n",
      "Tensor(\"Sum:0\", shape=(), dtype=float32)\n",
      "Tensor(\"Sum:0\", shape=(), dtype=float32)\n",
      "Tensor(\"Sum:0\", shape=(), dtype=float32)\n",
      "Tensor(\"Sum:0\", shape=(), dtype=float32)\n",
      "Tensor(\"Sum:0\", shape=(), dtype=float32)\n",
      "Tensor(\"Sum:0\", shape=(), dtype=float32)\n",
      "Tensor(\"Sum:0\", shape=(), dtype=float32)\n",
      "Tensor(\"Sum:0\", shape=(), dtype=float32)\n",
      "Tensor(\"Sum:0\", shape=(), dtype=float32)\n",
      "Tensor(\"Sum:0\", shape=(), dtype=float32)\n",
      "Tensor(\"Sum:0\", shape=(), dtype=float32)\n",
      "Tensor(\"Sum:0\", shape=(), dtype=float32)\n",
      "Tensor(\"Sum:0\", shape=(), dtype=float32)\n",
      "Tensor(\"Sum:0\", shape=(), dtype=float32)\n",
      "Tensor(\"Sum:0\", shape=(), dtype=float32)\n",
      "Tensor(\"Sum:0\", shape=(), dtype=float32)\n",
      "Tensor(\"Sum:0\", shape=(), dtype=float32)\n",
      "Tensor(\"Sum:0\", shape=(), dtype=float32)\n",
      "Tensor(\"Sum:0\", shape=(), dtype=float32)\n",
      "Tensor(\"Sum:0\", shape=(), dtype=float32)\n",
      "Tensor(\"Sum:0\", shape=(), dtype=float32)\n",
      "Tensor(\"Sum:0\", shape=(), dtype=float32)\n",
      "Tensor(\"Sum:0\", shape=(), dtype=float32)\n",
      "Tensor(\"Sum:0\", shape=(), dtype=float32)\n",
      "Tensor(\"Sum:0\", shape=(), dtype=float32)\n",
      "Tensor(\"Sum:0\", shape=(), dtype=float32)\n",
      "Tensor(\"Sum:0\", shape=(), dtype=float32)\n",
      "Tensor(\"Sum:0\", shape=(), dtype=float32)\n",
      "Tensor(\"Sum:0\", shape=(), dtype=float32)\n",
      "Tensor(\"Sum:0\", shape=(), dtype=float32)\n",
      "Tensor(\"Sum:0\", shape=(), dtype=float32)\n",
      "Tensor(\"Sum:0\", shape=(), dtype=float32)\n",
      "Tensor(\"Sum:0\", shape=(), dtype=float32)\n",
      "Tensor(\"Sum:0\", shape=(), dtype=float32)\n",
      "Tensor(\"Sum:0\", shape=(), dtype=float32)\n",
      "Tensor(\"Sum:0\", shape=(), dtype=float32)\n",
      "Tensor(\"Sum:0\", shape=(), dtype=float32)\n",
      "Tensor(\"Sum:0\", shape=(), dtype=float32)\n",
      "Tensor(\"Sum:0\", shape=(), dtype=float32)\n",
      "Tensor(\"Sum:0\", shape=(), dtype=float32)\n",
      "Tensor(\"Sum:0\", shape=(), dtype=float32)\n",
      "Tensor(\"Sum:0\", shape=(), dtype=float32)\n",
      "Tensor(\"Sum:0\", shape=(), dtype=float32)\n",
      "Tensor(\"Sum:0\", shape=(), dtype=float32)\n",
      "Tensor(\"Sum:0\", shape=(), dtype=float32)\n",
      "Tensor(\"Sum:0\", shape=(), dtype=float32)\n",
      "Tensor(\"Sum:0\", shape=(), dtype=float32)\n",
      "Tensor(\"Sum:0\", shape=(), dtype=float32)\n",
      "Tensor(\"Sum:0\", shape=(), dtype=float32)\n",
      "Tensor(\"Sum:0\", shape=(), dtype=float32)\n",
      "Tensor(\"Sum:0\", shape=(), dtype=float32)\n",
      "Tensor(\"Sum:0\", shape=(), dtype=float32)\n",
      "Tensor(\"Sum:0\", shape=(), dtype=float32)\n",
      "Tensor(\"Sum:0\", shape=(), dtype=float32)\n",
      "Tensor(\"Sum:0\", shape=(), dtype=float32)\n",
      "Tensor(\"Sum:0\", shape=(), dtype=float32)\n",
      "Tensor(\"Sum:0\", shape=(), dtype=float32)\n",
      "Tensor(\"Sum:0\", shape=(), dtype=float32)\n",
      "Tensor(\"Sum:0\", shape=(), dtype=float32)\n",
      "Tensor(\"Sum:0\", shape=(), dtype=float32)\n",
      "Tensor(\"Sum:0\", shape=(), dtype=float32)\n",
      "Tensor(\"Sum:0\", shape=(), dtype=float32)\n",
      "Tensor(\"Sum:0\", shape=(), dtype=float32)\n",
      "Tensor(\"Sum:0\", shape=(), dtype=float32)\n",
      "Tensor(\"Sum:0\", shape=(), dtype=float32)\n",
      "Tensor(\"Sum:0\", shape=(), dtype=float32)\n",
      "Tensor(\"Sum:0\", shape=(), dtype=float32)\n",
      "Tensor(\"Sum:0\", shape=(), dtype=float32)\n",
      "Tensor(\"Sum:0\", shape=(), dtype=float32)\n",
      "Tensor(\"Sum:0\", shape=(), dtype=float32)\n",
      "Tensor(\"Sum:0\", shape=(), dtype=float32)\n",
      "Tensor(\"Sum:0\", shape=(), dtype=float32)\n",
      "Tensor(\"Sum:0\", shape=(), dtype=float32)\n",
      "Tensor(\"Sum:0\", shape=(), dtype=float32)\n",
      "Tensor(\"Sum:0\", shape=(), dtype=float32)\n",
      "Tensor(\"Sum:0\", shape=(), dtype=float32)\n",
      "Tensor(\"Sum:0\", shape=(), dtype=float32)\n",
      "Tensor(\"Sum:0\", shape=(), dtype=float32)\n",
      "Tensor(\"Sum:0\", shape=(), dtype=float32)\n",
      "Tensor(\"Sum:0\", shape=(), dtype=float32)\n",
      "Tensor(\"Sum:0\", shape=(), dtype=float32)\n",
      "Tensor(\"Sum:0\", shape=(), dtype=float32)\n",
      "Tensor(\"Sum:0\", shape=(), dtype=float32)\n",
      "Tensor(\"Sum:0\", shape=(), dtype=float32)\n",
      "Tensor(\"Sum:0\", shape=(), dtype=float32)\n",
      "Tensor(\"Sum:0\", shape=(), dtype=float32)\n",
      "Tensor(\"Sum:0\", shape=(), dtype=float32)\n",
      "Tensor(\"Sum:0\", shape=(), dtype=float32)\n",
      "Tensor(\"Sum:0\", shape=(), dtype=float32)\n",
      "Tensor(\"Sum:0\", shape=(), dtype=float32)\n",
      "Tensor(\"Sum:0\", shape=(), dtype=float32)\n",
      "Tensor(\"Sum:0\", shape=(), dtype=float32)\n",
      "Tensor(\"Sum:0\", shape=(), dtype=float32)\n",
      "Tensor(\"Sum:0\", shape=(), dtype=float32)\n",
      "Tensor(\"Sum:0\", shape=(), dtype=float32)\n",
      "Tensor(\"Sum:0\", shape=(), dtype=float32)\n",
      "Tensor(\"Sum:0\", shape=(), dtype=float32)\n",
      "Tensor(\"Sum:0\", shape=(), dtype=float32)\n",
      "Tensor(\"Sum:0\", shape=(), dtype=float32)\n",
      "Tensor(\"Sum:0\", shape=(), dtype=float32)\n",
      "Tensor(\"Sum:0\", shape=(), dtype=float32)\n",
      "Tensor(\"Sum:0\", shape=(), dtype=float32)\n",
      "Tensor(\"Sum:0\", shape=(), dtype=float32)\n",
      "Tensor(\"Sum:0\", shape=(), dtype=float32)\n",
      "Tensor(\"Sum:0\", shape=(), dtype=float32)\n",
      "Tensor(\"Sum:0\", shape=(), dtype=float32)\n",
      "Tensor(\"Sum:0\", shape=(), dtype=float32)\n",
      "Tensor(\"Sum:0\", shape=(), dtype=float32)\n",
      "Tensor(\"Sum:0\", shape=(), dtype=float32)\n",
      "Tensor(\"Sum:0\", shape=(), dtype=float32)\n",
      "Tensor(\"Sum:0\", shape=(), dtype=float32)\n",
      "Tensor(\"Sum:0\", shape=(), dtype=float32)\n",
      "Tensor(\"Sum:0\", shape=(), dtype=float32)\n",
      "Tensor(\"Sum:0\", shape=(), dtype=float32)\n",
      "Tensor(\"Sum:0\", shape=(), dtype=float32)\n",
      "Tensor(\"Sum:0\", shape=(), dtype=float32)\n",
      "Tensor(\"Sum:0\", shape=(), dtype=float32)\n",
      "Tensor(\"Sum:0\", shape=(), dtype=float32)\n",
      "Tensor(\"Sum:0\", shape=(), dtype=float32)\n",
      "Tensor(\"Sum:0\", shape=(), dtype=float32)\n",
      "Tensor(\"Sum:0\", shape=(), dtype=float32)\n",
      "Tensor(\"Sum:0\", shape=(), dtype=float32)\n",
      "Tensor(\"Sum:0\", shape=(), dtype=float32)\n",
      "Tensor(\"Sum:0\", shape=(), dtype=float32)\n",
      "Tensor(\"Sum:0\", shape=(), dtype=float32)\n",
      "Tensor(\"Sum:0\", shape=(), dtype=float32)\n",
      "Tensor(\"Sum:0\", shape=(), dtype=float32)\n",
      "Tensor(\"Sum:0\", shape=(), dtype=float32)\n",
      "Tensor(\"Sum:0\", shape=(), dtype=float32)\n",
      "Tensor(\"Sum:0\", shape=(), dtype=float32)\n",
      "Tensor(\"Sum:0\", shape=(), dtype=float32)\n",
      "Tensor(\"Sum:0\", shape=(), dtype=float32)\n",
      "Tensor(\"Sum:0\", shape=(), dtype=float32)\n",
      "Tensor(\"Sum:0\", shape=(), dtype=float32)\n",
      "Tensor(\"Sum:0\", shape=(), dtype=float32)\n",
      "Tensor(\"Sum:0\", shape=(), dtype=float32)\n",
      "Tensor(\"Sum:0\", shape=(), dtype=float32)\n",
      "Tensor(\"Sum:0\", shape=(), dtype=float32)\n",
      "Tensor(\"Sum:0\", shape=(), dtype=float32)\n",
      "Tensor(\"Sum:0\", shape=(), dtype=float32)\n",
      "Tensor(\"Sum:0\", shape=(), dtype=float32)\n",
      "Tensor(\"Sum:0\", shape=(), dtype=float32)\n",
      "Tensor(\"Sum:0\", shape=(), dtype=float32)\n",
      "Tensor(\"Sum:0\", shape=(), dtype=float32)\n",
      "Tensor(\"Sum:0\", shape=(), dtype=float32)\n",
      "Tensor(\"Sum:0\", shape=(), dtype=float32)\n",
      "Tensor(\"Sum:0\", shape=(), dtype=float32)\n",
      "Tensor(\"Sum:0\", shape=(), dtype=float32)\n",
      "Tensor(\"Sum:0\", shape=(), dtype=float32)\n",
      "Tensor(\"Sum:0\", shape=(), dtype=float32)\n",
      "Tensor(\"Sum:0\", shape=(), dtype=float32)\n",
      "Tensor(\"Sum:0\", shape=(), dtype=float32)\n",
      "Tensor(\"Sum:0\", shape=(), dtype=float32)\n",
      "Tensor(\"Sum:0\", shape=(), dtype=float32)\n",
      "Tensor(\"Sum:0\", shape=(), dtype=float32)\n",
      "Tensor(\"Sum:0\", shape=(), dtype=float32)\n",
      "Tensor(\"Sum:0\", shape=(), dtype=float32)\n",
      "Tensor(\"Sum:0\", shape=(), dtype=float32)\n",
      "Tensor(\"Sum:0\", shape=(), dtype=float32)\n",
      "Tensor(\"Sum:0\", shape=(), dtype=float32)\n",
      "Tensor(\"Sum:0\", shape=(), dtype=float32)\n",
      "Tensor(\"Sum:0\", shape=(), dtype=float32)\n",
      "Tensor(\"Sum:0\", shape=(), dtype=float32)\n",
      "Tensor(\"Sum:0\", shape=(), dtype=float32)\n",
      "Tensor(\"Sum:0\", shape=(), dtype=float32)\n",
      "Tensor(\"Sum:0\", shape=(), dtype=float32)\n",
      "Tensor(\"Sum:0\", shape=(), dtype=float32)\n",
      "Tensor(\"Sum:0\", shape=(), dtype=float32)\n",
      "Tensor(\"Sum:0\", shape=(), dtype=float32)\n",
      "Tensor(\"Sum:0\", shape=(), dtype=float32)\n",
      "Tensor(\"Sum:0\", shape=(), dtype=float32)\n",
      "Tensor(\"Sum:0\", shape=(), dtype=float32)\n",
      "Tensor(\"Sum:0\", shape=(), dtype=float32)\n",
      "Tensor(\"Sum:0\", shape=(), dtype=float32)\n",
      "Tensor(\"Sum:0\", shape=(), dtype=float32)\n",
      "Tensor(\"Sum:0\", shape=(), dtype=float32)\n",
      "Tensor(\"Sum:0\", shape=(), dtype=float32)\n",
      "Tensor(\"Sum:0\", shape=(), dtype=float32)\n",
      "Tensor(\"Sum:0\", shape=(), dtype=float32)\n",
      "Tensor(\"Sum:0\", shape=(), dtype=float32)\n",
      "Tensor(\"Sum:0\", shape=(), dtype=float32)\n",
      "Tensor(\"Sum:0\", shape=(), dtype=float32)\n",
      "Tensor(\"Sum:0\", shape=(), dtype=float32)\n",
      "Tensor(\"Sum:0\", shape=(), dtype=float32)\n",
      "Tensor(\"Sum:0\", shape=(), dtype=float32)\n",
      "Tensor(\"Sum:0\", shape=(), dtype=float32)\n",
      "Tensor(\"Sum:0\", shape=(), dtype=float32)\n",
      "Tensor(\"Sum:0\", shape=(), dtype=float32)\n",
      "Tensor(\"Sum:0\", shape=(), dtype=float32)\n",
      "Tensor(\"Sum:0\", shape=(), dtype=float32)\n",
      "Tensor(\"Sum:0\", shape=(), dtype=float32)\n",
      "Tensor(\"Sum:0\", shape=(), dtype=float32)\n",
      "Tensor(\"Sum:0\", shape=(), dtype=float32)\n",
      "Tensor(\"Sum:0\", shape=(), dtype=float32)\n",
      "Tensor(\"Sum:0\", shape=(), dtype=float32)\n",
      "Tensor(\"Sum:0\", shape=(), dtype=float32)\n",
      "Tensor(\"Sum:0\", shape=(), dtype=float32)\n",
      "Tensor(\"Sum:0\", shape=(), dtype=float32)\n",
      "Tensor(\"Sum:0\", shape=(), dtype=float32)\n",
      "Tensor(\"Sum:0\", shape=(), dtype=float32)\n",
      "Tensor(\"Sum:0\", shape=(), dtype=float32)\n",
      "Tensor(\"Sum:0\", shape=(), dtype=float32)\n",
      "Tensor(\"Sum:0\", shape=(), dtype=float32)\n",
      "Tensor(\"Sum:0\", shape=(), dtype=float32)\n",
      "Tensor(\"Sum:0\", shape=(), dtype=float32)\n",
      "Tensor(\"Sum:0\", shape=(), dtype=float32)\n",
      "Tensor(\"Sum:0\", shape=(), dtype=float32)\n",
      "Tensor(\"Sum:0\", shape=(), dtype=float32)\n",
      "Tensor(\"Sum:0\", shape=(), dtype=float32)\n",
      "Tensor(\"Sum:0\", shape=(), dtype=float32)\n",
      "Tensor(\"Sum:0\", shape=(), dtype=float32)\n",
      "Tensor(\"Sum:0\", shape=(), dtype=float32)\n",
      "Tensor(\"Sum:0\", shape=(), dtype=float32)\n",
      "Tensor(\"Sum:0\", shape=(), dtype=float32)\n",
      "Tensor(\"Sum:0\", shape=(), dtype=float32)\n",
      "Tensor(\"Sum:0\", shape=(), dtype=float32)\n",
      "Tensor(\"Sum:0\", shape=(), dtype=float32)\n",
      "Tensor(\"Sum:0\", shape=(), dtype=float32)\n",
      "Tensor(\"Sum:0\", shape=(), dtype=float32)\n",
      "Tensor(\"Sum:0\", shape=(), dtype=float32)\n",
      "Tensor(\"Sum:0\", shape=(), dtype=float32)\n",
      "Tensor(\"Sum:0\", shape=(), dtype=float32)\n",
      "Tensor(\"Sum:0\", shape=(), dtype=float32)\n",
      "Tensor(\"Sum:0\", shape=(), dtype=float32)\n",
      "Tensor(\"Sum:0\", shape=(), dtype=float32)\n",
      "Tensor(\"Sum:0\", shape=(), dtype=float32)\n",
      "Tensor(\"Sum:0\", shape=(), dtype=float32)\n",
      "Tensor(\"Sum:0\", shape=(), dtype=float32)\n",
      "Tensor(\"Sum:0\", shape=(), dtype=float32)\n",
      "Tensor(\"Sum:0\", shape=(), dtype=float32)\n",
      "Tensor(\"Sum:0\", shape=(), dtype=float32)\n",
      "Tensor(\"Sum:0\", shape=(), dtype=float32)\n",
      "Tensor(\"Sum:0\", shape=(), dtype=float32)\n",
      "Tensor(\"Sum:0\", shape=(), dtype=float32)\n",
      "Tensor(\"Sum:0\", shape=(), dtype=float32)\n",
      "Tensor(\"Sum:0\", shape=(), dtype=float32)\n",
      "Tensor(\"Sum:0\", shape=(), dtype=float32)\n",
      "Tensor(\"Sum:0\", shape=(), dtype=float32)\n",
      "Tensor(\"Sum:0\", shape=(), dtype=float32)\n",
      "Tensor(\"Sum:0\", shape=(), dtype=float32)\n",
      "Tensor(\"Sum:0\", shape=(), dtype=float32)\n",
      "Tensor(\"Sum:0\", shape=(), dtype=float32)\n",
      "Tensor(\"Sum:0\", shape=(), dtype=float32)\n",
      "Tensor(\"Sum:0\", shape=(), dtype=float32)\n",
      "Tensor(\"Sum:0\", shape=(), dtype=float32)\n",
      "Tensor(\"Sum:0\", shape=(), dtype=float32)\n"
     ]
    }
   ],
   "source": [
    "with tf.Session() as sess:\n",
    "    \n",
    "    sess.run(init)\n",
    "    \n",
    "    batches = 1000\n",
    "    \n",
    "    for i in range(batches):\n",
    "        \n",
    "        rand_ind = np.random.randint(len(x_data),size=batch_size)\n",
    "        \n",
    "        feed = {xph:x_data[rand_ind],yph:y_true[rand_ind]}\n",
    "        \n",
    "        sess.run(train,feed_dict = feed)\n",
    "        print(error)\n",
    "    \n",
    "    model_m, model_b = sess.run([m,b])\n",
    "        "
   ]
  },
  {
   "cell_type": "code",
   "execution_count": 134,
   "metadata": {},
   "outputs": [
    {
     "data": {
      "text/plain": [
       "0.52401423"
      ]
     },
     "execution_count": 134,
     "metadata": {},
     "output_type": "execute_result"
    }
   ],
   "source": [
    "model_m"
   ]
  },
  {
   "cell_type": "code",
   "execution_count": 135,
   "metadata": {},
   "outputs": [
    {
     "data": {
      "text/plain": [
       "4.9576669"
      ]
     },
     "execution_count": 135,
     "metadata": {},
     "output_type": "execute_result"
    }
   ],
   "source": [
    "model_b"
   ]
  },
  {
   "cell_type": "code",
   "execution_count": 136,
   "metadata": {
    "collapsed": true
   },
   "outputs": [],
   "source": [
    "y_hat = x_data * model_m + model_b "
   ]
  },
  {
   "cell_type": "code",
   "execution_count": 137,
   "metadata": {},
   "outputs": [
    {
     "data": {
      "text/plain": [
       "[<matplotlib.lines.Line2D at 0x7ff0185351d0>]"
      ]
     },
     "execution_count": 137,
     "metadata": {},
     "output_type": "execute_result"
    },
    {
     "data": {
      "image/png": "[encoded data removed]",
      "text/plain": [
       "<matplotlib.figure.Figure at 0x7ff018526a90>"
      ]
     },
     "metadata": {},
     "output_type": "display_data"
    }
   ],
   "source": [
    "my_data.sample(250).plot(kind='scatter', x='X Data', y='Y');\n",
    "plt.plot(x_data, y_hat, 'r')"
   ]
  },
  {
   "cell_type": "markdown",
   "metadata": {},
   "source": [
    "- Define variables\n",
    "- Define placeholders\n",
    "- Define operations\n",
    "- Define error / loss\n",
    "- Create optimizer\n",
    "- Create trainer\n",
    "- Initialize \n",
    "- Run in batches --> hardest part  "
   ]
  },
  {
   "cell_type": "markdown",
   "metadata": {},
   "source": [
    "## Regression part II"
   ]
  },
  {
   "cell_type": "code",
   "execution_count": null,
   "metadata": {
    "collapsed": true
   },
   "outputs": [],
   "source": []
  }
 ],
 "metadata": {
  "kernelspec": {
   "display_name": "Python 3",
   "language": "python",
   "name": "python3"
  },
  "language_info": {
   "codemirror_mode": {
    "name": "ipython",
    "version": 3
   },
   "file_extension": ".py",
   "mimetype": "text/x-python",
   "name": "python",
   "nbconvert_exporter": "python",
   "pygments_lexer": "ipython3",
   "version": "3.5.4"
  }
 },
 "nbformat": 4,
 "nbformat_minor": 2
}
