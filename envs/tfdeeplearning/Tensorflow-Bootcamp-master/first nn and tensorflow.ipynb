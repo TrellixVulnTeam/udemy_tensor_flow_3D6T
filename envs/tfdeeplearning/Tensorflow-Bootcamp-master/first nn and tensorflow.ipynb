{
 "cells": [
  {
   "cell_type": "code",
   "execution_count": 1,
   "metadata": {
    "collapsed": true
   },
   "outputs": [],
   "source": [
    "import tensorflow as tf"
   ]
  },
  {
   "cell_type": "code",
   "execution_count": 2,
   "metadata": {},
   "outputs": [
    {
     "name": "stdout",
     "output_type": "stream",
     "text": [
      "1.3.0\n"
     ]
    }
   ],
   "source": [
    "print(tf.__version__)"
   ]
  },
  {
   "cell_type": "code",
   "execution_count": 3,
   "metadata": {
    "collapsed": true
   },
   "outputs": [],
   "source": [
    "hello = tf.constant('Hello ')"
   ]
  },
  {
   "cell_type": "code",
   "execution_count": 4,
   "metadata": {
    "collapsed": true
   },
   "outputs": [],
   "source": [
    "world = tf.constant('world')"
   ]
  },
  {
   "cell_type": "code",
   "execution_count": 5,
   "metadata": {},
   "outputs": [
    {
     "name": "stdout",
     "output_type": "stream",
     "text": [
      "Tensor(\"Const:0\", shape=(), dtype=string)\n"
     ]
    }
   ],
   "source": [
    "print(hello)"
   ]
  },
  {
   "cell_type": "code",
   "execution_count": 6,
   "metadata": {
    "collapsed": true
   },
   "outputs": [],
   "source": [
    "with tf.Session() as sess:\n",
    "    result = sess.run(hello+world)"
   ]
  },
  {
   "cell_type": "code",
   "execution_count": 7,
   "metadata": {},
   "outputs": [
    {
     "name": "stdout",
     "output_type": "stream",
     "text": [
      "b'Hello world'\n"
     ]
    }
   ],
   "source": [
    "print(result)"
   ]
  },
  {
   "cell_type": "code",
   "execution_count": 8,
   "metadata": {
    "collapsed": true
   },
   "outputs": [],
   "source": [
    "a = tf.constant(10)"
   ]
  },
  {
   "cell_type": "code",
   "execution_count": 9,
   "metadata": {
    "collapsed": true
   },
   "outputs": [],
   "source": [
    "b = tf.constant(20)"
   ]
  },
  {
   "cell_type": "code",
   "execution_count": 10,
   "metadata": {},
   "outputs": [
    {
     "data": {
      "text/plain": [
       "tensorflow.python.framework.ops.Tensor"
      ]
     },
     "execution_count": 10,
     "metadata": {},
     "output_type": "execute_result"
    }
   ],
   "source": [
    "type(a)"
   ]
  },
  {
   "cell_type": "code",
   "execution_count": 11,
   "metadata": {},
   "outputs": [
    {
     "data": {
      "text/plain": [
       "<tf.Tensor 'add_1:0' shape=() dtype=int32>"
      ]
     },
     "execution_count": 11,
     "metadata": {},
     "output_type": "execute_result"
    }
   ],
   "source": [
    "a + b "
   ]
  },
  {
   "cell_type": "code",
   "execution_count": 12,
   "metadata": {
    "collapsed": true
   },
   "outputs": [],
   "source": [
    "with tf.Session() as sess:\n",
    "    result = sess.run(a+b)"
   ]
  },
  {
   "cell_type": "code",
   "execution_count": 13,
   "metadata": {},
   "outputs": [
    {
     "data": {
      "text/plain": [
       "30"
      ]
     },
     "execution_count": 13,
     "metadata": {},
     "output_type": "execute_result"
    }
   ],
   "source": [
    "result"
   ]
  },
  {
   "cell_type": "code",
   "execution_count": 14,
   "metadata": {
    "collapsed": true
   },
   "outputs": [],
   "source": [
    "const = tf.constant(10)"
   ]
  },
  {
   "cell_type": "code",
   "execution_count": 15,
   "metadata": {
    "collapsed": true
   },
   "outputs": [],
   "source": [
    "\n",
    "fill_mat = tf.fill((4,4),10)"
   ]
  },
  {
   "cell_type": "code",
   "execution_count": 16,
   "metadata": {
    "collapsed": true
   },
   "outputs": [],
   "source": [
    "myzeros = tf.zeros((4,4))"
   ]
  },
  {
   "cell_type": "code",
   "execution_count": 17,
   "metadata": {
    "collapsed": true
   },
   "outputs": [],
   "source": [
    "myones = tf.ones((4,4))"
   ]
  },
  {
   "cell_type": "code",
   "execution_count": 18,
   "metadata": {
    "collapsed": true
   },
   "outputs": [],
   "source": [
    "myrandpois = tf.random_poisson(6,(7,7))"
   ]
  },
  {
   "cell_type": "code",
   "execution_count": 19,
   "metadata": {},
   "outputs": [
    {
     "data": {
      "text/plain": [
       "array([[  5.,   6.,   4.,   4.,   4.,  14.,   3.],\n",
       "       [  8.,   3.,   6.,   7.,  11.,   3.,   3.],\n",
       "       [  6.,   6.,   7.,   3.,   8.,   8.,  12.],\n",
       "       [  6.,   9.,   6.,   6.,   4.,   7.,   6.],\n",
       "       [  1.,   8.,   6.,   3.,   1.,   7.,   4.],\n",
       "       [  5.,   8.,   5.,   6.,   6.,   3.,   7.],\n",
       "       [  6.,   4.,   3.,   7.,   4.,   8.,   6.]], dtype=float32)"
      ]
     },
     "execution_count": 19,
     "metadata": {},
     "output_type": "execute_result"
    }
   ],
   "source": [
    "with tf.Session() as sess:\n",
    "    result = sess.run(myrandpois)\n",
    "result"
   ]
  },
  {
   "cell_type": "code",
   "execution_count": 20,
   "metadata": {
    "collapsed": true
   },
   "outputs": [],
   "source": [
    "myrandn = tf.random_normal((4,4), mean=0, stddev=1.0)"
   ]
  },
  {
   "cell_type": "code",
   "execution_count": 21,
   "metadata": {
    "collapsed": true
   },
   "outputs": [],
   "source": [
    "myranu = tf.random_uniform((4,4), minval=0,maxval=1)"
   ]
  },
  {
   "cell_type": "code",
   "execution_count": 22,
   "metadata": {},
   "outputs": [
    {
     "data": {
      "text/plain": [
       "<tf.Tensor 'zeros:0' shape=(4, 4) dtype=float32>"
      ]
     },
     "execution_count": 22,
     "metadata": {},
     "output_type": "execute_result"
    }
   ],
   "source": [
    "myzeros"
   ]
  },
  {
   "cell_type": "code",
   "execution_count": 23,
   "metadata": {
    "collapsed": true
   },
   "outputs": [],
   "source": [
    "my_ops = [const, fill_mat, myzeros, myrandn, myranu]"
   ]
  },
  {
   "cell_type": "code",
   "execution_count": 24,
   "metadata": {
    "collapsed": true
   },
   "outputs": [],
   "source": [
    "sess = tf.InteractiveSession()"
   ]
  },
  {
   "cell_type": "code",
   "execution_count": 25,
   "metadata": {},
   "outputs": [
    {
     "name": "stdout",
     "output_type": "stream",
     "text": [
      "10\n",
      "\n",
      "\n",
      "[[10 10 10 10]\n",
      " [10 10 10 10]\n",
      " [10 10 10 10]\n",
      " [10 10 10 10]]\n",
      "\n",
      "\n",
      "[[ 0.  0.  0.  0.]\n",
      " [ 0.  0.  0.  0.]\n",
      " [ 0.  0.  0.  0.]\n",
      " [ 0.  0.  0.  0.]]\n",
      "\n",
      "\n",
      "[[ 0.77645963  0.40808019 -0.16559236 -0.28376076]\n",
      " [-0.10288934 -0.25084424  1.31498182  0.32066542]\n",
      " [-0.57259655 -1.94643462  1.07470143 -0.03351602]\n",
      " [ 1.08942163  0.35672766  1.08183217  1.58684611]]\n",
      "\n",
      "\n",
      "[[ 0.02170134  0.44987369  0.48208857  0.16045618]\n",
      " [ 0.23533499  0.18207979  0.13363278  0.07862079]\n",
      " [ 0.83825004  0.53400576  0.55194855  0.91282356]\n",
      " [ 0.33468974  0.06541061  0.17054081  0.21673   ]]\n",
      "\n",
      "\n"
     ]
    }
   ],
   "source": [
    "for op in my_ops:\n",
    "    print(sess.run(op))\n",
    "    print('\\n')"
   ]
  },
  {
   "cell_type": "code",
   "execution_count": 26,
   "metadata": {
    "collapsed": true
   },
   "outputs": [],
   "source": [
    "a = tf.constant([ [1,2],\n",
    "                 [ 3,4] ])"
   ]
  },
  {
   "cell_type": "code",
   "execution_count": 27,
   "metadata": {},
   "outputs": [
    {
     "data": {
      "text/plain": [
       "TensorShape([Dimension(2), Dimension(2)])"
      ]
     },
     "execution_count": 27,
     "metadata": {},
     "output_type": "execute_result"
    }
   ],
   "source": [
    "a.get_shape()"
   ]
  },
  {
   "cell_type": "code",
   "execution_count": 28,
   "metadata": {
    "collapsed": true
   },
   "outputs": [],
   "source": [
    "b = tf.constant([ [ 10], [100]])"
   ]
  },
  {
   "cell_type": "code",
   "execution_count": 29,
   "metadata": {
    "collapsed": true
   },
   "outputs": [],
   "source": [
    "result = tf.matmul(a,b)"
   ]
  },
  {
   "cell_type": "code",
   "execution_count": 30,
   "metadata": {},
   "outputs": [
    {
     "data": {
      "text/plain": [
       "array([[210],\n",
       "       [430]], dtype=int32)"
      ]
     },
     "execution_count": 30,
     "metadata": {},
     "output_type": "execute_result"
    }
   ],
   "source": [
    "sess.run(result)"
   ]
  },
  {
   "cell_type": "code",
   "execution_count": 31,
   "metadata": {},
   "outputs": [
    {
     "data": {
      "text/plain": [
       "array([[210],\n",
       "       [430]], dtype=int32)"
      ]
     },
     "execution_count": 31,
     "metadata": {},
     "output_type": "execute_result"
    }
   ],
   "source": [
    "result.eval()"
   ]
  },
  {
   "cell_type": "markdown",
   "metadata": {},
   "source": [
    "# TF Graphs"
   ]
  },
  {
   "cell_type": "code",
   "execution_count": 32,
   "metadata": {
    "collapsed": true
   },
   "outputs": [],
   "source": [
    "n1 = tf.constant(1)"
   ]
  },
  {
   "cell_type": "code",
   "execution_count": 33,
   "metadata": {
    "collapsed": true
   },
   "outputs": [],
   "source": [
    "n2 = tf.constant(2)"
   ]
  },
  {
   "cell_type": "code",
   "execution_count": 34,
   "metadata": {
    "collapsed": true
   },
   "outputs": [],
   "source": [
    "n3 = n1 + n2"
   ]
  },
  {
   "cell_type": "code",
   "execution_count": 35,
   "metadata": {
    "collapsed": true
   },
   "outputs": [],
   "source": [
    "with tf.Session():\n",
    "    result = sess.run(n3)"
   ]
  },
  {
   "cell_type": "code",
   "execution_count": 36,
   "metadata": {},
   "outputs": [
    {
     "data": {
      "text/plain": [
       "3"
      ]
     },
     "execution_count": 36,
     "metadata": {},
     "output_type": "execute_result"
    }
   ],
   "source": [
    "result"
   ]
  },
  {
   "cell_type": "code",
   "execution_count": 37,
   "metadata": {},
   "outputs": [
    {
     "name": "stdout",
     "output_type": "stream",
     "text": [
      "Tensor(\"add_3:0\", shape=(), dtype=int32)\n"
     ]
    }
   ],
   "source": [
    "print(n3)"
   ]
  },
  {
   "cell_type": "code",
   "execution_count": 38,
   "metadata": {
    "collapsed": true
   },
   "outputs": [],
   "source": [
    "g = tf.Graph()"
   ]
  },
  {
   "cell_type": "code",
   "execution_count": 39,
   "metadata": {},
   "outputs": [
    {
     "name": "stdout",
     "output_type": "stream",
     "text": [
      "<tensorflow.python.framework.ops.Graph object at 0x7fbdb2babd68>\n"
     ]
    }
   ],
   "source": [
    "print(g)"
   ]
  },
  {
   "cell_type": "code",
   "execution_count": 40,
   "metadata": {
    "collapsed": true
   },
   "outputs": [],
   "source": [
    "graph_one = tf.get_default_graph()"
   ]
  },
  {
   "cell_type": "code",
   "execution_count": 41,
   "metadata": {
    "collapsed": true
   },
   "outputs": [],
   "source": [
    "graph_two = tf.Graph()"
   ]
  },
  {
   "cell_type": "code",
   "execution_count": 42,
   "metadata": {},
   "outputs": [
    {
     "name": "stdout",
     "output_type": "stream",
     "text": [
      "<tensorflow.python.framework.ops.Graph object at 0x7fbdb2bcf048>\n",
      "<tensorflow.python.framework.ops.Graph object at 0x7fbdb032f048>\n"
     ]
    }
   ],
   "source": [
    "print(graph_one)\n",
    "print(graph_two)"
   ]
  },
  {
   "cell_type": "code",
   "execution_count": 43,
   "metadata": {},
   "outputs": [
    {
     "name": "stdout",
     "output_type": "stream",
     "text": [
      "True\n"
     ]
    }
   ],
   "source": [
    "with graph_two.as_default():\n",
    "    print(graph_two is tf.get_default_graph())"
   ]
  },
  {
   "cell_type": "code",
   "execution_count": 44,
   "metadata": {},
   "outputs": [
    {
     "name": "stdout",
     "output_type": "stream",
     "text": [
      "False\n"
     ]
    }
   ],
   "source": [
    "print(graph_two is tf.get_default_graph())"
   ]
  },
  {
   "cell_type": "code",
   "execution_count": 45,
   "metadata": {
    "collapsed": true
   },
   "outputs": [],
   "source": [
    "my_tensor = tf.random_uniform((4,4),0,1)"
   ]
  },
  {
   "cell_type": "code",
   "execution_count": 46,
   "metadata": {},
   "outputs": [
    {
     "data": {
      "text/plain": [
       "<tf.Tensor 'random_uniform_1:0' shape=(4, 4) dtype=float32>"
      ]
     },
     "execution_count": 46,
     "metadata": {},
     "output_type": "execute_result"
    }
   ],
   "source": [
    "my_tensor"
   ]
  },
  {
   "cell_type": "code",
   "execution_count": 47,
   "metadata": {
    "collapsed": true
   },
   "outputs": [],
   "source": [
    "my_var = tf.Variable(initial_value=my_tensor)"
   ]
  },
  {
   "cell_type": "code",
   "execution_count": 48,
   "metadata": {
    "collapsed": true
   },
   "outputs": [],
   "source": [
    "#sess.run(my_var)"
   ]
  },
  {
   "cell_type": "code",
   "execution_count": 49,
   "metadata": {
    "collapsed": true
   },
   "outputs": [],
   "source": [
    "init = tf.global_variables_initializer()"
   ]
  },
  {
   "cell_type": "code",
   "execution_count": 50,
   "metadata": {
    "collapsed": true
   },
   "outputs": [],
   "source": [
    "sess.run(init)"
   ]
  },
  {
   "cell_type": "code",
   "execution_count": 51,
   "metadata": {},
   "outputs": [
    {
     "data": {
      "text/plain": [
       "array([[ 0.61800122,  0.07188725,  0.45391762,  0.50919759],\n",
       "       [ 0.72588837,  0.83021665,  0.41174507,  0.44878125],\n",
       "       [ 0.87081921,  0.82663393,  0.55588675,  0.50231767],\n",
       "       [ 0.0925864 ,  0.43305516,  0.03537536,  0.47592616]], dtype=float32)"
      ]
     },
     "execution_count": 51,
     "metadata": {},
     "output_type": "execute_result"
    }
   ],
   "source": [
    "sess.run(my_var)"
   ]
  },
  {
   "cell_type": "code",
   "execution_count": 52,
   "metadata": {
    "collapsed": true
   },
   "outputs": [],
   "source": [
    "ph = tf.placeholder(tf.float32)"
   ]
  },
  {
   "cell_type": "markdown",
   "metadata": {},
   "source": [
    "# first network"
   ]
  },
  {
   "cell_type": "code",
   "execution_count": 53,
   "metadata": {
    "collapsed": true
   },
   "outputs": [],
   "source": [
    "import numpy as np"
   ]
  },
  {
   "cell_type": "code",
   "execution_count": 54,
   "metadata": {
    "collapsed": true
   },
   "outputs": [],
   "source": [
    "np.random.seed(101)\n",
    "tf.set_random_seed(101)"
   ]
  },
  {
   "cell_type": "code",
   "execution_count": 55,
   "metadata": {
    "collapsed": true
   },
   "outputs": [],
   "source": [
    "rand_a = np.random.uniform(0,100,(5,5))"
   ]
  },
  {
   "cell_type": "code",
   "execution_count": 56,
   "metadata": {},
   "outputs": [
    {
     "data": {
      "text/plain": [
       "array([[ 51.63986277,  57.06675869,   2.84742265,  17.15216562,\n",
       "         68.52769817],\n",
       "       [ 83.38968626,  30.69662197,  89.36130797,  72.15438618,\n",
       "         18.99389542],\n",
       "       [ 55.42275911,  35.2131954 ,  18.18924027,  78.56017619,\n",
       "         96.54832224],\n",
       "       [ 23.23536618,   8.35614337,  60.35484223,  72.89927573,\n",
       "         27.62388285],\n",
       "       [ 68.53063288,  51.78674742,   4.84845374,  13.78692376,\n",
       "         18.69674261]])"
      ]
     },
     "execution_count": 56,
     "metadata": {},
     "output_type": "execute_result"
    }
   ],
   "source": [
    "rand_a"
   ]
  },
  {
   "cell_type": "code",
   "execution_count": 57,
   "metadata": {
    "collapsed": true
   },
   "outputs": [],
   "source": [
    "rand_b = np.random.uniform(0,100,(5,1))"
   ]
  },
  {
   "cell_type": "code",
   "execution_count": 58,
   "metadata": {},
   "outputs": [
    {
     "data": {
      "text/plain": [
       "array([[ 99.43179012],\n",
       "       [ 52.06653967],\n",
       "       [ 57.87895355],\n",
       "       [ 73.48190583],\n",
       "       [ 54.19617722]])"
      ]
     },
     "execution_count": 58,
     "metadata": {},
     "output_type": "execute_result"
    }
   ],
   "source": [
    "rand_b"
   ]
  },
  {
   "cell_type": "code",
   "execution_count": 59,
   "metadata": {
    "collapsed": true
   },
   "outputs": [],
   "source": [
    "a = tf.placeholder(tf.float32)"
   ]
  },
  {
   "cell_type": "code",
   "execution_count": 60,
   "metadata": {
    "collapsed": true
   },
   "outputs": [],
   "source": [
    "b = tf.placeholder(tf.float32)"
   ]
  },
  {
   "cell_type": "code",
   "execution_count": 61,
   "metadata": {
    "collapsed": true
   },
   "outputs": [],
   "source": [
    "add_op = a + b"
   ]
  },
  {
   "cell_type": "code",
   "execution_count": 62,
   "metadata": {
    "collapsed": true
   },
   "outputs": [],
   "source": [
    "mul_op = a * b "
   ]
  },
  {
   "cell_type": "code",
   "execution_count": 63,
   "metadata": {},
   "outputs": [
    {
     "name": "stdout",
     "output_type": "stream",
     "text": [
      "[[ 151.07165527  156.49855042  102.27921295  116.58396149  167.95948792]\n",
      " [ 135.45622253   82.76316071  141.42784119  124.22093201   71.06043243]\n",
      " [ 113.30171204   93.09214783   76.06819153  136.43911743  154.42727661]\n",
      " [  96.7172699    81.83804321  133.83674622  146.38117981  101.10578918]\n",
      " [ 122.72680664  105.98292542   59.04463196   67.98310089   72.89292145]]\n",
      "[[ 5134.64404297  5674.25         283.12432861  1705.47070312\n",
      "   6813.83154297]\n",
      " [ 4341.8125      1598.26696777  4652.73388672  3756.8293457    988.9463501 ]\n",
      " [ 3207.8112793   2038.10290527  1052.77416992  4546.98046875\n",
      "   5588.11572266]\n",
      " [ 1707.37902832   614.02526855  4434.98876953  5356.77734375\n",
      "   2029.85546875]\n",
      " [ 3714.09838867  2806.64379883   262.76763916   747.19854736\n",
      "   1013.29199219]]\n"
     ]
    }
   ],
   "source": [
    "with tf.Session() as sess:\n",
    "    \n",
    "    add_result = sess.run(add_op, feed_dict = {a:rand_a, b:rand_b})\n",
    "    print(add_result)\n",
    "    \n",
    "    mult_result = sess.run(mul_op, feed_dict = {a:rand_a, b:rand_b})\n",
    "    print(mult_result)"
   ]
  },
  {
   "cell_type": "markdown",
   "metadata": {},
   "source": [
    "# Example NN"
   ]
  },
  {
   "cell_type": "code",
   "execution_count": 64,
   "metadata": {
    "collapsed": true
   },
   "outputs": [],
   "source": [
    "n_features = 10\n",
    "n_dense_neurons = 3"
   ]
  },
  {
   "cell_type": "code",
   "execution_count": 65,
   "metadata": {
    "collapsed": true
   },
   "outputs": [],
   "source": [
    "x = tf.placeholder(tf.float32,(None,n_features))"
   ]
  },
  {
   "cell_type": "code",
   "execution_count": 66,
   "metadata": {
    "collapsed": true
   },
   "outputs": [],
   "source": [
    "W = tf.Variable(tf.random_normal([n_features,n_dense_neurons]))\n",
    "\n",
    "b = tf.Variable(tf.ones([n_dense_neurons]))"
   ]
  },
  {
   "cell_type": "code",
   "execution_count": 67,
   "metadata": {
    "collapsed": true
   },
   "outputs": [],
   "source": [
    "xW = tf.matmul(x,W)"
   ]
  },
  {
   "cell_type": "code",
   "execution_count": 68,
   "metadata": {
    "collapsed": true
   },
   "outputs": [],
   "source": [
    "z = tf.add(xW,b)"
   ]
  },
  {
   "cell_type": "code",
   "execution_count": 69,
   "metadata": {
    "collapsed": true
   },
   "outputs": [],
   "source": [
    "a = tf.sigmoid(z)"
   ]
  },
  {
   "cell_type": "code",
   "execution_count": 70,
   "metadata": {
    "collapsed": true
   },
   "outputs": [],
   "source": [
    "init = tf.global_variables_initializer()"
   ]
  },
  {
   "cell_type": "code",
   "execution_count": 71,
   "metadata": {
    "collapsed": true
   },
   "outputs": [],
   "source": [
    "with tf.Session() as sess:\n",
    "    \n",
    "    sess.run(init)\n",
    "    \n",
    "    layer_out = sess.run(a,feed_dict = {x:np.random.random([1,n_features])})"
   ]
  },
  {
   "cell_type": "code",
   "execution_count": 72,
   "metadata": {},
   "outputs": [
    {
     "data": {
      "text/plain": [
       "array([[ 0.85899407,  0.926714  ,  0.45346338]], dtype=float32)"
      ]
     },
     "execution_count": 72,
     "metadata": {},
     "output_type": "execute_result"
    }
   ],
   "source": [
    "layer_out"
   ]
  },
  {
   "cell_type": "markdown",
   "metadata": {},
   "source": [
    "## Simple Regression Example"
   ]
  },
  {
   "cell_type": "code",
   "execution_count": 73,
   "metadata": {
    "collapsed": true
   },
   "outputs": [],
   "source": [
    "import matplotlib.pyplot as plt\n",
    "%matplotlib inline "
   ]
  },
  {
   "cell_type": "code",
   "execution_count": 74,
   "metadata": {
    "collapsed": true
   },
   "outputs": [],
   "source": [
    "x_data = np.linspace(0,10,10) + np.random.uniform(-1.5,1.5,10)"
   ]
  },
  {
   "cell_type": "code",
   "execution_count": 75,
   "metadata": {},
   "outputs": [
    {
     "data": {
      "text/plain": [
       "array([-1.20856056, -0.08034641,  2.82674411,  4.50477294,  3.42312535,\n",
       "        4.88227319,  7.18414126,  6.77068715,  9.4930023 ,  9.96290567])"
      ]
     },
     "execution_count": 75,
     "metadata": {},
     "output_type": "execute_result"
    }
   ],
   "source": [
    "x_data"
   ]
  },
  {
   "cell_type": "code",
   "execution_count": 76,
   "metadata": {
    "collapsed": true
   },
   "outputs": [],
   "source": [
    "y_label = np.linspace(0,10,10) + np.random.uniform(-1.5,1.5,10)"
   ]
  },
  {
   "cell_type": "code",
   "execution_count": 77,
   "metadata": {},
   "outputs": [
    {
     "data": {
      "text/plain": [
       "array([ 0.5420333 ,  1.17575569,  0.85241231,  2.50514314,  4.67005971,\n",
       "        4.41685654,  6.66701681,  6.69180648,  7.54731409,  9.03483077])"
      ]
     },
     "execution_count": 77,
     "metadata": {},
     "output_type": "execute_result"
    }
   ],
   "source": [
    "y_label"
   ]
  },
  {
   "cell_type": "code",
   "execution_count": 78,
   "metadata": {},
   "outputs": [
    {
     "data": {
      "text/plain": [
       "[<matplotlib.lines.Line2D at 0x7fbda82b1208>]"
      ]
     },
     "execution_count": 78,
     "metadata": {},
     "output_type": "execute_result"
    },
    {
     "data": {
      "image/png": "[encoded data removed]",
      "text/plain": [
       "<matplotlib.figure.Figure at 0x7fbda87e3a58>"
      ]
     },
     "metadata": {},
     "output_type": "display_data"
    }
   ],
   "source": [
    "plt.plot(x_data, y_label, '*')"
   ]
  },
  {
   "cell_type": "markdown",
   "metadata": {},
   "source": [
    "y = mx + b "
   ]
  },
  {
   "cell_type": "code",
   "execution_count": 79,
   "metadata": {},
   "outputs": [
    {
     "data": {
      "text/plain": [
       "array([ 0.44236813,  0.87758732])"
      ]
     },
     "execution_count": 79,
     "metadata": {},
     "output_type": "execute_result"
    }
   ],
   "source": [
    "np.random.rand(2)"
   ]
  },
  {
   "cell_type": "code",
   "execution_count": 80,
   "metadata": {
    "collapsed": true
   },
   "outputs": [],
   "source": [
    "m = tf.Variable(0.49)\n",
    "b = tf.Variable(0.97)"
   ]
  },
  {
   "cell_type": "code",
   "execution_count": 82,
   "metadata": {
    "collapsed": true
   },
   "outputs": [],
   "source": [
    "error = 0 \n",
    "\n",
    "for x,y in zip(x_data,y_label):\n",
    "    \n",
    "    y_hat = m*x + b \n",
    "    \n",
    "    error += (y-y_hat)**2"
   ]
  },
  {
   "cell_type": "code",
   "execution_count": 83,
   "metadata": {
    "collapsed": true
   },
   "outputs": [],
   "source": [
    "optimizer = tf.train.GradientDescentOptimizer(learning_rate=0.001)\n",
    "train = optimizer.minimize(error)"
   ]
  },
  {
   "cell_type": "code",
   "execution_count": 84,
   "metadata": {
    "collapsed": true
   },
   "outputs": [],
   "source": [
    "init = tf.global_variables_initializer()"
   ]
  },
  {
   "cell_type": "code",
   "execution_count": 85,
   "metadata": {
    "collapsed": true
   },
   "outputs": [],
   "source": [
    "with tf.Session() as sess:\n",
    "    sess.run(init)\n",
    "    \n",
    "    training_steps = 100\n",
    "    \n",
    "    for i in range(training_steps):\n",
    "        sess.run(train)\n",
    "    final_slope , final_intercept = sess.run([m,b])"
   ]
  },
  {
   "cell_type": "code",
   "execution_count": 86,
   "metadata": {},
   "outputs": [
    {
     "data": {
      "text/plain": [
       "[<matplotlib.lines.Line2D at 0x7fbda0ced0f0>]"
      ]
     },
     "execution_count": 86,
     "metadata": {},
     "output_type": "execute_result"
    },
    {
     "data": {
      "image/png": "[encoded data removed]",
      "text/plain": [
       "<matplotlib.figure.Figure at 0x7fbda0ced0b8>"
      ]
     },
     "metadata": {},
     "output_type": "display_data"
    }
   ],
   "source": [
    "x_test = np.linspace(-1,11,10)\n",
    "\n",
    "#y = mx + b \n",
    "\n",
    "y_pred_plot = final_slope * x_test + final_intercept\n",
    "\n",
    "plt.plot(x_test , y_pred_plot, 'r')\n",
    "plt.plot(x_data, y_label, '*')"
   ]
  },
  {
   "cell_type": "markdown",
   "metadata": {},
   "source": [
    "# Regression Example (simple) "
   ]
  },
  {
   "cell_type": "code",
   "execution_count": 87,
   "metadata": {
    "collapsed": true
   },
   "outputs": [],
   "source": [
    "import numpy as np\n",
    "import pandas as pd\n",
    "import matplotlib.pyplot as plt\n",
    "%matplotlib inline"
   ]
  },
  {
   "cell_type": "code",
   "execution_count": 88,
   "metadata": {
    "collapsed": true
   },
   "outputs": [],
   "source": [
    "import tensorflow as tf"
   ]
  },
  {
   "cell_type": "code",
   "execution_count": 89,
   "metadata": {
    "collapsed": true
   },
   "outputs": [],
   "source": [
    "x_data = np.linspace(0.0,10.0,1000000)"
   ]
  },
  {
   "cell_type": "code",
   "execution_count": 90,
   "metadata": {
    "collapsed": true
   },
   "outputs": [],
   "source": [
    "noise = np.random.randn(len(x_data))"
   ]
  },
  {
   "cell_type": "markdown",
   "metadata": {},
   "source": [
    "y = mx + b \n",
    "\n",
    "b = 5 "
   ]
  },
  {
   "cell_type": "code",
   "execution_count": 91,
   "metadata": {
    "collapsed": true
   },
   "outputs": [],
   "source": [
    "y_true = (0.5 * x_data ) + 5 + noise "
   ]
  },
  {
   "cell_type": "code",
   "execution_count": 92,
   "metadata": {
    "collapsed": true
   },
   "outputs": [],
   "source": [
    "x_df = pd.DataFrame(data=x_data, columns=['X Data'])"
   ]
  },
  {
   "cell_type": "code",
   "execution_count": 93,
   "metadata": {
    "collapsed": true
   },
   "outputs": [],
   "source": [
    "y_df = pd.DataFrame(data=y_true, columns=['Y'])"
   ]
  },
  {
   "cell_type": "code",
   "execution_count": 94,
   "metadata": {},
   "outputs": [
    {
     "data": {
      "text/html": [
       "<div>\n",
       "<style>\n",
       "    .dataframe thead tr:only-child th {\n",
       "        text-align: right;\n",
       "    }\n",
       "\n",
       "    .dataframe thead th {\n",
       "        text-align: left;\n",
       "    }\n",
       "\n",
       "    .dataframe tbody tr th {\n",
       "        vertical-align: top;\n",
       "    }\n",
       "</style>\n",
       "<table border=\"1\" class=\"dataframe\">\n",
       "  <thead>\n",
       "    <tr style=\"text-align: right;\">\n",
       "      <th></th>\n",
       "      <th>Y</th>\n",
       "    </tr>\n",
       "  </thead>\n",
       "  <tbody>\n",
       "    <tr>\n",
       "      <th>0</th>\n",
       "      <td>4.968421</td>\n",
       "    </tr>\n",
       "    <tr>\n",
       "      <th>1</th>\n",
       "      <td>5.649831</td>\n",
       "    </tr>\n",
       "    <tr>\n",
       "      <th>2</th>\n",
       "      <td>7.154856</td>\n",
       "    </tr>\n",
       "    <tr>\n",
       "      <th>3</th>\n",
       "      <td>4.389756</td>\n",
       "    </tr>\n",
       "    <tr>\n",
       "      <th>4</th>\n",
       "      <td>4.244695</td>\n",
       "    </tr>\n",
       "  </tbody>\n",
       "</table>\n",
       "</div>"
      ],
      "text/plain": [
       "          Y\n",
       "0  4.968421\n",
       "1  5.649831\n",
       "2  7.154856\n",
       "3  4.389756\n",
       "4  4.244695"
      ]
     },
     "execution_count": 94,
     "metadata": {},
     "output_type": "execute_result"
    }
   ],
   "source": [
    "y_df.head()"
   ]
  },
  {
   "cell_type": "code",
   "execution_count": 95,
   "metadata": {
    "collapsed": true
   },
   "outputs": [],
   "source": [
    "my_data = pd.concat([x_df, y_df],axis=1)"
   ]
  },
  {
   "cell_type": "code",
   "execution_count": 96,
   "metadata": {},
   "outputs": [
    {
     "data": {
      "text/html": [
       "<div>\n",
       "<style>\n",
       "    .dataframe thead tr:only-child th {\n",
       "        text-align: right;\n",
       "    }\n",
       "\n",
       "    .dataframe thead th {\n",
       "        text-align: left;\n",
       "    }\n",
       "\n",
       "    .dataframe tbody tr th {\n",
       "        vertical-align: top;\n",
       "    }\n",
       "</style>\n",
       "<table border=\"1\" class=\"dataframe\">\n",
       "  <thead>\n",
       "    <tr style=\"text-align: right;\">\n",
       "      <th></th>\n",
       "      <th>X Data</th>\n",
       "      <th>Y</th>\n",
       "    </tr>\n",
       "  </thead>\n",
       "  <tbody>\n",
       "    <tr>\n",
       "      <th>0</th>\n",
       "      <td>0.00000</td>\n",
       "      <td>4.968421</td>\n",
       "    </tr>\n",
       "    <tr>\n",
       "      <th>1</th>\n",
       "      <td>0.00001</td>\n",
       "      <td>5.649831</td>\n",
       "    </tr>\n",
       "    <tr>\n",
       "      <th>2</th>\n",
       "      <td>0.00002</td>\n",
       "      <td>7.154856</td>\n",
       "    </tr>\n",
       "    <tr>\n",
       "      <th>3</th>\n",
       "      <td>0.00003</td>\n",
       "      <td>4.389756</td>\n",
       "    </tr>\n",
       "    <tr>\n",
       "      <th>4</th>\n",
       "      <td>0.00004</td>\n",
       "      <td>4.244695</td>\n",
       "    </tr>\n",
       "  </tbody>\n",
       "</table>\n",
       "</div>"
      ],
      "text/plain": [
       "    X Data         Y\n",
       "0  0.00000  4.968421\n",
       "1  0.00001  5.649831\n",
       "2  0.00002  7.154856\n",
       "3  0.00003  4.389756\n",
       "4  0.00004  4.244695"
      ]
     },
     "execution_count": 96,
     "metadata": {},
     "output_type": "execute_result"
    }
   ],
   "source": [
    "my_data.head()"
   ]
  },
  {
   "cell_type": "code",
   "execution_count": 97,
   "metadata": {},
   "outputs": [
    {
     "data": {
      "text/plain": [
       "<matplotlib.axes._subplots.AxesSubplot at 0x7fbda0cd78d0>"
      ]
     },
     "execution_count": 97,
     "metadata": {},
     "output_type": "execute_result"
    },
    {
     "data": {
      "image/png": "[encoded data removed]",
      "text/plain": [
       "<matplotlib.figure.Figure at 0x7fbda0c47ba8>"
      ]
     },
     "metadata": {},
     "output_type": "display_data"
    }
   ],
   "source": [
    "my_data.sample(250).plot(kind='scatter', x='X Data', y='Y')"
   ]
  },
  {
   "cell_type": "code",
   "execution_count": 98,
   "metadata": {
    "collapsed": true
   },
   "outputs": [],
   "source": [
    "batch_size = 8"
   ]
  },
  {
   "cell_type": "code",
   "execution_count": 99,
   "metadata": {
    "collapsed": true
   },
   "outputs": [],
   "source": [
    "m = tf.Variable(0.9)\n",
    "b = tf.Variable(0.16)"
   ]
  },
  {
   "cell_type": "code",
   "execution_count": 100,
   "metadata": {
    "collapsed": true
   },
   "outputs": [],
   "source": [
    "xph = tf.placeholder(tf.float32,[batch_size])"
   ]
  },
  {
   "cell_type": "code",
   "execution_count": 101,
   "metadata": {
    "collapsed": true
   },
   "outputs": [],
   "source": [
    "yph = tf.placeholder(tf.float32,[batch_size])"
   ]
  },
  {
   "cell_type": "code",
   "execution_count": 102,
   "metadata": {
    "collapsed": true
   },
   "outputs": [],
   "source": [
    "y_model = m*xph + b"
   ]
  },
  {
   "cell_type": "code",
   "execution_count": 103,
   "metadata": {
    "collapsed": true
   },
   "outputs": [],
   "source": [
    "error = tf.reduce_sum(tf.square(yph - y_model))"
   ]
  },
  {
   "cell_type": "code",
   "execution_count": 104,
   "metadata": {
    "collapsed": true
   },
   "outputs": [],
   "source": [
    "optimizer = tf.train.GradientDescentOptimizer(learning_rate=0.001)\n",
    "train = optimizer.minimize(error)"
   ]
  },
  {
   "cell_type": "code",
   "execution_count": 105,
   "metadata": {
    "collapsed": true
   },
   "outputs": [],
   "source": [
    "init = tf.global_variables_initializer()"
   ]
  },
  {
   "cell_type": "code",
   "execution_count": 106,
   "metadata": {},
   "outputs": [
    {
     "name": "stdout",
     "output_type": "stream",
     "text": [
      "Tensor(\"Sum:0\", shape=(), dtype=float32)\n",
      "Tensor(\"Sum:0\", shape=(), dtype=float32)\n",
      "Tensor(\"Sum:0\", shape=(), dtype=float32)\n",
      "Tensor(\"Sum:0\", shape=(), dtype=float32)\n",
      "Tensor(\"Sum:0\", shape=(), dtype=float32)\n",
      "Tensor(\"Sum:0\", shape=(), dtype=float32)\n",
      "Tensor(\"Sum:0\", shape=(), dtype=float32)\n",
      "Tensor(\"Sum:0\", shape=(), dtype=float32)\n",
      "Tensor(\"Sum:0\", shape=(), dtype=float32)\n",
      "Tensor(\"Sum:0\", shape=(), dtype=float32)\n",
      "Tensor(\"Sum:0\", shape=(), dtype=float32)\n",
      "Tensor(\"Sum:0\", shape=(), dtype=float32)\n",
      "Tensor(\"Sum:0\", shape=(), dtype=float32)\n",
      "Tensor(\"Sum:0\", shape=(), dtype=float32)\n",
      "Tensor(\"Sum:0\", shape=(), dtype=float32)\n",
      "Tensor(\"Sum:0\", shape=(), dtype=float32)\n",
      "Tensor(\"Sum:0\", shape=(), dtype=float32)\n",
      "Tensor(\"Sum:0\", shape=(), dtype=float32)\n",
      "Tensor(\"Sum:0\", shape=(), dtype=float32)\n",
      "Tensor(\"Sum:0\", shape=(), dtype=float32)\n",
      "Tensor(\"Sum:0\", shape=(), dtype=float32)\n",
      "Tensor(\"Sum:0\", shape=(), dtype=float32)\n",
      "Tensor(\"Sum:0\", shape=(), dtype=float32)\n",
      "Tensor(\"Sum:0\", shape=(), dtype=float32)\n",
      "Tensor(\"Sum:0\", shape=(), dtype=float32)\n",
      "Tensor(\"Sum:0\", shape=(), dtype=float32)\n",
      "Tensor(\"Sum:0\", shape=(), dtype=float32)\n",
      "Tensor(\"Sum:0\", shape=(), dtype=float32)\n",
      "Tensor(\"Sum:0\", shape=(), dtype=float32)\n",
      "Tensor(\"Sum:0\", shape=(), dtype=float32)\n",
      "Tensor(\"Sum:0\", shape=(), dtype=float32)\n",
      "Tensor(\"Sum:0\", shape=(), dtype=float32)\n",
      "Tensor(\"Sum:0\", shape=(), dtype=float32)\n",
      "Tensor(\"Sum:0\", shape=(), dtype=float32)\n",
      "Tensor(\"Sum:0\", shape=(), dtype=float32)\n",
      "Tensor(\"Sum:0\", shape=(), dtype=float32)\n",
      "Tensor(\"Sum:0\", shape=(), dtype=float32)\n",
      "Tensor(\"Sum:0\", shape=(), dtype=float32)\n",
      "Tensor(\"Sum:0\", shape=(), dtype=float32)\n",
      "Tensor(\"Sum:0\", shape=(), dtype=float32)\n",
      "Tensor(\"Sum:0\", shape=(), dtype=float32)\n",
      "Tensor(\"Sum:0\", shape=(), dtype=float32)\n",
      "Tensor(\"Sum:0\", shape=(), dtype=float32)\n",
      "Tensor(\"Sum:0\", shape=(), dtype=float32)\n",
      "Tensor(\"Sum:0\", shape=(), dtype=float32)\n",
      "Tensor(\"Sum:0\", shape=(), dtype=float32)\n",
      "Tensor(\"Sum:0\", shape=(), dtype=float32)\n",
      "Tensor(\"Sum:0\", shape=(), dtype=float32)\n",
      "Tensor(\"Sum:0\", shape=(), dtype=float32)\n",
      "Tensor(\"Sum:0\", shape=(), dtype=float32)\n",
      "Tensor(\"Sum:0\", shape=(), dtype=float32)\n",
      "Tensor(\"Sum:0\", shape=(), dtype=float32)\n",
      "Tensor(\"Sum:0\", shape=(), dtype=float32)\n",
      "Tensor(\"Sum:0\", shape=(), dtype=float32)\n",
      "Tensor(\"Sum:0\", shape=(), dtype=float32)\n",
      "Tensor(\"Sum:0\", shape=(), dtype=float32)\n",
      "Tensor(\"Sum:0\", shape=(), dtype=float32)\n",
      "Tensor(\"Sum:0\", shape=(), dtype=float32)\n",
      "Tensor(\"Sum:0\", shape=(), dtype=float32)\n",
      "Tensor(\"Sum:0\", shape=(), dtype=float32)\n",
      "Tensor(\"Sum:0\", shape=(), dtype=float32)\n",
      "Tensor(\"Sum:0\", shape=(), dtype=float32)\n",
      "Tensor(\"Sum:0\", shape=(), dtype=float32)\n",
      "Tensor(\"Sum:0\", shape=(), dtype=float32)\n",
      "Tensor(\"Sum:0\", shape=(), dtype=float32)\n",
      "Tensor(\"Sum:0\", shape=(), dtype=float32)\n",
      "Tensor(\"Sum:0\", shape=(), dtype=float32)\n",
      "Tensor(\"Sum:0\", shape=(), dtype=float32)\n",
      "Tensor(\"Sum:0\", shape=(), dtype=float32)\n",
      "Tensor(\"Sum:0\", shape=(), dtype=float32)\n",
      "Tensor(\"Sum:0\", shape=(), dtype=float32)\n",
      "Tensor(\"Sum:0\", shape=(), dtype=float32)\n",
      "Tensor(\"Sum:0\", shape=(), dtype=float32)\n",
      "Tensor(\"Sum:0\", shape=(), dtype=float32)\n",
      "Tensor(\"Sum:0\", shape=(), dtype=float32)\n",
      "Tensor(\"Sum:0\", shape=(), dtype=float32)\n",
      "Tensor(\"Sum:0\", shape=(), dtype=float32)\n",
      "Tensor(\"Sum:0\", shape=(), dtype=float32)\n",
      "Tensor(\"Sum:0\", shape=(), dtype=float32)\n",
      "Tensor(\"Sum:0\", shape=(), dtype=float32)\n",
      "Tensor(\"Sum:0\", shape=(), dtype=float32)\n",
      "Tensor(\"Sum:0\", shape=(), dtype=float32)\n",
      "Tensor(\"Sum:0\", shape=(), dtype=float32)\n",
      "Tensor(\"Sum:0\", shape=(), dtype=float32)\n",
      "Tensor(\"Sum:0\", shape=(), dtype=float32)\n",
      "Tensor(\"Sum:0\", shape=(), dtype=float32)\n",
      "Tensor(\"Sum:0\", shape=(), dtype=float32)\n",
      "Tensor(\"Sum:0\", shape=(), dtype=float32)\n",
      "Tensor(\"Sum:0\", shape=(), dtype=float32)\n",
      "Tensor(\"Sum:0\", shape=(), dtype=float32)\n",
      "Tensor(\"Sum:0\", shape=(), dtype=float32)\n",
      "Tensor(\"Sum:0\", shape=(), dtype=float32)\n",
      "Tensor(\"Sum:0\", shape=(), dtype=float32)\n",
      "Tensor(\"Sum:0\", shape=(), dtype=float32)\n",
      "Tensor(\"Sum:0\", shape=(), dtype=float32)\n",
      "Tensor(\"Sum:0\", shape=(), dtype=float32)\n",
      "Tensor(\"Sum:0\", shape=(), dtype=float32)\n",
      "Tensor(\"Sum:0\", shape=(), dtype=float32)\n",
      "Tensor(\"Sum:0\", shape=(), dtype=float32)\n",
      "Tensor(\"Sum:0\", shape=(), dtype=float32)\n",
      "Tensor(\"Sum:0\", shape=(), dtype=float32)\n",
      "Tensor(\"Sum:0\", shape=(), dtype=float32)\n",
      "Tensor(\"Sum:0\", shape=(), dtype=float32)\n",
      "Tensor(\"Sum:0\", shape=(), dtype=float32)\n",
      "Tensor(\"Sum:0\", shape=(), dtype=float32)\n",
      "Tensor(\"Sum:0\", shape=(), dtype=float32)\n",
      "Tensor(\"Sum:0\", shape=(), dtype=float32)\n",
      "Tensor(\"Sum:0\", shape=(), dtype=float32)\n",
      "Tensor(\"Sum:0\", shape=(), dtype=float32)\n",
      "Tensor(\"Sum:0\", shape=(), dtype=float32)\n",
      "Tensor(\"Sum:0\", shape=(), dtype=float32)\n",
      "Tensor(\"Sum:0\", shape=(), dtype=float32)\n",
      "Tensor(\"Sum:0\", shape=(), dtype=float32)\n",
      "Tensor(\"Sum:0\", shape=(), dtype=float32)\n",
      "Tensor(\"Sum:0\", shape=(), dtype=float32)\n",
      "Tensor(\"Sum:0\", shape=(), dtype=float32)\n",
      "Tensor(\"Sum:0\", shape=(), dtype=float32)\n",
      "Tensor(\"Sum:0\", shape=(), dtype=float32)\n",
      "Tensor(\"Sum:0\", shape=(), dtype=float32)\n",
      "Tensor(\"Sum:0\", shape=(), dtype=float32)\n",
      "Tensor(\"Sum:0\", shape=(), dtype=float32)\n",
      "Tensor(\"Sum:0\", shape=(), dtype=float32)\n",
      "Tensor(\"Sum:0\", shape=(), dtype=float32)\n",
      "Tensor(\"Sum:0\", shape=(), dtype=float32)\n",
      "Tensor(\"Sum:0\", shape=(), dtype=float32)\n",
      "Tensor(\"Sum:0\", shape=(), dtype=float32)\n",
      "Tensor(\"Sum:0\", shape=(), dtype=float32)\n",
      "Tensor(\"Sum:0\", shape=(), dtype=float32)\n",
      "Tensor(\"Sum:0\", shape=(), dtype=float32)\n",
      "Tensor(\"Sum:0\", shape=(), dtype=float32)\n",
      "Tensor(\"Sum:0\", shape=(), dtype=float32)\n",
      "Tensor(\"Sum:0\", shape=(), dtype=float32)\n",
      "Tensor(\"Sum:0\", shape=(), dtype=float32)\n",
      "Tensor(\"Sum:0\", shape=(), dtype=float32)\n",
      "Tensor(\"Sum:0\", shape=(), dtype=float32)\n",
      "Tensor(\"Sum:0\", shape=(), dtype=float32)\n",
      "Tensor(\"Sum:0\", shape=(), dtype=float32)\n",
      "Tensor(\"Sum:0\", shape=(), dtype=float32)\n",
      "Tensor(\"Sum:0\", shape=(), dtype=float32)\n",
      "Tensor(\"Sum:0\", shape=(), dtype=float32)\n",
      "Tensor(\"Sum:0\", shape=(), dtype=float32)\n",
      "Tensor(\"Sum:0\", shape=(), dtype=float32)\n",
      "Tensor(\"Sum:0\", shape=(), dtype=float32)\n",
      "Tensor(\"Sum:0\", shape=(), dtype=float32)\n",
      "Tensor(\"Sum:0\", shape=(), dtype=float32)\n",
      "Tensor(\"Sum:0\", shape=(), dtype=float32)\n",
      "Tensor(\"Sum:0\", shape=(), dtype=float32)\n",
      "Tensor(\"Sum:0\", shape=(), dtype=float32)\n",
      "Tensor(\"Sum:0\", shape=(), dtype=float32)\n",
      "Tensor(\"Sum:0\", shape=(), dtype=float32)\n",
      "Tensor(\"Sum:0\", shape=(), dtype=float32)\n",
      "Tensor(\"Sum:0\", shape=(), dtype=float32)\n",
      "Tensor(\"Sum:0\", shape=(), dtype=float32)\n",
      "Tensor(\"Sum:0\", shape=(), dtype=float32)\n",
      "Tensor(\"Sum:0\", shape=(), dtype=float32)\n",
      "Tensor(\"Sum:0\", shape=(), dtype=float32)\n",
      "Tensor(\"Sum:0\", shape=(), dtype=float32)\n",
      "Tensor(\"Sum:0\", shape=(), dtype=float32)\n",
      "Tensor(\"Sum:0\", shape=(), dtype=float32)\n",
      "Tensor(\"Sum:0\", shape=(), dtype=float32)\n",
      "Tensor(\"Sum:0\", shape=(), dtype=float32)\n",
      "Tensor(\"Sum:0\", shape=(), dtype=float32)\n",
      "Tensor(\"Sum:0\", shape=(), dtype=float32)\n",
      "Tensor(\"Sum:0\", shape=(), dtype=float32)\n",
      "Tensor(\"Sum:0\", shape=(), dtype=float32)\n",
      "Tensor(\"Sum:0\", shape=(), dtype=float32)\n",
      "Tensor(\"Sum:0\", shape=(), dtype=float32)\n",
      "Tensor(\"Sum:0\", shape=(), dtype=float32)\n",
      "Tensor(\"Sum:0\", shape=(), dtype=float32)\n",
      "Tensor(\"Sum:0\", shape=(), dtype=float32)\n",
      "Tensor(\"Sum:0\", shape=(), dtype=float32)\n",
      "Tensor(\"Sum:0\", shape=(), dtype=float32)\n",
      "Tensor(\"Sum:0\", shape=(), dtype=float32)\n",
      "Tensor(\"Sum:0\", shape=(), dtype=float32)\n",
      "Tensor(\"Sum:0\", shape=(), dtype=float32)\n",
      "Tensor(\"Sum:0\", shape=(), dtype=float32)\n",
      "Tensor(\"Sum:0\", shape=(), dtype=float32)\n",
      "Tensor(\"Sum:0\", shape=(), dtype=float32)\n",
      "Tensor(\"Sum:0\", shape=(), dtype=float32)\n",
      "Tensor(\"Sum:0\", shape=(), dtype=float32)\n",
      "Tensor(\"Sum:0\", shape=(), dtype=float32)\n",
      "Tensor(\"Sum:0\", shape=(), dtype=float32)\n",
      "Tensor(\"Sum:0\", shape=(), dtype=float32)\n",
      "Tensor(\"Sum:0\", shape=(), dtype=float32)\n",
      "Tensor(\"Sum:0\", shape=(), dtype=float32)\n",
      "Tensor(\"Sum:0\", shape=(), dtype=float32)\n",
      "Tensor(\"Sum:0\", shape=(), dtype=float32)\n",
      "Tensor(\"Sum:0\", shape=(), dtype=float32)\n",
      "Tensor(\"Sum:0\", shape=(), dtype=float32)\n",
      "Tensor(\"Sum:0\", shape=(), dtype=float32)\n",
      "Tensor(\"Sum:0\", shape=(), dtype=float32)\n",
      "Tensor(\"Sum:0\", shape=(), dtype=float32)\n",
      "Tensor(\"Sum:0\", shape=(), dtype=float32)\n",
      "Tensor(\"Sum:0\", shape=(), dtype=float32)\n",
      "Tensor(\"Sum:0\", shape=(), dtype=float32)\n",
      "Tensor(\"Sum:0\", shape=(), dtype=float32)\n",
      "Tensor(\"Sum:0\", shape=(), dtype=float32)\n",
      "Tensor(\"Sum:0\", shape=(), dtype=float32)\n",
      "Tensor(\"Sum:0\", shape=(), dtype=float32)\n",
      "Tensor(\"Sum:0\", shape=(), dtype=float32)\n",
      "Tensor(\"Sum:0\", shape=(), dtype=float32)\n",
      "Tensor(\"Sum:0\", shape=(), dtype=float32)\n",
      "Tensor(\"Sum:0\", shape=(), dtype=float32)\n",
      "Tensor(\"Sum:0\", shape=(), dtype=float32)\n",
      "Tensor(\"Sum:0\", shape=(), dtype=float32)\n",
      "Tensor(\"Sum:0\", shape=(), dtype=float32)\n",
      "Tensor(\"Sum:0\", shape=(), dtype=float32)\n",
      "Tensor(\"Sum:0\", shape=(), dtype=float32)\n",
      "Tensor(\"Sum:0\", shape=(), dtype=float32)\n",
      "Tensor(\"Sum:0\", shape=(), dtype=float32)\n",
      "Tensor(\"Sum:0\", shape=(), dtype=float32)\n",
      "Tensor(\"Sum:0\", shape=(), dtype=float32)\n",
      "Tensor(\"Sum:0\", shape=(), dtype=float32)\n",
      "Tensor(\"Sum:0\", shape=(), dtype=float32)\n",
      "Tensor(\"Sum:0\", shape=(), dtype=float32)\n",
      "Tensor(\"Sum:0\", shape=(), dtype=float32)\n",
      "Tensor(\"Sum:0\", shape=(), dtype=float32)\n",
      "Tensor(\"Sum:0\", shape=(), dtype=float32)\n",
      "Tensor(\"Sum:0\", shape=(), dtype=float32)\n",
      "Tensor(\"Sum:0\", shape=(), dtype=float32)\n",
      "Tensor(\"Sum:0\", shape=(), dtype=float32)\n",
      "Tensor(\"Sum:0\", shape=(), dtype=float32)\n",
      "Tensor(\"Sum:0\", shape=(), dtype=float32)\n",
      "Tensor(\"Sum:0\", shape=(), dtype=float32)\n",
      "Tensor(\"Sum:0\", shape=(), dtype=float32)\n",
      "Tensor(\"Sum:0\", shape=(), dtype=float32)\n",
      "Tensor(\"Sum:0\", shape=(), dtype=float32)\n",
      "Tensor(\"Sum:0\", shape=(), dtype=float32)\n",
      "Tensor(\"Sum:0\", shape=(), dtype=float32)\n",
      "Tensor(\"Sum:0\", shape=(), dtype=float32)\n",
      "Tensor(\"Sum:0\", shape=(), dtype=float32)\n",
      "Tensor(\"Sum:0\", shape=(), dtype=float32)\n",
      "Tensor(\"Sum:0\", shape=(), dtype=float32)\n",
      "Tensor(\"Sum:0\", shape=(), dtype=float32)\n",
      "Tensor(\"Sum:0\", shape=(), dtype=float32)\n",
      "Tensor(\"Sum:0\", shape=(), dtype=float32)\n",
      "Tensor(\"Sum:0\", shape=(), dtype=float32)\n",
      "Tensor(\"Sum:0\", shape=(), dtype=float32)\n",
      "Tensor(\"Sum:0\", shape=(), dtype=float32)\n",
      "Tensor(\"Sum:0\", shape=(), dtype=float32)\n",
      "Tensor(\"Sum:0\", shape=(), dtype=float32)\n",
      "Tensor(\"Sum:0\", shape=(), dtype=float32)\n",
      "Tensor(\"Sum:0\", shape=(), dtype=float32)\n",
      "Tensor(\"Sum:0\", shape=(), dtype=float32)\n",
      "Tensor(\"Sum:0\", shape=(), dtype=float32)\n",
      "Tensor(\"Sum:0\", shape=(), dtype=float32)\n",
      "Tensor(\"Sum:0\", shape=(), dtype=float32)\n",
      "Tensor(\"Sum:0\", shape=(), dtype=float32)\n",
      "Tensor(\"Sum:0\", shape=(), dtype=float32)\n",
      "Tensor(\"Sum:0\", shape=(), dtype=float32)\n",
      "Tensor(\"Sum:0\", shape=(), dtype=float32)\n",
      "Tensor(\"Sum:0\", shape=(), dtype=float32)\n",
      "Tensor(\"Sum:0\", shape=(), dtype=float32)\n",
      "Tensor(\"Sum:0\", shape=(), dtype=float32)\n",
      "Tensor(\"Sum:0\", shape=(), dtype=float32)\n",
      "Tensor(\"Sum:0\", shape=(), dtype=float32)\n",
      "Tensor(\"Sum:0\", shape=(), dtype=float32)\n",
      "Tensor(\"Sum:0\", shape=(), dtype=float32)\n",
      "Tensor(\"Sum:0\", shape=(), dtype=float32)\n",
      "Tensor(\"Sum:0\", shape=(), dtype=float32)\n",
      "Tensor(\"Sum:0\", shape=(), dtype=float32)\n",
      "Tensor(\"Sum:0\", shape=(), dtype=float32)\n",
      "Tensor(\"Sum:0\", shape=(), dtype=float32)\n",
      "Tensor(\"Sum:0\", shape=(), dtype=float32)\n",
      "Tensor(\"Sum:0\", shape=(), dtype=float32)\n",
      "Tensor(\"Sum:0\", shape=(), dtype=float32)\n",
      "Tensor(\"Sum:0\", shape=(), dtype=float32)\n",
      "Tensor(\"Sum:0\", shape=(), dtype=float32)\n",
      "Tensor(\"Sum:0\", shape=(), dtype=float32)\n",
      "Tensor(\"Sum:0\", shape=(), dtype=float32)\n",
      "Tensor(\"Sum:0\", shape=(), dtype=float32)\n",
      "Tensor(\"Sum:0\", shape=(), dtype=float32)\n",
      "Tensor(\"Sum:0\", shape=(), dtype=float32)\n",
      "Tensor(\"Sum:0\", shape=(), dtype=float32)\n",
      "Tensor(\"Sum:0\", shape=(), dtype=float32)\n",
      "Tensor(\"Sum:0\", shape=(), dtype=float32)\n",
      "Tensor(\"Sum:0\", shape=(), dtype=float32)\n",
      "Tensor(\"Sum:0\", shape=(), dtype=float32)\n",
      "Tensor(\"Sum:0\", shape=(), dtype=float32)\n",
      "Tensor(\"Sum:0\", shape=(), dtype=float32)\n",
      "Tensor(\"Sum:0\", shape=(), dtype=float32)\n",
      "Tensor(\"Sum:0\", shape=(), dtype=float32)\n",
      "Tensor(\"Sum:0\", shape=(), dtype=float32)\n",
      "Tensor(\"Sum:0\", shape=(), dtype=float32)\n",
      "Tensor(\"Sum:0\", shape=(), dtype=float32)\n",
      "Tensor(\"Sum:0\", shape=(), dtype=float32)\n",
      "Tensor(\"Sum:0\", shape=(), dtype=float32)\n",
      "Tensor(\"Sum:0\", shape=(), dtype=float32)\n",
      "Tensor(\"Sum:0\", shape=(), dtype=float32)\n",
      "Tensor(\"Sum:0\", shape=(), dtype=float32)\n",
      "Tensor(\"Sum:0\", shape=(), dtype=float32)\n",
      "Tensor(\"Sum:0\", shape=(), dtype=float32)\n",
      "Tensor(\"Sum:0\", shape=(), dtype=float32)\n",
      "Tensor(\"Sum:0\", shape=(), dtype=float32)\n",
      "Tensor(\"Sum:0\", shape=(), dtype=float32)\n",
      "Tensor(\"Sum:0\", shape=(), dtype=float32)\n",
      "Tensor(\"Sum:0\", shape=(), dtype=float32)\n",
      "Tensor(\"Sum:0\", shape=(), dtype=float32)\n",
      "Tensor(\"Sum:0\", shape=(), dtype=float32)\n",
      "Tensor(\"Sum:0\", shape=(), dtype=float32)\n",
      "Tensor(\"Sum:0\", shape=(), dtype=float32)\n",
      "Tensor(\"Sum:0\", shape=(), dtype=float32)\n",
      "Tensor(\"Sum:0\", shape=(), dtype=float32)\n",
      "Tensor(\"Sum:0\", shape=(), dtype=float32)\n",
      "Tensor(\"Sum:0\", shape=(), dtype=float32)\n",
      "Tensor(\"Sum:0\", shape=(), dtype=float32)\n",
      "Tensor(\"Sum:0\", shape=(), dtype=float32)\n",
      "Tensor(\"Sum:0\", shape=(), dtype=float32)\n",
      "Tensor(\"Sum:0\", shape=(), dtype=float32)\n",
      "Tensor(\"Sum:0\", shape=(), dtype=float32)\n",
      "Tensor(\"Sum:0\", shape=(), dtype=float32)\n",
      "Tensor(\"Sum:0\", shape=(), dtype=float32)\n",
      "Tensor(\"Sum:0\", shape=(), dtype=float32)\n",
      "Tensor(\"Sum:0\", shape=(), dtype=float32)\n",
      "Tensor(\"Sum:0\", shape=(), dtype=float32)\n",
      "Tensor(\"Sum:0\", shape=(), dtype=float32)\n",
      "Tensor(\"Sum:0\", shape=(), dtype=float32)\n",
      "Tensor(\"Sum:0\", shape=(), dtype=float32)\n",
      "Tensor(\"Sum:0\", shape=(), dtype=float32)\n",
      "Tensor(\"Sum:0\", shape=(), dtype=float32)\n",
      "Tensor(\"Sum:0\", shape=(), dtype=float32)\n",
      "Tensor(\"Sum:0\", shape=(), dtype=float32)\n",
      "Tensor(\"Sum:0\", shape=(), dtype=float32)\n",
      "Tensor(\"Sum:0\", shape=(), dtype=float32)\n",
      "Tensor(\"Sum:0\", shape=(), dtype=float32)\n",
      "Tensor(\"Sum:0\", shape=(), dtype=float32)\n",
      "Tensor(\"Sum:0\", shape=(), dtype=float32)\n",
      "Tensor(\"Sum:0\", shape=(), dtype=float32)\n",
      "Tensor(\"Sum:0\", shape=(), dtype=float32)\n",
      "Tensor(\"Sum:0\", shape=(), dtype=float32)\n",
      "Tensor(\"Sum:0\", shape=(), dtype=float32)\n",
      "Tensor(\"Sum:0\", shape=(), dtype=float32)\n",
      "Tensor(\"Sum:0\", shape=(), dtype=float32)\n",
      "Tensor(\"Sum:0\", shape=(), dtype=float32)\n",
      "Tensor(\"Sum:0\", shape=(), dtype=float32)\n",
      "Tensor(\"Sum:0\", shape=(), dtype=float32)\n",
      "Tensor(\"Sum:0\", shape=(), dtype=float32)\n",
      "Tensor(\"Sum:0\", shape=(), dtype=float32)\n",
      "Tensor(\"Sum:0\", shape=(), dtype=float32)\n",
      "Tensor(\"Sum:0\", shape=(), dtype=float32)\n",
      "Tensor(\"Sum:0\", shape=(), dtype=float32)\n",
      "Tensor(\"Sum:0\", shape=(), dtype=float32)\n",
      "Tensor(\"Sum:0\", shape=(), dtype=float32)\n",
      "Tensor(\"Sum:0\", shape=(), dtype=float32)\n",
      "Tensor(\"Sum:0\", shape=(), dtype=float32)\n",
      "Tensor(\"Sum:0\", shape=(), dtype=float32)\n",
      "Tensor(\"Sum:0\", shape=(), dtype=float32)\n",
      "Tensor(\"Sum:0\", shape=(), dtype=float32)\n",
      "Tensor(\"Sum:0\", shape=(), dtype=float32)\n",
      "Tensor(\"Sum:0\", shape=(), dtype=float32)\n",
      "Tensor(\"Sum:0\", shape=(), dtype=float32)\n",
      "Tensor(\"Sum:0\", shape=(), dtype=float32)\n",
      "Tensor(\"Sum:0\", shape=(), dtype=float32)\n",
      "Tensor(\"Sum:0\", shape=(), dtype=float32)\n",
      "Tensor(\"Sum:0\", shape=(), dtype=float32)\n",
      "Tensor(\"Sum:0\", shape=(), dtype=float32)\n",
      "Tensor(\"Sum:0\", shape=(), dtype=float32)\n",
      "Tensor(\"Sum:0\", shape=(), dtype=float32)\n",
      "Tensor(\"Sum:0\", shape=(), dtype=float32)\n",
      "Tensor(\"Sum:0\", shape=(), dtype=float32)\n",
      "Tensor(\"Sum:0\", shape=(), dtype=float32)\n",
      "Tensor(\"Sum:0\", shape=(), dtype=float32)\n",
      "Tensor(\"Sum:0\", shape=(), dtype=float32)\n",
      "Tensor(\"Sum:0\", shape=(), dtype=float32)\n",
      "Tensor(\"Sum:0\", shape=(), dtype=float32)\n",
      "Tensor(\"Sum:0\", shape=(), dtype=float32)\n",
      "Tensor(\"Sum:0\", shape=(), dtype=float32)\n",
      "Tensor(\"Sum:0\", shape=(), dtype=float32)\n",
      "Tensor(\"Sum:0\", shape=(), dtype=float32)\n",
      "Tensor(\"Sum:0\", shape=(), dtype=float32)\n",
      "Tensor(\"Sum:0\", shape=(), dtype=float32)\n",
      "Tensor(\"Sum:0\", shape=(), dtype=float32)\n",
      "Tensor(\"Sum:0\", shape=(), dtype=float32)\n",
      "Tensor(\"Sum:0\", shape=(), dtype=float32)\n",
      "Tensor(\"Sum:0\", shape=(), dtype=float32)\n",
      "Tensor(\"Sum:0\", shape=(), dtype=float32)\n",
      "Tensor(\"Sum:0\", shape=(), dtype=float32)\n",
      "Tensor(\"Sum:0\", shape=(), dtype=float32)\n",
      "Tensor(\"Sum:0\", shape=(), dtype=float32)\n",
      "Tensor(\"Sum:0\", shape=(), dtype=float32)\n",
      "Tensor(\"Sum:0\", shape=(), dtype=float32)\n",
      "Tensor(\"Sum:0\", shape=(), dtype=float32)\n",
      "Tensor(\"Sum:0\", shape=(), dtype=float32)\n",
      "Tensor(\"Sum:0\", shape=(), dtype=float32)\n",
      "Tensor(\"Sum:0\", shape=(), dtype=float32)\n",
      "Tensor(\"Sum:0\", shape=(), dtype=float32)\n",
      "Tensor(\"Sum:0\", shape=(), dtype=float32)\n",
      "Tensor(\"Sum:0\", shape=(), dtype=float32)\n",
      "Tensor(\"Sum:0\", shape=(), dtype=float32)\n",
      "Tensor(\"Sum:0\", shape=(), dtype=float32)\n",
      "Tensor(\"Sum:0\", shape=(), dtype=float32)\n",
      "Tensor(\"Sum:0\", shape=(), dtype=float32)\n",
      "Tensor(\"Sum:0\", shape=(), dtype=float32)\n",
      "Tensor(\"Sum:0\", shape=(), dtype=float32)\n",
      "Tensor(\"Sum:0\", shape=(), dtype=float32)\n",
      "Tensor(\"Sum:0\", shape=(), dtype=float32)\n",
      "Tensor(\"Sum:0\", shape=(), dtype=float32)\n",
      "Tensor(\"Sum:0\", shape=(), dtype=float32)\n",
      "Tensor(\"Sum:0\", shape=(), dtype=float32)\n",
      "Tensor(\"Sum:0\", shape=(), dtype=float32)\n",
      "Tensor(\"Sum:0\", shape=(), dtype=float32)\n",
      "Tensor(\"Sum:0\", shape=(), dtype=float32)\n",
      "Tensor(\"Sum:0\", shape=(), dtype=float32)\n",
      "Tensor(\"Sum:0\", shape=(), dtype=float32)\n",
      "Tensor(\"Sum:0\", shape=(), dtype=float32)\n",
      "Tensor(\"Sum:0\", shape=(), dtype=float32)\n",
      "Tensor(\"Sum:0\", shape=(), dtype=float32)\n",
      "Tensor(\"Sum:0\", shape=(), dtype=float32)\n",
      "Tensor(\"Sum:0\", shape=(), dtype=float32)\n",
      "Tensor(\"Sum:0\", shape=(), dtype=float32)\n",
      "Tensor(\"Sum:0\", shape=(), dtype=float32)\n",
      "Tensor(\"Sum:0\", shape=(), dtype=float32)\n",
      "Tensor(\"Sum:0\", shape=(), dtype=float32)\n",
      "Tensor(\"Sum:0\", shape=(), dtype=float32)\n",
      "Tensor(\"Sum:0\", shape=(), dtype=float32)\n",
      "Tensor(\"Sum:0\", shape=(), dtype=float32)\n",
      "Tensor(\"Sum:0\", shape=(), dtype=float32)\n",
      "Tensor(\"Sum:0\", shape=(), dtype=float32)\n",
      "Tensor(\"Sum:0\", shape=(), dtype=float32)\n",
      "Tensor(\"Sum:0\", shape=(), dtype=float32)\n",
      "Tensor(\"Sum:0\", shape=(), dtype=float32)\n",
      "Tensor(\"Sum:0\", shape=(), dtype=float32)\n",
      "Tensor(\"Sum:0\", shape=(), dtype=float32)\n",
      "Tensor(\"Sum:0\", shape=(), dtype=float32)\n",
      "Tensor(\"Sum:0\", shape=(), dtype=float32)\n",
      "Tensor(\"Sum:0\", shape=(), dtype=float32)\n",
      "Tensor(\"Sum:0\", shape=(), dtype=float32)\n",
      "Tensor(\"Sum:0\", shape=(), dtype=float32)\n",
      "Tensor(\"Sum:0\", shape=(), dtype=float32)\n",
      "Tensor(\"Sum:0\", shape=(), dtype=float32)\n",
      "Tensor(\"Sum:0\", shape=(), dtype=float32)\n",
      "Tensor(\"Sum:0\", shape=(), dtype=float32)\n",
      "Tensor(\"Sum:0\", shape=(), dtype=float32)\n",
      "Tensor(\"Sum:0\", shape=(), dtype=float32)\n",
      "Tensor(\"Sum:0\", shape=(), dtype=float32)\n",
      "Tensor(\"Sum:0\", shape=(), dtype=float32)\n",
      "Tensor(\"Sum:0\", shape=(), dtype=float32)\n",
      "Tensor(\"Sum:0\", shape=(), dtype=float32)\n",
      "Tensor(\"Sum:0\", shape=(), dtype=float32)\n",
      "Tensor(\"Sum:0\", shape=(), dtype=float32)\n",
      "Tensor(\"Sum:0\", shape=(), dtype=float32)\n",
      "Tensor(\"Sum:0\", shape=(), dtype=float32)\n",
      "Tensor(\"Sum:0\", shape=(), dtype=float32)\n",
      "Tensor(\"Sum:0\", shape=(), dtype=float32)\n",
      "Tensor(\"Sum:0\", shape=(), dtype=float32)\n",
      "Tensor(\"Sum:0\", shape=(), dtype=float32)\n",
      "Tensor(\"Sum:0\", shape=(), dtype=float32)\n",
      "Tensor(\"Sum:0\", shape=(), dtype=float32)\n",
      "Tensor(\"Sum:0\", shape=(), dtype=float32)\n",
      "Tensor(\"Sum:0\", shape=(), dtype=float32)\n",
      "Tensor(\"Sum:0\", shape=(), dtype=float32)\n",
      "Tensor(\"Sum:0\", shape=(), dtype=float32)\n",
      "Tensor(\"Sum:0\", shape=(), dtype=float32)\n",
      "Tensor(\"Sum:0\", shape=(), dtype=float32)\n",
      "Tensor(\"Sum:0\", shape=(), dtype=float32)\n",
      "Tensor(\"Sum:0\", shape=(), dtype=float32)\n",
      "Tensor(\"Sum:0\", shape=(), dtype=float32)\n",
      "Tensor(\"Sum:0\", shape=(), dtype=float32)\n",
      "Tensor(\"Sum:0\", shape=(), dtype=float32)\n",
      "Tensor(\"Sum:0\", shape=(), dtype=float32)\n",
      "Tensor(\"Sum:0\", shape=(), dtype=float32)\n",
      "Tensor(\"Sum:0\", shape=(), dtype=float32)\n",
      "Tensor(\"Sum:0\", shape=(), dtype=float32)\n",
      "Tensor(\"Sum:0\", shape=(), dtype=float32)\n",
      "Tensor(\"Sum:0\", shape=(), dtype=float32)\n",
      "Tensor(\"Sum:0\", shape=(), dtype=float32)\n",
      "Tensor(\"Sum:0\", shape=(), dtype=float32)\n",
      "Tensor(\"Sum:0\", shape=(), dtype=float32)\n",
      "Tensor(\"Sum:0\", shape=(), dtype=float32)\n",
      "Tensor(\"Sum:0\", shape=(), dtype=float32)\n",
      "Tensor(\"Sum:0\", shape=(), dtype=float32)\n",
      "Tensor(\"Sum:0\", shape=(), dtype=float32)\n",
      "Tensor(\"Sum:0\", shape=(), dtype=float32)\n",
      "Tensor(\"Sum:0\", shape=(), dtype=float32)\n",
      "Tensor(\"Sum:0\", shape=(), dtype=float32)\n",
      "Tensor(\"Sum:0\", shape=(), dtype=float32)\n",
      "Tensor(\"Sum:0\", shape=(), dtype=float32)\n",
      "Tensor(\"Sum:0\", shape=(), dtype=float32)\n",
      "Tensor(\"Sum:0\", shape=(), dtype=float32)\n",
      "Tensor(\"Sum:0\", shape=(), dtype=float32)\n",
      "Tensor(\"Sum:0\", shape=(), dtype=float32)\n",
      "Tensor(\"Sum:0\", shape=(), dtype=float32)\n",
      "Tensor(\"Sum:0\", shape=(), dtype=float32)\n",
      "Tensor(\"Sum:0\", shape=(), dtype=float32)\n",
      "Tensor(\"Sum:0\", shape=(), dtype=float32)\n",
      "Tensor(\"Sum:0\", shape=(), dtype=float32)\n",
      "Tensor(\"Sum:0\", shape=(), dtype=float32)\n",
      "Tensor(\"Sum:0\", shape=(), dtype=float32)\n",
      "Tensor(\"Sum:0\", shape=(), dtype=float32)\n",
      "Tensor(\"Sum:0\", shape=(), dtype=float32)\n",
      "Tensor(\"Sum:0\", shape=(), dtype=float32)\n",
      "Tensor(\"Sum:0\", shape=(), dtype=float32)\n",
      "Tensor(\"Sum:0\", shape=(), dtype=float32)\n",
      "Tensor(\"Sum:0\", shape=(), dtype=float32)\n",
      "Tensor(\"Sum:0\", shape=(), dtype=float32)\n",
      "Tensor(\"Sum:0\", shape=(), dtype=float32)\n",
      "Tensor(\"Sum:0\", shape=(), dtype=float32)\n",
      "Tensor(\"Sum:0\", shape=(), dtype=float32)\n",
      "Tensor(\"Sum:0\", shape=(), dtype=float32)\n",
      "Tensor(\"Sum:0\", shape=(), dtype=float32)\n",
      "Tensor(\"Sum:0\", shape=(), dtype=float32)\n",
      "Tensor(\"Sum:0\", shape=(), dtype=float32)\n",
      "Tensor(\"Sum:0\", shape=(), dtype=float32)\n",
      "Tensor(\"Sum:0\", shape=(), dtype=float32)\n",
      "Tensor(\"Sum:0\", shape=(), dtype=float32)\n",
      "Tensor(\"Sum:0\", shape=(), dtype=float32)\n",
      "Tensor(\"Sum:0\", shape=(), dtype=float32)\n",
      "Tensor(\"Sum:0\", shape=(), dtype=float32)\n",
      "Tensor(\"Sum:0\", shape=(), dtype=float32)\n",
      "Tensor(\"Sum:0\", shape=(), dtype=float32)\n",
      "Tensor(\"Sum:0\", shape=(), dtype=float32)\n",
      "Tensor(\"Sum:0\", shape=(), dtype=float32)\n",
      "Tensor(\"Sum:0\", shape=(), dtype=float32)\n",
      "Tensor(\"Sum:0\", shape=(), dtype=float32)\n",
      "Tensor(\"Sum:0\", shape=(), dtype=float32)\n",
      "Tensor(\"Sum:0\", shape=(), dtype=float32)\n",
      "Tensor(\"Sum:0\", shape=(), dtype=float32)\n",
      "Tensor(\"Sum:0\", shape=(), dtype=float32)\n",
      "Tensor(\"Sum:0\", shape=(), dtype=float32)\n",
      "Tensor(\"Sum:0\", shape=(), dtype=float32)\n",
      "Tensor(\"Sum:0\", shape=(), dtype=float32)\n",
      "Tensor(\"Sum:0\", shape=(), dtype=float32)\n",
      "Tensor(\"Sum:0\", shape=(), dtype=float32)\n",
      "Tensor(\"Sum:0\", shape=(), dtype=float32)\n",
      "Tensor(\"Sum:0\", shape=(), dtype=float32)\n",
      "Tensor(\"Sum:0\", shape=(), dtype=float32)\n",
      "Tensor(\"Sum:0\", shape=(), dtype=float32)\n",
      "Tensor(\"Sum:0\", shape=(), dtype=float32)\n",
      "Tensor(\"Sum:0\", shape=(), dtype=float32)\n",
      "Tensor(\"Sum:0\", shape=(), dtype=float32)\n",
      "Tensor(\"Sum:0\", shape=(), dtype=float32)\n",
      "Tensor(\"Sum:0\", shape=(), dtype=float32)\n",
      "Tensor(\"Sum:0\", shape=(), dtype=float32)\n",
      "Tensor(\"Sum:0\", shape=(), dtype=float32)\n",
      "Tensor(\"Sum:0\", shape=(), dtype=float32)\n",
      "Tensor(\"Sum:0\", shape=(), dtype=float32)\n",
      "Tensor(\"Sum:0\", shape=(), dtype=float32)\n",
      "Tensor(\"Sum:0\", shape=(), dtype=float32)\n",
      "Tensor(\"Sum:0\", shape=(), dtype=float32)\n",
      "Tensor(\"Sum:0\", shape=(), dtype=float32)\n",
      "Tensor(\"Sum:0\", shape=(), dtype=float32)\n",
      "Tensor(\"Sum:0\", shape=(), dtype=float32)\n",
      "Tensor(\"Sum:0\", shape=(), dtype=float32)\n",
      "Tensor(\"Sum:0\", shape=(), dtype=float32)\n",
      "Tensor(\"Sum:0\", shape=(), dtype=float32)\n",
      "Tensor(\"Sum:0\", shape=(), dtype=float32)\n",
      "Tensor(\"Sum:0\", shape=(), dtype=float32)\n",
      "Tensor(\"Sum:0\", shape=(), dtype=float32)\n",
      "Tensor(\"Sum:0\", shape=(), dtype=float32)\n",
      "Tensor(\"Sum:0\", shape=(), dtype=float32)\n",
      "Tensor(\"Sum:0\", shape=(), dtype=float32)\n",
      "Tensor(\"Sum:0\", shape=(), dtype=float32)\n",
      "Tensor(\"Sum:0\", shape=(), dtype=float32)\n",
      "Tensor(\"Sum:0\", shape=(), dtype=float32)\n",
      "Tensor(\"Sum:0\", shape=(), dtype=float32)\n",
      "Tensor(\"Sum:0\", shape=(), dtype=float32)\n",
      "Tensor(\"Sum:0\", shape=(), dtype=float32)\n",
      "Tensor(\"Sum:0\", shape=(), dtype=float32)\n",
      "Tensor(\"Sum:0\", shape=(), dtype=float32)\n",
      "Tensor(\"Sum:0\", shape=(), dtype=float32)\n",
      "Tensor(\"Sum:0\", shape=(), dtype=float32)\n",
      "Tensor(\"Sum:0\", shape=(), dtype=float32)\n",
      "Tensor(\"Sum:0\", shape=(), dtype=float32)\n",
      "Tensor(\"Sum:0\", shape=(), dtype=float32)\n",
      "Tensor(\"Sum:0\", shape=(), dtype=float32)\n",
      "Tensor(\"Sum:0\", shape=(), dtype=float32)\n",
      "Tensor(\"Sum:0\", shape=(), dtype=float32)\n",
      "Tensor(\"Sum:0\", shape=(), dtype=float32)\n",
      "Tensor(\"Sum:0\", shape=(), dtype=float32)\n",
      "Tensor(\"Sum:0\", shape=(), dtype=float32)\n",
      "Tensor(\"Sum:0\", shape=(), dtype=float32)\n",
      "Tensor(\"Sum:0\", shape=(), dtype=float32)\n",
      "Tensor(\"Sum:0\", shape=(), dtype=float32)\n",
      "Tensor(\"Sum:0\", shape=(), dtype=float32)\n",
      "Tensor(\"Sum:0\", shape=(), dtype=float32)\n",
      "Tensor(\"Sum:0\", shape=(), dtype=float32)\n",
      "Tensor(\"Sum:0\", shape=(), dtype=float32)\n",
      "Tensor(\"Sum:0\", shape=(), dtype=float32)\n",
      "Tensor(\"Sum:0\", shape=(), dtype=float32)\n",
      "Tensor(\"Sum:0\", shape=(), dtype=float32)\n",
      "Tensor(\"Sum:0\", shape=(), dtype=float32)\n",
      "Tensor(\"Sum:0\", shape=(), dtype=float32)\n",
      "Tensor(\"Sum:0\", shape=(), dtype=float32)\n",
      "Tensor(\"Sum:0\", shape=(), dtype=float32)\n",
      "Tensor(\"Sum:0\", shape=(), dtype=float32)\n",
      "Tensor(\"Sum:0\", shape=(), dtype=float32)\n",
      "Tensor(\"Sum:0\", shape=(), dtype=float32)\n",
      "Tensor(\"Sum:0\", shape=(), dtype=float32)\n",
      "Tensor(\"Sum:0\", shape=(), dtype=float32)\n",
      "Tensor(\"Sum:0\", shape=(), dtype=float32)\n",
      "Tensor(\"Sum:0\", shape=(), dtype=float32)\n",
      "Tensor(\"Sum:0\", shape=(), dtype=float32)\n",
      "Tensor(\"Sum:0\", shape=(), dtype=float32)\n",
      "Tensor(\"Sum:0\", shape=(), dtype=float32)\n",
      "Tensor(\"Sum:0\", shape=(), dtype=float32)\n",
      "Tensor(\"Sum:0\", shape=(), dtype=float32)\n",
      "Tensor(\"Sum:0\", shape=(), dtype=float32)\n",
      "Tensor(\"Sum:0\", shape=(), dtype=float32)\n",
      "Tensor(\"Sum:0\", shape=(), dtype=float32)\n",
      "Tensor(\"Sum:0\", shape=(), dtype=float32)\n",
      "Tensor(\"Sum:0\", shape=(), dtype=float32)\n",
      "Tensor(\"Sum:0\", shape=(), dtype=float32)\n",
      "Tensor(\"Sum:0\", shape=(), dtype=float32)\n",
      "Tensor(\"Sum:0\", shape=(), dtype=float32)\n",
      "Tensor(\"Sum:0\", shape=(), dtype=float32)\n",
      "Tensor(\"Sum:0\", shape=(), dtype=float32)\n",
      "Tensor(\"Sum:0\", shape=(), dtype=float32)\n",
      "Tensor(\"Sum:0\", shape=(), dtype=float32)\n",
      "Tensor(\"Sum:0\", shape=(), dtype=float32)\n",
      "Tensor(\"Sum:0\", shape=(), dtype=float32)\n",
      "Tensor(\"Sum:0\", shape=(), dtype=float32)\n",
      "Tensor(\"Sum:0\", shape=(), dtype=float32)\n",
      "Tensor(\"Sum:0\", shape=(), dtype=float32)\n",
      "Tensor(\"Sum:0\", shape=(), dtype=float32)\n",
      "Tensor(\"Sum:0\", shape=(), dtype=float32)\n",
      "Tensor(\"Sum:0\", shape=(), dtype=float32)\n",
      "Tensor(\"Sum:0\", shape=(), dtype=float32)\n",
      "Tensor(\"Sum:0\", shape=(), dtype=float32)\n",
      "Tensor(\"Sum:0\", shape=(), dtype=float32)\n",
      "Tensor(\"Sum:0\", shape=(), dtype=float32)\n",
      "Tensor(\"Sum:0\", shape=(), dtype=float32)\n",
      "Tensor(\"Sum:0\", shape=(), dtype=float32)\n",
      "Tensor(\"Sum:0\", shape=(), dtype=float32)\n",
      "Tensor(\"Sum:0\", shape=(), dtype=float32)\n",
      "Tensor(\"Sum:0\", shape=(), dtype=float32)\n",
      "Tensor(\"Sum:0\", shape=(), dtype=float32)\n",
      "Tensor(\"Sum:0\", shape=(), dtype=float32)\n",
      "Tensor(\"Sum:0\", shape=(), dtype=float32)\n",
      "Tensor(\"Sum:0\", shape=(), dtype=float32)\n",
      "Tensor(\"Sum:0\", shape=(), dtype=float32)\n",
      "Tensor(\"Sum:0\", shape=(), dtype=float32)\n",
      "Tensor(\"Sum:0\", shape=(), dtype=float32)\n",
      "Tensor(\"Sum:0\", shape=(), dtype=float32)\n",
      "Tensor(\"Sum:0\", shape=(), dtype=float32)\n",
      "Tensor(\"Sum:0\", shape=(), dtype=float32)\n",
      "Tensor(\"Sum:0\", shape=(), dtype=float32)\n",
      "Tensor(\"Sum:0\", shape=(), dtype=float32)\n",
      "Tensor(\"Sum:0\", shape=(), dtype=float32)\n",
      "Tensor(\"Sum:0\", shape=(), dtype=float32)\n",
      "Tensor(\"Sum:0\", shape=(), dtype=float32)\n",
      "Tensor(\"Sum:0\", shape=(), dtype=float32)\n",
      "Tensor(\"Sum:0\", shape=(), dtype=float32)\n",
      "Tensor(\"Sum:0\", shape=(), dtype=float32)\n",
      "Tensor(\"Sum:0\", shape=(), dtype=float32)\n",
      "Tensor(\"Sum:0\", shape=(), dtype=float32)\n",
      "Tensor(\"Sum:0\", shape=(), dtype=float32)\n",
      "Tensor(\"Sum:0\", shape=(), dtype=float32)\n",
      "Tensor(\"Sum:0\", shape=(), dtype=float32)\n",
      "Tensor(\"Sum:0\", shape=(), dtype=float32)\n",
      "Tensor(\"Sum:0\", shape=(), dtype=float32)\n",
      "Tensor(\"Sum:0\", shape=(), dtype=float32)\n",
      "Tensor(\"Sum:0\", shape=(), dtype=float32)\n",
      "Tensor(\"Sum:0\", shape=(), dtype=float32)\n",
      "Tensor(\"Sum:0\", shape=(), dtype=float32)\n",
      "Tensor(\"Sum:0\", shape=(), dtype=float32)\n",
      "Tensor(\"Sum:0\", shape=(), dtype=float32)\n",
      "Tensor(\"Sum:0\", shape=(), dtype=float32)\n",
      "Tensor(\"Sum:0\", shape=(), dtype=float32)\n",
      "Tensor(\"Sum:0\", shape=(), dtype=float32)\n",
      "Tensor(\"Sum:0\", shape=(), dtype=float32)\n",
      "Tensor(\"Sum:0\", shape=(), dtype=float32)\n",
      "Tensor(\"Sum:0\", shape=(), dtype=float32)\n",
      "Tensor(\"Sum:0\", shape=(), dtype=float32)\n",
      "Tensor(\"Sum:0\", shape=(), dtype=float32)\n",
      "Tensor(\"Sum:0\", shape=(), dtype=float32)\n",
      "Tensor(\"Sum:0\", shape=(), dtype=float32)\n",
      "Tensor(\"Sum:0\", shape=(), dtype=float32)\n",
      "Tensor(\"Sum:0\", shape=(), dtype=float32)\n",
      "Tensor(\"Sum:0\", shape=(), dtype=float32)\n",
      "Tensor(\"Sum:0\", shape=(), dtype=float32)\n",
      "Tensor(\"Sum:0\", shape=(), dtype=float32)\n",
      "Tensor(\"Sum:0\", shape=(), dtype=float32)\n",
      "Tensor(\"Sum:0\", shape=(), dtype=float32)\n",
      "Tensor(\"Sum:0\", shape=(), dtype=float32)\n",
      "Tensor(\"Sum:0\", shape=(), dtype=float32)\n",
      "Tensor(\"Sum:0\", shape=(), dtype=float32)\n",
      "Tensor(\"Sum:0\", shape=(), dtype=float32)\n",
      "Tensor(\"Sum:0\", shape=(), dtype=float32)\n",
      "Tensor(\"Sum:0\", shape=(), dtype=float32)\n",
      "Tensor(\"Sum:0\", shape=(), dtype=float32)\n",
      "Tensor(\"Sum:0\", shape=(), dtype=float32)\n",
      "Tensor(\"Sum:0\", shape=(), dtype=float32)\n",
      "Tensor(\"Sum:0\", shape=(), dtype=float32)\n",
      "Tensor(\"Sum:0\", shape=(), dtype=float32)\n",
      "Tensor(\"Sum:0\", shape=(), dtype=float32)\n",
      "Tensor(\"Sum:0\", shape=(), dtype=float32)\n",
      "Tensor(\"Sum:0\", shape=(), dtype=float32)\n",
      "Tensor(\"Sum:0\", shape=(), dtype=float32)\n",
      "Tensor(\"Sum:0\", shape=(), dtype=float32)\n",
      "Tensor(\"Sum:0\", shape=(), dtype=float32)\n",
      "Tensor(\"Sum:0\", shape=(), dtype=float32)\n",
      "Tensor(\"Sum:0\", shape=(), dtype=float32)\n",
      "Tensor(\"Sum:0\", shape=(), dtype=float32)\n",
      "Tensor(\"Sum:0\", shape=(), dtype=float32)\n",
      "Tensor(\"Sum:0\", shape=(), dtype=float32)\n",
      "Tensor(\"Sum:0\", shape=(), dtype=float32)\n",
      "Tensor(\"Sum:0\", shape=(), dtype=float32)\n",
      "Tensor(\"Sum:0\", shape=(), dtype=float32)\n",
      "Tensor(\"Sum:0\", shape=(), dtype=float32)\n",
      "Tensor(\"Sum:0\", shape=(), dtype=float32)\n",
      "Tensor(\"Sum:0\", shape=(), dtype=float32)\n",
      "Tensor(\"Sum:0\", shape=(), dtype=float32)\n",
      "Tensor(\"Sum:0\", shape=(), dtype=float32)\n",
      "Tensor(\"Sum:0\", shape=(), dtype=float32)\n",
      "Tensor(\"Sum:0\", shape=(), dtype=float32)\n",
      "Tensor(\"Sum:0\", shape=(), dtype=float32)\n",
      "Tensor(\"Sum:0\", shape=(), dtype=float32)\n",
      "Tensor(\"Sum:0\", shape=(), dtype=float32)\n",
      "Tensor(\"Sum:0\", shape=(), dtype=float32)\n",
      "Tensor(\"Sum:0\", shape=(), dtype=float32)\n",
      "Tensor(\"Sum:0\", shape=(), dtype=float32)\n",
      "Tensor(\"Sum:0\", shape=(), dtype=float32)\n",
      "Tensor(\"Sum:0\", shape=(), dtype=float32)\n",
      "Tensor(\"Sum:0\", shape=(), dtype=float32)\n",
      "Tensor(\"Sum:0\", shape=(), dtype=float32)\n",
      "Tensor(\"Sum:0\", shape=(), dtype=float32)\n",
      "Tensor(\"Sum:0\", shape=(), dtype=float32)\n",
      "Tensor(\"Sum:0\", shape=(), dtype=float32)\n",
      "Tensor(\"Sum:0\", shape=(), dtype=float32)\n",
      "Tensor(\"Sum:0\", shape=(), dtype=float32)\n",
      "Tensor(\"Sum:0\", shape=(), dtype=float32)\n",
      "Tensor(\"Sum:0\", shape=(), dtype=float32)\n",
      "Tensor(\"Sum:0\", shape=(), dtype=float32)\n",
      "Tensor(\"Sum:0\", shape=(), dtype=float32)\n"
     ]
    },
    {
     "name": "stdout",
     "output_type": "stream",
     "text": [
      "Tensor(\"Sum:0\", shape=(), dtype=float32)\n",
      "Tensor(\"Sum:0\", shape=(), dtype=float32)\n",
      "Tensor(\"Sum:0\", shape=(), dtype=float32)\n",
      "Tensor(\"Sum:0\", shape=(), dtype=float32)\n",
      "Tensor(\"Sum:0\", shape=(), dtype=float32)\n",
      "Tensor(\"Sum:0\", shape=(), dtype=float32)\n",
      "Tensor(\"Sum:0\", shape=(), dtype=float32)\n",
      "Tensor(\"Sum:0\", shape=(), dtype=float32)\n",
      "Tensor(\"Sum:0\", shape=(), dtype=float32)\n",
      "Tensor(\"Sum:0\", shape=(), dtype=float32)\n",
      "Tensor(\"Sum:0\", shape=(), dtype=float32)\n",
      "Tensor(\"Sum:0\", shape=(), dtype=float32)\n",
      "Tensor(\"Sum:0\", shape=(), dtype=float32)\n",
      "Tensor(\"Sum:0\", shape=(), dtype=float32)\n",
      "Tensor(\"Sum:0\", shape=(), dtype=float32)\n",
      "Tensor(\"Sum:0\", shape=(), dtype=float32)\n",
      "Tensor(\"Sum:0\", shape=(), dtype=float32)\n",
      "Tensor(\"Sum:0\", shape=(), dtype=float32)\n",
      "Tensor(\"Sum:0\", shape=(), dtype=float32)\n",
      "Tensor(\"Sum:0\", shape=(), dtype=float32)\n",
      "Tensor(\"Sum:0\", shape=(), dtype=float32)\n",
      "Tensor(\"Sum:0\", shape=(), dtype=float32)\n",
      "Tensor(\"Sum:0\", shape=(), dtype=float32)\n",
      "Tensor(\"Sum:0\", shape=(), dtype=float32)\n",
      "Tensor(\"Sum:0\", shape=(), dtype=float32)\n",
      "Tensor(\"Sum:0\", shape=(), dtype=float32)\n",
      "Tensor(\"Sum:0\", shape=(), dtype=float32)\n",
      "Tensor(\"Sum:0\", shape=(), dtype=float32)\n",
      "Tensor(\"Sum:0\", shape=(), dtype=float32)\n",
      "Tensor(\"Sum:0\", shape=(), dtype=float32)\n",
      "Tensor(\"Sum:0\", shape=(), dtype=float32)\n",
      "Tensor(\"Sum:0\", shape=(), dtype=float32)\n",
      "Tensor(\"Sum:0\", shape=(), dtype=float32)\n",
      "Tensor(\"Sum:0\", shape=(), dtype=float32)\n",
      "Tensor(\"Sum:0\", shape=(), dtype=float32)\n",
      "Tensor(\"Sum:0\", shape=(), dtype=float32)\n",
      "Tensor(\"Sum:0\", shape=(), dtype=float32)\n",
      "Tensor(\"Sum:0\", shape=(), dtype=float32)\n",
      "Tensor(\"Sum:0\", shape=(), dtype=float32)\n",
      "Tensor(\"Sum:0\", shape=(), dtype=float32)\n",
      "Tensor(\"Sum:0\", shape=(), dtype=float32)\n",
      "Tensor(\"Sum:0\", shape=(), dtype=float32)\n",
      "Tensor(\"Sum:0\", shape=(), dtype=float32)\n",
      "Tensor(\"Sum:0\", shape=(), dtype=float32)\n",
      "Tensor(\"Sum:0\", shape=(), dtype=float32)\n",
      "Tensor(\"Sum:0\", shape=(), dtype=float32)\n",
      "Tensor(\"Sum:0\", shape=(), dtype=float32)\n",
      "Tensor(\"Sum:0\", shape=(), dtype=float32)\n",
      "Tensor(\"Sum:0\", shape=(), dtype=float32)\n",
      "Tensor(\"Sum:0\", shape=(), dtype=float32)\n",
      "Tensor(\"Sum:0\", shape=(), dtype=float32)\n",
      "Tensor(\"Sum:0\", shape=(), dtype=float32)\n",
      "Tensor(\"Sum:0\", shape=(), dtype=float32)\n",
      "Tensor(\"Sum:0\", shape=(), dtype=float32)\n",
      "Tensor(\"Sum:0\", shape=(), dtype=float32)\n",
      "Tensor(\"Sum:0\", shape=(), dtype=float32)\n",
      "Tensor(\"Sum:0\", shape=(), dtype=float32)\n",
      "Tensor(\"Sum:0\", shape=(), dtype=float32)\n",
      "Tensor(\"Sum:0\", shape=(), dtype=float32)\n",
      "Tensor(\"Sum:0\", shape=(), dtype=float32)\n",
      "Tensor(\"Sum:0\", shape=(), dtype=float32)\n",
      "Tensor(\"Sum:0\", shape=(), dtype=float32)\n",
      "Tensor(\"Sum:0\", shape=(), dtype=float32)\n",
      "Tensor(\"Sum:0\", shape=(), dtype=float32)\n",
      "Tensor(\"Sum:0\", shape=(), dtype=float32)\n",
      "Tensor(\"Sum:0\", shape=(), dtype=float32)\n",
      "Tensor(\"Sum:0\", shape=(), dtype=float32)\n",
      "Tensor(\"Sum:0\", shape=(), dtype=float32)\n",
      "Tensor(\"Sum:0\", shape=(), dtype=float32)\n",
      "Tensor(\"Sum:0\", shape=(), dtype=float32)\n",
      "Tensor(\"Sum:0\", shape=(), dtype=float32)\n",
      "Tensor(\"Sum:0\", shape=(), dtype=float32)\n",
      "Tensor(\"Sum:0\", shape=(), dtype=float32)\n",
      "Tensor(\"Sum:0\", shape=(), dtype=float32)\n",
      "Tensor(\"Sum:0\", shape=(), dtype=float32)\n",
      "Tensor(\"Sum:0\", shape=(), dtype=float32)\n",
      "Tensor(\"Sum:0\", shape=(), dtype=float32)\n",
      "Tensor(\"Sum:0\", shape=(), dtype=float32)\n",
      "Tensor(\"Sum:0\", shape=(), dtype=float32)\n",
      "Tensor(\"Sum:0\", shape=(), dtype=float32)\n",
      "Tensor(\"Sum:0\", shape=(), dtype=float32)\n",
      "Tensor(\"Sum:0\", shape=(), dtype=float32)\n",
      "Tensor(\"Sum:0\", shape=(), dtype=float32)\n",
      "Tensor(\"Sum:0\", shape=(), dtype=float32)\n",
      "Tensor(\"Sum:0\", shape=(), dtype=float32)\n",
      "Tensor(\"Sum:0\", shape=(), dtype=float32)\n",
      "Tensor(\"Sum:0\", shape=(), dtype=float32)\n",
      "Tensor(\"Sum:0\", shape=(), dtype=float32)\n",
      "Tensor(\"Sum:0\", shape=(), dtype=float32)\n",
      "Tensor(\"Sum:0\", shape=(), dtype=float32)\n",
      "Tensor(\"Sum:0\", shape=(), dtype=float32)\n",
      "Tensor(\"Sum:0\", shape=(), dtype=float32)\n",
      "Tensor(\"Sum:0\", shape=(), dtype=float32)\n",
      "Tensor(\"Sum:0\", shape=(), dtype=float32)\n",
      "Tensor(\"Sum:0\", shape=(), dtype=float32)\n",
      "Tensor(\"Sum:0\", shape=(), dtype=float32)\n",
      "Tensor(\"Sum:0\", shape=(), dtype=float32)\n",
      "Tensor(\"Sum:0\", shape=(), dtype=float32)\n",
      "Tensor(\"Sum:0\", shape=(), dtype=float32)\n",
      "Tensor(\"Sum:0\", shape=(), dtype=float32)\n",
      "Tensor(\"Sum:0\", shape=(), dtype=float32)\n",
      "Tensor(\"Sum:0\", shape=(), dtype=float32)\n",
      "Tensor(\"Sum:0\", shape=(), dtype=float32)\n",
      "Tensor(\"Sum:0\", shape=(), dtype=float32)\n",
      "Tensor(\"Sum:0\", shape=(), dtype=float32)\n",
      "Tensor(\"Sum:0\", shape=(), dtype=float32)\n",
      "Tensor(\"Sum:0\", shape=(), dtype=float32)\n",
      "Tensor(\"Sum:0\", shape=(), dtype=float32)\n",
      "Tensor(\"Sum:0\", shape=(), dtype=float32)\n",
      "Tensor(\"Sum:0\", shape=(), dtype=float32)\n",
      "Tensor(\"Sum:0\", shape=(), dtype=float32)\n",
      "Tensor(\"Sum:0\", shape=(), dtype=float32)\n",
      "Tensor(\"Sum:0\", shape=(), dtype=float32)\n",
      "Tensor(\"Sum:0\", shape=(), dtype=float32)\n",
      "Tensor(\"Sum:0\", shape=(), dtype=float32)\n",
      "Tensor(\"Sum:0\", shape=(), dtype=float32)\n",
      "Tensor(\"Sum:0\", shape=(), dtype=float32)\n",
      "Tensor(\"Sum:0\", shape=(), dtype=float32)\n",
      "Tensor(\"Sum:0\", shape=(), dtype=float32)\n",
      "Tensor(\"Sum:0\", shape=(), dtype=float32)\n",
      "Tensor(\"Sum:0\", shape=(), dtype=float32)\n",
      "Tensor(\"Sum:0\", shape=(), dtype=float32)\n",
      "Tensor(\"Sum:0\", shape=(), dtype=float32)\n",
      "Tensor(\"Sum:0\", shape=(), dtype=float32)\n",
      "Tensor(\"Sum:0\", shape=(), dtype=float32)\n",
      "Tensor(\"Sum:0\", shape=(), dtype=float32)\n",
      "Tensor(\"Sum:0\", shape=(), dtype=float32)\n",
      "Tensor(\"Sum:0\", shape=(), dtype=float32)\n",
      "Tensor(\"Sum:0\", shape=(), dtype=float32)\n",
      "Tensor(\"Sum:0\", shape=(), dtype=float32)\n",
      "Tensor(\"Sum:0\", shape=(), dtype=float32)\n",
      "Tensor(\"Sum:0\", shape=(), dtype=float32)\n",
      "Tensor(\"Sum:0\", shape=(), dtype=float32)\n",
      "Tensor(\"Sum:0\", shape=(), dtype=float32)\n",
      "Tensor(\"Sum:0\", shape=(), dtype=float32)\n",
      "Tensor(\"Sum:0\", shape=(), dtype=float32)\n",
      "Tensor(\"Sum:0\", shape=(), dtype=float32)\n",
      "Tensor(\"Sum:0\", shape=(), dtype=float32)\n",
      "Tensor(\"Sum:0\", shape=(), dtype=float32)\n",
      "Tensor(\"Sum:0\", shape=(), dtype=float32)\n",
      "Tensor(\"Sum:0\", shape=(), dtype=float32)\n",
      "Tensor(\"Sum:0\", shape=(), dtype=float32)\n",
      "Tensor(\"Sum:0\", shape=(), dtype=float32)\n",
      "Tensor(\"Sum:0\", shape=(), dtype=float32)\n",
      "Tensor(\"Sum:0\", shape=(), dtype=float32)\n",
      "Tensor(\"Sum:0\", shape=(), dtype=float32)\n",
      "Tensor(\"Sum:0\", shape=(), dtype=float32)\n",
      "Tensor(\"Sum:0\", shape=(), dtype=float32)\n",
      "Tensor(\"Sum:0\", shape=(), dtype=float32)\n",
      "Tensor(\"Sum:0\", shape=(), dtype=float32)\n",
      "Tensor(\"Sum:0\", shape=(), dtype=float32)\n",
      "Tensor(\"Sum:0\", shape=(), dtype=float32)\n",
      "Tensor(\"Sum:0\", shape=(), dtype=float32)\n",
      "Tensor(\"Sum:0\", shape=(), dtype=float32)\n",
      "Tensor(\"Sum:0\", shape=(), dtype=float32)\n",
      "Tensor(\"Sum:0\", shape=(), dtype=float32)\n",
      "Tensor(\"Sum:0\", shape=(), dtype=float32)\n",
      "Tensor(\"Sum:0\", shape=(), dtype=float32)\n",
      "Tensor(\"Sum:0\", shape=(), dtype=float32)\n",
      "Tensor(\"Sum:0\", shape=(), dtype=float32)\n",
      "Tensor(\"Sum:0\", shape=(), dtype=float32)\n",
      "Tensor(\"Sum:0\", shape=(), dtype=float32)\n",
      "Tensor(\"Sum:0\", shape=(), dtype=float32)\n",
      "Tensor(\"Sum:0\", shape=(), dtype=float32)\n",
      "Tensor(\"Sum:0\", shape=(), dtype=float32)\n",
      "Tensor(\"Sum:0\", shape=(), dtype=float32)\n",
      "Tensor(\"Sum:0\", shape=(), dtype=float32)\n",
      "Tensor(\"Sum:0\", shape=(), dtype=float32)\n",
      "Tensor(\"Sum:0\", shape=(), dtype=float32)\n",
      "Tensor(\"Sum:0\", shape=(), dtype=float32)\n",
      "Tensor(\"Sum:0\", shape=(), dtype=float32)\n",
      "Tensor(\"Sum:0\", shape=(), dtype=float32)\n",
      "Tensor(\"Sum:0\", shape=(), dtype=float32)\n",
      "Tensor(\"Sum:0\", shape=(), dtype=float32)\n",
      "Tensor(\"Sum:0\", shape=(), dtype=float32)\n",
      "Tensor(\"Sum:0\", shape=(), dtype=float32)\n",
      "Tensor(\"Sum:0\", shape=(), dtype=float32)\n",
      "Tensor(\"Sum:0\", shape=(), dtype=float32)\n",
      "Tensor(\"Sum:0\", shape=(), dtype=float32)\n",
      "Tensor(\"Sum:0\", shape=(), dtype=float32)\n",
      "Tensor(\"Sum:0\", shape=(), dtype=float32)\n",
      "Tensor(\"Sum:0\", shape=(), dtype=float32)\n",
      "Tensor(\"Sum:0\", shape=(), dtype=float32)\n",
      "Tensor(\"Sum:0\", shape=(), dtype=float32)\n",
      "Tensor(\"Sum:0\", shape=(), dtype=float32)\n",
      "Tensor(\"Sum:0\", shape=(), dtype=float32)\n",
      "Tensor(\"Sum:0\", shape=(), dtype=float32)\n",
      "Tensor(\"Sum:0\", shape=(), dtype=float32)\n",
      "Tensor(\"Sum:0\", shape=(), dtype=float32)\n",
      "Tensor(\"Sum:0\", shape=(), dtype=float32)\n",
      "Tensor(\"Sum:0\", shape=(), dtype=float32)\n",
      "Tensor(\"Sum:0\", shape=(), dtype=float32)\n",
      "Tensor(\"Sum:0\", shape=(), dtype=float32)\n",
      "Tensor(\"Sum:0\", shape=(), dtype=float32)\n",
      "Tensor(\"Sum:0\", shape=(), dtype=float32)\n",
      "Tensor(\"Sum:0\", shape=(), dtype=float32)\n",
      "Tensor(\"Sum:0\", shape=(), dtype=float32)\n",
      "Tensor(\"Sum:0\", shape=(), dtype=float32)\n",
      "Tensor(\"Sum:0\", shape=(), dtype=float32)\n",
      "Tensor(\"Sum:0\", shape=(), dtype=float32)\n",
      "Tensor(\"Sum:0\", shape=(), dtype=float32)\n",
      "Tensor(\"Sum:0\", shape=(), dtype=float32)\n",
      "Tensor(\"Sum:0\", shape=(), dtype=float32)\n",
      "Tensor(\"Sum:0\", shape=(), dtype=float32)\n",
      "Tensor(\"Sum:0\", shape=(), dtype=float32)\n",
      "Tensor(\"Sum:0\", shape=(), dtype=float32)\n",
      "Tensor(\"Sum:0\", shape=(), dtype=float32)\n",
      "Tensor(\"Sum:0\", shape=(), dtype=float32)\n",
      "Tensor(\"Sum:0\", shape=(), dtype=float32)\n",
      "Tensor(\"Sum:0\", shape=(), dtype=float32)\n",
      "Tensor(\"Sum:0\", shape=(), dtype=float32)\n",
      "Tensor(\"Sum:0\", shape=(), dtype=float32)\n",
      "Tensor(\"Sum:0\", shape=(), dtype=float32)\n",
      "Tensor(\"Sum:0\", shape=(), dtype=float32)\n",
      "Tensor(\"Sum:0\", shape=(), dtype=float32)\n",
      "Tensor(\"Sum:0\", shape=(), dtype=float32)\n",
      "Tensor(\"Sum:0\", shape=(), dtype=float32)\n",
      "Tensor(\"Sum:0\", shape=(), dtype=float32)\n",
      "Tensor(\"Sum:0\", shape=(), dtype=float32)\n",
      "Tensor(\"Sum:0\", shape=(), dtype=float32)\n",
      "Tensor(\"Sum:0\", shape=(), dtype=float32)\n",
      "Tensor(\"Sum:0\", shape=(), dtype=float32)\n",
      "Tensor(\"Sum:0\", shape=(), dtype=float32)\n",
      "Tensor(\"Sum:0\", shape=(), dtype=float32)\n",
      "Tensor(\"Sum:0\", shape=(), dtype=float32)\n",
      "Tensor(\"Sum:0\", shape=(), dtype=float32)\n",
      "Tensor(\"Sum:0\", shape=(), dtype=float32)\n",
      "Tensor(\"Sum:0\", shape=(), dtype=float32)\n",
      "Tensor(\"Sum:0\", shape=(), dtype=float32)\n",
      "Tensor(\"Sum:0\", shape=(), dtype=float32)\n",
      "Tensor(\"Sum:0\", shape=(), dtype=float32)\n",
      "Tensor(\"Sum:0\", shape=(), dtype=float32)\n",
      "Tensor(\"Sum:0\", shape=(), dtype=float32)\n",
      "Tensor(\"Sum:0\", shape=(), dtype=float32)\n",
      "Tensor(\"Sum:0\", shape=(), dtype=float32)\n",
      "Tensor(\"Sum:0\", shape=(), dtype=float32)\n",
      "Tensor(\"Sum:0\", shape=(), dtype=float32)\n",
      "Tensor(\"Sum:0\", shape=(), dtype=float32)\n",
      "Tensor(\"Sum:0\", shape=(), dtype=float32)\n",
      "Tensor(\"Sum:0\", shape=(), dtype=float32)\n",
      "Tensor(\"Sum:0\", shape=(), dtype=float32)\n",
      "Tensor(\"Sum:0\", shape=(), dtype=float32)\n",
      "Tensor(\"Sum:0\", shape=(), dtype=float32)\n",
      "Tensor(\"Sum:0\", shape=(), dtype=float32)\n",
      "Tensor(\"Sum:0\", shape=(), dtype=float32)\n",
      "Tensor(\"Sum:0\", shape=(), dtype=float32)\n",
      "Tensor(\"Sum:0\", shape=(), dtype=float32)\n",
      "Tensor(\"Sum:0\", shape=(), dtype=float32)\n",
      "Tensor(\"Sum:0\", shape=(), dtype=float32)\n",
      "Tensor(\"Sum:0\", shape=(), dtype=float32)\n",
      "Tensor(\"Sum:0\", shape=(), dtype=float32)\n",
      "Tensor(\"Sum:0\", shape=(), dtype=float32)\n",
      "Tensor(\"Sum:0\", shape=(), dtype=float32)\n",
      "Tensor(\"Sum:0\", shape=(), dtype=float32)\n",
      "Tensor(\"Sum:0\", shape=(), dtype=float32)\n",
      "Tensor(\"Sum:0\", shape=(), dtype=float32)\n",
      "Tensor(\"Sum:0\", shape=(), dtype=float32)\n",
      "Tensor(\"Sum:0\", shape=(), dtype=float32)\n",
      "Tensor(\"Sum:0\", shape=(), dtype=float32)\n",
      "Tensor(\"Sum:0\", shape=(), dtype=float32)\n",
      "Tensor(\"Sum:0\", shape=(), dtype=float32)\n",
      "Tensor(\"Sum:0\", shape=(), dtype=float32)\n",
      "Tensor(\"Sum:0\", shape=(), dtype=float32)\n",
      "Tensor(\"Sum:0\", shape=(), dtype=float32)\n",
      "Tensor(\"Sum:0\", shape=(), dtype=float32)\n",
      "Tensor(\"Sum:0\", shape=(), dtype=float32)\n",
      "Tensor(\"Sum:0\", shape=(), dtype=float32)\n",
      "Tensor(\"Sum:0\", shape=(), dtype=float32)\n",
      "Tensor(\"Sum:0\", shape=(), dtype=float32)\n",
      "Tensor(\"Sum:0\", shape=(), dtype=float32)\n",
      "Tensor(\"Sum:0\", shape=(), dtype=float32)\n",
      "Tensor(\"Sum:0\", shape=(), dtype=float32)\n",
      "Tensor(\"Sum:0\", shape=(), dtype=float32)\n",
      "Tensor(\"Sum:0\", shape=(), dtype=float32)\n",
      "Tensor(\"Sum:0\", shape=(), dtype=float32)\n",
      "Tensor(\"Sum:0\", shape=(), dtype=float32)\n"
     ]
    }
   ],
   "source": [
    "with tf.Session() as sess:\n",
    "    \n",
    "    sess.run(init)\n",
    "    \n",
    "    batches = 1000\n",
    "    \n",
    "    for i in range(batches):\n",
    "        \n",
    "        rand_ind = np.random.randint(len(x_data),size=batch_size)\n",
    "        \n",
    "        feed = {xph:x_data[rand_ind],yph:y_true[rand_ind]}\n",
    "        \n",
    "        sess.run(train,feed_dict = feed)\n",
    "        print(error)\n",
    "    \n",
    "    model_m, model_b = sess.run([m,b])\n",
    "        "
   ]
  },
  {
   "cell_type": "code",
   "execution_count": 107,
   "metadata": {},
   "outputs": [
    {
     "data": {
      "text/plain": [
       "0.51775217"
      ]
     },
     "execution_count": 107,
     "metadata": {},
     "output_type": "execute_result"
    }
   ],
   "source": [
    "model_m"
   ]
  },
  {
   "cell_type": "code",
   "execution_count": 108,
   "metadata": {},
   "outputs": [
    {
     "data": {
      "text/plain": [
       "4.9037981"
      ]
     },
     "execution_count": 108,
     "metadata": {},
     "output_type": "execute_result"
    }
   ],
   "source": [
    "model_b"
   ]
  },
  {
   "cell_type": "code",
   "execution_count": 109,
   "metadata": {
    "collapsed": true
   },
   "outputs": [],
   "source": [
    "y_hat = x_data * model_m + model_b "
   ]
  },
  {
   "cell_type": "code",
   "execution_count": 110,
   "metadata": {},
   "outputs": [
    {
     "data": {
      "text/plain": [
       "[<matplotlib.lines.Line2D at 0x7fbda0bdf1d0>]"
      ]
     },
     "execution_count": 110,
     "metadata": {},
     "output_type": "execute_result"
    },
    {
     "data": {
      "image/png": "[encoded data removed]",
      "text/plain": [
       "<matplotlib.figure.Figure at 0x7fbda0bdf7f0>"
      ]
     },
     "metadata": {},
     "output_type": "display_data"
    }
   ],
   "source": [
    "my_data.sample(250).plot(kind='scatter', x='X Data', y='Y');\n",
    "plt.plot(x_data, y_hat, 'r')"
   ]
  },
  {
   "cell_type": "markdown",
   "metadata": {},
   "source": [
    "- Define variables\n",
    "- Define placeholders\n",
    "- Define operations\n",
    "- Define error / loss\n",
    "- Create optimizer\n",
    "- Create trainer\n",
    "- Initialize \n",
    "- Run in batches --> hardest part  "
   ]
  },
  {
   "cell_type": "markdown",
   "metadata": {},
   "source": [
    "## Regression part II"
   ]
  },
  {
   "cell_type": "markdown",
   "metadata": {},
   "source": [
    "In general, to use TF estimator API the steps are:\n",
    "- Define a list of feature columns\n",
    "- Create the Estimator Model\n",
    "- Create a Data Input Function\n",
    "- Call train, evaluate, and predict mothods on the setimator object "
   ]
  },
  {
   "cell_type": "code",
   "execution_count": 114,
   "metadata": {
    "collapsed": true
   },
   "outputs": [],
   "source": [
    "# creating the feature columns list for the estimator\n",
    "\n",
    "feat_cols = [tf.feature_column.numeric_column('x', shape=[1])]"
   ]
  },
  {
   "cell_type": "code",
   "execution_count": 115,
   "metadata": {},
   "outputs": [
    {
     "data": {
      "text/plain": [
       "[_NumericColumn(key='x', shape=(1,), default_value=None, dtype=tf.float32, normalizer_fn=None)]"
      ]
     },
     "execution_count": 115,
     "metadata": {},
     "output_type": "execute_result"
    }
   ],
   "source": [
    "feat_cols"
   ]
  },
  {
   "cell_type": "code",
   "execution_count": 119,
   "metadata": {},
   "outputs": [
    {
     "data": {
      "text/html": [
       "<div>\n",
       "<style>\n",
       "    .dataframe thead tr:only-child th {\n",
       "        text-align: right;\n",
       "    }\n",
       "\n",
       "    .dataframe thead th {\n",
       "        text-align: left;\n",
       "    }\n",
       "\n",
       "    .dataframe tbody tr th {\n",
       "        vertical-align: top;\n",
       "    }\n",
       "</style>\n",
       "<table border=\"1\" class=\"dataframe\">\n",
       "  <thead>\n",
       "    <tr style=\"text-align: right;\">\n",
       "      <th></th>\n",
       "      <th>X Data</th>\n",
       "      <th>Y</th>\n",
       "    </tr>\n",
       "  </thead>\n",
       "  <tbody>\n",
       "    <tr>\n",
       "      <th>0</th>\n",
       "      <td>0.00000</td>\n",
       "      <td>4.968421</td>\n",
       "    </tr>\n",
       "    <tr>\n",
       "      <th>1</th>\n",
       "      <td>0.00001</td>\n",
       "      <td>5.649831</td>\n",
       "    </tr>\n",
       "    <tr>\n",
       "      <th>2</th>\n",
       "      <td>0.00002</td>\n",
       "      <td>7.154856</td>\n",
       "    </tr>\n",
       "  </tbody>\n",
       "</table>\n",
       "</div>"
      ],
      "text/plain": [
       "    X Data         Y\n",
       "0  0.00000  4.968421\n",
       "1  0.00001  5.649831\n",
       "2  0.00002  7.154856"
      ]
     },
     "execution_count": 119,
     "metadata": {},
     "output_type": "execute_result"
    }
   ],
   "source": [
    "my_data.head(3)"
   ]
  },
  {
   "cell_type": "code",
   "execution_count": 120,
   "metadata": {},
   "outputs": [
    {
     "name": "stdout",
     "output_type": "stream",
     "text": [
      "INFO:tensorflow:Using default config.\n",
      "WARNING:tensorflow:Using temporary folder as model directory: /tmp/tmpc4c1dott\n",
      "INFO:tensorflow:Using config: {'_tf_random_seed': 1, '_save_checkpoints_secs': 600, '_keep_checkpoint_every_n_hours': 10000, '_keep_checkpoint_max': 5, '_model_dir': '/tmp/tmpc4c1dott', '_log_step_count_steps': 100, '_save_summary_steps': 100, '_session_config': None, '_save_checkpoints_steps': None}\n"
     ]
    }
   ],
   "source": [
    "estimator = tf.estimator.LinearRegressor(feature_columns=feat_cols)"
   ]
  },
  {
   "cell_type": "code",
   "execution_count": 121,
   "metadata": {
    "collapsed": true
   },
   "outputs": [],
   "source": [
    "from sklearn.model_selection import train_test_split"
   ]
  },
  {
   "cell_type": "code",
   "execution_count": 122,
   "metadata": {
    "collapsed": true
   },
   "outputs": [],
   "source": [
    "x_train, x_eval, y_train, y_eval = train_test_split(x_data,y_true,test_size=0.3,random_state=101)"
   ]
  },
  {
   "cell_type": "code",
   "execution_count": 124,
   "metadata": {},
   "outputs": [
    {
     "name": "stdout",
     "output_type": "stream",
     "text": [
      "(700000,)\n"
     ]
    }
   ],
   "source": [
    "print(x_train.shape)"
   ]
  },
  {
   "cell_type": "code",
   "execution_count": 125,
   "metadata": {},
   "outputs": [
    {
     "data": {
      "text/plain": [
       "(300000,)"
      ]
     },
     "execution_count": 125,
     "metadata": {},
     "output_type": "execute_result"
    }
   ],
   "source": [
    "x_eval.shape"
   ]
  },
  {
   "cell_type": "code",
   "execution_count": 126,
   "metadata": {
    "collapsed": true
   },
   "outputs": [],
   "source": [
    "input_func = tf.estimator.inputs.numpy_input_fn({'x':x_train},y_train,batch_size=8,\n",
    "                                                num_epochs=None,shuffle=True)"
   ]
  },
  {
   "cell_type": "code",
   "execution_count": 127,
   "metadata": {
    "collapsed": true
   },
   "outputs": [],
   "source": [
    "train_input_func = tf.estimator.inputs.numpy_input_fn({'x':x_train},y_train,batch_size=8,\n",
    "                                                      num_epochs=1000,shuffle=False)"
   ]
  },
  {
   "cell_type": "code",
   "execution_count": 128,
   "metadata": {
    "collapsed": true
   },
   "outputs": [],
   "source": [
    "eval_input_func = tf.estimator.inputs.numpy_input_fn({'x':x_eval},y_eval,batch_size=8,\n",
    "                                                      num_epochs=1000,shuffle=False)"
   ]
  },
  {
   "cell_type": "code",
   "execution_count": 129,
   "metadata": {},
   "outputs": [
    {
     "name": "stdout",
     "output_type": "stream",
     "text": [
      "INFO:tensorflow:Create CheckpointSaverHook.\n",
      "INFO:tensorflow:Saving checkpoints for 1 into /tmp/tmpc4c1dott/model.ckpt.\n",
      "INFO:tensorflow:step = 1, loss = 609.098\n",
      "INFO:tensorflow:global_step/sec: 1195.31\n",
      "INFO:tensorflow:step = 101, loss = 33.0303 (0.084 sec)\n",
      "INFO:tensorflow:global_step/sec: 1581.68\n",
      "INFO:tensorflow:step = 201, loss = 25.5397 (0.063 sec)\n",
      "INFO:tensorflow:global_step/sec: 1488.49\n",
      "INFO:tensorflow:step = 301, loss = 2.64397 (0.067 sec)\n",
      "INFO:tensorflow:global_step/sec: 1407.06\n",
      "INFO:tensorflow:step = 401, loss = 7.40559 (0.071 sec)\n",
      "INFO:tensorflow:global_step/sec: 1592.48\n",
      "INFO:tensorflow:step = 501, loss = 9.87497 (0.063 sec)\n",
      "INFO:tensorflow:global_step/sec: 1664.99\n",
      "INFO:tensorflow:step = 601, loss = 8.92169 (0.060 sec)\n",
      "INFO:tensorflow:global_step/sec: 1502.25\n",
      "INFO:tensorflow:step = 701, loss = 21.534 (0.067 sec)\n",
      "INFO:tensorflow:global_step/sec: 1547.7\n",
      "INFO:tensorflow:step = 801, loss = 10.0116 (0.065 sec)\n",
      "INFO:tensorflow:global_step/sec: 1535.59\n",
      "INFO:tensorflow:step = 901, loss = 9.80232 (0.065 sec)\n",
      "INFO:tensorflow:Saving checkpoints for 1000 into /tmp/tmpc4c1dott/model.ckpt.\n",
      "INFO:tensorflow:Loss for final step: 4.56539.\n"
     ]
    },
    {
     "data": {
      "text/plain": [
       "<tensorflow.python.estimator.canned.linear.LinearRegressor at 0x7fbda05a1470>"
      ]
     },
     "execution_count": 129,
     "metadata": {},
     "output_type": "execute_result"
    }
   ],
   "source": [
    "estimator.train(input_fn=input_func,steps=1000)"
   ]
  },
  {
   "cell_type": "code",
   "execution_count": 130,
   "metadata": {},
   "outputs": [
    {
     "name": "stdout",
     "output_type": "stream",
     "text": [
      "INFO:tensorflow:Starting evaluation at 2018-04-10-07:54:03\n",
      "INFO:tensorflow:Restoring parameters from /tmp/tmpc4c1dott/model.ckpt-1000\n",
      "INFO:tensorflow:Evaluation [1/1000]\n",
      "INFO:tensorflow:Evaluation [2/1000]\n",
      "INFO:tensorflow:Evaluation [3/1000]\n",
      "INFO:tensorflow:Evaluation [4/1000]\n",
      "INFO:tensorflow:Evaluation [5/1000]\n",
      "INFO:tensorflow:Evaluation [6/1000]\n",
      "INFO:tensorflow:Evaluation [7/1000]\n",
      "INFO:tensorflow:Evaluation [8/1000]\n",
      "INFO:tensorflow:Evaluation [9/1000]\n",
      "INFO:tensorflow:Evaluation [10/1000]\n",
      "INFO:tensorflow:Evaluation [11/1000]\n",
      "INFO:tensorflow:Evaluation [12/1000]\n",
      "INFO:tensorflow:Evaluation [13/1000]\n",
      "INFO:tensorflow:Evaluation [14/1000]\n",
      "INFO:tensorflow:Evaluation [15/1000]\n",
      "INFO:tensorflow:Evaluation [16/1000]\n",
      "INFO:tensorflow:Evaluation [17/1000]\n",
      "INFO:tensorflow:Evaluation [18/1000]\n",
      "INFO:tensorflow:Evaluation [19/1000]\n",
      "INFO:tensorflow:Evaluation [20/1000]\n",
      "INFO:tensorflow:Evaluation [21/1000]\n",
      "INFO:tensorflow:Evaluation [22/1000]\n",
      "INFO:tensorflow:Evaluation [23/1000]\n",
      "INFO:tensorflow:Evaluation [24/1000]\n",
      "INFO:tensorflow:Evaluation [25/1000]\n",
      "INFO:tensorflow:Evaluation [26/1000]\n",
      "INFO:tensorflow:Evaluation [27/1000]\n",
      "INFO:tensorflow:Evaluation [28/1000]\n",
      "INFO:tensorflow:Evaluation [29/1000]\n",
      "INFO:tensorflow:Evaluation [30/1000]\n",
      "INFO:tensorflow:Evaluation [31/1000]\n",
      "INFO:tensorflow:Evaluation [32/1000]\n",
      "INFO:tensorflow:Evaluation [33/1000]\n",
      "INFO:tensorflow:Evaluation [34/1000]\n",
      "INFO:tensorflow:Evaluation [35/1000]\n",
      "INFO:tensorflow:Evaluation [36/1000]\n",
      "INFO:tensorflow:Evaluation [37/1000]\n",
      "INFO:tensorflow:Evaluation [38/1000]\n",
      "INFO:tensorflow:Evaluation [39/1000]\n",
      "INFO:tensorflow:Evaluation [40/1000]\n",
      "INFO:tensorflow:Evaluation [41/1000]\n",
      "INFO:tensorflow:Evaluation [42/1000]\n",
      "INFO:tensorflow:Evaluation [43/1000]\n",
      "INFO:tensorflow:Evaluation [44/1000]\n",
      "INFO:tensorflow:Evaluation [45/1000]\n",
      "INFO:tensorflow:Evaluation [46/1000]\n",
      "INFO:tensorflow:Evaluation [47/1000]\n",
      "INFO:tensorflow:Evaluation [48/1000]\n",
      "INFO:tensorflow:Evaluation [49/1000]\n",
      "INFO:tensorflow:Evaluation [50/1000]\n",
      "INFO:tensorflow:Evaluation [51/1000]\n",
      "INFO:tensorflow:Evaluation [52/1000]\n",
      "INFO:tensorflow:Evaluation [53/1000]\n",
      "INFO:tensorflow:Evaluation [54/1000]\n",
      "INFO:tensorflow:Evaluation [55/1000]\n",
      "INFO:tensorflow:Evaluation [56/1000]\n",
      "INFO:tensorflow:Evaluation [57/1000]\n",
      "INFO:tensorflow:Evaluation [58/1000]\n",
      "INFO:tensorflow:Evaluation [59/1000]\n",
      "INFO:tensorflow:Evaluation [60/1000]\n",
      "INFO:tensorflow:Evaluation [61/1000]\n",
      "INFO:tensorflow:Evaluation [62/1000]\n",
      "INFO:tensorflow:Evaluation [63/1000]\n",
      "INFO:tensorflow:Evaluation [64/1000]\n",
      "INFO:tensorflow:Evaluation [65/1000]\n",
      "INFO:tensorflow:Evaluation [66/1000]\n",
      "INFO:tensorflow:Evaluation [67/1000]\n",
      "INFO:tensorflow:Evaluation [68/1000]\n",
      "INFO:tensorflow:Evaluation [69/1000]\n",
      "INFO:tensorflow:Evaluation [70/1000]\n",
      "INFO:tensorflow:Evaluation [71/1000]\n",
      "INFO:tensorflow:Evaluation [72/1000]\n",
      "INFO:tensorflow:Evaluation [73/1000]\n",
      "INFO:tensorflow:Evaluation [74/1000]\n",
      "INFO:tensorflow:Evaluation [75/1000]\n",
      "INFO:tensorflow:Evaluation [76/1000]\n",
      "INFO:tensorflow:Evaluation [77/1000]\n",
      "INFO:tensorflow:Evaluation [78/1000]\n",
      "INFO:tensorflow:Evaluation [79/1000]\n",
      "INFO:tensorflow:Evaluation [80/1000]\n",
      "INFO:tensorflow:Evaluation [81/1000]\n",
      "INFO:tensorflow:Evaluation [82/1000]\n",
      "INFO:tensorflow:Evaluation [83/1000]\n",
      "INFO:tensorflow:Evaluation [84/1000]\n",
      "INFO:tensorflow:Evaluation [85/1000]\n",
      "INFO:tensorflow:Evaluation [86/1000]\n",
      "INFO:tensorflow:Evaluation [87/1000]\n",
      "INFO:tensorflow:Evaluation [88/1000]\n",
      "INFO:tensorflow:Evaluation [89/1000]\n",
      "INFO:tensorflow:Evaluation [90/1000]\n",
      "INFO:tensorflow:Evaluation [91/1000]\n",
      "INFO:tensorflow:Evaluation [92/1000]\n",
      "INFO:tensorflow:Evaluation [93/1000]\n",
      "INFO:tensorflow:Evaluation [94/1000]\n",
      "INFO:tensorflow:Evaluation [95/1000]\n",
      "INFO:tensorflow:Evaluation [96/1000]\n",
      "INFO:tensorflow:Evaluation [97/1000]\n",
      "INFO:tensorflow:Evaluation [98/1000]\n",
      "INFO:tensorflow:Evaluation [99/1000]\n",
      "INFO:tensorflow:Evaluation [100/1000]\n",
      "INFO:tensorflow:Evaluation [101/1000]\n",
      "INFO:tensorflow:Evaluation [102/1000]\n",
      "INFO:tensorflow:Evaluation [103/1000]\n",
      "INFO:tensorflow:Evaluation [104/1000]\n",
      "INFO:tensorflow:Evaluation [105/1000]\n",
      "INFO:tensorflow:Evaluation [106/1000]\n",
      "INFO:tensorflow:Evaluation [107/1000]\n",
      "INFO:tensorflow:Evaluation [108/1000]\n",
      "INFO:tensorflow:Evaluation [109/1000]\n",
      "INFO:tensorflow:Evaluation [110/1000]\n",
      "INFO:tensorflow:Evaluation [111/1000]\n",
      "INFO:tensorflow:Evaluation [112/1000]\n",
      "INFO:tensorflow:Evaluation [113/1000]\n",
      "INFO:tensorflow:Evaluation [114/1000]\n",
      "INFO:tensorflow:Evaluation [115/1000]\n",
      "INFO:tensorflow:Evaluation [116/1000]\n",
      "INFO:tensorflow:Evaluation [117/1000]\n",
      "INFO:tensorflow:Evaluation [118/1000]\n",
      "INFO:tensorflow:Evaluation [119/1000]\n",
      "INFO:tensorflow:Evaluation [120/1000]\n",
      "INFO:tensorflow:Evaluation [121/1000]\n",
      "INFO:tensorflow:Evaluation [122/1000]\n",
      "INFO:tensorflow:Evaluation [123/1000]\n",
      "INFO:tensorflow:Evaluation [124/1000]\n",
      "INFO:tensorflow:Evaluation [125/1000]\n",
      "INFO:tensorflow:Evaluation [126/1000]\n",
      "INFO:tensorflow:Evaluation [127/1000]\n",
      "INFO:tensorflow:Evaluation [128/1000]\n",
      "INFO:tensorflow:Evaluation [129/1000]\n",
      "INFO:tensorflow:Evaluation [130/1000]\n",
      "INFO:tensorflow:Evaluation [131/1000]\n",
      "INFO:tensorflow:Evaluation [132/1000]\n",
      "INFO:tensorflow:Evaluation [133/1000]\n",
      "INFO:tensorflow:Evaluation [134/1000]\n",
      "INFO:tensorflow:Evaluation [135/1000]\n",
      "INFO:tensorflow:Evaluation [136/1000]\n",
      "INFO:tensorflow:Evaluation [137/1000]\n",
      "INFO:tensorflow:Evaluation [138/1000]\n",
      "INFO:tensorflow:Evaluation [139/1000]\n",
      "INFO:tensorflow:Evaluation [140/1000]\n",
      "INFO:tensorflow:Evaluation [141/1000]\n",
      "INFO:tensorflow:Evaluation [142/1000]\n",
      "INFO:tensorflow:Evaluation [143/1000]\n",
      "INFO:tensorflow:Evaluation [144/1000]\n",
      "INFO:tensorflow:Evaluation [145/1000]\n",
      "INFO:tensorflow:Evaluation [146/1000]\n",
      "INFO:tensorflow:Evaluation [147/1000]\n",
      "INFO:tensorflow:Evaluation [148/1000]\n",
      "INFO:tensorflow:Evaluation [149/1000]\n",
      "INFO:tensorflow:Evaluation [150/1000]\n",
      "INFO:tensorflow:Evaluation [151/1000]\n",
      "INFO:tensorflow:Evaluation [152/1000]\n",
      "INFO:tensorflow:Evaluation [153/1000]\n",
      "INFO:tensorflow:Evaluation [154/1000]\n",
      "INFO:tensorflow:Evaluation [155/1000]\n",
      "INFO:tensorflow:Evaluation [156/1000]\n",
      "INFO:tensorflow:Evaluation [157/1000]\n",
      "INFO:tensorflow:Evaluation [158/1000]\n",
      "INFO:tensorflow:Evaluation [159/1000]\n",
      "INFO:tensorflow:Evaluation [160/1000]\n",
      "INFO:tensorflow:Evaluation [161/1000]\n",
      "INFO:tensorflow:Evaluation [162/1000]\n",
      "INFO:tensorflow:Evaluation [163/1000]\n",
      "INFO:tensorflow:Evaluation [164/1000]\n",
      "INFO:tensorflow:Evaluation [165/1000]\n",
      "INFO:tensorflow:Evaluation [166/1000]\n",
      "INFO:tensorflow:Evaluation [167/1000]\n",
      "INFO:tensorflow:Evaluation [168/1000]\n",
      "INFO:tensorflow:Evaluation [169/1000]\n",
      "INFO:tensorflow:Evaluation [170/1000]\n",
      "INFO:tensorflow:Evaluation [171/1000]\n",
      "INFO:tensorflow:Evaluation [172/1000]\n",
      "INFO:tensorflow:Evaluation [173/1000]\n",
      "INFO:tensorflow:Evaluation [174/1000]\n",
      "INFO:tensorflow:Evaluation [175/1000]\n",
      "INFO:tensorflow:Evaluation [176/1000]\n",
      "INFO:tensorflow:Evaluation [177/1000]\n",
      "INFO:tensorflow:Evaluation [178/1000]\n",
      "INFO:tensorflow:Evaluation [179/1000]\n",
      "INFO:tensorflow:Evaluation [180/1000]\n",
      "INFO:tensorflow:Evaluation [181/1000]\n",
      "INFO:tensorflow:Evaluation [182/1000]\n",
      "INFO:tensorflow:Evaluation [183/1000]\n",
      "INFO:tensorflow:Evaluation [184/1000]\n",
      "INFO:tensorflow:Evaluation [185/1000]\n",
      "INFO:tensorflow:Evaluation [186/1000]\n",
      "INFO:tensorflow:Evaluation [187/1000]\n",
      "INFO:tensorflow:Evaluation [188/1000]\n",
      "INFO:tensorflow:Evaluation [189/1000]\n",
      "INFO:tensorflow:Evaluation [190/1000]\n",
      "INFO:tensorflow:Evaluation [191/1000]\n",
      "INFO:tensorflow:Evaluation [192/1000]\n",
      "INFO:tensorflow:Evaluation [193/1000]\n",
      "INFO:tensorflow:Evaluation [194/1000]\n",
      "INFO:tensorflow:Evaluation [195/1000]\n",
      "INFO:tensorflow:Evaluation [196/1000]\n",
      "INFO:tensorflow:Evaluation [197/1000]\n",
      "INFO:tensorflow:Evaluation [198/1000]\n",
      "INFO:tensorflow:Evaluation [199/1000]\n",
      "INFO:tensorflow:Evaluation [200/1000]\n",
      "INFO:tensorflow:Evaluation [201/1000]\n",
      "INFO:tensorflow:Evaluation [202/1000]\n",
      "INFO:tensorflow:Evaluation [203/1000]\n",
      "INFO:tensorflow:Evaluation [204/1000]\n",
      "INFO:tensorflow:Evaluation [205/1000]\n",
      "INFO:tensorflow:Evaluation [206/1000]\n",
      "INFO:tensorflow:Evaluation [207/1000]\n",
      "INFO:tensorflow:Evaluation [208/1000]\n",
      "INFO:tensorflow:Evaluation [209/1000]\n",
      "INFO:tensorflow:Evaluation [210/1000]\n",
      "INFO:tensorflow:Evaluation [211/1000]\n",
      "INFO:tensorflow:Evaluation [212/1000]\n",
      "INFO:tensorflow:Evaluation [213/1000]\n",
      "INFO:tensorflow:Evaluation [214/1000]\n",
      "INFO:tensorflow:Evaluation [215/1000]\n"
     ]
    },
    {
     "name": "stdout",
     "output_type": "stream",
     "text": [
      "INFO:tensorflow:Evaluation [216/1000]\n",
      "INFO:tensorflow:Evaluation [217/1000]\n",
      "INFO:tensorflow:Evaluation [218/1000]\n",
      "INFO:tensorflow:Evaluation [219/1000]\n",
      "INFO:tensorflow:Evaluation [220/1000]\n",
      "INFO:tensorflow:Evaluation [221/1000]\n",
      "INFO:tensorflow:Evaluation [222/1000]\n",
      "INFO:tensorflow:Evaluation [223/1000]\n",
      "INFO:tensorflow:Evaluation [224/1000]\n",
      "INFO:tensorflow:Evaluation [225/1000]\n",
      "INFO:tensorflow:Evaluation [226/1000]\n",
      "INFO:tensorflow:Evaluation [227/1000]\n",
      "INFO:tensorflow:Evaluation [228/1000]\n",
      "INFO:tensorflow:Evaluation [229/1000]\n",
      "INFO:tensorflow:Evaluation [230/1000]\n",
      "INFO:tensorflow:Evaluation [231/1000]\n",
      "INFO:tensorflow:Evaluation [232/1000]\n",
      "INFO:tensorflow:Evaluation [233/1000]\n",
      "INFO:tensorflow:Evaluation [234/1000]\n",
      "INFO:tensorflow:Evaluation [235/1000]\n",
      "INFO:tensorflow:Evaluation [236/1000]\n",
      "INFO:tensorflow:Evaluation [237/1000]\n",
      "INFO:tensorflow:Evaluation [238/1000]\n",
      "INFO:tensorflow:Evaluation [239/1000]\n",
      "INFO:tensorflow:Evaluation [240/1000]\n",
      "INFO:tensorflow:Evaluation [241/1000]\n",
      "INFO:tensorflow:Evaluation [242/1000]\n",
      "INFO:tensorflow:Evaluation [243/1000]\n",
      "INFO:tensorflow:Evaluation [244/1000]\n",
      "INFO:tensorflow:Evaluation [245/1000]\n",
      "INFO:tensorflow:Evaluation [246/1000]\n",
      "INFO:tensorflow:Evaluation [247/1000]\n",
      "INFO:tensorflow:Evaluation [248/1000]\n",
      "INFO:tensorflow:Evaluation [249/1000]\n",
      "INFO:tensorflow:Evaluation [250/1000]\n",
      "INFO:tensorflow:Evaluation [251/1000]\n",
      "INFO:tensorflow:Evaluation [252/1000]\n",
      "INFO:tensorflow:Evaluation [253/1000]\n",
      "INFO:tensorflow:Evaluation [254/1000]\n",
      "INFO:tensorflow:Evaluation [255/1000]\n",
      "INFO:tensorflow:Evaluation [256/1000]\n",
      "INFO:tensorflow:Evaluation [257/1000]\n",
      "INFO:tensorflow:Evaluation [258/1000]\n",
      "INFO:tensorflow:Evaluation [259/1000]\n",
      "INFO:tensorflow:Evaluation [260/1000]\n",
      "INFO:tensorflow:Evaluation [261/1000]\n",
      "INFO:tensorflow:Evaluation [262/1000]\n",
      "INFO:tensorflow:Evaluation [263/1000]\n",
      "INFO:tensorflow:Evaluation [264/1000]\n",
      "INFO:tensorflow:Evaluation [265/1000]\n",
      "INFO:tensorflow:Evaluation [266/1000]\n",
      "INFO:tensorflow:Evaluation [267/1000]\n",
      "INFO:tensorflow:Evaluation [268/1000]\n",
      "INFO:tensorflow:Evaluation [269/1000]\n",
      "INFO:tensorflow:Evaluation [270/1000]\n",
      "INFO:tensorflow:Evaluation [271/1000]\n",
      "INFO:tensorflow:Evaluation [272/1000]\n",
      "INFO:tensorflow:Evaluation [273/1000]\n",
      "INFO:tensorflow:Evaluation [274/1000]\n",
      "INFO:tensorflow:Evaluation [275/1000]\n",
      "INFO:tensorflow:Evaluation [276/1000]\n",
      "INFO:tensorflow:Evaluation [277/1000]\n",
      "INFO:tensorflow:Evaluation [278/1000]\n",
      "INFO:tensorflow:Evaluation [279/1000]\n",
      "INFO:tensorflow:Evaluation [280/1000]\n",
      "INFO:tensorflow:Evaluation [281/1000]\n",
      "INFO:tensorflow:Evaluation [282/1000]\n",
      "INFO:tensorflow:Evaluation [283/1000]\n",
      "INFO:tensorflow:Evaluation [284/1000]\n",
      "INFO:tensorflow:Evaluation [285/1000]\n",
      "INFO:tensorflow:Evaluation [286/1000]\n",
      "INFO:tensorflow:Evaluation [287/1000]\n",
      "INFO:tensorflow:Evaluation [288/1000]\n",
      "INFO:tensorflow:Evaluation [289/1000]\n",
      "INFO:tensorflow:Evaluation [290/1000]\n",
      "INFO:tensorflow:Evaluation [291/1000]\n",
      "INFO:tensorflow:Evaluation [292/1000]\n",
      "INFO:tensorflow:Evaluation [293/1000]\n",
      "INFO:tensorflow:Evaluation [294/1000]\n",
      "INFO:tensorflow:Evaluation [295/1000]\n",
      "INFO:tensorflow:Evaluation [296/1000]\n",
      "INFO:tensorflow:Evaluation [297/1000]\n",
      "INFO:tensorflow:Evaluation [298/1000]\n",
      "INFO:tensorflow:Evaluation [299/1000]\n",
      "INFO:tensorflow:Evaluation [300/1000]\n",
      "INFO:tensorflow:Evaluation [301/1000]\n",
      "INFO:tensorflow:Evaluation [302/1000]\n",
      "INFO:tensorflow:Evaluation [303/1000]\n",
      "INFO:tensorflow:Evaluation [304/1000]\n",
      "INFO:tensorflow:Evaluation [305/1000]\n",
      "INFO:tensorflow:Evaluation [306/1000]\n",
      "INFO:tensorflow:Evaluation [307/1000]\n",
      "INFO:tensorflow:Evaluation [308/1000]\n",
      "INFO:tensorflow:Evaluation [309/1000]\n",
      "INFO:tensorflow:Evaluation [310/1000]\n",
      "INFO:tensorflow:Evaluation [311/1000]\n",
      "INFO:tensorflow:Evaluation [312/1000]\n",
      "INFO:tensorflow:Evaluation [313/1000]\n",
      "INFO:tensorflow:Evaluation [314/1000]\n",
      "INFO:tensorflow:Evaluation [315/1000]\n",
      "INFO:tensorflow:Evaluation [316/1000]\n",
      "INFO:tensorflow:Evaluation [317/1000]\n",
      "INFO:tensorflow:Evaluation [318/1000]\n",
      "INFO:tensorflow:Evaluation [319/1000]\n",
      "INFO:tensorflow:Evaluation [320/1000]\n",
      "INFO:tensorflow:Evaluation [321/1000]\n",
      "INFO:tensorflow:Evaluation [322/1000]\n",
      "INFO:tensorflow:Evaluation [323/1000]\n",
      "INFO:tensorflow:Evaluation [324/1000]\n",
      "INFO:tensorflow:Evaluation [325/1000]\n",
      "INFO:tensorflow:Evaluation [326/1000]\n",
      "INFO:tensorflow:Evaluation [327/1000]\n",
      "INFO:tensorflow:Evaluation [328/1000]\n",
      "INFO:tensorflow:Evaluation [329/1000]\n",
      "INFO:tensorflow:Evaluation [330/1000]\n",
      "INFO:tensorflow:Evaluation [331/1000]\n",
      "INFO:tensorflow:Evaluation [332/1000]\n",
      "INFO:tensorflow:Evaluation [333/1000]\n",
      "INFO:tensorflow:Evaluation [334/1000]\n",
      "INFO:tensorflow:Evaluation [335/1000]\n",
      "INFO:tensorflow:Evaluation [336/1000]\n",
      "INFO:tensorflow:Evaluation [337/1000]\n",
      "INFO:tensorflow:Evaluation [338/1000]\n",
      "INFO:tensorflow:Evaluation [339/1000]\n",
      "INFO:tensorflow:Evaluation [340/1000]\n",
      "INFO:tensorflow:Evaluation [341/1000]\n",
      "INFO:tensorflow:Evaluation [342/1000]\n",
      "INFO:tensorflow:Evaluation [343/1000]\n",
      "INFO:tensorflow:Evaluation [344/1000]\n",
      "INFO:tensorflow:Evaluation [345/1000]\n",
      "INFO:tensorflow:Evaluation [346/1000]\n",
      "INFO:tensorflow:Evaluation [347/1000]\n",
      "INFO:tensorflow:Evaluation [348/1000]\n",
      "INFO:tensorflow:Evaluation [349/1000]\n",
      "INFO:tensorflow:Evaluation [350/1000]\n",
      "INFO:tensorflow:Evaluation [351/1000]\n",
      "INFO:tensorflow:Evaluation [352/1000]\n",
      "INFO:tensorflow:Evaluation [353/1000]\n",
      "INFO:tensorflow:Evaluation [354/1000]\n",
      "INFO:tensorflow:Evaluation [355/1000]\n",
      "INFO:tensorflow:Evaluation [356/1000]\n",
      "INFO:tensorflow:Evaluation [357/1000]\n",
      "INFO:tensorflow:Evaluation [358/1000]\n",
      "INFO:tensorflow:Evaluation [359/1000]\n",
      "INFO:tensorflow:Evaluation [360/1000]\n",
      "INFO:tensorflow:Evaluation [361/1000]\n",
      "INFO:tensorflow:Evaluation [362/1000]\n",
      "INFO:tensorflow:Evaluation [363/1000]\n",
      "INFO:tensorflow:Evaluation [364/1000]\n",
      "INFO:tensorflow:Evaluation [365/1000]\n",
      "INFO:tensorflow:Evaluation [366/1000]\n",
      "INFO:tensorflow:Evaluation [367/1000]\n",
      "INFO:tensorflow:Evaluation [368/1000]\n",
      "INFO:tensorflow:Evaluation [369/1000]\n",
      "INFO:tensorflow:Evaluation [370/1000]\n",
      "INFO:tensorflow:Evaluation [371/1000]\n",
      "INFO:tensorflow:Evaluation [372/1000]\n",
      "INFO:tensorflow:Evaluation [373/1000]\n",
      "INFO:tensorflow:Evaluation [374/1000]\n",
      "INFO:tensorflow:Evaluation [375/1000]\n",
      "INFO:tensorflow:Evaluation [376/1000]\n",
      "INFO:tensorflow:Evaluation [377/1000]\n",
      "INFO:tensorflow:Evaluation [378/1000]\n",
      "INFO:tensorflow:Evaluation [379/1000]\n",
      "INFO:tensorflow:Evaluation [380/1000]\n",
      "INFO:tensorflow:Evaluation [381/1000]\n",
      "INFO:tensorflow:Evaluation [382/1000]\n",
      "INFO:tensorflow:Evaluation [383/1000]\n",
      "INFO:tensorflow:Evaluation [384/1000]\n",
      "INFO:tensorflow:Evaluation [385/1000]\n",
      "INFO:tensorflow:Evaluation [386/1000]\n",
      "INFO:tensorflow:Evaluation [387/1000]\n",
      "INFO:tensorflow:Evaluation [388/1000]\n",
      "INFO:tensorflow:Evaluation [389/1000]\n",
      "INFO:tensorflow:Evaluation [390/1000]\n",
      "INFO:tensorflow:Evaluation [391/1000]\n",
      "INFO:tensorflow:Evaluation [392/1000]\n",
      "INFO:tensorflow:Evaluation [393/1000]\n",
      "INFO:tensorflow:Evaluation [394/1000]\n",
      "INFO:tensorflow:Evaluation [395/1000]\n",
      "INFO:tensorflow:Evaluation [396/1000]\n",
      "INFO:tensorflow:Evaluation [397/1000]\n",
      "INFO:tensorflow:Evaluation [398/1000]\n",
      "INFO:tensorflow:Evaluation [399/1000]\n",
      "INFO:tensorflow:Evaluation [400/1000]\n",
      "INFO:tensorflow:Evaluation [401/1000]\n",
      "INFO:tensorflow:Evaluation [402/1000]\n",
      "INFO:tensorflow:Evaluation [403/1000]\n",
      "INFO:tensorflow:Evaluation [404/1000]\n",
      "INFO:tensorflow:Evaluation [405/1000]\n",
      "INFO:tensorflow:Evaluation [406/1000]\n",
      "INFO:tensorflow:Evaluation [407/1000]\n",
      "INFO:tensorflow:Evaluation [408/1000]\n",
      "INFO:tensorflow:Evaluation [409/1000]\n",
      "INFO:tensorflow:Evaluation [410/1000]\n",
      "INFO:tensorflow:Evaluation [411/1000]\n",
      "INFO:tensorflow:Evaluation [412/1000]\n",
      "INFO:tensorflow:Evaluation [413/1000]\n",
      "INFO:tensorflow:Evaluation [414/1000]\n",
      "INFO:tensorflow:Evaluation [415/1000]\n",
      "INFO:tensorflow:Evaluation [416/1000]\n",
      "INFO:tensorflow:Evaluation [417/1000]\n",
      "INFO:tensorflow:Evaluation [418/1000]\n",
      "INFO:tensorflow:Evaluation [419/1000]\n",
      "INFO:tensorflow:Evaluation [420/1000]\n",
      "INFO:tensorflow:Evaluation [421/1000]\n",
      "INFO:tensorflow:Evaluation [422/1000]\n",
      "INFO:tensorflow:Evaluation [423/1000]\n",
      "INFO:tensorflow:Evaluation [424/1000]\n",
      "INFO:tensorflow:Evaluation [425/1000]\n",
      "INFO:tensorflow:Evaluation [426/1000]\n",
      "INFO:tensorflow:Evaluation [427/1000]\n",
      "INFO:tensorflow:Evaluation [428/1000]\n",
      "INFO:tensorflow:Evaluation [429/1000]\n",
      "INFO:tensorflow:Evaluation [430/1000]\n",
      "INFO:tensorflow:Evaluation [431/1000]\n"
     ]
    },
    {
     "name": "stdout",
     "output_type": "stream",
     "text": [
      "INFO:tensorflow:Evaluation [432/1000]\n",
      "INFO:tensorflow:Evaluation [433/1000]\n",
      "INFO:tensorflow:Evaluation [434/1000]\n",
      "INFO:tensorflow:Evaluation [435/1000]\n",
      "INFO:tensorflow:Evaluation [436/1000]\n",
      "INFO:tensorflow:Evaluation [437/1000]\n",
      "INFO:tensorflow:Evaluation [438/1000]\n",
      "INFO:tensorflow:Evaluation [439/1000]\n",
      "INFO:tensorflow:Evaluation [440/1000]\n",
      "INFO:tensorflow:Evaluation [441/1000]\n",
      "INFO:tensorflow:Evaluation [442/1000]\n",
      "INFO:tensorflow:Evaluation [443/1000]\n",
      "INFO:tensorflow:Evaluation [444/1000]\n",
      "INFO:tensorflow:Evaluation [445/1000]\n",
      "INFO:tensorflow:Evaluation [446/1000]\n",
      "INFO:tensorflow:Evaluation [447/1000]\n",
      "INFO:tensorflow:Evaluation [448/1000]\n",
      "INFO:tensorflow:Evaluation [449/1000]\n",
      "INFO:tensorflow:Evaluation [450/1000]\n",
      "INFO:tensorflow:Evaluation [451/1000]\n",
      "INFO:tensorflow:Evaluation [452/1000]\n",
      "INFO:tensorflow:Evaluation [453/1000]\n",
      "INFO:tensorflow:Evaluation [454/1000]\n",
      "INFO:tensorflow:Evaluation [455/1000]\n",
      "INFO:tensorflow:Evaluation [456/1000]\n",
      "INFO:tensorflow:Evaluation [457/1000]\n",
      "INFO:tensorflow:Evaluation [458/1000]\n",
      "INFO:tensorflow:Evaluation [459/1000]\n",
      "INFO:tensorflow:Evaluation [460/1000]\n",
      "INFO:tensorflow:Evaluation [461/1000]\n",
      "INFO:tensorflow:Evaluation [462/1000]\n",
      "INFO:tensorflow:Evaluation [463/1000]\n",
      "INFO:tensorflow:Evaluation [464/1000]\n",
      "INFO:tensorflow:Evaluation [465/1000]\n",
      "INFO:tensorflow:Evaluation [466/1000]\n",
      "INFO:tensorflow:Evaluation [467/1000]\n",
      "INFO:tensorflow:Evaluation [468/1000]\n",
      "INFO:tensorflow:Evaluation [469/1000]\n",
      "INFO:tensorflow:Evaluation [470/1000]\n",
      "INFO:tensorflow:Evaluation [471/1000]\n",
      "INFO:tensorflow:Evaluation [472/1000]\n",
      "INFO:tensorflow:Evaluation [473/1000]\n",
      "INFO:tensorflow:Evaluation [474/1000]\n",
      "INFO:tensorflow:Evaluation [475/1000]\n",
      "INFO:tensorflow:Evaluation [476/1000]\n",
      "INFO:tensorflow:Evaluation [477/1000]\n",
      "INFO:tensorflow:Evaluation [478/1000]\n",
      "INFO:tensorflow:Evaluation [479/1000]\n",
      "INFO:tensorflow:Evaluation [480/1000]\n",
      "INFO:tensorflow:Evaluation [481/1000]\n",
      "INFO:tensorflow:Evaluation [482/1000]\n",
      "INFO:tensorflow:Evaluation [483/1000]\n",
      "INFO:tensorflow:Evaluation [484/1000]\n",
      "INFO:tensorflow:Evaluation [485/1000]\n",
      "INFO:tensorflow:Evaluation [486/1000]\n",
      "INFO:tensorflow:Evaluation [487/1000]\n",
      "INFO:tensorflow:Evaluation [488/1000]\n",
      "INFO:tensorflow:Evaluation [489/1000]\n",
      "INFO:tensorflow:Evaluation [490/1000]\n",
      "INFO:tensorflow:Evaluation [491/1000]\n",
      "INFO:tensorflow:Evaluation [492/1000]\n",
      "INFO:tensorflow:Evaluation [493/1000]\n",
      "INFO:tensorflow:Evaluation [494/1000]\n",
      "INFO:tensorflow:Evaluation [495/1000]\n",
      "INFO:tensorflow:Evaluation [496/1000]\n",
      "INFO:tensorflow:Evaluation [497/1000]\n",
      "INFO:tensorflow:Evaluation [498/1000]\n",
      "INFO:tensorflow:Evaluation [499/1000]\n",
      "INFO:tensorflow:Evaluation [500/1000]\n",
      "INFO:tensorflow:Evaluation [501/1000]\n",
      "INFO:tensorflow:Evaluation [502/1000]\n",
      "INFO:tensorflow:Evaluation [503/1000]\n",
      "INFO:tensorflow:Evaluation [504/1000]\n",
      "INFO:tensorflow:Evaluation [505/1000]\n",
      "INFO:tensorflow:Evaluation [506/1000]\n",
      "INFO:tensorflow:Evaluation [507/1000]\n",
      "INFO:tensorflow:Evaluation [508/1000]\n",
      "INFO:tensorflow:Evaluation [509/1000]\n",
      "INFO:tensorflow:Evaluation [510/1000]\n",
      "INFO:tensorflow:Evaluation [511/1000]\n",
      "INFO:tensorflow:Evaluation [512/1000]\n",
      "INFO:tensorflow:Evaluation [513/1000]\n",
      "INFO:tensorflow:Evaluation [514/1000]\n",
      "INFO:tensorflow:Evaluation [515/1000]\n",
      "INFO:tensorflow:Evaluation [516/1000]\n",
      "INFO:tensorflow:Evaluation [517/1000]\n",
      "INFO:tensorflow:Evaluation [518/1000]\n",
      "INFO:tensorflow:Evaluation [519/1000]\n",
      "INFO:tensorflow:Evaluation [520/1000]\n",
      "INFO:tensorflow:Evaluation [521/1000]\n",
      "INFO:tensorflow:Evaluation [522/1000]\n",
      "INFO:tensorflow:Evaluation [523/1000]\n",
      "INFO:tensorflow:Evaluation [524/1000]\n",
      "INFO:tensorflow:Evaluation [525/1000]\n",
      "INFO:tensorflow:Evaluation [526/1000]\n",
      "INFO:tensorflow:Evaluation [527/1000]\n",
      "INFO:tensorflow:Evaluation [528/1000]\n",
      "INFO:tensorflow:Evaluation [529/1000]\n",
      "INFO:tensorflow:Evaluation [530/1000]\n",
      "INFO:tensorflow:Evaluation [531/1000]\n",
      "INFO:tensorflow:Evaluation [532/1000]\n",
      "INFO:tensorflow:Evaluation [533/1000]\n",
      "INFO:tensorflow:Evaluation [534/1000]\n",
      "INFO:tensorflow:Evaluation [535/1000]\n",
      "INFO:tensorflow:Evaluation [536/1000]\n",
      "INFO:tensorflow:Evaluation [537/1000]\n",
      "INFO:tensorflow:Evaluation [538/1000]\n",
      "INFO:tensorflow:Evaluation [539/1000]\n",
      "INFO:tensorflow:Evaluation [540/1000]\n",
      "INFO:tensorflow:Evaluation [541/1000]\n",
      "INFO:tensorflow:Evaluation [542/1000]\n",
      "INFO:tensorflow:Evaluation [543/1000]\n",
      "INFO:tensorflow:Evaluation [544/1000]\n",
      "INFO:tensorflow:Evaluation [545/1000]\n",
      "INFO:tensorflow:Evaluation [546/1000]\n",
      "INFO:tensorflow:Evaluation [547/1000]\n",
      "INFO:tensorflow:Evaluation [548/1000]\n",
      "INFO:tensorflow:Evaluation [549/1000]\n",
      "INFO:tensorflow:Evaluation [550/1000]\n",
      "INFO:tensorflow:Evaluation [551/1000]\n",
      "INFO:tensorflow:Evaluation [552/1000]\n",
      "INFO:tensorflow:Evaluation [553/1000]\n",
      "INFO:tensorflow:Evaluation [554/1000]\n",
      "INFO:tensorflow:Evaluation [555/1000]\n",
      "INFO:tensorflow:Evaluation [556/1000]\n",
      "INFO:tensorflow:Evaluation [557/1000]\n",
      "INFO:tensorflow:Evaluation [558/1000]\n",
      "INFO:tensorflow:Evaluation [559/1000]\n",
      "INFO:tensorflow:Evaluation [560/1000]\n",
      "INFO:tensorflow:Evaluation [561/1000]\n",
      "INFO:tensorflow:Evaluation [562/1000]\n",
      "INFO:tensorflow:Evaluation [563/1000]\n",
      "INFO:tensorflow:Evaluation [564/1000]\n",
      "INFO:tensorflow:Evaluation [565/1000]\n",
      "INFO:tensorflow:Evaluation [566/1000]\n",
      "INFO:tensorflow:Evaluation [567/1000]\n",
      "INFO:tensorflow:Evaluation [568/1000]\n",
      "INFO:tensorflow:Evaluation [569/1000]\n",
      "INFO:tensorflow:Evaluation [570/1000]\n",
      "INFO:tensorflow:Evaluation [571/1000]\n",
      "INFO:tensorflow:Evaluation [572/1000]\n",
      "INFO:tensorflow:Evaluation [573/1000]\n",
      "INFO:tensorflow:Evaluation [574/1000]\n",
      "INFO:tensorflow:Evaluation [575/1000]\n",
      "INFO:tensorflow:Evaluation [576/1000]\n",
      "INFO:tensorflow:Evaluation [577/1000]\n",
      "INFO:tensorflow:Evaluation [578/1000]\n",
      "INFO:tensorflow:Evaluation [579/1000]\n",
      "INFO:tensorflow:Evaluation [580/1000]\n",
      "INFO:tensorflow:Evaluation [581/1000]\n",
      "INFO:tensorflow:Evaluation [582/1000]\n",
      "INFO:tensorflow:Evaluation [583/1000]\n",
      "INFO:tensorflow:Evaluation [584/1000]\n",
      "INFO:tensorflow:Evaluation [585/1000]\n",
      "INFO:tensorflow:Evaluation [586/1000]\n",
      "INFO:tensorflow:Evaluation [587/1000]\n",
      "INFO:tensorflow:Evaluation [588/1000]\n",
      "INFO:tensorflow:Evaluation [589/1000]\n",
      "INFO:tensorflow:Evaluation [590/1000]\n",
      "INFO:tensorflow:Evaluation [591/1000]\n",
      "INFO:tensorflow:Evaluation [592/1000]\n",
      "INFO:tensorflow:Evaluation [593/1000]\n",
      "INFO:tensorflow:Evaluation [594/1000]\n",
      "INFO:tensorflow:Evaluation [595/1000]\n",
      "INFO:tensorflow:Evaluation [596/1000]\n",
      "INFO:tensorflow:Evaluation [597/1000]\n",
      "INFO:tensorflow:Evaluation [598/1000]\n",
      "INFO:tensorflow:Evaluation [599/1000]\n",
      "INFO:tensorflow:Evaluation [600/1000]\n",
      "INFO:tensorflow:Evaluation [601/1000]\n",
      "INFO:tensorflow:Evaluation [602/1000]\n",
      "INFO:tensorflow:Evaluation [603/1000]\n",
      "INFO:tensorflow:Evaluation [604/1000]\n",
      "INFO:tensorflow:Evaluation [605/1000]\n",
      "INFO:tensorflow:Evaluation [606/1000]\n",
      "INFO:tensorflow:Evaluation [607/1000]\n",
      "INFO:tensorflow:Evaluation [608/1000]\n",
      "INFO:tensorflow:Evaluation [609/1000]\n",
      "INFO:tensorflow:Evaluation [610/1000]\n",
      "INFO:tensorflow:Evaluation [611/1000]\n",
      "INFO:tensorflow:Evaluation [612/1000]\n",
      "INFO:tensorflow:Evaluation [613/1000]\n",
      "INFO:tensorflow:Evaluation [614/1000]\n",
      "INFO:tensorflow:Evaluation [615/1000]\n",
      "INFO:tensorflow:Evaluation [616/1000]\n",
      "INFO:tensorflow:Evaluation [617/1000]\n",
      "INFO:tensorflow:Evaluation [618/1000]\n",
      "INFO:tensorflow:Evaluation [619/1000]\n",
      "INFO:tensorflow:Evaluation [620/1000]\n",
      "INFO:tensorflow:Evaluation [621/1000]\n",
      "INFO:tensorflow:Evaluation [622/1000]\n",
      "INFO:tensorflow:Evaluation [623/1000]\n",
      "INFO:tensorflow:Evaluation [624/1000]\n",
      "INFO:tensorflow:Evaluation [625/1000]\n",
      "INFO:tensorflow:Evaluation [626/1000]\n",
      "INFO:tensorflow:Evaluation [627/1000]\n",
      "INFO:tensorflow:Evaluation [628/1000]\n",
      "INFO:tensorflow:Evaluation [629/1000]\n",
      "INFO:tensorflow:Evaluation [630/1000]\n",
      "INFO:tensorflow:Evaluation [631/1000]\n",
      "INFO:tensorflow:Evaluation [632/1000]\n",
      "INFO:tensorflow:Evaluation [633/1000]\n",
      "INFO:tensorflow:Evaluation [634/1000]\n",
      "INFO:tensorflow:Evaluation [635/1000]\n",
      "INFO:tensorflow:Evaluation [636/1000]\n",
      "INFO:tensorflow:Evaluation [637/1000]\n",
      "INFO:tensorflow:Evaluation [638/1000]\n",
      "INFO:tensorflow:Evaluation [639/1000]\n",
      "INFO:tensorflow:Evaluation [640/1000]\n",
      "INFO:tensorflow:Evaluation [641/1000]\n",
      "INFO:tensorflow:Evaluation [642/1000]\n",
      "INFO:tensorflow:Evaluation [643/1000]\n",
      "INFO:tensorflow:Evaluation [644/1000]\n",
      "INFO:tensorflow:Evaluation [645/1000]\n",
      "INFO:tensorflow:Evaluation [646/1000]\n",
      "INFO:tensorflow:Evaluation [647/1000]\n"
     ]
    },
    {
     "name": "stdout",
     "output_type": "stream",
     "text": [
      "INFO:tensorflow:Evaluation [648/1000]\n",
      "INFO:tensorflow:Evaluation [649/1000]\n",
      "INFO:tensorflow:Evaluation [650/1000]\n",
      "INFO:tensorflow:Evaluation [651/1000]\n",
      "INFO:tensorflow:Evaluation [652/1000]\n",
      "INFO:tensorflow:Evaluation [653/1000]\n",
      "INFO:tensorflow:Evaluation [654/1000]\n",
      "INFO:tensorflow:Evaluation [655/1000]\n",
      "INFO:tensorflow:Evaluation [656/1000]\n",
      "INFO:tensorflow:Evaluation [657/1000]\n",
      "INFO:tensorflow:Evaluation [658/1000]\n",
      "INFO:tensorflow:Evaluation [659/1000]\n",
      "INFO:tensorflow:Evaluation [660/1000]\n",
      "INFO:tensorflow:Evaluation [661/1000]\n",
      "INFO:tensorflow:Evaluation [662/1000]\n",
      "INFO:tensorflow:Evaluation [663/1000]\n",
      "INFO:tensorflow:Evaluation [664/1000]\n",
      "INFO:tensorflow:Evaluation [665/1000]\n",
      "INFO:tensorflow:Evaluation [666/1000]\n",
      "INFO:tensorflow:Evaluation [667/1000]\n",
      "INFO:tensorflow:Evaluation [668/1000]\n",
      "INFO:tensorflow:Evaluation [669/1000]\n",
      "INFO:tensorflow:Evaluation [670/1000]\n",
      "INFO:tensorflow:Evaluation [671/1000]\n",
      "INFO:tensorflow:Evaluation [672/1000]\n",
      "INFO:tensorflow:Evaluation [673/1000]\n",
      "INFO:tensorflow:Evaluation [674/1000]\n",
      "INFO:tensorflow:Evaluation [675/1000]\n",
      "INFO:tensorflow:Evaluation [676/1000]\n",
      "INFO:tensorflow:Evaluation [677/1000]\n",
      "INFO:tensorflow:Evaluation [678/1000]\n",
      "INFO:tensorflow:Evaluation [679/1000]\n",
      "INFO:tensorflow:Evaluation [680/1000]\n",
      "INFO:tensorflow:Evaluation [681/1000]\n",
      "INFO:tensorflow:Evaluation [682/1000]\n",
      "INFO:tensorflow:Evaluation [683/1000]\n",
      "INFO:tensorflow:Evaluation [684/1000]\n",
      "INFO:tensorflow:Evaluation [685/1000]\n",
      "INFO:tensorflow:Evaluation [686/1000]\n",
      "INFO:tensorflow:Evaluation [687/1000]\n",
      "INFO:tensorflow:Evaluation [688/1000]\n",
      "INFO:tensorflow:Evaluation [689/1000]\n",
      "INFO:tensorflow:Evaluation [690/1000]\n",
      "INFO:tensorflow:Evaluation [691/1000]\n",
      "INFO:tensorflow:Evaluation [692/1000]\n",
      "INFO:tensorflow:Evaluation [693/1000]\n",
      "INFO:tensorflow:Evaluation [694/1000]\n",
      "INFO:tensorflow:Evaluation [695/1000]\n",
      "INFO:tensorflow:Evaluation [696/1000]\n",
      "INFO:tensorflow:Evaluation [697/1000]\n",
      "INFO:tensorflow:Evaluation [698/1000]\n",
      "INFO:tensorflow:Evaluation [699/1000]\n",
      "INFO:tensorflow:Evaluation [700/1000]\n",
      "INFO:tensorflow:Evaluation [701/1000]\n",
      "INFO:tensorflow:Evaluation [702/1000]\n",
      "INFO:tensorflow:Evaluation [703/1000]\n",
      "INFO:tensorflow:Evaluation [704/1000]\n",
      "INFO:tensorflow:Evaluation [705/1000]\n",
      "INFO:tensorflow:Evaluation [706/1000]\n",
      "INFO:tensorflow:Evaluation [707/1000]\n",
      "INFO:tensorflow:Evaluation [708/1000]\n",
      "INFO:tensorflow:Evaluation [709/1000]\n",
      "INFO:tensorflow:Evaluation [710/1000]\n",
      "INFO:tensorflow:Evaluation [711/1000]\n",
      "INFO:tensorflow:Evaluation [712/1000]\n",
      "INFO:tensorflow:Evaluation [713/1000]\n",
      "INFO:tensorflow:Evaluation [714/1000]\n",
      "INFO:tensorflow:Evaluation [715/1000]\n",
      "INFO:tensorflow:Evaluation [716/1000]\n",
      "INFO:tensorflow:Evaluation [717/1000]\n",
      "INFO:tensorflow:Evaluation [718/1000]\n",
      "INFO:tensorflow:Evaluation [719/1000]\n",
      "INFO:tensorflow:Evaluation [720/1000]\n",
      "INFO:tensorflow:Evaluation [721/1000]\n",
      "INFO:tensorflow:Evaluation [722/1000]\n",
      "INFO:tensorflow:Evaluation [723/1000]\n",
      "INFO:tensorflow:Evaluation [724/1000]\n",
      "INFO:tensorflow:Evaluation [725/1000]\n",
      "INFO:tensorflow:Evaluation [726/1000]\n",
      "INFO:tensorflow:Evaluation [727/1000]\n",
      "INFO:tensorflow:Evaluation [728/1000]\n",
      "INFO:tensorflow:Evaluation [729/1000]\n",
      "INFO:tensorflow:Evaluation [730/1000]\n",
      "INFO:tensorflow:Evaluation [731/1000]\n",
      "INFO:tensorflow:Evaluation [732/1000]\n",
      "INFO:tensorflow:Evaluation [733/1000]\n",
      "INFO:tensorflow:Evaluation [734/1000]\n",
      "INFO:tensorflow:Evaluation [735/1000]\n",
      "INFO:tensorflow:Evaluation [736/1000]\n",
      "INFO:tensorflow:Evaluation [737/1000]\n",
      "INFO:tensorflow:Evaluation [738/1000]\n",
      "INFO:tensorflow:Evaluation [739/1000]\n",
      "INFO:tensorflow:Evaluation [740/1000]\n",
      "INFO:tensorflow:Evaluation [741/1000]\n",
      "INFO:tensorflow:Evaluation [742/1000]\n",
      "INFO:tensorflow:Evaluation [743/1000]\n",
      "INFO:tensorflow:Evaluation [744/1000]\n",
      "INFO:tensorflow:Evaluation [745/1000]\n",
      "INFO:tensorflow:Evaluation [746/1000]\n",
      "INFO:tensorflow:Evaluation [747/1000]\n",
      "INFO:tensorflow:Evaluation [748/1000]\n",
      "INFO:tensorflow:Evaluation [749/1000]\n",
      "INFO:tensorflow:Evaluation [750/1000]\n",
      "INFO:tensorflow:Evaluation [751/1000]\n",
      "INFO:tensorflow:Evaluation [752/1000]\n",
      "INFO:tensorflow:Evaluation [753/1000]\n",
      "INFO:tensorflow:Evaluation [754/1000]\n",
      "INFO:tensorflow:Evaluation [755/1000]\n",
      "INFO:tensorflow:Evaluation [756/1000]\n",
      "INFO:tensorflow:Evaluation [757/1000]\n",
      "INFO:tensorflow:Evaluation [758/1000]\n",
      "INFO:tensorflow:Evaluation [759/1000]\n",
      "INFO:tensorflow:Evaluation [760/1000]\n",
      "INFO:tensorflow:Evaluation [761/1000]\n",
      "INFO:tensorflow:Evaluation [762/1000]\n",
      "INFO:tensorflow:Evaluation [763/1000]\n",
      "INFO:tensorflow:Evaluation [764/1000]\n",
      "INFO:tensorflow:Evaluation [765/1000]\n",
      "INFO:tensorflow:Evaluation [766/1000]\n",
      "INFO:tensorflow:Evaluation [767/1000]\n",
      "INFO:tensorflow:Evaluation [768/1000]\n",
      "INFO:tensorflow:Evaluation [769/1000]\n",
      "INFO:tensorflow:Evaluation [770/1000]\n",
      "INFO:tensorflow:Evaluation [771/1000]\n",
      "INFO:tensorflow:Evaluation [772/1000]\n",
      "INFO:tensorflow:Evaluation [773/1000]\n",
      "INFO:tensorflow:Evaluation [774/1000]\n",
      "INFO:tensorflow:Evaluation [775/1000]\n",
      "INFO:tensorflow:Evaluation [776/1000]\n",
      "INFO:tensorflow:Evaluation [777/1000]\n",
      "INFO:tensorflow:Evaluation [778/1000]\n",
      "INFO:tensorflow:Evaluation [779/1000]\n",
      "INFO:tensorflow:Evaluation [780/1000]\n",
      "INFO:tensorflow:Evaluation [781/1000]\n",
      "INFO:tensorflow:Evaluation [782/1000]\n",
      "INFO:tensorflow:Evaluation [783/1000]\n",
      "INFO:tensorflow:Evaluation [784/1000]\n",
      "INFO:tensorflow:Evaluation [785/1000]\n",
      "INFO:tensorflow:Evaluation [786/1000]\n",
      "INFO:tensorflow:Evaluation [787/1000]\n",
      "INFO:tensorflow:Evaluation [788/1000]\n",
      "INFO:tensorflow:Evaluation [789/1000]\n",
      "INFO:tensorflow:Evaluation [790/1000]\n",
      "INFO:tensorflow:Evaluation [791/1000]\n",
      "INFO:tensorflow:Evaluation [792/1000]\n",
      "INFO:tensorflow:Evaluation [793/1000]\n",
      "INFO:tensorflow:Evaluation [794/1000]\n",
      "INFO:tensorflow:Evaluation [795/1000]\n",
      "INFO:tensorflow:Evaluation [796/1000]\n",
      "INFO:tensorflow:Evaluation [797/1000]\n",
      "INFO:tensorflow:Evaluation [798/1000]\n",
      "INFO:tensorflow:Evaluation [799/1000]\n",
      "INFO:tensorflow:Evaluation [800/1000]\n",
      "INFO:tensorflow:Evaluation [801/1000]\n",
      "INFO:tensorflow:Evaluation [802/1000]\n",
      "INFO:tensorflow:Evaluation [803/1000]\n",
      "INFO:tensorflow:Evaluation [804/1000]\n",
      "INFO:tensorflow:Evaluation [805/1000]\n",
      "INFO:tensorflow:Evaluation [806/1000]\n",
      "INFO:tensorflow:Evaluation [807/1000]\n",
      "INFO:tensorflow:Evaluation [808/1000]\n",
      "INFO:tensorflow:Evaluation [809/1000]\n",
      "INFO:tensorflow:Evaluation [810/1000]\n",
      "INFO:tensorflow:Evaluation [811/1000]\n",
      "INFO:tensorflow:Evaluation [812/1000]\n",
      "INFO:tensorflow:Evaluation [813/1000]\n",
      "INFO:tensorflow:Evaluation [814/1000]\n",
      "INFO:tensorflow:Evaluation [815/1000]\n",
      "INFO:tensorflow:Evaluation [816/1000]\n",
      "INFO:tensorflow:Evaluation [817/1000]\n",
      "INFO:tensorflow:Evaluation [818/1000]\n",
      "INFO:tensorflow:Evaluation [819/1000]\n",
      "INFO:tensorflow:Evaluation [820/1000]\n",
      "INFO:tensorflow:Evaluation [821/1000]\n",
      "INFO:tensorflow:Evaluation [822/1000]\n",
      "INFO:tensorflow:Evaluation [823/1000]\n",
      "INFO:tensorflow:Evaluation [824/1000]\n",
      "INFO:tensorflow:Evaluation [825/1000]\n",
      "INFO:tensorflow:Evaluation [826/1000]\n",
      "INFO:tensorflow:Evaluation [827/1000]\n",
      "INFO:tensorflow:Evaluation [828/1000]\n",
      "INFO:tensorflow:Evaluation [829/1000]\n",
      "INFO:tensorflow:Evaluation [830/1000]\n",
      "INFO:tensorflow:Evaluation [831/1000]\n",
      "INFO:tensorflow:Evaluation [832/1000]\n",
      "INFO:tensorflow:Evaluation [833/1000]\n",
      "INFO:tensorflow:Evaluation [834/1000]\n",
      "INFO:tensorflow:Evaluation [835/1000]\n",
      "INFO:tensorflow:Evaluation [836/1000]\n",
      "INFO:tensorflow:Evaluation [837/1000]\n",
      "INFO:tensorflow:Evaluation [838/1000]\n",
      "INFO:tensorflow:Evaluation [839/1000]\n",
      "INFO:tensorflow:Evaluation [840/1000]\n",
      "INFO:tensorflow:Evaluation [841/1000]\n",
      "INFO:tensorflow:Evaluation [842/1000]\n",
      "INFO:tensorflow:Evaluation [843/1000]\n",
      "INFO:tensorflow:Evaluation [844/1000]\n",
      "INFO:tensorflow:Evaluation [845/1000]\n",
      "INFO:tensorflow:Evaluation [846/1000]\n",
      "INFO:tensorflow:Evaluation [847/1000]\n",
      "INFO:tensorflow:Evaluation [848/1000]\n",
      "INFO:tensorflow:Evaluation [849/1000]\n",
      "INFO:tensorflow:Evaluation [850/1000]\n",
      "INFO:tensorflow:Evaluation [851/1000]\n",
      "INFO:tensorflow:Evaluation [852/1000]\n",
      "INFO:tensorflow:Evaluation [853/1000]\n",
      "INFO:tensorflow:Evaluation [854/1000]\n",
      "INFO:tensorflow:Evaluation [855/1000]\n",
      "INFO:tensorflow:Evaluation [856/1000]\n",
      "INFO:tensorflow:Evaluation [857/1000]\n",
      "INFO:tensorflow:Evaluation [858/1000]\n",
      "INFO:tensorflow:Evaluation [859/1000]\n",
      "INFO:tensorflow:Evaluation [860/1000]\n",
      "INFO:tensorflow:Evaluation [861/1000]\n",
      "INFO:tensorflow:Evaluation [862/1000]\n",
      "INFO:tensorflow:Evaluation [863/1000]\n"
     ]
    },
    {
     "name": "stdout",
     "output_type": "stream",
     "text": [
      "INFO:tensorflow:Evaluation [864/1000]\n",
      "INFO:tensorflow:Evaluation [865/1000]\n",
      "INFO:tensorflow:Evaluation [866/1000]\n",
      "INFO:tensorflow:Evaluation [867/1000]\n",
      "INFO:tensorflow:Evaluation [868/1000]\n",
      "INFO:tensorflow:Evaluation [869/1000]\n",
      "INFO:tensorflow:Evaluation [870/1000]\n",
      "INFO:tensorflow:Evaluation [871/1000]\n",
      "INFO:tensorflow:Evaluation [872/1000]\n",
      "INFO:tensorflow:Evaluation [873/1000]\n",
      "INFO:tensorflow:Evaluation [874/1000]\n",
      "INFO:tensorflow:Evaluation [875/1000]\n",
      "INFO:tensorflow:Evaluation [876/1000]\n",
      "INFO:tensorflow:Evaluation [877/1000]\n",
      "INFO:tensorflow:Evaluation [878/1000]\n",
      "INFO:tensorflow:Evaluation [879/1000]\n",
      "INFO:tensorflow:Evaluation [880/1000]\n",
      "INFO:tensorflow:Evaluation [881/1000]\n",
      "INFO:tensorflow:Evaluation [882/1000]\n",
      "INFO:tensorflow:Evaluation [883/1000]\n",
      "INFO:tensorflow:Evaluation [884/1000]\n",
      "INFO:tensorflow:Evaluation [885/1000]\n",
      "INFO:tensorflow:Evaluation [886/1000]\n",
      "INFO:tensorflow:Evaluation [887/1000]\n",
      "INFO:tensorflow:Evaluation [888/1000]\n",
      "INFO:tensorflow:Evaluation [889/1000]\n",
      "INFO:tensorflow:Evaluation [890/1000]\n",
      "INFO:tensorflow:Evaluation [891/1000]\n",
      "INFO:tensorflow:Evaluation [892/1000]\n",
      "INFO:tensorflow:Evaluation [893/1000]\n",
      "INFO:tensorflow:Evaluation [894/1000]\n",
      "INFO:tensorflow:Evaluation [895/1000]\n",
      "INFO:tensorflow:Evaluation [896/1000]\n",
      "INFO:tensorflow:Evaluation [897/1000]\n",
      "INFO:tensorflow:Evaluation [898/1000]\n",
      "INFO:tensorflow:Evaluation [899/1000]\n",
      "INFO:tensorflow:Evaluation [900/1000]\n",
      "INFO:tensorflow:Evaluation [901/1000]\n",
      "INFO:tensorflow:Evaluation [902/1000]\n",
      "INFO:tensorflow:Evaluation [903/1000]\n",
      "INFO:tensorflow:Evaluation [904/1000]\n",
      "INFO:tensorflow:Evaluation [905/1000]\n",
      "INFO:tensorflow:Evaluation [906/1000]\n",
      "INFO:tensorflow:Evaluation [907/1000]\n",
      "INFO:tensorflow:Evaluation [908/1000]\n",
      "INFO:tensorflow:Evaluation [909/1000]\n",
      "INFO:tensorflow:Evaluation [910/1000]\n",
      "INFO:tensorflow:Evaluation [911/1000]\n",
      "INFO:tensorflow:Evaluation [912/1000]\n",
      "INFO:tensorflow:Evaluation [913/1000]\n",
      "INFO:tensorflow:Evaluation [914/1000]\n",
      "INFO:tensorflow:Evaluation [915/1000]\n",
      "INFO:tensorflow:Evaluation [916/1000]\n",
      "INFO:tensorflow:Evaluation [917/1000]\n",
      "INFO:tensorflow:Evaluation [918/1000]\n",
      "INFO:tensorflow:Evaluation [919/1000]\n",
      "INFO:tensorflow:Evaluation [920/1000]\n",
      "INFO:tensorflow:Evaluation [921/1000]\n",
      "INFO:tensorflow:Evaluation [922/1000]\n",
      "INFO:tensorflow:Evaluation [923/1000]\n",
      "INFO:tensorflow:Evaluation [924/1000]\n",
      "INFO:tensorflow:Evaluation [925/1000]\n",
      "INFO:tensorflow:Evaluation [926/1000]\n",
      "INFO:tensorflow:Evaluation [927/1000]\n",
      "INFO:tensorflow:Evaluation [928/1000]\n",
      "INFO:tensorflow:Evaluation [929/1000]\n",
      "INFO:tensorflow:Evaluation [930/1000]\n",
      "INFO:tensorflow:Evaluation [931/1000]\n",
      "INFO:tensorflow:Evaluation [932/1000]\n",
      "INFO:tensorflow:Evaluation [933/1000]\n",
      "INFO:tensorflow:Evaluation [934/1000]\n",
      "INFO:tensorflow:Evaluation [935/1000]\n",
      "INFO:tensorflow:Evaluation [936/1000]\n",
      "INFO:tensorflow:Evaluation [937/1000]\n",
      "INFO:tensorflow:Evaluation [938/1000]\n",
      "INFO:tensorflow:Evaluation [939/1000]\n",
      "INFO:tensorflow:Evaluation [940/1000]\n",
      "INFO:tensorflow:Evaluation [941/1000]\n",
      "INFO:tensorflow:Evaluation [942/1000]\n",
      "INFO:tensorflow:Evaluation [943/1000]\n",
      "INFO:tensorflow:Evaluation [944/1000]\n",
      "INFO:tensorflow:Evaluation [945/1000]\n",
      "INFO:tensorflow:Evaluation [946/1000]\n",
      "INFO:tensorflow:Evaluation [947/1000]\n",
      "INFO:tensorflow:Evaluation [948/1000]\n",
      "INFO:tensorflow:Evaluation [949/1000]\n",
      "INFO:tensorflow:Evaluation [950/1000]\n",
      "INFO:tensorflow:Evaluation [951/1000]\n",
      "INFO:tensorflow:Evaluation [952/1000]\n",
      "INFO:tensorflow:Evaluation [953/1000]\n",
      "INFO:tensorflow:Evaluation [954/1000]\n",
      "INFO:tensorflow:Evaluation [955/1000]\n",
      "INFO:tensorflow:Evaluation [956/1000]\n",
      "INFO:tensorflow:Evaluation [957/1000]\n",
      "INFO:tensorflow:Evaluation [958/1000]\n",
      "INFO:tensorflow:Evaluation [959/1000]\n",
      "INFO:tensorflow:Evaluation [960/1000]\n",
      "INFO:tensorflow:Evaluation [961/1000]\n",
      "INFO:tensorflow:Evaluation [962/1000]\n",
      "INFO:tensorflow:Evaluation [963/1000]\n",
      "INFO:tensorflow:Evaluation [964/1000]\n",
      "INFO:tensorflow:Evaluation [965/1000]\n",
      "INFO:tensorflow:Evaluation [966/1000]\n",
      "INFO:tensorflow:Evaluation [967/1000]\n",
      "INFO:tensorflow:Evaluation [968/1000]\n",
      "INFO:tensorflow:Evaluation [969/1000]\n",
      "INFO:tensorflow:Evaluation [970/1000]\n",
      "INFO:tensorflow:Evaluation [971/1000]\n",
      "INFO:tensorflow:Evaluation [972/1000]\n",
      "INFO:tensorflow:Evaluation [973/1000]\n",
      "INFO:tensorflow:Evaluation [974/1000]\n",
      "INFO:tensorflow:Evaluation [975/1000]\n",
      "INFO:tensorflow:Evaluation [976/1000]\n",
      "INFO:tensorflow:Evaluation [977/1000]\n",
      "INFO:tensorflow:Evaluation [978/1000]\n",
      "INFO:tensorflow:Evaluation [979/1000]\n",
      "INFO:tensorflow:Evaluation [980/1000]\n",
      "INFO:tensorflow:Evaluation [981/1000]\n",
      "INFO:tensorflow:Evaluation [982/1000]\n",
      "INFO:tensorflow:Evaluation [983/1000]\n",
      "INFO:tensorflow:Evaluation [984/1000]\n",
      "INFO:tensorflow:Evaluation [985/1000]\n",
      "INFO:tensorflow:Evaluation [986/1000]\n",
      "INFO:tensorflow:Evaluation [987/1000]\n",
      "INFO:tensorflow:Evaluation [988/1000]\n",
      "INFO:tensorflow:Evaluation [989/1000]\n",
      "INFO:tensorflow:Evaluation [990/1000]\n",
      "INFO:tensorflow:Evaluation [991/1000]\n",
      "INFO:tensorflow:Evaluation [992/1000]\n",
      "INFO:tensorflow:Evaluation [993/1000]\n",
      "INFO:tensorflow:Evaluation [994/1000]\n",
      "INFO:tensorflow:Evaluation [995/1000]\n",
      "INFO:tensorflow:Evaluation [996/1000]\n",
      "INFO:tensorflow:Evaluation [997/1000]\n",
      "INFO:tensorflow:Evaluation [998/1000]\n",
      "INFO:tensorflow:Evaluation [999/1000]\n",
      "INFO:tensorflow:Evaluation [1000/1000]\n",
      "INFO:tensorflow:Finished evaluation at 2018-04-10-07:54:06\n",
      "INFO:tensorflow:Saving dict for global step 1000: average_loss = 1.0922, global_step = 1000, loss = 8.7376\n"
     ]
    }
   ],
   "source": [
    "train_metrics = estimator.evaluate(input_fn=train_input_func,steps=1000)"
   ]
  },
  {
   "cell_type": "code",
   "execution_count": 131,
   "metadata": {},
   "outputs": [
    {
     "name": "stdout",
     "output_type": "stream",
     "text": [
      "INFO:tensorflow:Starting evaluation at 2018-04-10-07:55:00\n",
      "INFO:tensorflow:Restoring parameters from /tmp/tmpc4c1dott/model.ckpt-1000\n",
      "INFO:tensorflow:Evaluation [1/1000]\n",
      "INFO:tensorflow:Evaluation [2/1000]\n",
      "INFO:tensorflow:Evaluation [3/1000]\n",
      "INFO:tensorflow:Evaluation [4/1000]\n",
      "INFO:tensorflow:Evaluation [5/1000]\n",
      "INFO:tensorflow:Evaluation [6/1000]\n",
      "INFO:tensorflow:Evaluation [7/1000]\n",
      "INFO:tensorflow:Evaluation [8/1000]\n",
      "INFO:tensorflow:Evaluation [9/1000]\n",
      "INFO:tensorflow:Evaluation [10/1000]\n",
      "INFO:tensorflow:Evaluation [11/1000]\n",
      "INFO:tensorflow:Evaluation [12/1000]\n",
      "INFO:tensorflow:Evaluation [13/1000]\n",
      "INFO:tensorflow:Evaluation [14/1000]\n",
      "INFO:tensorflow:Evaluation [15/1000]\n",
      "INFO:tensorflow:Evaluation [16/1000]\n",
      "INFO:tensorflow:Evaluation [17/1000]\n",
      "INFO:tensorflow:Evaluation [18/1000]\n",
      "INFO:tensorflow:Evaluation [19/1000]\n",
      "INFO:tensorflow:Evaluation [20/1000]\n",
      "INFO:tensorflow:Evaluation [21/1000]\n",
      "INFO:tensorflow:Evaluation [22/1000]\n",
      "INFO:tensorflow:Evaluation [23/1000]\n",
      "INFO:tensorflow:Evaluation [24/1000]\n",
      "INFO:tensorflow:Evaluation [25/1000]\n",
      "INFO:tensorflow:Evaluation [26/1000]\n",
      "INFO:tensorflow:Evaluation [27/1000]\n",
      "INFO:tensorflow:Evaluation [28/1000]\n",
      "INFO:tensorflow:Evaluation [29/1000]\n",
      "INFO:tensorflow:Evaluation [30/1000]\n",
      "INFO:tensorflow:Evaluation [31/1000]\n",
      "INFO:tensorflow:Evaluation [32/1000]\n",
      "INFO:tensorflow:Evaluation [33/1000]\n",
      "INFO:tensorflow:Evaluation [34/1000]\n",
      "INFO:tensorflow:Evaluation [35/1000]\n",
      "INFO:tensorflow:Evaluation [36/1000]\n",
      "INFO:tensorflow:Evaluation [37/1000]\n",
      "INFO:tensorflow:Evaluation [38/1000]\n",
      "INFO:tensorflow:Evaluation [39/1000]\n",
      "INFO:tensorflow:Evaluation [40/1000]\n",
      "INFO:tensorflow:Evaluation [41/1000]\n",
      "INFO:tensorflow:Evaluation [42/1000]\n",
      "INFO:tensorflow:Evaluation [43/1000]\n",
      "INFO:tensorflow:Evaluation [44/1000]\n",
      "INFO:tensorflow:Evaluation [45/1000]\n",
      "INFO:tensorflow:Evaluation [46/1000]\n",
      "INFO:tensorflow:Evaluation [47/1000]\n",
      "INFO:tensorflow:Evaluation [48/1000]\n",
      "INFO:tensorflow:Evaluation [49/1000]\n",
      "INFO:tensorflow:Evaluation [50/1000]\n",
      "INFO:tensorflow:Evaluation [51/1000]\n",
      "INFO:tensorflow:Evaluation [52/1000]\n",
      "INFO:tensorflow:Evaluation [53/1000]\n",
      "INFO:tensorflow:Evaluation [54/1000]\n",
      "INFO:tensorflow:Evaluation [55/1000]\n",
      "INFO:tensorflow:Evaluation [56/1000]\n",
      "INFO:tensorflow:Evaluation [57/1000]\n",
      "INFO:tensorflow:Evaluation [58/1000]\n",
      "INFO:tensorflow:Evaluation [59/1000]\n",
      "INFO:tensorflow:Evaluation [60/1000]\n",
      "INFO:tensorflow:Evaluation [61/1000]\n",
      "INFO:tensorflow:Evaluation [62/1000]\n",
      "INFO:tensorflow:Evaluation [63/1000]\n",
      "INFO:tensorflow:Evaluation [64/1000]\n",
      "INFO:tensorflow:Evaluation [65/1000]\n",
      "INFO:tensorflow:Evaluation [66/1000]\n",
      "INFO:tensorflow:Evaluation [67/1000]\n",
      "INFO:tensorflow:Evaluation [68/1000]\n",
      "INFO:tensorflow:Evaluation [69/1000]\n",
      "INFO:tensorflow:Evaluation [70/1000]\n",
      "INFO:tensorflow:Evaluation [71/1000]\n",
      "INFO:tensorflow:Evaluation [72/1000]\n",
      "INFO:tensorflow:Evaluation [73/1000]\n",
      "INFO:tensorflow:Evaluation [74/1000]\n",
      "INFO:tensorflow:Evaluation [75/1000]\n",
      "INFO:tensorflow:Evaluation [76/1000]\n",
      "INFO:tensorflow:Evaluation [77/1000]\n",
      "INFO:tensorflow:Evaluation [78/1000]\n",
      "INFO:tensorflow:Evaluation [79/1000]\n",
      "INFO:tensorflow:Evaluation [80/1000]\n",
      "INFO:tensorflow:Evaluation [81/1000]\n",
      "INFO:tensorflow:Evaluation [82/1000]\n",
      "INFO:tensorflow:Evaluation [83/1000]\n",
      "INFO:tensorflow:Evaluation [84/1000]\n",
      "INFO:tensorflow:Evaluation [85/1000]\n",
      "INFO:tensorflow:Evaluation [86/1000]\n",
      "INFO:tensorflow:Evaluation [87/1000]\n",
      "INFO:tensorflow:Evaluation [88/1000]\n",
      "INFO:tensorflow:Evaluation [89/1000]\n",
      "INFO:tensorflow:Evaluation [90/1000]\n",
      "INFO:tensorflow:Evaluation [91/1000]\n",
      "INFO:tensorflow:Evaluation [92/1000]\n",
      "INFO:tensorflow:Evaluation [93/1000]\n",
      "INFO:tensorflow:Evaluation [94/1000]\n",
      "INFO:tensorflow:Evaluation [95/1000]\n",
      "INFO:tensorflow:Evaluation [96/1000]\n",
      "INFO:tensorflow:Evaluation [97/1000]\n",
      "INFO:tensorflow:Evaluation [98/1000]\n",
      "INFO:tensorflow:Evaluation [99/1000]\n",
      "INFO:tensorflow:Evaluation [100/1000]\n",
      "INFO:tensorflow:Evaluation [101/1000]\n",
      "INFO:tensorflow:Evaluation [102/1000]\n",
      "INFO:tensorflow:Evaluation [103/1000]\n",
      "INFO:tensorflow:Evaluation [104/1000]\n",
      "INFO:tensorflow:Evaluation [105/1000]\n",
      "INFO:tensorflow:Evaluation [106/1000]\n",
      "INFO:tensorflow:Evaluation [107/1000]\n",
      "INFO:tensorflow:Evaluation [108/1000]\n",
      "INFO:tensorflow:Evaluation [109/1000]\n",
      "INFO:tensorflow:Evaluation [110/1000]\n",
      "INFO:tensorflow:Evaluation [111/1000]\n",
      "INFO:tensorflow:Evaluation [112/1000]\n",
      "INFO:tensorflow:Evaluation [113/1000]\n",
      "INFO:tensorflow:Evaluation [114/1000]\n",
      "INFO:tensorflow:Evaluation [115/1000]\n",
      "INFO:tensorflow:Evaluation [116/1000]\n",
      "INFO:tensorflow:Evaluation [117/1000]\n",
      "INFO:tensorflow:Evaluation [118/1000]\n",
      "INFO:tensorflow:Evaluation [119/1000]\n",
      "INFO:tensorflow:Evaluation [120/1000]\n",
      "INFO:tensorflow:Evaluation [121/1000]\n",
      "INFO:tensorflow:Evaluation [122/1000]\n",
      "INFO:tensorflow:Evaluation [123/1000]\n",
      "INFO:tensorflow:Evaluation [124/1000]\n",
      "INFO:tensorflow:Evaluation [125/1000]\n",
      "INFO:tensorflow:Evaluation [126/1000]\n",
      "INFO:tensorflow:Evaluation [127/1000]\n",
      "INFO:tensorflow:Evaluation [128/1000]\n",
      "INFO:tensorflow:Evaluation [129/1000]\n",
      "INFO:tensorflow:Evaluation [130/1000]\n",
      "INFO:tensorflow:Evaluation [131/1000]\n",
      "INFO:tensorflow:Evaluation [132/1000]\n",
      "INFO:tensorflow:Evaluation [133/1000]\n",
      "INFO:tensorflow:Evaluation [134/1000]\n",
      "INFO:tensorflow:Evaluation [135/1000]\n",
      "INFO:tensorflow:Evaluation [136/1000]\n",
      "INFO:tensorflow:Evaluation [137/1000]\n",
      "INFO:tensorflow:Evaluation [138/1000]\n",
      "INFO:tensorflow:Evaluation [139/1000]\n",
      "INFO:tensorflow:Evaluation [140/1000]\n",
      "INFO:tensorflow:Evaluation [141/1000]\n",
      "INFO:tensorflow:Evaluation [142/1000]\n",
      "INFO:tensorflow:Evaluation [143/1000]\n",
      "INFO:tensorflow:Evaluation [144/1000]\n",
      "INFO:tensorflow:Evaluation [145/1000]\n",
      "INFO:tensorflow:Evaluation [146/1000]\n",
      "INFO:tensorflow:Evaluation [147/1000]\n",
      "INFO:tensorflow:Evaluation [148/1000]\n",
      "INFO:tensorflow:Evaluation [149/1000]\n",
      "INFO:tensorflow:Evaluation [150/1000]\n",
      "INFO:tensorflow:Evaluation [151/1000]\n",
      "INFO:tensorflow:Evaluation [152/1000]\n",
      "INFO:tensorflow:Evaluation [153/1000]\n",
      "INFO:tensorflow:Evaluation [154/1000]\n",
      "INFO:tensorflow:Evaluation [155/1000]\n",
      "INFO:tensorflow:Evaluation [156/1000]\n",
      "INFO:tensorflow:Evaluation [157/1000]\n",
      "INFO:tensorflow:Evaluation [158/1000]\n",
      "INFO:tensorflow:Evaluation [159/1000]\n",
      "INFO:tensorflow:Evaluation [160/1000]\n",
      "INFO:tensorflow:Evaluation [161/1000]\n",
      "INFO:tensorflow:Evaluation [162/1000]\n",
      "INFO:tensorflow:Evaluation [163/1000]\n",
      "INFO:tensorflow:Evaluation [164/1000]\n",
      "INFO:tensorflow:Evaluation [165/1000]\n",
      "INFO:tensorflow:Evaluation [166/1000]\n",
      "INFO:tensorflow:Evaluation [167/1000]\n",
      "INFO:tensorflow:Evaluation [168/1000]\n",
      "INFO:tensorflow:Evaluation [169/1000]\n",
      "INFO:tensorflow:Evaluation [170/1000]\n",
      "INFO:tensorflow:Evaluation [171/1000]\n",
      "INFO:tensorflow:Evaluation [172/1000]\n",
      "INFO:tensorflow:Evaluation [173/1000]\n",
      "INFO:tensorflow:Evaluation [174/1000]\n",
      "INFO:tensorflow:Evaluation [175/1000]\n",
      "INFO:tensorflow:Evaluation [176/1000]\n",
      "INFO:tensorflow:Evaluation [177/1000]\n",
      "INFO:tensorflow:Evaluation [178/1000]\n",
      "INFO:tensorflow:Evaluation [179/1000]\n",
      "INFO:tensorflow:Evaluation [180/1000]\n",
      "INFO:tensorflow:Evaluation [181/1000]\n",
      "INFO:tensorflow:Evaluation [182/1000]\n",
      "INFO:tensorflow:Evaluation [183/1000]\n",
      "INFO:tensorflow:Evaluation [184/1000]\n",
      "INFO:tensorflow:Evaluation [185/1000]\n",
      "INFO:tensorflow:Evaluation [186/1000]\n",
      "INFO:tensorflow:Evaluation [187/1000]\n",
      "INFO:tensorflow:Evaluation [188/1000]\n",
      "INFO:tensorflow:Evaluation [189/1000]\n",
      "INFO:tensorflow:Evaluation [190/1000]\n",
      "INFO:tensorflow:Evaluation [191/1000]\n",
      "INFO:tensorflow:Evaluation [192/1000]\n",
      "INFO:tensorflow:Evaluation [193/1000]\n",
      "INFO:tensorflow:Evaluation [194/1000]\n",
      "INFO:tensorflow:Evaluation [195/1000]\n",
      "INFO:tensorflow:Evaluation [196/1000]\n",
      "INFO:tensorflow:Evaluation [197/1000]\n",
      "INFO:tensorflow:Evaluation [198/1000]\n",
      "INFO:tensorflow:Evaluation [199/1000]\n",
      "INFO:tensorflow:Evaluation [200/1000]\n",
      "INFO:tensorflow:Evaluation [201/1000]\n",
      "INFO:tensorflow:Evaluation [202/1000]\n",
      "INFO:tensorflow:Evaluation [203/1000]\n",
      "INFO:tensorflow:Evaluation [204/1000]\n",
      "INFO:tensorflow:Evaluation [205/1000]\n",
      "INFO:tensorflow:Evaluation [206/1000]\n",
      "INFO:tensorflow:Evaluation [207/1000]\n",
      "INFO:tensorflow:Evaluation [208/1000]\n",
      "INFO:tensorflow:Evaluation [209/1000]\n",
      "INFO:tensorflow:Evaluation [210/1000]\n",
      "INFO:tensorflow:Evaluation [211/1000]\n",
      "INFO:tensorflow:Evaluation [212/1000]\n",
      "INFO:tensorflow:Evaluation [213/1000]\n",
      "INFO:tensorflow:Evaluation [214/1000]\n",
      "INFO:tensorflow:Evaluation [215/1000]\n"
     ]
    },
    {
     "name": "stdout",
     "output_type": "stream",
     "text": [
      "INFO:tensorflow:Evaluation [216/1000]\n",
      "INFO:tensorflow:Evaluation [217/1000]\n",
      "INFO:tensorflow:Evaluation [218/1000]\n",
      "INFO:tensorflow:Evaluation [219/1000]\n",
      "INFO:tensorflow:Evaluation [220/1000]\n",
      "INFO:tensorflow:Evaluation [221/1000]\n",
      "INFO:tensorflow:Evaluation [222/1000]\n",
      "INFO:tensorflow:Evaluation [223/1000]\n",
      "INFO:tensorflow:Evaluation [224/1000]\n",
      "INFO:tensorflow:Evaluation [225/1000]\n",
      "INFO:tensorflow:Evaluation [226/1000]\n",
      "INFO:tensorflow:Evaluation [227/1000]\n",
      "INFO:tensorflow:Evaluation [228/1000]\n",
      "INFO:tensorflow:Evaluation [229/1000]\n",
      "INFO:tensorflow:Evaluation [230/1000]\n",
      "INFO:tensorflow:Evaluation [231/1000]\n",
      "INFO:tensorflow:Evaluation [232/1000]\n",
      "INFO:tensorflow:Evaluation [233/1000]\n",
      "INFO:tensorflow:Evaluation [234/1000]\n",
      "INFO:tensorflow:Evaluation [235/1000]\n",
      "INFO:tensorflow:Evaluation [236/1000]\n",
      "INFO:tensorflow:Evaluation [237/1000]\n",
      "INFO:tensorflow:Evaluation [238/1000]\n",
      "INFO:tensorflow:Evaluation [239/1000]\n",
      "INFO:tensorflow:Evaluation [240/1000]\n",
      "INFO:tensorflow:Evaluation [241/1000]\n",
      "INFO:tensorflow:Evaluation [242/1000]\n",
      "INFO:tensorflow:Evaluation [243/1000]\n",
      "INFO:tensorflow:Evaluation [244/1000]\n",
      "INFO:tensorflow:Evaluation [245/1000]\n",
      "INFO:tensorflow:Evaluation [246/1000]\n",
      "INFO:tensorflow:Evaluation [247/1000]\n",
      "INFO:tensorflow:Evaluation [248/1000]\n",
      "INFO:tensorflow:Evaluation [249/1000]\n",
      "INFO:tensorflow:Evaluation [250/1000]\n",
      "INFO:tensorflow:Evaluation [251/1000]\n",
      "INFO:tensorflow:Evaluation [252/1000]\n",
      "INFO:tensorflow:Evaluation [253/1000]\n",
      "INFO:tensorflow:Evaluation [254/1000]\n",
      "INFO:tensorflow:Evaluation [255/1000]\n",
      "INFO:tensorflow:Evaluation [256/1000]\n",
      "INFO:tensorflow:Evaluation [257/1000]\n",
      "INFO:tensorflow:Evaluation [258/1000]\n",
      "INFO:tensorflow:Evaluation [259/1000]\n",
      "INFO:tensorflow:Evaluation [260/1000]\n",
      "INFO:tensorflow:Evaluation [261/1000]\n",
      "INFO:tensorflow:Evaluation [262/1000]\n",
      "INFO:tensorflow:Evaluation [263/1000]\n",
      "INFO:tensorflow:Evaluation [264/1000]\n",
      "INFO:tensorflow:Evaluation [265/1000]\n",
      "INFO:tensorflow:Evaluation [266/1000]\n",
      "INFO:tensorflow:Evaluation [267/1000]\n",
      "INFO:tensorflow:Evaluation [268/1000]\n",
      "INFO:tensorflow:Evaluation [269/1000]\n",
      "INFO:tensorflow:Evaluation [270/1000]\n",
      "INFO:tensorflow:Evaluation [271/1000]\n",
      "INFO:tensorflow:Evaluation [272/1000]\n",
      "INFO:tensorflow:Evaluation [273/1000]\n",
      "INFO:tensorflow:Evaluation [274/1000]\n",
      "INFO:tensorflow:Evaluation [275/1000]\n",
      "INFO:tensorflow:Evaluation [276/1000]\n",
      "INFO:tensorflow:Evaluation [277/1000]\n",
      "INFO:tensorflow:Evaluation [278/1000]\n",
      "INFO:tensorflow:Evaluation [279/1000]\n",
      "INFO:tensorflow:Evaluation [280/1000]\n",
      "INFO:tensorflow:Evaluation [281/1000]\n",
      "INFO:tensorflow:Evaluation [282/1000]\n",
      "INFO:tensorflow:Evaluation [283/1000]\n",
      "INFO:tensorflow:Evaluation [284/1000]\n",
      "INFO:tensorflow:Evaluation [285/1000]\n",
      "INFO:tensorflow:Evaluation [286/1000]\n",
      "INFO:tensorflow:Evaluation [287/1000]\n",
      "INFO:tensorflow:Evaluation [288/1000]\n",
      "INFO:tensorflow:Evaluation [289/1000]\n",
      "INFO:tensorflow:Evaluation [290/1000]\n",
      "INFO:tensorflow:Evaluation [291/1000]\n",
      "INFO:tensorflow:Evaluation [292/1000]\n",
      "INFO:tensorflow:Evaluation [293/1000]\n",
      "INFO:tensorflow:Evaluation [294/1000]\n",
      "INFO:tensorflow:Evaluation [295/1000]\n",
      "INFO:tensorflow:Evaluation [296/1000]\n",
      "INFO:tensorflow:Evaluation [297/1000]\n",
      "INFO:tensorflow:Evaluation [298/1000]\n",
      "INFO:tensorflow:Evaluation [299/1000]\n",
      "INFO:tensorflow:Evaluation [300/1000]\n",
      "INFO:tensorflow:Evaluation [301/1000]\n",
      "INFO:tensorflow:Evaluation [302/1000]\n",
      "INFO:tensorflow:Evaluation [303/1000]\n",
      "INFO:tensorflow:Evaluation [304/1000]\n",
      "INFO:tensorflow:Evaluation [305/1000]\n",
      "INFO:tensorflow:Evaluation [306/1000]\n",
      "INFO:tensorflow:Evaluation [307/1000]\n",
      "INFO:tensorflow:Evaluation [308/1000]\n",
      "INFO:tensorflow:Evaluation [309/1000]\n",
      "INFO:tensorflow:Evaluation [310/1000]\n",
      "INFO:tensorflow:Evaluation [311/1000]\n",
      "INFO:tensorflow:Evaluation [312/1000]\n",
      "INFO:tensorflow:Evaluation [313/1000]\n",
      "INFO:tensorflow:Evaluation [314/1000]\n",
      "INFO:tensorflow:Evaluation [315/1000]\n",
      "INFO:tensorflow:Evaluation [316/1000]\n",
      "INFO:tensorflow:Evaluation [317/1000]\n",
      "INFO:tensorflow:Evaluation [318/1000]\n",
      "INFO:tensorflow:Evaluation [319/1000]\n",
      "INFO:tensorflow:Evaluation [320/1000]\n",
      "INFO:tensorflow:Evaluation [321/1000]\n",
      "INFO:tensorflow:Evaluation [322/1000]\n",
      "INFO:tensorflow:Evaluation [323/1000]\n",
      "INFO:tensorflow:Evaluation [324/1000]\n",
      "INFO:tensorflow:Evaluation [325/1000]\n",
      "INFO:tensorflow:Evaluation [326/1000]\n",
      "INFO:tensorflow:Evaluation [327/1000]\n",
      "INFO:tensorflow:Evaluation [328/1000]\n",
      "INFO:tensorflow:Evaluation [329/1000]\n",
      "INFO:tensorflow:Evaluation [330/1000]\n",
      "INFO:tensorflow:Evaluation [331/1000]\n",
      "INFO:tensorflow:Evaluation [332/1000]\n",
      "INFO:tensorflow:Evaluation [333/1000]\n",
      "INFO:tensorflow:Evaluation [334/1000]\n",
      "INFO:tensorflow:Evaluation [335/1000]\n",
      "INFO:tensorflow:Evaluation [336/1000]\n",
      "INFO:tensorflow:Evaluation [337/1000]\n",
      "INFO:tensorflow:Evaluation [338/1000]\n",
      "INFO:tensorflow:Evaluation [339/1000]\n",
      "INFO:tensorflow:Evaluation [340/1000]\n",
      "INFO:tensorflow:Evaluation [341/1000]\n",
      "INFO:tensorflow:Evaluation [342/1000]\n",
      "INFO:tensorflow:Evaluation [343/1000]\n",
      "INFO:tensorflow:Evaluation [344/1000]\n",
      "INFO:tensorflow:Evaluation [345/1000]\n",
      "INFO:tensorflow:Evaluation [346/1000]\n",
      "INFO:tensorflow:Evaluation [347/1000]\n",
      "INFO:tensorflow:Evaluation [348/1000]\n",
      "INFO:tensorflow:Evaluation [349/1000]\n",
      "INFO:tensorflow:Evaluation [350/1000]\n",
      "INFO:tensorflow:Evaluation [351/1000]\n",
      "INFO:tensorflow:Evaluation [352/1000]\n",
      "INFO:tensorflow:Evaluation [353/1000]\n",
      "INFO:tensorflow:Evaluation [354/1000]\n",
      "INFO:tensorflow:Evaluation [355/1000]\n",
      "INFO:tensorflow:Evaluation [356/1000]\n",
      "INFO:tensorflow:Evaluation [357/1000]\n",
      "INFO:tensorflow:Evaluation [358/1000]\n",
      "INFO:tensorflow:Evaluation [359/1000]\n",
      "INFO:tensorflow:Evaluation [360/1000]\n",
      "INFO:tensorflow:Evaluation [361/1000]\n",
      "INFO:tensorflow:Evaluation [362/1000]\n",
      "INFO:tensorflow:Evaluation [363/1000]\n",
      "INFO:tensorflow:Evaluation [364/1000]\n",
      "INFO:tensorflow:Evaluation [365/1000]\n",
      "INFO:tensorflow:Evaluation [366/1000]\n",
      "INFO:tensorflow:Evaluation [367/1000]\n",
      "INFO:tensorflow:Evaluation [368/1000]\n",
      "INFO:tensorflow:Evaluation [369/1000]\n",
      "INFO:tensorflow:Evaluation [370/1000]\n",
      "INFO:tensorflow:Evaluation [371/1000]\n",
      "INFO:tensorflow:Evaluation [372/1000]\n",
      "INFO:tensorflow:Evaluation [373/1000]\n",
      "INFO:tensorflow:Evaluation [374/1000]\n",
      "INFO:tensorflow:Evaluation [375/1000]\n",
      "INFO:tensorflow:Evaluation [376/1000]\n",
      "INFO:tensorflow:Evaluation [377/1000]\n",
      "INFO:tensorflow:Evaluation [378/1000]\n",
      "INFO:tensorflow:Evaluation [379/1000]\n",
      "INFO:tensorflow:Evaluation [380/1000]\n",
      "INFO:tensorflow:Evaluation [381/1000]\n",
      "INFO:tensorflow:Evaluation [382/1000]\n",
      "INFO:tensorflow:Evaluation [383/1000]\n",
      "INFO:tensorflow:Evaluation [384/1000]\n",
      "INFO:tensorflow:Evaluation [385/1000]\n",
      "INFO:tensorflow:Evaluation [386/1000]\n",
      "INFO:tensorflow:Evaluation [387/1000]\n",
      "INFO:tensorflow:Evaluation [388/1000]\n",
      "INFO:tensorflow:Evaluation [389/1000]\n",
      "INFO:tensorflow:Evaluation [390/1000]\n",
      "INFO:tensorflow:Evaluation [391/1000]\n",
      "INFO:tensorflow:Evaluation [392/1000]\n",
      "INFO:tensorflow:Evaluation [393/1000]\n",
      "INFO:tensorflow:Evaluation [394/1000]\n",
      "INFO:tensorflow:Evaluation [395/1000]\n",
      "INFO:tensorflow:Evaluation [396/1000]\n",
      "INFO:tensorflow:Evaluation [397/1000]\n",
      "INFO:tensorflow:Evaluation [398/1000]\n",
      "INFO:tensorflow:Evaluation [399/1000]\n",
      "INFO:tensorflow:Evaluation [400/1000]\n",
      "INFO:tensorflow:Evaluation [401/1000]\n",
      "INFO:tensorflow:Evaluation [402/1000]\n",
      "INFO:tensorflow:Evaluation [403/1000]\n",
      "INFO:tensorflow:Evaluation [404/1000]\n",
      "INFO:tensorflow:Evaluation [405/1000]\n",
      "INFO:tensorflow:Evaluation [406/1000]\n",
      "INFO:tensorflow:Evaluation [407/1000]\n",
      "INFO:tensorflow:Evaluation [408/1000]\n",
      "INFO:tensorflow:Evaluation [409/1000]\n",
      "INFO:tensorflow:Evaluation [410/1000]\n",
      "INFO:tensorflow:Evaluation [411/1000]\n",
      "INFO:tensorflow:Evaluation [412/1000]\n",
      "INFO:tensorflow:Evaluation [413/1000]\n",
      "INFO:tensorflow:Evaluation [414/1000]\n",
      "INFO:tensorflow:Evaluation [415/1000]\n",
      "INFO:tensorflow:Evaluation [416/1000]\n",
      "INFO:tensorflow:Evaluation [417/1000]\n",
      "INFO:tensorflow:Evaluation [418/1000]\n",
      "INFO:tensorflow:Evaluation [419/1000]\n",
      "INFO:tensorflow:Evaluation [420/1000]\n",
      "INFO:tensorflow:Evaluation [421/1000]\n",
      "INFO:tensorflow:Evaluation [422/1000]\n",
      "INFO:tensorflow:Evaluation [423/1000]\n",
      "INFO:tensorflow:Evaluation [424/1000]\n",
      "INFO:tensorflow:Evaluation [425/1000]\n",
      "INFO:tensorflow:Evaluation [426/1000]\n",
      "INFO:tensorflow:Evaluation [427/1000]\n",
      "INFO:tensorflow:Evaluation [428/1000]\n",
      "INFO:tensorflow:Evaluation [429/1000]\n",
      "INFO:tensorflow:Evaluation [430/1000]\n",
      "INFO:tensorflow:Evaluation [431/1000]\n"
     ]
    },
    {
     "name": "stdout",
     "output_type": "stream",
     "text": [
      "INFO:tensorflow:Evaluation [432/1000]\n",
      "INFO:tensorflow:Evaluation [433/1000]\n",
      "INFO:tensorflow:Evaluation [434/1000]\n",
      "INFO:tensorflow:Evaluation [435/1000]\n",
      "INFO:tensorflow:Evaluation [436/1000]\n",
      "INFO:tensorflow:Evaluation [437/1000]\n",
      "INFO:tensorflow:Evaluation [438/1000]\n",
      "INFO:tensorflow:Evaluation [439/1000]\n",
      "INFO:tensorflow:Evaluation [440/1000]\n",
      "INFO:tensorflow:Evaluation [441/1000]\n",
      "INFO:tensorflow:Evaluation [442/1000]\n",
      "INFO:tensorflow:Evaluation [443/1000]\n",
      "INFO:tensorflow:Evaluation [444/1000]\n",
      "INFO:tensorflow:Evaluation [445/1000]\n",
      "INFO:tensorflow:Evaluation [446/1000]\n",
      "INFO:tensorflow:Evaluation [447/1000]\n",
      "INFO:tensorflow:Evaluation [448/1000]\n",
      "INFO:tensorflow:Evaluation [449/1000]\n",
      "INFO:tensorflow:Evaluation [450/1000]\n",
      "INFO:tensorflow:Evaluation [451/1000]\n",
      "INFO:tensorflow:Evaluation [452/1000]\n",
      "INFO:tensorflow:Evaluation [453/1000]\n",
      "INFO:tensorflow:Evaluation [454/1000]\n",
      "INFO:tensorflow:Evaluation [455/1000]\n",
      "INFO:tensorflow:Evaluation [456/1000]\n",
      "INFO:tensorflow:Evaluation [457/1000]\n",
      "INFO:tensorflow:Evaluation [458/1000]\n",
      "INFO:tensorflow:Evaluation [459/1000]\n",
      "INFO:tensorflow:Evaluation [460/1000]\n",
      "INFO:tensorflow:Evaluation [461/1000]\n",
      "INFO:tensorflow:Evaluation [462/1000]\n",
      "INFO:tensorflow:Evaluation [463/1000]\n",
      "INFO:tensorflow:Evaluation [464/1000]\n",
      "INFO:tensorflow:Evaluation [465/1000]\n",
      "INFO:tensorflow:Evaluation [466/1000]\n",
      "INFO:tensorflow:Evaluation [467/1000]\n",
      "INFO:tensorflow:Evaluation [468/1000]\n",
      "INFO:tensorflow:Evaluation [469/1000]\n",
      "INFO:tensorflow:Evaluation [470/1000]\n",
      "INFO:tensorflow:Evaluation [471/1000]\n",
      "INFO:tensorflow:Evaluation [472/1000]\n",
      "INFO:tensorflow:Evaluation [473/1000]\n",
      "INFO:tensorflow:Evaluation [474/1000]\n",
      "INFO:tensorflow:Evaluation [475/1000]\n",
      "INFO:tensorflow:Evaluation [476/1000]\n",
      "INFO:tensorflow:Evaluation [477/1000]\n",
      "INFO:tensorflow:Evaluation [478/1000]\n",
      "INFO:tensorflow:Evaluation [479/1000]\n",
      "INFO:tensorflow:Evaluation [480/1000]\n",
      "INFO:tensorflow:Evaluation [481/1000]\n",
      "INFO:tensorflow:Evaluation [482/1000]\n",
      "INFO:tensorflow:Evaluation [483/1000]\n",
      "INFO:tensorflow:Evaluation [484/1000]\n",
      "INFO:tensorflow:Evaluation [485/1000]\n",
      "INFO:tensorflow:Evaluation [486/1000]\n",
      "INFO:tensorflow:Evaluation [487/1000]\n",
      "INFO:tensorflow:Evaluation [488/1000]\n",
      "INFO:tensorflow:Evaluation [489/1000]\n",
      "INFO:tensorflow:Evaluation [490/1000]\n",
      "INFO:tensorflow:Evaluation [491/1000]\n",
      "INFO:tensorflow:Evaluation [492/1000]\n",
      "INFO:tensorflow:Evaluation [493/1000]\n",
      "INFO:tensorflow:Evaluation [494/1000]\n",
      "INFO:tensorflow:Evaluation [495/1000]\n",
      "INFO:tensorflow:Evaluation [496/1000]\n",
      "INFO:tensorflow:Evaluation [497/1000]\n",
      "INFO:tensorflow:Evaluation [498/1000]\n",
      "INFO:tensorflow:Evaluation [499/1000]\n",
      "INFO:tensorflow:Evaluation [500/1000]\n",
      "INFO:tensorflow:Evaluation [501/1000]\n",
      "INFO:tensorflow:Evaluation [502/1000]\n",
      "INFO:tensorflow:Evaluation [503/1000]\n",
      "INFO:tensorflow:Evaluation [504/1000]\n",
      "INFO:tensorflow:Evaluation [505/1000]\n",
      "INFO:tensorflow:Evaluation [506/1000]\n",
      "INFO:tensorflow:Evaluation [507/1000]\n",
      "INFO:tensorflow:Evaluation [508/1000]\n",
      "INFO:tensorflow:Evaluation [509/1000]\n",
      "INFO:tensorflow:Evaluation [510/1000]\n",
      "INFO:tensorflow:Evaluation [511/1000]\n",
      "INFO:tensorflow:Evaluation [512/1000]\n",
      "INFO:tensorflow:Evaluation [513/1000]\n",
      "INFO:tensorflow:Evaluation [514/1000]\n",
      "INFO:tensorflow:Evaluation [515/1000]\n",
      "INFO:tensorflow:Evaluation [516/1000]\n",
      "INFO:tensorflow:Evaluation [517/1000]\n",
      "INFO:tensorflow:Evaluation [518/1000]\n",
      "INFO:tensorflow:Evaluation [519/1000]\n",
      "INFO:tensorflow:Evaluation [520/1000]\n",
      "INFO:tensorflow:Evaluation [521/1000]\n",
      "INFO:tensorflow:Evaluation [522/1000]\n",
      "INFO:tensorflow:Evaluation [523/1000]\n",
      "INFO:tensorflow:Evaluation [524/1000]\n",
      "INFO:tensorflow:Evaluation [525/1000]\n",
      "INFO:tensorflow:Evaluation [526/1000]\n",
      "INFO:tensorflow:Evaluation [527/1000]\n",
      "INFO:tensorflow:Evaluation [528/1000]\n",
      "INFO:tensorflow:Evaluation [529/1000]\n",
      "INFO:tensorflow:Evaluation [530/1000]\n",
      "INFO:tensorflow:Evaluation [531/1000]\n",
      "INFO:tensorflow:Evaluation [532/1000]\n",
      "INFO:tensorflow:Evaluation [533/1000]\n",
      "INFO:tensorflow:Evaluation [534/1000]\n",
      "INFO:tensorflow:Evaluation [535/1000]\n",
      "INFO:tensorflow:Evaluation [536/1000]\n",
      "INFO:tensorflow:Evaluation [537/1000]\n",
      "INFO:tensorflow:Evaluation [538/1000]\n",
      "INFO:tensorflow:Evaluation [539/1000]\n",
      "INFO:tensorflow:Evaluation [540/1000]\n",
      "INFO:tensorflow:Evaluation [541/1000]\n",
      "INFO:tensorflow:Evaluation [542/1000]\n",
      "INFO:tensorflow:Evaluation [543/1000]\n",
      "INFO:tensorflow:Evaluation [544/1000]\n",
      "INFO:tensorflow:Evaluation [545/1000]\n",
      "INFO:tensorflow:Evaluation [546/1000]\n",
      "INFO:tensorflow:Evaluation [547/1000]\n",
      "INFO:tensorflow:Evaluation [548/1000]\n",
      "INFO:tensorflow:Evaluation [549/1000]\n",
      "INFO:tensorflow:Evaluation [550/1000]\n",
      "INFO:tensorflow:Evaluation [551/1000]\n",
      "INFO:tensorflow:Evaluation [552/1000]\n",
      "INFO:tensorflow:Evaluation [553/1000]\n",
      "INFO:tensorflow:Evaluation [554/1000]\n",
      "INFO:tensorflow:Evaluation [555/1000]\n",
      "INFO:tensorflow:Evaluation [556/1000]\n",
      "INFO:tensorflow:Evaluation [557/1000]\n",
      "INFO:tensorflow:Evaluation [558/1000]\n",
      "INFO:tensorflow:Evaluation [559/1000]\n",
      "INFO:tensorflow:Evaluation [560/1000]\n",
      "INFO:tensorflow:Evaluation [561/1000]\n",
      "INFO:tensorflow:Evaluation [562/1000]\n",
      "INFO:tensorflow:Evaluation [563/1000]\n",
      "INFO:tensorflow:Evaluation [564/1000]\n",
      "INFO:tensorflow:Evaluation [565/1000]\n",
      "INFO:tensorflow:Evaluation [566/1000]\n",
      "INFO:tensorflow:Evaluation [567/1000]\n",
      "INFO:tensorflow:Evaluation [568/1000]\n",
      "INFO:tensorflow:Evaluation [569/1000]\n",
      "INFO:tensorflow:Evaluation [570/1000]\n",
      "INFO:tensorflow:Evaluation [571/1000]\n",
      "INFO:tensorflow:Evaluation [572/1000]\n",
      "INFO:tensorflow:Evaluation [573/1000]\n",
      "INFO:tensorflow:Evaluation [574/1000]\n",
      "INFO:tensorflow:Evaluation [575/1000]\n",
      "INFO:tensorflow:Evaluation [576/1000]\n",
      "INFO:tensorflow:Evaluation [577/1000]\n",
      "INFO:tensorflow:Evaluation [578/1000]\n",
      "INFO:tensorflow:Evaluation [579/1000]\n",
      "INFO:tensorflow:Evaluation [580/1000]\n",
      "INFO:tensorflow:Evaluation [581/1000]\n",
      "INFO:tensorflow:Evaluation [582/1000]\n",
      "INFO:tensorflow:Evaluation [583/1000]\n",
      "INFO:tensorflow:Evaluation [584/1000]\n",
      "INFO:tensorflow:Evaluation [585/1000]\n",
      "INFO:tensorflow:Evaluation [586/1000]\n",
      "INFO:tensorflow:Evaluation [587/1000]\n",
      "INFO:tensorflow:Evaluation [588/1000]\n",
      "INFO:tensorflow:Evaluation [589/1000]\n",
      "INFO:tensorflow:Evaluation [590/1000]\n",
      "INFO:tensorflow:Evaluation [591/1000]\n",
      "INFO:tensorflow:Evaluation [592/1000]\n",
      "INFO:tensorflow:Evaluation [593/1000]\n",
      "INFO:tensorflow:Evaluation [594/1000]\n",
      "INFO:tensorflow:Evaluation [595/1000]\n",
      "INFO:tensorflow:Evaluation [596/1000]\n",
      "INFO:tensorflow:Evaluation [597/1000]\n",
      "INFO:tensorflow:Evaluation [598/1000]\n",
      "INFO:tensorflow:Evaluation [599/1000]\n",
      "INFO:tensorflow:Evaluation [600/1000]\n",
      "INFO:tensorflow:Evaluation [601/1000]\n",
      "INFO:tensorflow:Evaluation [602/1000]\n",
      "INFO:tensorflow:Evaluation [603/1000]\n",
      "INFO:tensorflow:Evaluation [604/1000]\n",
      "INFO:tensorflow:Evaluation [605/1000]\n",
      "INFO:tensorflow:Evaluation [606/1000]\n",
      "INFO:tensorflow:Evaluation [607/1000]\n",
      "INFO:tensorflow:Evaluation [608/1000]\n",
      "INFO:tensorflow:Evaluation [609/1000]\n",
      "INFO:tensorflow:Evaluation [610/1000]\n",
      "INFO:tensorflow:Evaluation [611/1000]\n",
      "INFO:tensorflow:Evaluation [612/1000]\n",
      "INFO:tensorflow:Evaluation [613/1000]\n",
      "INFO:tensorflow:Evaluation [614/1000]\n",
      "INFO:tensorflow:Evaluation [615/1000]\n",
      "INFO:tensorflow:Evaluation [616/1000]\n",
      "INFO:tensorflow:Evaluation [617/1000]\n",
      "INFO:tensorflow:Evaluation [618/1000]\n",
      "INFO:tensorflow:Evaluation [619/1000]\n",
      "INFO:tensorflow:Evaluation [620/1000]\n",
      "INFO:tensorflow:Evaluation [621/1000]\n",
      "INFO:tensorflow:Evaluation [622/1000]\n",
      "INFO:tensorflow:Evaluation [623/1000]\n",
      "INFO:tensorflow:Evaluation [624/1000]\n",
      "INFO:tensorflow:Evaluation [625/1000]\n",
      "INFO:tensorflow:Evaluation [626/1000]\n",
      "INFO:tensorflow:Evaluation [627/1000]\n",
      "INFO:tensorflow:Evaluation [628/1000]\n",
      "INFO:tensorflow:Evaluation [629/1000]\n",
      "INFO:tensorflow:Evaluation [630/1000]\n",
      "INFO:tensorflow:Evaluation [631/1000]\n",
      "INFO:tensorflow:Evaluation [632/1000]\n",
      "INFO:tensorflow:Evaluation [633/1000]\n",
      "INFO:tensorflow:Evaluation [634/1000]\n",
      "INFO:tensorflow:Evaluation [635/1000]\n",
      "INFO:tensorflow:Evaluation [636/1000]\n",
      "INFO:tensorflow:Evaluation [637/1000]\n",
      "INFO:tensorflow:Evaluation [638/1000]\n",
      "INFO:tensorflow:Evaluation [639/1000]\n",
      "INFO:tensorflow:Evaluation [640/1000]\n",
      "INFO:tensorflow:Evaluation [641/1000]\n",
      "INFO:tensorflow:Evaluation [642/1000]\n",
      "INFO:tensorflow:Evaluation [643/1000]\n",
      "INFO:tensorflow:Evaluation [644/1000]\n",
      "INFO:tensorflow:Evaluation [645/1000]\n",
      "INFO:tensorflow:Evaluation [646/1000]\n",
      "INFO:tensorflow:Evaluation [647/1000]\n"
     ]
    },
    {
     "name": "stdout",
     "output_type": "stream",
     "text": [
      "INFO:tensorflow:Evaluation [648/1000]\n",
      "INFO:tensorflow:Evaluation [649/1000]\n",
      "INFO:tensorflow:Evaluation [650/1000]\n",
      "INFO:tensorflow:Evaluation [651/1000]\n",
      "INFO:tensorflow:Evaluation [652/1000]\n",
      "INFO:tensorflow:Evaluation [653/1000]\n",
      "INFO:tensorflow:Evaluation [654/1000]\n",
      "INFO:tensorflow:Evaluation [655/1000]\n",
      "INFO:tensorflow:Evaluation [656/1000]\n",
      "INFO:tensorflow:Evaluation [657/1000]\n",
      "INFO:tensorflow:Evaluation [658/1000]\n",
      "INFO:tensorflow:Evaluation [659/1000]\n",
      "INFO:tensorflow:Evaluation [660/1000]\n",
      "INFO:tensorflow:Evaluation [661/1000]\n",
      "INFO:tensorflow:Evaluation [662/1000]\n",
      "INFO:tensorflow:Evaluation [663/1000]\n",
      "INFO:tensorflow:Evaluation [664/1000]\n",
      "INFO:tensorflow:Evaluation [665/1000]\n",
      "INFO:tensorflow:Evaluation [666/1000]\n",
      "INFO:tensorflow:Evaluation [667/1000]\n",
      "INFO:tensorflow:Evaluation [668/1000]\n",
      "INFO:tensorflow:Evaluation [669/1000]\n",
      "INFO:tensorflow:Evaluation [670/1000]\n",
      "INFO:tensorflow:Evaluation [671/1000]\n",
      "INFO:tensorflow:Evaluation [672/1000]\n",
      "INFO:tensorflow:Evaluation [673/1000]\n",
      "INFO:tensorflow:Evaluation [674/1000]\n",
      "INFO:tensorflow:Evaluation [675/1000]\n",
      "INFO:tensorflow:Evaluation [676/1000]\n",
      "INFO:tensorflow:Evaluation [677/1000]\n",
      "INFO:tensorflow:Evaluation [678/1000]\n",
      "INFO:tensorflow:Evaluation [679/1000]\n",
      "INFO:tensorflow:Evaluation [680/1000]\n",
      "INFO:tensorflow:Evaluation [681/1000]\n",
      "INFO:tensorflow:Evaluation [682/1000]\n",
      "INFO:tensorflow:Evaluation [683/1000]\n",
      "INFO:tensorflow:Evaluation [684/1000]\n",
      "INFO:tensorflow:Evaluation [685/1000]\n",
      "INFO:tensorflow:Evaluation [686/1000]\n",
      "INFO:tensorflow:Evaluation [687/1000]\n",
      "INFO:tensorflow:Evaluation [688/1000]\n",
      "INFO:tensorflow:Evaluation [689/1000]\n",
      "INFO:tensorflow:Evaluation [690/1000]\n",
      "INFO:tensorflow:Evaluation [691/1000]\n",
      "INFO:tensorflow:Evaluation [692/1000]\n",
      "INFO:tensorflow:Evaluation [693/1000]\n",
      "INFO:tensorflow:Evaluation [694/1000]\n",
      "INFO:tensorflow:Evaluation [695/1000]\n",
      "INFO:tensorflow:Evaluation [696/1000]\n",
      "INFO:tensorflow:Evaluation [697/1000]\n",
      "INFO:tensorflow:Evaluation [698/1000]\n",
      "INFO:tensorflow:Evaluation [699/1000]\n",
      "INFO:tensorflow:Evaluation [700/1000]\n",
      "INFO:tensorflow:Evaluation [701/1000]\n",
      "INFO:tensorflow:Evaluation [702/1000]\n",
      "INFO:tensorflow:Evaluation [703/1000]\n",
      "INFO:tensorflow:Evaluation [704/1000]\n",
      "INFO:tensorflow:Evaluation [705/1000]\n",
      "INFO:tensorflow:Evaluation [706/1000]\n",
      "INFO:tensorflow:Evaluation [707/1000]\n",
      "INFO:tensorflow:Evaluation [708/1000]\n",
      "INFO:tensorflow:Evaluation [709/1000]\n",
      "INFO:tensorflow:Evaluation [710/1000]\n",
      "INFO:tensorflow:Evaluation [711/1000]\n",
      "INFO:tensorflow:Evaluation [712/1000]\n",
      "INFO:tensorflow:Evaluation [713/1000]\n",
      "INFO:tensorflow:Evaluation [714/1000]\n",
      "INFO:tensorflow:Evaluation [715/1000]\n",
      "INFO:tensorflow:Evaluation [716/1000]\n",
      "INFO:tensorflow:Evaluation [717/1000]\n",
      "INFO:tensorflow:Evaluation [718/1000]\n",
      "INFO:tensorflow:Evaluation [719/1000]\n",
      "INFO:tensorflow:Evaluation [720/1000]\n",
      "INFO:tensorflow:Evaluation [721/1000]\n",
      "INFO:tensorflow:Evaluation [722/1000]\n",
      "INFO:tensorflow:Evaluation [723/1000]\n",
      "INFO:tensorflow:Evaluation [724/1000]\n",
      "INFO:tensorflow:Evaluation [725/1000]\n",
      "INFO:tensorflow:Evaluation [726/1000]\n",
      "INFO:tensorflow:Evaluation [727/1000]\n",
      "INFO:tensorflow:Evaluation [728/1000]\n",
      "INFO:tensorflow:Evaluation [729/1000]\n",
      "INFO:tensorflow:Evaluation [730/1000]\n",
      "INFO:tensorflow:Evaluation [731/1000]\n",
      "INFO:tensorflow:Evaluation [732/1000]\n",
      "INFO:tensorflow:Evaluation [733/1000]\n",
      "INFO:tensorflow:Evaluation [734/1000]\n",
      "INFO:tensorflow:Evaluation [735/1000]\n",
      "INFO:tensorflow:Evaluation [736/1000]\n",
      "INFO:tensorflow:Evaluation [737/1000]\n",
      "INFO:tensorflow:Evaluation [738/1000]\n",
      "INFO:tensorflow:Evaluation [739/1000]\n",
      "INFO:tensorflow:Evaluation [740/1000]\n",
      "INFO:tensorflow:Evaluation [741/1000]\n",
      "INFO:tensorflow:Evaluation [742/1000]\n",
      "INFO:tensorflow:Evaluation [743/1000]\n",
      "INFO:tensorflow:Evaluation [744/1000]\n",
      "INFO:tensorflow:Evaluation [745/1000]\n",
      "INFO:tensorflow:Evaluation [746/1000]\n",
      "INFO:tensorflow:Evaluation [747/1000]\n",
      "INFO:tensorflow:Evaluation [748/1000]\n",
      "INFO:tensorflow:Evaluation [749/1000]\n",
      "INFO:tensorflow:Evaluation [750/1000]\n",
      "INFO:tensorflow:Evaluation [751/1000]\n",
      "INFO:tensorflow:Evaluation [752/1000]\n",
      "INFO:tensorflow:Evaluation [753/1000]\n",
      "INFO:tensorflow:Evaluation [754/1000]\n",
      "INFO:tensorflow:Evaluation [755/1000]\n",
      "INFO:tensorflow:Evaluation [756/1000]\n",
      "INFO:tensorflow:Evaluation [757/1000]\n",
      "INFO:tensorflow:Evaluation [758/1000]\n",
      "INFO:tensorflow:Evaluation [759/1000]\n",
      "INFO:tensorflow:Evaluation [760/1000]\n",
      "INFO:tensorflow:Evaluation [761/1000]\n",
      "INFO:tensorflow:Evaluation [762/1000]\n",
      "INFO:tensorflow:Evaluation [763/1000]\n",
      "INFO:tensorflow:Evaluation [764/1000]\n",
      "INFO:tensorflow:Evaluation [765/1000]\n",
      "INFO:tensorflow:Evaluation [766/1000]\n",
      "INFO:tensorflow:Evaluation [767/1000]\n",
      "INFO:tensorflow:Evaluation [768/1000]\n",
      "INFO:tensorflow:Evaluation [769/1000]\n",
      "INFO:tensorflow:Evaluation [770/1000]\n",
      "INFO:tensorflow:Evaluation [771/1000]\n",
      "INFO:tensorflow:Evaluation [772/1000]\n",
      "INFO:tensorflow:Evaluation [773/1000]\n",
      "INFO:tensorflow:Evaluation [774/1000]\n",
      "INFO:tensorflow:Evaluation [775/1000]\n",
      "INFO:tensorflow:Evaluation [776/1000]\n",
      "INFO:tensorflow:Evaluation [777/1000]\n",
      "INFO:tensorflow:Evaluation [778/1000]\n",
      "INFO:tensorflow:Evaluation [779/1000]\n",
      "INFO:tensorflow:Evaluation [780/1000]\n",
      "INFO:tensorflow:Evaluation [781/1000]\n",
      "INFO:tensorflow:Evaluation [782/1000]\n",
      "INFO:tensorflow:Evaluation [783/1000]\n",
      "INFO:tensorflow:Evaluation [784/1000]\n",
      "INFO:tensorflow:Evaluation [785/1000]\n",
      "INFO:tensorflow:Evaluation [786/1000]\n",
      "INFO:tensorflow:Evaluation [787/1000]\n",
      "INFO:tensorflow:Evaluation [788/1000]\n",
      "INFO:tensorflow:Evaluation [789/1000]\n",
      "INFO:tensorflow:Evaluation [790/1000]\n",
      "INFO:tensorflow:Evaluation [791/1000]\n",
      "INFO:tensorflow:Evaluation [792/1000]\n",
      "INFO:tensorflow:Evaluation [793/1000]\n",
      "INFO:tensorflow:Evaluation [794/1000]\n",
      "INFO:tensorflow:Evaluation [795/1000]\n",
      "INFO:tensorflow:Evaluation [796/1000]\n",
      "INFO:tensorflow:Evaluation [797/1000]\n",
      "INFO:tensorflow:Evaluation [798/1000]\n",
      "INFO:tensorflow:Evaluation [799/1000]\n",
      "INFO:tensorflow:Evaluation [800/1000]\n",
      "INFO:tensorflow:Evaluation [801/1000]\n",
      "INFO:tensorflow:Evaluation [802/1000]\n",
      "INFO:tensorflow:Evaluation [803/1000]\n",
      "INFO:tensorflow:Evaluation [804/1000]\n",
      "INFO:tensorflow:Evaluation [805/1000]\n",
      "INFO:tensorflow:Evaluation [806/1000]\n",
      "INFO:tensorflow:Evaluation [807/1000]\n",
      "INFO:tensorflow:Evaluation [808/1000]\n",
      "INFO:tensorflow:Evaluation [809/1000]\n",
      "INFO:tensorflow:Evaluation [810/1000]\n",
      "INFO:tensorflow:Evaluation [811/1000]\n",
      "INFO:tensorflow:Evaluation [812/1000]\n",
      "INFO:tensorflow:Evaluation [813/1000]\n",
      "INFO:tensorflow:Evaluation [814/1000]\n",
      "INFO:tensorflow:Evaluation [815/1000]\n",
      "INFO:tensorflow:Evaluation [816/1000]\n",
      "INFO:tensorflow:Evaluation [817/1000]\n",
      "INFO:tensorflow:Evaluation [818/1000]\n",
      "INFO:tensorflow:Evaluation [819/1000]\n",
      "INFO:tensorflow:Evaluation [820/1000]\n",
      "INFO:tensorflow:Evaluation [821/1000]\n",
      "INFO:tensorflow:Evaluation [822/1000]\n",
      "INFO:tensorflow:Evaluation [823/1000]\n",
      "INFO:tensorflow:Evaluation [824/1000]\n",
      "INFO:tensorflow:Evaluation [825/1000]\n",
      "INFO:tensorflow:Evaluation [826/1000]\n",
      "INFO:tensorflow:Evaluation [827/1000]\n",
      "INFO:tensorflow:Evaluation [828/1000]\n",
      "INFO:tensorflow:Evaluation [829/1000]\n",
      "INFO:tensorflow:Evaluation [830/1000]\n",
      "INFO:tensorflow:Evaluation [831/1000]\n",
      "INFO:tensorflow:Evaluation [832/1000]\n",
      "INFO:tensorflow:Evaluation [833/1000]\n",
      "INFO:tensorflow:Evaluation [834/1000]\n",
      "INFO:tensorflow:Evaluation [835/1000]\n",
      "INFO:tensorflow:Evaluation [836/1000]\n",
      "INFO:tensorflow:Evaluation [837/1000]\n",
      "INFO:tensorflow:Evaluation [838/1000]\n",
      "INFO:tensorflow:Evaluation [839/1000]\n",
      "INFO:tensorflow:Evaluation [840/1000]\n",
      "INFO:tensorflow:Evaluation [841/1000]\n",
      "INFO:tensorflow:Evaluation [842/1000]\n",
      "INFO:tensorflow:Evaluation [843/1000]\n",
      "INFO:tensorflow:Evaluation [844/1000]\n",
      "INFO:tensorflow:Evaluation [845/1000]\n",
      "INFO:tensorflow:Evaluation [846/1000]\n",
      "INFO:tensorflow:Evaluation [847/1000]\n",
      "INFO:tensorflow:Evaluation [848/1000]\n",
      "INFO:tensorflow:Evaluation [849/1000]\n",
      "INFO:tensorflow:Evaluation [850/1000]\n",
      "INFO:tensorflow:Evaluation [851/1000]\n",
      "INFO:tensorflow:Evaluation [852/1000]\n",
      "INFO:tensorflow:Evaluation [853/1000]\n",
      "INFO:tensorflow:Evaluation [854/1000]\n",
      "INFO:tensorflow:Evaluation [855/1000]\n",
      "INFO:tensorflow:Evaluation [856/1000]\n",
      "INFO:tensorflow:Evaluation [857/1000]\n",
      "INFO:tensorflow:Evaluation [858/1000]\n",
      "INFO:tensorflow:Evaluation [859/1000]\n",
      "INFO:tensorflow:Evaluation [860/1000]\n",
      "INFO:tensorflow:Evaluation [861/1000]\n",
      "INFO:tensorflow:Evaluation [862/1000]\n",
      "INFO:tensorflow:Evaluation [863/1000]\n"
     ]
    },
    {
     "name": "stdout",
     "output_type": "stream",
     "text": [
      "INFO:tensorflow:Evaluation [864/1000]\n",
      "INFO:tensorflow:Evaluation [865/1000]\n",
      "INFO:tensorflow:Evaluation [866/1000]\n",
      "INFO:tensorflow:Evaluation [867/1000]\n",
      "INFO:tensorflow:Evaluation [868/1000]\n",
      "INFO:tensorflow:Evaluation [869/1000]\n",
      "INFO:tensorflow:Evaluation [870/1000]\n",
      "INFO:tensorflow:Evaluation [871/1000]\n",
      "INFO:tensorflow:Evaluation [872/1000]\n",
      "INFO:tensorflow:Evaluation [873/1000]\n",
      "INFO:tensorflow:Evaluation [874/1000]\n",
      "INFO:tensorflow:Evaluation [875/1000]\n",
      "INFO:tensorflow:Evaluation [876/1000]\n",
      "INFO:tensorflow:Evaluation [877/1000]\n",
      "INFO:tensorflow:Evaluation [878/1000]\n",
      "INFO:tensorflow:Evaluation [879/1000]\n",
      "INFO:tensorflow:Evaluation [880/1000]\n",
      "INFO:tensorflow:Evaluation [881/1000]\n",
      "INFO:tensorflow:Evaluation [882/1000]\n",
      "INFO:tensorflow:Evaluation [883/1000]\n",
      "INFO:tensorflow:Evaluation [884/1000]\n",
      "INFO:tensorflow:Evaluation [885/1000]\n",
      "INFO:tensorflow:Evaluation [886/1000]\n",
      "INFO:tensorflow:Evaluation [887/1000]\n",
      "INFO:tensorflow:Evaluation [888/1000]\n",
      "INFO:tensorflow:Evaluation [889/1000]\n",
      "INFO:tensorflow:Evaluation [890/1000]\n",
      "INFO:tensorflow:Evaluation [891/1000]\n",
      "INFO:tensorflow:Evaluation [892/1000]\n",
      "INFO:tensorflow:Evaluation [893/1000]\n",
      "INFO:tensorflow:Evaluation [894/1000]\n",
      "INFO:tensorflow:Evaluation [895/1000]\n",
      "INFO:tensorflow:Evaluation [896/1000]\n",
      "INFO:tensorflow:Evaluation [897/1000]\n",
      "INFO:tensorflow:Evaluation [898/1000]\n",
      "INFO:tensorflow:Evaluation [899/1000]\n",
      "INFO:tensorflow:Evaluation [900/1000]\n",
      "INFO:tensorflow:Evaluation [901/1000]\n",
      "INFO:tensorflow:Evaluation [902/1000]\n",
      "INFO:tensorflow:Evaluation [903/1000]\n",
      "INFO:tensorflow:Evaluation [904/1000]\n",
      "INFO:tensorflow:Evaluation [905/1000]\n",
      "INFO:tensorflow:Evaluation [906/1000]\n",
      "INFO:tensorflow:Evaluation [907/1000]\n",
      "INFO:tensorflow:Evaluation [908/1000]\n",
      "INFO:tensorflow:Evaluation [909/1000]\n",
      "INFO:tensorflow:Evaluation [910/1000]\n",
      "INFO:tensorflow:Evaluation [911/1000]\n",
      "INFO:tensorflow:Evaluation [912/1000]\n",
      "INFO:tensorflow:Evaluation [913/1000]\n",
      "INFO:tensorflow:Evaluation [914/1000]\n",
      "INFO:tensorflow:Evaluation [915/1000]\n",
      "INFO:tensorflow:Evaluation [916/1000]\n",
      "INFO:tensorflow:Evaluation [917/1000]\n",
      "INFO:tensorflow:Evaluation [918/1000]\n",
      "INFO:tensorflow:Evaluation [919/1000]\n",
      "INFO:tensorflow:Evaluation [920/1000]\n",
      "INFO:tensorflow:Evaluation [921/1000]\n",
      "INFO:tensorflow:Evaluation [922/1000]\n",
      "INFO:tensorflow:Evaluation [923/1000]\n",
      "INFO:tensorflow:Evaluation [924/1000]\n",
      "INFO:tensorflow:Evaluation [925/1000]\n",
      "INFO:tensorflow:Evaluation [926/1000]\n",
      "INFO:tensorflow:Evaluation [927/1000]\n",
      "INFO:tensorflow:Evaluation [928/1000]\n",
      "INFO:tensorflow:Evaluation [929/1000]\n",
      "INFO:tensorflow:Evaluation [930/1000]\n",
      "INFO:tensorflow:Evaluation [931/1000]\n",
      "INFO:tensorflow:Evaluation [932/1000]\n",
      "INFO:tensorflow:Evaluation [933/1000]\n",
      "INFO:tensorflow:Evaluation [934/1000]\n",
      "INFO:tensorflow:Evaluation [935/1000]\n",
      "INFO:tensorflow:Evaluation [936/1000]\n",
      "INFO:tensorflow:Evaluation [937/1000]\n",
      "INFO:tensorflow:Evaluation [938/1000]\n",
      "INFO:tensorflow:Evaluation [939/1000]\n",
      "INFO:tensorflow:Evaluation [940/1000]\n",
      "INFO:tensorflow:Evaluation [941/1000]\n",
      "INFO:tensorflow:Evaluation [942/1000]\n",
      "INFO:tensorflow:Evaluation [943/1000]\n",
      "INFO:tensorflow:Evaluation [944/1000]\n",
      "INFO:tensorflow:Evaluation [945/1000]\n",
      "INFO:tensorflow:Evaluation [946/1000]\n",
      "INFO:tensorflow:Evaluation [947/1000]\n",
      "INFO:tensorflow:Evaluation [948/1000]\n",
      "INFO:tensorflow:Evaluation [949/1000]\n",
      "INFO:tensorflow:Evaluation [950/1000]\n",
      "INFO:tensorflow:Evaluation [951/1000]\n",
      "INFO:tensorflow:Evaluation [952/1000]\n",
      "INFO:tensorflow:Evaluation [953/1000]\n",
      "INFO:tensorflow:Evaluation [954/1000]\n",
      "INFO:tensorflow:Evaluation [955/1000]\n",
      "INFO:tensorflow:Evaluation [956/1000]\n",
      "INFO:tensorflow:Evaluation [957/1000]\n",
      "INFO:tensorflow:Evaluation [958/1000]\n",
      "INFO:tensorflow:Evaluation [959/1000]\n",
      "INFO:tensorflow:Evaluation [960/1000]\n",
      "INFO:tensorflow:Evaluation [961/1000]\n",
      "INFO:tensorflow:Evaluation [962/1000]\n",
      "INFO:tensorflow:Evaluation [963/1000]\n",
      "INFO:tensorflow:Evaluation [964/1000]\n",
      "INFO:tensorflow:Evaluation [965/1000]\n",
      "INFO:tensorflow:Evaluation [966/1000]\n",
      "INFO:tensorflow:Evaluation [967/1000]\n",
      "INFO:tensorflow:Evaluation [968/1000]\n",
      "INFO:tensorflow:Evaluation [969/1000]\n",
      "INFO:tensorflow:Evaluation [970/1000]\n",
      "INFO:tensorflow:Evaluation [971/1000]\n",
      "INFO:tensorflow:Evaluation [972/1000]\n",
      "INFO:tensorflow:Evaluation [973/1000]\n",
      "INFO:tensorflow:Evaluation [974/1000]\n",
      "INFO:tensorflow:Evaluation [975/1000]\n",
      "INFO:tensorflow:Evaluation [976/1000]\n",
      "INFO:tensorflow:Evaluation [977/1000]\n",
      "INFO:tensorflow:Evaluation [978/1000]\n",
      "INFO:tensorflow:Evaluation [979/1000]\n",
      "INFO:tensorflow:Evaluation [980/1000]\n",
      "INFO:tensorflow:Evaluation [981/1000]\n",
      "INFO:tensorflow:Evaluation [982/1000]\n",
      "INFO:tensorflow:Evaluation [983/1000]\n",
      "INFO:tensorflow:Evaluation [984/1000]\n",
      "INFO:tensorflow:Evaluation [985/1000]\n",
      "INFO:tensorflow:Evaluation [986/1000]\n",
      "INFO:tensorflow:Evaluation [987/1000]\n",
      "INFO:tensorflow:Evaluation [988/1000]\n",
      "INFO:tensorflow:Evaluation [989/1000]\n",
      "INFO:tensorflow:Evaluation [990/1000]\n",
      "INFO:tensorflow:Evaluation [991/1000]\n",
      "INFO:tensorflow:Evaluation [992/1000]\n",
      "INFO:tensorflow:Evaluation [993/1000]\n",
      "INFO:tensorflow:Evaluation [994/1000]\n",
      "INFO:tensorflow:Evaluation [995/1000]\n",
      "INFO:tensorflow:Evaluation [996/1000]\n",
      "INFO:tensorflow:Evaluation [997/1000]\n",
      "INFO:tensorflow:Evaluation [998/1000]\n",
      "INFO:tensorflow:Evaluation [999/1000]\n",
      "INFO:tensorflow:Evaluation [1000/1000]\n",
      "INFO:tensorflow:Finished evaluation at 2018-04-10-07:55:03\n",
      "INFO:tensorflow:Saving dict for global step 1000: average_loss = 1.0661, global_step = 1000, loss = 8.52877\n"
     ]
    }
   ],
   "source": [
    "eval_metrics = estimator.evaluate(input_fn=eval_input_func,steps=1000)"
   ]
  },
  {
   "cell_type": "code",
   "execution_count": 132,
   "metadata": {},
   "outputs": [
    {
     "name": "stdout",
     "output_type": "stream",
     "text": [
      "TRAINING DATA METRICS\n",
      "{'global_step': 1000, 'loss': 8.7376013, 'average_loss': 1.0922002}\n"
     ]
    }
   ],
   "source": [
    "print('TRAINING DATA METRICS')\n",
    "print(train_metrics)"
   ]
  },
  {
   "cell_type": "code",
   "execution_count": 133,
   "metadata": {},
   "outputs": [
    {
     "name": "stdout",
     "output_type": "stream",
     "text": [
      "EVAL METRICS\n",
      "{'global_step': 1000, 'loss': 8.5287724, 'average_loss': 1.0660965}\n"
     ]
    }
   ],
   "source": [
    "print('EVAL METRICS')\n",
    "print(eval_metrics)"
   ]
  },
  {
   "cell_type": "code",
   "execution_count": 134,
   "metadata": {
    "collapsed": true
   },
   "outputs": [],
   "source": [
    "brand_new_data = np.linspace(0,10,10)"
   ]
  },
  {
   "cell_type": "code",
   "execution_count": 135,
   "metadata": {},
   "outputs": [
    {
     "data": {
      "text/plain": [
       "array([  0.        ,   1.11111111,   2.22222222,   3.33333333,\n",
       "         4.44444444,   5.55555556,   6.66666667,   7.77777778,\n",
       "         8.88888889,  10.        ])"
      ]
     },
     "execution_count": 135,
     "metadata": {},
     "output_type": "execute_result"
    }
   ],
   "source": [
    "brand_new_data"
   ]
  },
  {
   "cell_type": "code",
   "execution_count": 136,
   "metadata": {
    "collapsed": true
   },
   "outputs": [],
   "source": [
    "input_fn_predict = tf.estimator.inputs.numpy_input_fn({'x':brand_new_data},\n",
    "                                                     shuffle=False)"
   ]
  },
  {
   "cell_type": "code",
   "execution_count": 138,
   "metadata": {},
   "outputs": [
    {
     "name": "stdout",
     "output_type": "stream",
     "text": [
      "INFO:tensorflow:Restoring parameters from /tmp/tmpc4c1dott/model.ckpt-1000\n"
     ]
    },
    {
     "data": {
      "text/plain": [
       "[{'predictions': array([ 4.45535612], dtype=float32)},\n",
       " {'predictions': array([ 5.13149405], dtype=float32)},\n",
       " {'predictions': array([ 5.80763245], dtype=float32)},\n",
       " {'predictions': array([ 6.48377037], dtype=float32)},\n",
       " {'predictions': array([ 7.15990829], dtype=float32)},\n",
       " {'predictions': array([ 7.83604622], dtype=float32)},\n",
       " {'predictions': array([ 8.51218414], dtype=float32)},\n",
       " {'predictions': array([ 9.18832207], dtype=float32)},\n",
       " {'predictions': array([ 9.86445999], dtype=float32)},\n",
       " {'predictions': array([ 10.54059792], dtype=float32)}]"
      ]
     },
     "execution_count": 138,
     "metadata": {},
     "output_type": "execute_result"
    }
   ],
   "source": [
    "list(estimator.predict(input_fn=input_fn_predict))"
   ]
  },
  {
   "cell_type": "code",
   "execution_count": 139,
   "metadata": {},
   "outputs": [
    {
     "name": "stdout",
     "output_type": "stream",
     "text": [
      "INFO:tensorflow:Restoring parameters from /tmp/tmpc4c1dott/model.ckpt-1000\n"
     ]
    }
   ],
   "source": [
    "predictions = []\n",
    "\n",
    "for pred in estimator.predict(input_fn=input_fn_predict):\n",
    "    predictions.append(pred['predictions'])"
   ]
  },
  {
   "cell_type": "code",
   "execution_count": 140,
   "metadata": {},
   "outputs": [
    {
     "data": {
      "text/plain": [
       "[array([ 4.45535612], dtype=float32),\n",
       " array([ 5.13149405], dtype=float32),\n",
       " array([ 5.80763245], dtype=float32),\n",
       " array([ 6.48377037], dtype=float32),\n",
       " array([ 7.15990829], dtype=float32),\n",
       " array([ 7.83604622], dtype=float32),\n",
       " array([ 8.51218414], dtype=float32),\n",
       " array([ 9.18832207], dtype=float32),\n",
       " array([ 9.86445999], dtype=float32),\n",
       " array([ 10.54059792], dtype=float32)]"
      ]
     },
     "execution_count": 140,
     "metadata": {},
     "output_type": "execute_result"
    }
   ],
   "source": [
    "predictions"
   ]
  },
  {
   "cell_type": "code",
   "execution_count": 146,
   "metadata": {},
   "outputs": [
    {
     "data": {
      "text/plain": [
       "[<matplotlib.lines.Line2D at 0x7fbd7cb98e10>]"
      ]
     },
     "execution_count": 146,
     "metadata": {},
     "output_type": "execute_result"
    },
    {
     "data": {
      "image/png": "[encoded data removed]",
      "text/plain": [
       "<matplotlib.figure.Figure at 0x7fbd7ca570f0>"
      ]
     },
     "metadata": {},
     "output_type": "display_data"
    }
   ],
   "source": [
    "my_data.sample(n=250).plot(kind='scatter',x='X Data', y='Y')\n",
    "plt.plot(brand_new_data, predictions, 'r*')"
   ]
  },
  {
   "cell_type": "code",
   "execution_count": null,
   "metadata": {
    "collapsed": true
   },
   "outputs": [],
   "source": []
  }
 ],
 "metadata": {
  "kernelspec": {
   "display_name": "Python 3",
   "language": "python",
   "name": "python3"
  },
  "language_info": {
   "codemirror_mode": {
    "name": "ipython",
    "version": 3
   },
   "file_extension": ".py",
   "mimetype": "text/x-python",
   "name": "python",
   "nbconvert_exporter": "python",
   "pygments_lexer": "ipython3",
   "version": "3.5.4"
  }
 },
 "nbformat": 4,
 "nbformat_minor": 2
}
