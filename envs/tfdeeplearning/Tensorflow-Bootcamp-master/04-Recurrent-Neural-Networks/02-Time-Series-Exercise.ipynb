{
 "cells": [
  {
   "cell_type": "markdown",
   "metadata": {},
   "source": [
    "# Time Series Exercise - \n",
    "\n",
    "### Follow along with the instructions in bold. Watch the solutions video if you get stuck!"
   ]
  },
  {
   "cell_type": "markdown",
   "metadata": {},
   "source": [
    "## The Data\n",
    "\n",
    "** Source: https://datamarket.com/data/set/22ox/monthly-milk-production-pounds-per-cow-jan-62-dec-75#!ds=22ox&display=line **\n",
    "\n",
    "**Monthly milk production: pounds per cow. Jan 62 - Dec 75**"
   ]
  },
  {
   "cell_type": "markdown",
   "metadata": {},
   "source": [
    "** Import numpy pandas and matplotlib **"
   ]
  },
  {
   "cell_type": "code",
   "execution_count": 1,
   "metadata": {
    "collapsed": true
   },
   "outputs": [],
   "source": [
    "import numpy as np\n",
    "import pandas as pd\n",
    "import matplotlib.pyplot as plt"
   ]
  },
  {
   "cell_type": "markdown",
   "metadata": {},
   "source": [
    "\n",
    "** Use pandas to read the csv of the monthly-milk-production.csv file and set index_col='Month' **"
   ]
  },
  {
   "cell_type": "code",
   "execution_count": 2,
   "metadata": {
    "collapsed": true
   },
   "outputs": [],
   "source": [
    "data = pd.read_csv('./monthly-milk-production.csv').set_index('Month')"
   ]
  },
  {
   "cell_type": "markdown",
   "metadata": {},
   "source": [
    "** Check out the head of the dataframe**"
   ]
  },
  {
   "cell_type": "code",
   "execution_count": 3,
   "metadata": {},
   "outputs": [
    {
     "data": {
      "text/html": [
       "<div>\n",
       "<style>\n",
       "    .dataframe thead tr:only-child th {\n",
       "        text-align: right;\n",
       "    }\n",
       "\n",
       "    .dataframe thead th {\n",
       "        text-align: left;\n",
       "    }\n",
       "\n",
       "    .dataframe tbody tr th {\n",
       "        vertical-align: top;\n",
       "    }\n",
       "</style>\n",
       "<table border=\"1\" class=\"dataframe\">\n",
       "  <thead>\n",
       "    <tr style=\"text-align: right;\">\n",
       "      <th></th>\n",
       "      <th>Milk Production</th>\n",
       "    </tr>\n",
       "    <tr>\n",
       "      <th>Month</th>\n",
       "      <th></th>\n",
       "    </tr>\n",
       "  </thead>\n",
       "  <tbody>\n",
       "    <tr>\n",
       "      <th>1962-01-01 01:00:00</th>\n",
       "      <td>589.0</td>\n",
       "    </tr>\n",
       "    <tr>\n",
       "      <th>1962-02-01 01:00:00</th>\n",
       "      <td>561.0</td>\n",
       "    </tr>\n",
       "    <tr>\n",
       "      <th>1962-03-01 01:00:00</th>\n",
       "      <td>640.0</td>\n",
       "    </tr>\n",
       "    <tr>\n",
       "      <th>1962-04-01 01:00:00</th>\n",
       "      <td>656.0</td>\n",
       "    </tr>\n",
       "    <tr>\n",
       "      <th>1962-05-01 01:00:00</th>\n",
       "      <td>727.0</td>\n",
       "    </tr>\n",
       "  </tbody>\n",
       "</table>\n",
       "</div>"
      ],
      "text/plain": [
       "                     Milk Production\n",
       "Month                               \n",
       "1962-01-01 01:00:00            589.0\n",
       "1962-02-01 01:00:00            561.0\n",
       "1962-03-01 01:00:00            640.0\n",
       "1962-04-01 01:00:00            656.0\n",
       "1962-05-01 01:00:00            727.0"
      ]
     },
     "execution_count": 3,
     "metadata": {},
     "output_type": "execute_result"
    }
   ],
   "source": [
    "data.head()"
   ]
  },
  {
   "cell_type": "markdown",
   "metadata": {},
   "source": [
    "** Make the index a time series by using: **\n",
    "\n",
    "    milk.index = pd.to_datetime(milk.index)"
   ]
  },
  {
   "cell_type": "code",
   "execution_count": 4,
   "metadata": {
    "collapsed": true
   },
   "outputs": [],
   "source": [
    "data.index = pd.to_datetime(data.index)"
   ]
  },
  {
   "cell_type": "markdown",
   "metadata": {},
   "source": [
    "** Plot out the time series data. **"
   ]
  },
  {
   "cell_type": "code",
   "execution_count": 5,
   "metadata": {},
   "outputs": [
    {
     "data": {
      "text/plain": [
       "[<matplotlib.lines.Line2D at 0x7fce8ee62898>]"
      ]
     },
     "execution_count": 5,
     "metadata": {},
     "output_type": "execute_result"
    },
    {
     "data": {
      "image/png": "[encoded data removed]",
      "text/plain": [
       "<matplotlib.figure.Figure at 0x7fce921be5c0>"
      ]
     },
     "metadata": {},
     "output_type": "display_data"
    }
   ],
   "source": [
    "plt.plot(data)"
   ]
  },
  {
   "cell_type": "markdown",
   "metadata": {},
   "source": [
    "___"
   ]
  },
  {
   "cell_type": "markdown",
   "metadata": {},
   "source": [
    "### Train Test Split\n",
    "\n",
    "** Let's attempt to predict a year's worth of data. (12 months or 12 steps into the future) **\n",
    "\n",
    "** Create a test train split using indexing (hint: use .head() or tail() or .iloc[]). We don't want a random train test split, we want to specify that the test set is the last 12 months of data is the test set, with everything before it is the training. **"
   ]
  },
  {
   "cell_type": "code",
   "execution_count": 6,
   "metadata": {},
   "outputs": [
    {
     "name": "stdout",
     "output_type": "stream",
     "text": [
      "(156, 1) (12, 1)\n"
     ]
    }
   ],
   "source": [
    "train = data[:-12]\n",
    "test = data[-12:]\n",
    "\n",
    "print(train.shape, test.shape)"
   ]
  },
  {
   "cell_type": "code",
   "execution_count": null,
   "metadata": {},
   "outputs": [],
   "source": []
  },
  {
   "cell_type": "code",
   "execution_count": null,
   "metadata": {
    "collapsed": true
   },
   "outputs": [],
   "source": []
  },
  {
   "cell_type": "code",
   "execution_count": null,
   "metadata": {
    "collapsed": true
   },
   "outputs": [],
   "source": []
  },
  {
   "cell_type": "markdown",
   "metadata": {},
   "source": [
    "### Scale the Data\n",
    "\n",
    "** Use sklearn.preprocessing to scale the data using the MinMaxScaler. Remember to only fit_transform on the training data, then transform the test data. You shouldn't fit on the test data as well, otherwise you are assuming you would know about future behavior!**"
   ]
  },
  {
   "cell_type": "code",
   "execution_count": 7,
   "metadata": {
    "collapsed": true
   },
   "outputs": [],
   "source": [
    "from sklearn.preprocessing import MinMaxScaler\n",
    "\n",
    "scaler = MinMaxScaler()"
   ]
  },
  {
   "cell_type": "code",
   "execution_count": 8,
   "metadata": {
    "collapsed": true
   },
   "outputs": [],
   "source": [
    "train_scaled = scaler.fit_transform(train)"
   ]
  },
  {
   "cell_type": "code",
   "execution_count": 9,
   "metadata": {
    "collapsed": true
   },
   "outputs": [],
   "source": [
    "test_scaled = scaler.transform(test)"
   ]
  },
  {
   "cell_type": "code",
   "execution_count": 10,
   "metadata": {},
   "outputs": [
    {
     "data": {
      "text/plain": [
       "array([[ 0.66105769],\n",
       "       [ 0.54086538],\n",
       "       [ 0.80769231],\n",
       "       [ 0.83894231],\n",
       "       [ 1.        ],\n",
       "       [ 0.94711538],\n",
       "       [ 0.85336538],\n",
       "       [ 0.75480769],\n",
       "       [ 0.62980769],\n",
       "       [ 0.62259615],\n",
       "       [ 0.52884615],\n",
       "       [ 0.625     ]])"
      ]
     },
     "execution_count": 10,
     "metadata": {},
     "output_type": "execute_result"
    }
   ],
   "source": [
    "train_scaled[-12:]"
   ]
  },
  {
   "cell_type": "code",
   "execution_count": 11,
   "metadata": {},
   "outputs": [
    {
     "data": {
      "text/plain": [
       "array([[ 0.67548077],\n",
       "       [ 0.55048077],\n",
       "       [ 0.81490385],\n",
       "       [ 0.84134615],\n",
       "       [ 0.99278846],\n",
       "       [ 0.92307692],\n",
       "       [ 0.82451923],\n",
       "       [ 0.73317308],\n",
       "       [ 0.63461538],\n",
       "       [ 0.65865385],\n",
       "       [ 0.58653846],\n",
       "       [ 0.69711538]])"
      ]
     },
     "execution_count": 11,
     "metadata": {},
     "output_type": "execute_result"
    }
   ],
   "source": [
    "test_scaled"
   ]
  },
  {
   "cell_type": "markdown",
   "metadata": {},
   "source": [
    "## Batch Function\n",
    "\n",
    "** We'll need a function that can feed batches of the training data. We'll need to do several things that are listed out as steps in the comments of the function. Remember to reference the previous batch method from the lecture for hints. Try to fill out the function template below, this is a pretty hard step, so feel free to reference the solutions! **"
   ]
  },
  {
   "cell_type": "code",
   "execution_count": 12,
   "metadata": {
    "collapsed": true
   },
   "outputs": [],
   "source": [
    "# def next_batch(training_data,batch_size,steps):\n",
    "#     \"\"\"\n",
    "#     INPUT: Data, Batch Size, Time Steps per batch\n",
    "#     OUTPUT: A tuple of y time series results. y[:,:-1] and y[:,1:]\n",
    "#     \"\"\"\n",
    "    \n",
    "#     # STEP 1: Use np.random.randint to set a random starting point index for the batch.\n",
    "#     # Remember that each batch needs have the same number of steps in it.\n",
    "#     # This means you should limit the starting point to len(data)-steps\n",
    "    \n",
    "#     #rand_start = np.random.randint(batch_size-steps)\n",
    "#     rand_start = np.random.randint(0,len(training_data)-steps)\n",
    "#     # STEP 2: Now that you have a starting index you'll need to index the data from\n",
    "#     # the random start to random start + steps + 1. Then reshape this data to be (1,steps+1)\n",
    "    \n",
    "#     #ts_start = training_data[rand_start:rand_start+steps+1]\n",
    "    \n",
    "#     y_batch = np.array(training_data[rand_start:rand_start+steps+1]).reshape(1,steps+1)    \n",
    "#     # STEP 3: Return the batches. You'll have two batches to return y[:,:-1] and y[:,1:]\n",
    "#     # You'll need to reshape these into tensors for the RNN to .reshape(-1,steps,1)\n",
    "#     return y_batch[:, :-1].reshape(-1, steps, 1), y_batch[:, 1:].reshape(-1, steps, 1) "
   ]
  },
  {
   "cell_type": "code",
   "execution_count": 13,
   "metadata": {
    "collapsed": true
   },
   "outputs": [],
   "source": [
    "def next_batch(training_data,batch_size,steps):\n",
    "    \n",
    "    \n",
    "    # Grab a random starting point for each batch\n",
    "    rand_start = np.random.randint(0,len(training_data)-steps) \n",
    "\n",
    "    # Create Y data for time series in the batches\n",
    "    y_batch = np.array(training_data[rand_start:rand_start+steps+1]).reshape(1,steps+1)\n",
    "\n",
    "    return y_batch[:, :-1].reshape(-1, steps, 1), y_batch[:, 1:].reshape(-1, steps, 1) "
   ]
  },
  {
   "cell_type": "markdown",
   "metadata": {},
   "source": [
    "## Setting Up The RNN Model"
   ]
  },
  {
   "cell_type": "markdown",
   "metadata": {},
   "source": [
    "** Import TensorFlow **"
   ]
  },
  {
   "cell_type": "code",
   "execution_count": 14,
   "metadata": {
    "collapsed": true
   },
   "outputs": [],
   "source": [
    "import tensorflow as tf"
   ]
  },
  {
   "cell_type": "markdown",
   "metadata": {},
   "source": [
    "### The Constants\n",
    "\n",
    "** Define the constants in a single cell. You'll need the following (in parenthesis are the values I used in my solution, but you can play with some of these): **\n",
    "* Number of Inputs (1)\n",
    "* Number of Time Steps (12)\n",
    "* Number of Neurons per Layer (100)\n",
    "* Number of Outputs (1)\n",
    "* Learning Rate (0.03)\n",
    "* Number of Iterations for Training (4000)\n",
    "* Batch Size (1)"
   ]
  },
  {
   "cell_type": "code",
   "execution_count": 15,
   "metadata": {
    "collapsed": true
   },
   "outputs": [],
   "source": [
    "num_inputs = 1\n",
    "num_timesteps = 12\n",
    "num_neurons = 100\n",
    "num_outputs = 1 \n",
    "learning_rate = 0.03\n",
    "num_iterations = 4000\n",
    "batch_size = 1"
   ]
  },
  {
   "cell_type": "markdown",
   "metadata": {},
   "source": [
    "** Create Placeholders for X and y. (You can change the variable names if you want). The shape for these placeholders should be [None,num_time_steps-1,num_inputs] and [None, num_time_steps-1, num_outputs] The reason we use num_time_steps-1 is because each of these will be one step shorter than the original time steps size, because we are training the RNN network to predict one point into the future based on the input sequence.**  "
   ]
  },
  {
   "cell_type": "code",
   "execution_count": 16,
   "metadata": {},
   "outputs": [],
   "source": [
    "X = tf.placeholder(tf.float32, [None, num_timesteps, num_inputs])\n",
    "y = tf.placeholder(tf.float32, [None, num_timesteps, num_outputs])"
   ]
  },
  {
   "cell_type": "markdown",
   "metadata": {},
   "source": [
    "** Now create the RNN Layer, you have complete freedom over this, use tf.contrib.rnn and choose anything you want, OutputProjectionWrappers, BasicRNNCells, BasicLSTMCells, MultiRNNCell, GRUCell etc... Keep in mind not every combination will work well! (If in doubt, the solutions used an Outputprojection Wrapper around a basic LSTM cell with relu activation.**"
   ]
  },
  {
   "cell_type": "code",
   "execution_count": 17,
   "metadata": {},
   "outputs": [],
   "source": [
    "cell = tf.contrib.rnn.OutputProjectionWrapper(\n",
    "    tf.contrib.rnn.BasicLSTMCell(\n",
    "        num_units=num_neurons,\n",
    "        activation=tf.nn.relu\n",
    "    ), output_size=num_outputs\n",
    ")"
   ]
  },
  {
   "cell_type": "markdown",
   "metadata": {},
   "source": [
    "** Now pass in the cells variable into tf.nn.dynamic_rnn, along with your first placeholder (X)**"
   ]
  },
  {
   "cell_type": "code",
   "execution_count": 18,
   "metadata": {},
   "outputs": [],
   "source": [
    "outputs, states = tf.nn.dynamic_rnn(cell, X, dtype=tf.float32)"
   ]
  },
  {
   "cell_type": "markdown",
   "metadata": {},
   "source": [
    "### Loss Function and Optimizer\n",
    "\n",
    "** Create a Mean Squared Error Loss Function and use it to minimize an AdamOptimizer, remember to pass in your learning rate. **"
   ]
  },
  {
   "cell_type": "code",
   "execution_count": 19,
   "metadata": {
    "collapsed": true
   },
   "outputs": [],
   "source": [
    "loss = tf.reduce_mean(tf.square(outputs - y)) # MSE\n",
    "optimiser = tf.train.AdamOptimizer(learning_rate=learning_rate)\n",
    "train = optimiser.minimize(loss)"
   ]
  },
  {
   "cell_type": "markdown",
   "metadata": {},
   "source": [
    "** Initialize the global variables **"
   ]
  },
  {
   "cell_type": "code",
   "execution_count": 20,
   "metadata": {
    "collapsed": true
   },
   "outputs": [],
   "source": [
    "init = tf.global_variables_initializer()"
   ]
  },
  {
   "cell_type": "markdown",
   "metadata": {},
   "source": [
    "** Create an instance of tf.train.Saver() **"
   ]
  },
  {
   "cell_type": "code",
   "execution_count": 21,
   "metadata": {
    "collapsed": true
   },
   "outputs": [],
   "source": [
    "saver = tf.train.Saver()"
   ]
  },
  {
   "cell_type": "markdown",
   "metadata": {},
   "source": [
    "### Session\n",
    "\n",
    "** Run a tf.Session that trains on the batches created by your next_batch function. Also add an a loss evaluation for every 100 training iterations. Remember to save your model after you are done training. **"
   ]
  },
  {
   "cell_type": "code",
   "execution_count": 22,
   "metadata": {
    "scrolled": false
   },
   "outputs": [
    {
     "name": "stdout",
     "output_type": "stream",
     "text": [
      "0 \tMSE: 0.0477736\n",
      "100 \tMSE: 0.0217292\n",
      "200 \tMSE: 0.00941902\n",
      "300 \tMSE: 0.00960843\n",
      "400 \tMSE: 0.0101369\n",
      "500 \tMSE: 0.00642597\n",
      "600 \tMSE: 0.00789114\n",
      "700 \tMSE: 0.00990734\n",
      "800 \tMSE: 0.00954595\n",
      "900 \tMSE: 0.00847865\n",
      "1000 \tMSE: 0.00601615\n",
      "1100 \tMSE: 0.00592176\n",
      "1200 \tMSE: 0.0104656\n",
      "1300 \tMSE: 0.00503508\n",
      "1400 \tMSE: 0.00600481\n",
      "1500 \tMSE: 0.005519\n",
      "1600 \tMSE: 0.00419774\n",
      "1700 \tMSE: 0.00520496\n",
      "1800 \tMSE: 0.00544089\n",
      "1900 \tMSE: 0.00491698\n",
      "2000 \tMSE: 0.00377586\n",
      "2100 \tMSE: 0.00774809\n",
      "2200 \tMSE: 0.00495854\n",
      "2300 \tMSE: 0.00659568\n",
      "2400 \tMSE: 0.00614015\n",
      "2500 \tMSE: 0.00403511\n",
      "2600 \tMSE: 0.00422446\n",
      "2700 \tMSE: 0.00184434\n",
      "2800 \tMSE: 0.00211321\n",
      "2900 \tMSE: 0.00488343\n",
      "3000 \tMSE: 0.00441273\n",
      "3100 \tMSE: 0.00334254\n",
      "3200 \tMSE: 0.00308333\n",
      "3300 \tMSE: 0.00258762\n",
      "3400 \tMSE: 0.00785906\n",
      "3500 \tMSE: 0.00576997\n",
      "3600 \tMSE: 0.0032426\n",
      "3700 \tMSE: 0.00241779\n",
      "3800 \tMSE: 0.00192454\n",
      "3900 \tMSE: 0.00367635\n"
     ]
    }
   ],
   "source": [
    "#wout code \n",
    "with tf.Session() as sess:\n",
    "    # CODE HERE!\n",
    "    sess.run(init)\n",
    "    \n",
    "    for iteration in range(num_iterations):\n",
    "        \n",
    "        X_batch, y_batch = next_batch(train_scaled, batch_size=batch_size, steps=num_timesteps)\n",
    "        sess.run(train, feed_dict={X: X_batch, y:y_batch})\n",
    "        \n",
    "        if iteration % 100 == 0:\n",
    "            \n",
    "            mse = loss.eval(feed_dict={X: X_batch, y: y_batch})\n",
    "            print(iteration, \"\\tMSE:\", mse)    \n",
    "    \n",
    "    \n",
    "    # Save Model for Later\n",
    "    saver.save(sess, \"./ex_time_series_model\")"
   ]
  },
  {
   "cell_type": "markdown",
   "metadata": {},
   "source": [
    "______"
   ]
  },
  {
   "cell_type": "markdown",
   "metadata": {},
   "source": [
    "## Predicting Future (Test Data)"
   ]
  },
  {
   "cell_type": "markdown",
   "metadata": {},
   "source": [
    "** Show the test_set (the last 12 months of your original complete data set) **"
   ]
  },
  {
   "cell_type": "code",
   "execution_count": null,
   "metadata": {
    "collapsed": true
   },
   "outputs": [],
   "source": [
    "# CODE HERE"
   ]
  },
  {
   "cell_type": "markdown",
   "metadata": {},
   "source": [
    "** Now we want to attempt to predict these 12 months of data, using only the training data we had. To do this we will feed in a seed training_instance of the last 12 months of the training_set of data to predict 12 months into the future. Then we will be able to compare our generated 12 months to our actual true historical values from the test set! **"
   ]
  },
  {
   "cell_type": "markdown",
   "metadata": {},
   "source": [
    "# Generative Session\n",
    "### NOTE: Recall that our model is really only trained to predict 1 time step ahead, asking it to generate 12 steps is a big ask, and technically not what it was trained to do! Think of this more as generating new values based off some previous pattern, rather than trying to directly predict the future. You would need to go back to the original model and train the model to predict 12 time steps ahead to really get a higher accuracy on the test data. (Which has its limits due to the smaller size of our data set)\n",
    "** Fill out the session code below to generate 12 months of data based off the last 12 months of data from the training set. The hardest part about this is adjusting the arrays with their shapes and sizes. Reference the lecture for hints.**"
   ]
  },
  {
   "cell_type": "code",
   "execution_count": 25,
   "metadata": {},
   "outputs": [
    {
     "name": "stdout",
     "output_type": "stream",
     "text": [
      "INFO:tensorflow:Restoring parameters from ./ex_time_series_model\n"
     ]
    }
   ],
   "source": [
    "with tf.Session() as sess:\n",
    "    \n",
    "    # Use your Saver instance to restore your saved rnn time series model\n",
    "    saver.restore(sess, \"./ex_time_series_model\")\n",
    "    \n",
    "    train_seed = list(train_scaled[-12:])\n",
    "    \n",
    "    for iteration in range(12):\n",
    "        \n",
    "        X_batch = np.array(train_seed[-num_timesteps:]).reshape(1,num_timesteps,1)\n",
    "        \n",
    "        y_pred = sess.run(outputs, feed_dict={X:X_batch})\n",
    "        \n",
    "        train_seed.append(y_pred[0,-1,0])\n",
    "                      \n",
    "\n",
    "    # CODE HERE!"
   ]
  },
  {
   "cell_type": "markdown",
   "metadata": {},
   "source": [
    "** Show the result of the predictions. **"
   ]
  },
  {
   "cell_type": "code",
   "execution_count": 26,
   "metadata": {},
   "outputs": [
    {
     "data": {
      "text/plain": [
       "[array([ 0.66105769]),\n",
       " array([ 0.54086538]),\n",
       " array([ 0.80769231]),\n",
       " array([ 0.83894231]),\n",
       " array([ 1.]),\n",
       " array([ 0.94711538]),\n",
       " array([ 0.85336538]),\n",
       " array([ 0.75480769]),\n",
       " array([ 0.62980769]),\n",
       " array([ 0.62259615]),\n",
       " array([ 0.52884615]),\n",
       " array([ 0.625]),\n",
       " 0.63867283,\n",
       " 0.55380863,\n",
       " 0.78519356,\n",
       " 0.78899878,\n",
       " 0.94168681,\n",
       " 0.87891126,\n",
       " 0.76893896,\n",
       " 0.64110756,\n",
       " 0.53714371,\n",
       " 0.50147653,\n",
       " 0.44808388,\n",
       " 0.49454749]"
      ]
     },
     "execution_count": 26,
     "metadata": {},
     "output_type": "execute_result"
    }
   ],
   "source": [
    "train_seed"
   ]
  },
  {
   "cell_type": "markdown",
   "metadata": {},
   "source": [
    "** Grab the portion of the results that are the generated values and apply inverse_transform on them to turn them back into milk production value units (lbs per cow). Also reshape the results to be (12,1) so we can easily add them to the test_set dataframe.**"
   ]
  },
  {
   "cell_type": "code",
   "execution_count": 27,
   "metadata": {
    "collapsed": true
   },
   "outputs": [],
   "source": [
    "results = scaler.inverse_transform(np.array(train_seed[12:]).reshape(12,1))"
   ]
  },
  {
   "cell_type": "markdown",
   "metadata": {},
   "source": [
    "** Create a new column on the test_set called \"Generated\" and set it equal to the generated results. You may get a warning about this, feel free to ignore it.**"
   ]
  },
  {
   "cell_type": "code",
   "execution_count": 29,
   "metadata": {},
   "outputs": [
    {
     "name": "stderr",
     "output_type": "stream",
     "text": [
      "/home/wout/.local/lib/python3.5/site-packages/ipykernel_launcher.py:1: SettingWithCopyWarning: \n",
      "A value is trying to be set on a copy of a slice from a DataFrame.\n",
      "Try using .loc[row_indexer,col_indexer] = value instead\n",
      "\n",
      "See the caveats in the documentation: http://pandas.pydata.org/pandas-docs/stable/indexing.html#indexing-view-versus-copy\n",
      "  \"\"\"Entry point for launching an IPython kernel.\n"
     ]
    }
   ],
   "source": [
    "test['generated'] = results"
   ]
  },
  {
   "cell_type": "markdown",
   "metadata": {},
   "source": [
    "** View the test_set dataframe. **"
   ]
  },
  {
   "cell_type": "code",
   "execution_count": 30,
   "metadata": {},
   "outputs": [
    {
     "data": {
      "text/html": [
       "<div>\n",
       "<style>\n",
       "    .dataframe thead tr:only-child th {\n",
       "        text-align: right;\n",
       "    }\n",
       "\n",
       "    .dataframe thead th {\n",
       "        text-align: left;\n",
       "    }\n",
       "\n",
       "    .dataframe tbody tr th {\n",
       "        vertical-align: top;\n",
       "    }\n",
       "</style>\n",
       "<table border=\"1\" class=\"dataframe\">\n",
       "  <thead>\n",
       "    <tr style=\"text-align: right;\">\n",
       "      <th></th>\n",
       "      <th>Milk Production</th>\n",
       "      <th>generated</th>\n",
       "    </tr>\n",
       "    <tr>\n",
       "      <th>Month</th>\n",
       "      <th></th>\n",
       "      <th></th>\n",
       "    </tr>\n",
       "  </thead>\n",
       "  <tbody>\n",
       "    <tr>\n",
       "      <th>1975-01-01 01:00:00</th>\n",
       "      <td>834.0</td>\n",
       "      <td>818.687866</td>\n",
       "    </tr>\n",
       "    <tr>\n",
       "      <th>1975-02-01 01:00:00</th>\n",
       "      <td>782.0</td>\n",
       "      <td>783.384399</td>\n",
       "    </tr>\n",
       "    <tr>\n",
       "      <th>1975-03-01 01:00:00</th>\n",
       "      <td>892.0</td>\n",
       "      <td>879.640564</td>\n",
       "    </tr>\n",
       "    <tr>\n",
       "      <th>1975-04-01 01:00:00</th>\n",
       "      <td>903.0</td>\n",
       "      <td>881.223511</td>\n",
       "    </tr>\n",
       "    <tr>\n",
       "      <th>1975-05-01 01:00:00</th>\n",
       "      <td>966.0</td>\n",
       "      <td>944.741699</td>\n",
       "    </tr>\n",
       "    <tr>\n",
       "      <th>1975-06-01 01:00:00</th>\n",
       "      <td>937.0</td>\n",
       "      <td>918.627075</td>\n",
       "    </tr>\n",
       "    <tr>\n",
       "      <th>1975-07-01 01:00:00</th>\n",
       "      <td>896.0</td>\n",
       "      <td>872.878601</td>\n",
       "    </tr>\n",
       "    <tr>\n",
       "      <th>1975-08-01 01:00:00</th>\n",
       "      <td>858.0</td>\n",
       "      <td>819.700745</td>\n",
       "    </tr>\n",
       "    <tr>\n",
       "      <th>1975-09-01 01:00:00</th>\n",
       "      <td>817.0</td>\n",
       "      <td>776.451782</td>\n",
       "    </tr>\n",
       "    <tr>\n",
       "      <th>1975-10-01 01:00:00</th>\n",
       "      <td>827.0</td>\n",
       "      <td>761.614197</td>\n",
       "    </tr>\n",
       "    <tr>\n",
       "      <th>1975-11-01 01:00:00</th>\n",
       "      <td>797.0</td>\n",
       "      <td>739.402893</td>\n",
       "    </tr>\n",
       "    <tr>\n",
       "      <th>1975-12-01 01:00:00</th>\n",
       "      <td>843.0</td>\n",
       "      <td>758.731750</td>\n",
       "    </tr>\n",
       "  </tbody>\n",
       "</table>\n",
       "</div>"
      ],
      "text/plain": [
       "                     Milk Production   generated\n",
       "Month                                           \n",
       "1975-01-01 01:00:00            834.0  818.687866\n",
       "1975-02-01 01:00:00            782.0  783.384399\n",
       "1975-03-01 01:00:00            892.0  879.640564\n",
       "1975-04-01 01:00:00            903.0  881.223511\n",
       "1975-05-01 01:00:00            966.0  944.741699\n",
       "1975-06-01 01:00:00            937.0  918.627075\n",
       "1975-07-01 01:00:00            896.0  872.878601\n",
       "1975-08-01 01:00:00            858.0  819.700745\n",
       "1975-09-01 01:00:00            817.0  776.451782\n",
       "1975-10-01 01:00:00            827.0  761.614197\n",
       "1975-11-01 01:00:00            797.0  739.402893\n",
       "1975-12-01 01:00:00            843.0  758.731750"
      ]
     },
     "execution_count": 30,
     "metadata": {},
     "output_type": "execute_result"
    }
   ],
   "source": [
    "test"
   ]
  },
  {
   "cell_type": "markdown",
   "metadata": {},
   "source": [
    "** Plot out the two columns for comparison. **"
   ]
  },
  {
   "cell_type": "code",
   "execution_count": 31,
   "metadata": {},
   "outputs": [
    {
     "data": {
      "text/plain": [
       "<matplotlib.axes._subplots.AxesSubplot at 0x7fce8109c7b8>"
      ]
     },
     "execution_count": 31,
     "metadata": {},
     "output_type": "execute_result"
    },
    {
     "data": {
      "image/png": "[encoded data removed]",
      "text/plain": [
       "<matplotlib.figure.Figure at 0x7fce7642b0b8>"
      ]
     },
     "metadata": {},
     "output_type": "display_data"
    }
   ],
   "source": [
    "test.plot()"
   ]
  },
  {
   "cell_type": "markdown",
   "metadata": {
    "collapsed": true
   },
   "source": [
    "# Great Job!\n",
    "\n",
    "Play around with the parameters and RNN layers, does a faster learning rate with more steps improve the model? What about GRU or BasicRNN units? What if you train the original model to not just predict one timestep ahead into the future, but 3 instead? Lots of stuff to add on here!"
   ]
  }
 ],
 "metadata": {
  "kernelspec": {
   "display_name": "Python 3",
   "language": "python",
   "name": "python3"
  },
  "language_info": {
   "codemirror_mode": {
    "name": "ipython",
    "version": 3
   },
   "file_extension": ".py",
   "mimetype": "text/x-python",
   "name": "python",
   "nbconvert_exporter": "python",
   "pygments_lexer": "ipython3",
   "version": "3.5.4"
  }
 },
 "nbformat": 4,
 "nbformat_minor": 2
}
