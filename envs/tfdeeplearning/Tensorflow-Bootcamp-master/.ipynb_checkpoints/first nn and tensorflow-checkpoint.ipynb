{
 "cells": [
  {
   "cell_type": "code",
   "execution_count": 1,
   "metadata": {
    "collapsed": true
   },
   "outputs": [],
   "source": [
    "import tensorflow as tf"
   ]
  },
  {
   "cell_type": "code",
   "execution_count": 2,
   "metadata": {},
   "outputs": [
    {
     "name": "stdout",
     "output_type": "stream",
     "text": [
      "1.3.0\n"
     ]
    }
   ],
   "source": [
    "print(tf.__version__)"
   ]
  },
  {
   "cell_type": "code",
   "execution_count": 3,
   "metadata": {
    "collapsed": true
   },
   "outputs": [],
   "source": [
    "hello = tf.constant('Hello ')"
   ]
  },
  {
   "cell_type": "code",
   "execution_count": 4,
   "metadata": {
    "collapsed": true
   },
   "outputs": [],
   "source": [
    "world = tf.constant('world')"
   ]
  },
  {
   "cell_type": "code",
   "execution_count": 5,
   "metadata": {},
   "outputs": [
    {
     "name": "stdout",
     "output_type": "stream",
     "text": [
      "Tensor(\"Const:0\", shape=(), dtype=string)\n"
     ]
    }
   ],
   "source": [
    "print(hello)"
   ]
  },
  {
   "cell_type": "code",
   "execution_count": 6,
   "metadata": {
    "collapsed": true
   },
   "outputs": [],
   "source": [
    "with tf.Session() as sess:\n",
    "    result = sess.run(hello+world)"
   ]
  },
  {
   "cell_type": "code",
   "execution_count": 7,
   "metadata": {},
   "outputs": [
    {
     "name": "stdout",
     "output_type": "stream",
     "text": [
      "b'Hello world'\n"
     ]
    }
   ],
   "source": [
    "print(result)"
   ]
  },
  {
   "cell_type": "code",
   "execution_count": 8,
   "metadata": {
    "collapsed": true
   },
   "outputs": [],
   "source": [
    "a = tf.constant(10)"
   ]
  },
  {
   "cell_type": "code",
   "execution_count": 9,
   "metadata": {
    "collapsed": true
   },
   "outputs": [],
   "source": [
    "b = tf.constant(20)"
   ]
  },
  {
   "cell_type": "code",
   "execution_count": 10,
   "metadata": {},
   "outputs": [
    {
     "data": {
      "text/plain": [
       "tensorflow.python.framework.ops.Tensor"
      ]
     },
     "execution_count": 10,
     "metadata": {},
     "output_type": "execute_result"
    }
   ],
   "source": [
    "type(a)"
   ]
  },
  {
   "cell_type": "code",
   "execution_count": 11,
   "metadata": {},
   "outputs": [
    {
     "data": {
      "text/plain": [
       "<tf.Tensor 'add_1:0' shape=() dtype=int32>"
      ]
     },
     "execution_count": 11,
     "metadata": {},
     "output_type": "execute_result"
    }
   ],
   "source": [
    "a + b "
   ]
  },
  {
   "cell_type": "code",
   "execution_count": 12,
   "metadata": {
    "collapsed": true
   },
   "outputs": [],
   "source": [
    "with tf.Session() as sess:\n",
    "    result = sess.run(a+b)"
   ]
  },
  {
   "cell_type": "code",
   "execution_count": 13,
   "metadata": {},
   "outputs": [
    {
     "data": {
      "text/plain": [
       "30"
      ]
     },
     "execution_count": 13,
     "metadata": {},
     "output_type": "execute_result"
    }
   ],
   "source": [
    "result"
   ]
  },
  {
   "cell_type": "code",
   "execution_count": 14,
   "metadata": {
    "collapsed": true
   },
   "outputs": [],
   "source": [
    "const = tf.constant(10)"
   ]
  },
  {
   "cell_type": "code",
   "execution_count": 15,
   "metadata": {
    "collapsed": true
   },
   "outputs": [],
   "source": [
    "\n",
    "fill_mat = tf.fill((4,4),10)"
   ]
  },
  {
   "cell_type": "code",
   "execution_count": 16,
   "metadata": {
    "collapsed": true
   },
   "outputs": [],
   "source": [
    "myzeros = tf.zeros((4,4))"
   ]
  },
  {
   "cell_type": "code",
   "execution_count": 17,
   "metadata": {
    "collapsed": true
   },
   "outputs": [],
   "source": [
    "myones = tf.ones((4,4))"
   ]
  },
  {
   "cell_type": "code",
   "execution_count": 18,
   "metadata": {
    "collapsed": true
   },
   "outputs": [],
   "source": [
    "myrandpois = tf.random_poisson(6,(7,7))"
   ]
  },
  {
   "cell_type": "code",
   "execution_count": 19,
   "metadata": {},
   "outputs": [
    {
     "data": {
      "text/plain": [
       "array([[  8.,   6.,   6.,   6.,   8.,   5.,   6.],\n",
       "       [  6.,   5.,   6.,   6.,   5.,   4.,   4.],\n",
       "       [  2.,   6.,   6.,   8.,   4.,  10.,   3.],\n",
       "       [  7.,   6.,   6.,   5.,   6.,   3.,   9.],\n",
       "       [  4.,   6.,   6.,  10.,   7.,   5.,   1.],\n",
       "       [  4.,   8.,   5.,   9.,   8.,   9.,   2.],\n",
       "       [  9.,   6.,   8.,   4.,   6.,   6.,   5.]], dtype=float32)"
      ]
     },
     "execution_count": 19,
     "metadata": {},
     "output_type": "execute_result"
    }
   ],
   "source": [
    "with tf.Session() as sess:\n",
    "    result = sess.run(myrandpois)\n",
    "result"
   ]
  },
  {
   "cell_type": "code",
   "execution_count": 20,
   "metadata": {
    "collapsed": true
   },
   "outputs": [],
   "source": [
    "myrandn = tf.random_normal((4,4), mean=0, stddev=1.0)"
   ]
  },
  {
   "cell_type": "code",
   "execution_count": 21,
   "metadata": {
    "collapsed": true
   },
   "outputs": [],
   "source": [
    "myranu = tf.random_uniform((4,4), minval=0,maxval=1)"
   ]
  },
  {
   "cell_type": "code",
   "execution_count": 22,
   "metadata": {},
   "outputs": [
    {
     "data": {
      "text/plain": [
       "<tf.Tensor 'zeros:0' shape=(4, 4) dtype=float32>"
      ]
     },
     "execution_count": 22,
     "metadata": {},
     "output_type": "execute_result"
    }
   ],
   "source": [
    "myzeros"
   ]
  },
  {
   "cell_type": "code",
   "execution_count": 23,
   "metadata": {
    "collapsed": true
   },
   "outputs": [],
   "source": [
    "my_ops = [const, fill_mat, myzeros, myrandn, myranu]"
   ]
  },
  {
   "cell_type": "code",
   "execution_count": 24,
   "metadata": {
    "collapsed": true
   },
   "outputs": [],
   "source": [
    "sess = tf.InteractiveSession()"
   ]
  },
  {
   "cell_type": "code",
   "execution_count": 25,
   "metadata": {},
   "outputs": [
    {
     "name": "stdout",
     "output_type": "stream",
     "text": [
      "10\n",
      "\n",
      "\n",
      "[[10 10 10 10]\n",
      " [10 10 10 10]\n",
      " [10 10 10 10]\n",
      " [10 10 10 10]]\n",
      "\n",
      "\n",
      "[[ 0.  0.  0.  0.]\n",
      " [ 0.  0.  0.  0.]\n",
      " [ 0.  0.  0.  0.]\n",
      " [ 0.  0.  0.  0.]]\n",
      "\n",
      "\n",
      "[[-0.68255848 -0.96757221  1.11103714  1.57730567]\n",
      " [-0.44444755 -0.48854545 -1.44265544 -0.86718184]\n",
      " [ 0.52058887  0.05140581 -0.08445057 -1.42850983]\n",
      " [ 2.19709802 -0.65260071  0.1425837   1.29431236]]\n",
      "\n",
      "\n",
      "[[ 0.16036868  0.23510742  0.17422831  0.39611173]\n",
      " [ 0.29441822  0.37607908  0.08394611  0.74749708]\n",
      " [ 0.00670743  0.81947482  0.63254094  0.76637566]\n",
      " [ 0.4139607   0.2142123   0.94639885  0.85693192]]\n",
      "\n",
      "\n"
     ]
    }
   ],
   "source": [
    "for op in my_ops:\n",
    "    print(sess.run(op))\n",
    "    print('\\n')"
   ]
  },
  {
   "cell_type": "code",
   "execution_count": 26,
   "metadata": {
    "collapsed": true
   },
   "outputs": [],
   "source": [
    "a = tf.constant([ [1,2],\n",
    "                 [ 3,4] ])"
   ]
  },
  {
   "cell_type": "code",
   "execution_count": 27,
   "metadata": {},
   "outputs": [
    {
     "data": {
      "text/plain": [
       "TensorShape([Dimension(2), Dimension(2)])"
      ]
     },
     "execution_count": 27,
     "metadata": {},
     "output_type": "execute_result"
    }
   ],
   "source": [
    "a.get_shape()"
   ]
  },
  {
   "cell_type": "code",
   "execution_count": 28,
   "metadata": {
    "collapsed": true
   },
   "outputs": [],
   "source": [
    "b = tf.constant([ [ 10], [100]])"
   ]
  },
  {
   "cell_type": "code",
   "execution_count": 29,
   "metadata": {
    "collapsed": true
   },
   "outputs": [],
   "source": [
    "result = tf.matmul(a,b)"
   ]
  },
  {
   "cell_type": "code",
   "execution_count": 30,
   "metadata": {},
   "outputs": [
    {
     "data": {
      "text/plain": [
       "array([[210],\n",
       "       [430]], dtype=int32)"
      ]
     },
     "execution_count": 30,
     "metadata": {},
     "output_type": "execute_result"
    }
   ],
   "source": [
    "sess.run(result)"
   ]
  },
  {
   "cell_type": "code",
   "execution_count": 31,
   "metadata": {},
   "outputs": [
    {
     "data": {
      "text/plain": [
       "array([[210],\n",
       "       [430]], dtype=int32)"
      ]
     },
     "execution_count": 31,
     "metadata": {},
     "output_type": "execute_result"
    }
   ],
   "source": [
    "result.eval()"
   ]
  },
  {
   "cell_type": "markdown",
   "metadata": {},
   "source": [
    "# TF Graphs"
   ]
  },
  {
   "cell_type": "code",
   "execution_count": 32,
   "metadata": {
    "collapsed": true
   },
   "outputs": [],
   "source": [
    "n1 = tf.constant(1)"
   ]
  },
  {
   "cell_type": "code",
   "execution_count": 33,
   "metadata": {
    "collapsed": true
   },
   "outputs": [],
   "source": [
    "n2 = tf.constant(2)"
   ]
  },
  {
   "cell_type": "code",
   "execution_count": 34,
   "metadata": {
    "collapsed": true
   },
   "outputs": [],
   "source": [
    "n3 = n1 + n2"
   ]
  },
  {
   "cell_type": "code",
   "execution_count": 35,
   "metadata": {
    "collapsed": true
   },
   "outputs": [],
   "source": [
    "with tf.Session():\n",
    "    result = sess.run(n3)"
   ]
  },
  {
   "cell_type": "code",
   "execution_count": 36,
   "metadata": {},
   "outputs": [
    {
     "data": {
      "text/plain": [
       "3"
      ]
     },
     "execution_count": 36,
     "metadata": {},
     "output_type": "execute_result"
    }
   ],
   "source": [
    "result"
   ]
  },
  {
   "cell_type": "code",
   "execution_count": 37,
   "metadata": {},
   "outputs": [
    {
     "name": "stdout",
     "output_type": "stream",
     "text": [
      "Tensor(\"add_3:0\", shape=(), dtype=int32)\n"
     ]
    }
   ],
   "source": [
    "print(n3)"
   ]
  },
  {
   "cell_type": "code",
   "execution_count": 38,
   "metadata": {
    "collapsed": true
   },
   "outputs": [],
   "source": [
    "g = tf.Graph()"
   ]
  },
  {
   "cell_type": "code",
   "execution_count": 39,
   "metadata": {},
   "outputs": [
    {
     "name": "stdout",
     "output_type": "stream",
     "text": [
      "<tensorflow.python.framework.ops.Graph object at 0x7f81a4087390>\n"
     ]
    }
   ],
   "source": [
    "print(g)"
   ]
  },
  {
   "cell_type": "code",
   "execution_count": 40,
   "metadata": {
    "collapsed": true
   },
   "outputs": [],
   "source": [
    "graph_one = tf.get_default_graph()"
   ]
  },
  {
   "cell_type": "code",
   "execution_count": 41,
   "metadata": {
    "collapsed": true
   },
   "outputs": [],
   "source": [
    "graph_two = tf.Graph()"
   ]
  },
  {
   "cell_type": "code",
   "execution_count": 42,
   "metadata": {},
   "outputs": [
    {
     "name": "stdout",
     "output_type": "stream",
     "text": [
      "<tensorflow.python.framework.ops.Graph object at 0x7f81a40e3160>\n",
      "<tensorflow.python.framework.ops.Graph object at 0x7f81a40abcc0>\n"
     ]
    }
   ],
   "source": [
    "print(graph_one)\n",
    "print(graph_two)"
   ]
  },
  {
   "cell_type": "code",
   "execution_count": 43,
   "metadata": {},
   "outputs": [
    {
     "name": "stdout",
     "output_type": "stream",
     "text": [
      "True\n"
     ]
    }
   ],
   "source": [
    "with graph_two.as_default():\n",
    "    print(graph_two is tf.get_default_graph())"
   ]
  },
  {
   "cell_type": "code",
   "execution_count": 44,
   "metadata": {},
   "outputs": [
    {
     "name": "stdout",
     "output_type": "stream",
     "text": [
      "False\n"
     ]
    }
   ],
   "source": [
    "print(graph_two is tf.get_default_graph())"
   ]
  },
  {
   "cell_type": "code",
   "execution_count": 45,
   "metadata": {
    "collapsed": true
   },
   "outputs": [],
   "source": [
    "my_tensor = tf.random_uniform((4,4),0,1)"
   ]
  },
  {
   "cell_type": "code",
   "execution_count": 46,
   "metadata": {},
   "outputs": [
    {
     "data": {
      "text/plain": [
       "<tf.Tensor 'random_uniform_1:0' shape=(4, 4) dtype=float32>"
      ]
     },
     "execution_count": 46,
     "metadata": {},
     "output_type": "execute_result"
    }
   ],
   "source": [
    "my_tensor"
   ]
  },
  {
   "cell_type": "code",
   "execution_count": 47,
   "metadata": {
    "collapsed": true
   },
   "outputs": [],
   "source": [
    "my_var = tf.Variable(initial_value=my_tensor)"
   ]
  },
  {
   "cell_type": "code",
   "execution_count": 48,
   "metadata": {
    "collapsed": true
   },
   "outputs": [],
   "source": [
    "#sess.run(my_var)"
   ]
  },
  {
   "cell_type": "code",
   "execution_count": 49,
   "metadata": {
    "collapsed": true
   },
   "outputs": [],
   "source": [
    "init = tf.global_variables_initializer()"
   ]
  },
  {
   "cell_type": "code",
   "execution_count": 50,
   "metadata": {
    "collapsed": true
   },
   "outputs": [],
   "source": [
    "sess.run(init)"
   ]
  },
  {
   "cell_type": "code",
   "execution_count": 51,
   "metadata": {},
   "outputs": [
    {
     "data": {
      "text/plain": [
       "array([[ 0.4638418 ,  0.86731195,  0.42891073,  0.23060572],\n",
       "       [ 0.34588754,  0.42965603,  0.22090125,  0.91059971],\n",
       "       [ 0.89295208,  0.08796954,  0.96921229,  0.56268442],\n",
       "       [ 0.65762341,  0.12694645,  0.67448592,  0.24765599]], dtype=float32)"
      ]
     },
     "execution_count": 51,
     "metadata": {},
     "output_type": "execute_result"
    }
   ],
   "source": [
    "sess.run(my_var)"
   ]
  },
  {
   "cell_type": "code",
   "execution_count": 52,
   "metadata": {
    "collapsed": true
   },
   "outputs": [],
   "source": [
    "ph = tf.placeholder(tf.float32)"
   ]
  },
  {
   "cell_type": "markdown",
   "metadata": {},
   "source": [
    "# first network"
   ]
  },
  {
   "cell_type": "code",
   "execution_count": 53,
   "metadata": {
    "collapsed": true
   },
   "outputs": [],
   "source": [
    "import numpy as np"
   ]
  },
  {
   "cell_type": "code",
   "execution_count": 54,
   "metadata": {
    "collapsed": true
   },
   "outputs": [],
   "source": [
    "np.random.seed(101)\n",
    "tf.set_random_seed(101)"
   ]
  },
  {
   "cell_type": "code",
   "execution_count": 55,
   "metadata": {
    "collapsed": true
   },
   "outputs": [],
   "source": [
    "rand_a = np.random.uniform(0,100,(5,5))"
   ]
  },
  {
   "cell_type": "code",
   "execution_count": 56,
   "metadata": {},
   "outputs": [
    {
     "data": {
      "text/plain": [
       "array([[ 51.63986277,  57.06675869,   2.84742265,  17.15216562,\n",
       "         68.52769817],\n",
       "       [ 83.38968626,  30.69662197,  89.36130797,  72.15438618,\n",
       "         18.99389542],\n",
       "       [ 55.42275911,  35.2131954 ,  18.18924027,  78.56017619,\n",
       "         96.54832224],\n",
       "       [ 23.23536618,   8.35614337,  60.35484223,  72.89927573,\n",
       "         27.62388285],\n",
       "       [ 68.53063288,  51.78674742,   4.84845374,  13.78692376,\n",
       "         18.69674261]])"
      ]
     },
     "execution_count": 56,
     "metadata": {},
     "output_type": "execute_result"
    }
   ],
   "source": [
    "rand_a"
   ]
  },
  {
   "cell_type": "code",
   "execution_count": 57,
   "metadata": {
    "collapsed": true
   },
   "outputs": [],
   "source": [
    "rand_b = np.random.uniform(0,100,(5,1))"
   ]
  },
  {
   "cell_type": "code",
   "execution_count": 58,
   "metadata": {},
   "outputs": [
    {
     "data": {
      "text/plain": [
       "array([[ 99.43179012],\n",
       "       [ 52.06653967],\n",
       "       [ 57.87895355],\n",
       "       [ 73.48190583],\n",
       "       [ 54.19617722]])"
      ]
     },
     "execution_count": 58,
     "metadata": {},
     "output_type": "execute_result"
    }
   ],
   "source": [
    "rand_b"
   ]
  },
  {
   "cell_type": "code",
   "execution_count": 59,
   "metadata": {
    "collapsed": true
   },
   "outputs": [],
   "source": [
    "a = tf.placeholder(tf.float32)"
   ]
  },
  {
   "cell_type": "code",
   "execution_count": 60,
   "metadata": {
    "collapsed": true
   },
   "outputs": [],
   "source": [
    "b = tf.placeholder(tf.float32)"
   ]
  },
  {
   "cell_type": "code",
   "execution_count": 61,
   "metadata": {
    "collapsed": true
   },
   "outputs": [],
   "source": [
    "add_op = a + b"
   ]
  },
  {
   "cell_type": "code",
   "execution_count": 62,
   "metadata": {
    "collapsed": true
   },
   "outputs": [],
   "source": [
    "mul_op = a * b "
   ]
  },
  {
   "cell_type": "code",
   "execution_count": 63,
   "metadata": {},
   "outputs": [
    {
     "name": "stdout",
     "output_type": "stream",
     "text": [
      "[[ 151.07165527  156.49855042  102.27921295  116.58396149  167.95948792]\n",
      " [ 135.45622253   82.76316071  141.42784119  124.22093201   71.06043243]\n",
      " [ 113.30171204   93.09214783   76.06819153  136.43911743  154.42727661]\n",
      " [  96.7172699    81.83804321  133.83674622  146.38117981  101.10578918]\n",
      " [ 122.72680664  105.98292542   59.04463196   67.98310089   72.89292145]]\n",
      "[[ 5134.64404297  5674.25         283.12432861  1705.47070312\n",
      "   6813.83154297]\n",
      " [ 4341.8125      1598.26696777  4652.73388672  3756.8293457    988.9463501 ]\n",
      " [ 3207.8112793   2038.10290527  1052.77416992  4546.98046875\n",
      "   5588.11572266]\n",
      " [ 1707.37902832   614.02526855  4434.98876953  5356.77734375\n",
      "   2029.85546875]\n",
      " [ 3714.09838867  2806.64379883   262.76763916   747.19854736\n",
      "   1013.29199219]]\n"
     ]
    }
   ],
   "source": [
    "with tf.Session() as sess:\n",
    "    \n",
    "    add_result = sess.run(add_op, feed_dict = {a:rand_a, b:rand_b})\n",
    "    print(add_result)\n",
    "    \n",
    "    mult_result = sess.run(mul_op, feed_dict = {a:rand_a, b:rand_b})\n",
    "    print(mult_result)"
   ]
  },
  {
   "cell_type": "markdown",
   "metadata": {},
   "source": [
    "# Example NN"
   ]
  },
  {
   "cell_type": "code",
   "execution_count": 64,
   "metadata": {
    "collapsed": true
   },
   "outputs": [],
   "source": [
    "n_features = 10\n",
    "n_dense_neurons = 3"
   ]
  },
  {
   "cell_type": "code",
   "execution_count": 65,
   "metadata": {
    "collapsed": true
   },
   "outputs": [],
   "source": [
    "x = tf.placeholder(tf.float32,(None,n_features))"
   ]
  },
  {
   "cell_type": "code",
   "execution_count": 66,
   "metadata": {
    "collapsed": true
   },
   "outputs": [],
   "source": [
    "W = tf.Variable(tf.random_normal([n_features,n_dense_neurons]))\n",
    "\n",
    "b = tf.Variable(tf.ones([n_dense_neurons]))"
   ]
  },
  {
   "cell_type": "code",
   "execution_count": 67,
   "metadata": {
    "collapsed": true
   },
   "outputs": [],
   "source": [
    "xW = tf.matmul(x,W)"
   ]
  },
  {
   "cell_type": "code",
   "execution_count": 68,
   "metadata": {
    "collapsed": true
   },
   "outputs": [],
   "source": [
    "z = tf.add(xW,b)"
   ]
  },
  {
   "cell_type": "code",
   "execution_count": 69,
   "metadata": {
    "collapsed": true
   },
   "outputs": [],
   "source": [
    "a = tf.sigmoid(z)"
   ]
  },
  {
   "cell_type": "code",
   "execution_count": 70,
   "metadata": {
    "collapsed": true
   },
   "outputs": [],
   "source": [
    "init = tf.global_variables_initializer()"
   ]
  },
  {
   "cell_type": "code",
   "execution_count": 71,
   "metadata": {
    "collapsed": true
   },
   "outputs": [],
   "source": [
    "with tf.Session() as sess:\n",
    "    \n",
    "    sess.run(init)\n",
    "    \n",
    "    layer_out = sess.run(a,feed_dict = {x:np.random.random([1,n_features])})"
   ]
  },
  {
   "cell_type": "code",
   "execution_count": 72,
   "metadata": {},
   "outputs": [
    {
     "data": {
      "text/plain": [
       "array([[ 0.85899407,  0.926714  ,  0.45346338]], dtype=float32)"
      ]
     },
     "execution_count": 72,
     "metadata": {},
     "output_type": "execute_result"
    }
   ],
   "source": [
    "layer_out"
   ]
  },
  {
   "cell_type": "markdown",
   "metadata": {},
   "source": [
    "## Simple Regression Example"
   ]
  },
  {
   "cell_type": "code",
   "execution_count": 73,
   "metadata": {
    "collapsed": true
   },
   "outputs": [],
   "source": [
    "import matplotlib.pyplot as plt\n",
    "%matplotlib inline "
   ]
  },
  {
   "cell_type": "code",
   "execution_count": 74,
   "metadata": {
    "collapsed": true
   },
   "outputs": [],
   "source": [
    "x_data = np.linspace(0,10,10) + np.random.uniform(-1.5,1.5,10)"
   ]
  },
  {
   "cell_type": "code",
   "execution_count": 75,
   "metadata": {},
   "outputs": [
    {
     "data": {
      "text/plain": [
       "array([-1.20856056, -0.08034641,  2.82674411,  4.50477294,  3.42312535,\n",
       "        4.88227319,  7.18414126,  6.77068715,  9.4930023 ,  9.96290567])"
      ]
     },
     "execution_count": 75,
     "metadata": {},
     "output_type": "execute_result"
    }
   ],
   "source": [
    "x_data"
   ]
  },
  {
   "cell_type": "code",
   "execution_count": 76,
   "metadata": {
    "collapsed": true
   },
   "outputs": [],
   "source": [
    "y_label = np.linspace(0,10,10) + np.random.uniform(-1.5,1.5,10)"
   ]
  },
  {
   "cell_type": "code",
   "execution_count": 77,
   "metadata": {},
   "outputs": [
    {
     "data": {
      "text/plain": [
       "array([ 0.5420333 ,  1.17575569,  0.85241231,  2.50514314,  4.67005971,\n",
       "        4.41685654,  6.66701681,  6.69180648,  7.54731409,  9.03483077])"
      ]
     },
     "execution_count": 77,
     "metadata": {},
     "output_type": "execute_result"
    }
   ],
   "source": [
    "y_label"
   ]
  },
  {
   "cell_type": "code",
   "execution_count": 78,
   "metadata": {},
   "outputs": [
    {
     "data": {
      "text/plain": [
       "[<matplotlib.lines.Line2D at 0x7f819d9c90f0>]"
      ]
     },
     "execution_count": 78,
     "metadata": {},
     "output_type": "execute_result"
    },
    {
     "data": {
      "image/png": "[encoded data removed]",
      "text/plain": [
       "<matplotlib.figure.Figure at 0x7f819def89e8>"
      ]
     },
     "metadata": {},
     "output_type": "display_data"
    }
   ],
   "source": [
    "plt.plot(x_data, y_label, '*')"
   ]
  },
  {
   "cell_type": "markdown",
   "metadata": {},
   "source": [
    "y = mx + b "
   ]
  },
  {
   "cell_type": "code",
   "execution_count": 79,
   "metadata": {},
   "outputs": [
    {
     "data": {
      "text/plain": [
       "array([ 0.44236813,  0.87758732])"
      ]
     },
     "execution_count": 79,
     "metadata": {},
     "output_type": "execute_result"
    }
   ],
   "source": [
    "np.random.rand(2)"
   ]
  },
  {
   "cell_type": "code",
   "execution_count": 80,
   "metadata": {
    "collapsed": true
   },
   "outputs": [],
   "source": [
    "m = tf.Variable(0.49)\n",
    "b = tf.Variable(0.97)"
   ]
  },
  {
   "cell_type": "code",
   "execution_count": 81,
   "metadata": {
    "collapsed": true
   },
   "outputs": [],
   "source": [
    "error = 0 \n",
    "\n",
    "for x,y in zip(x_data,y_label):\n",
    "    \n",
    "    y_hat = m*x + b \n",
    "    \n",
    "    error += (y-y_hat)**2"
   ]
  },
  {
   "cell_type": "code",
   "execution_count": 82,
   "metadata": {
    "collapsed": true
   },
   "outputs": [],
   "source": [
    "optimizer = tf.train.GradientDescentOptimizer(learning_rate=0.001)\n",
    "train = optimizer.minimize(error)"
   ]
  },
  {
   "cell_type": "code",
   "execution_count": 83,
   "metadata": {
    "collapsed": true
   },
   "outputs": [],
   "source": [
    "init = tf.global_variables_initializer()"
   ]
  },
  {
   "cell_type": "code",
   "execution_count": 84,
   "metadata": {
    "collapsed": true
   },
   "outputs": [],
   "source": [
    "with tf.Session() as sess:\n",
    "    sess.run(init)\n",
    "    \n",
    "    training_steps = 100\n",
    "    \n",
    "    for i in range(training_steps):\n",
    "        sess.run(train)\n",
    "    final_slope , final_intercept = sess.run([m,b])"
   ]
  },
  {
   "cell_type": "code",
   "execution_count": 85,
   "metadata": {},
   "outputs": [
    {
     "data": {
      "text/plain": [
       "[<matplotlib.lines.Line2D at 0x7f819d4bd240>]"
      ]
     },
     "execution_count": 85,
     "metadata": {},
     "output_type": "execute_result"
    },
    {
     "data": {
      "image/png": "[encoded data removed]",
      "text/plain": [
       "<matplotlib.figure.Figure at 0x7f819d4bd208>"
      ]
     },
     "metadata": {},
     "output_type": "display_data"
    }
   ],
   "source": [
    "x_test = np.linspace(-1,11,10)\n",
    "\n",
    "#y = mx + b \n",
    "\n",
    "y_pred_plot = final_slope * x_test + final_intercept\n",
    "\n",
    "plt.plot(x_test , y_pred_plot, 'r')\n",
    "plt.plot(x_data, y_label, '*')"
   ]
  },
  {
   "cell_type": "markdown",
   "metadata": {},
   "source": [
    "# Regression Example (simple) "
   ]
  },
  {
   "cell_type": "code",
   "execution_count": 86,
   "metadata": {
    "collapsed": true
   },
   "outputs": [],
   "source": [
    "import numpy as np\n",
    "import pandas as pd\n",
    "import matplotlib.pyplot as plt\n",
    "%matplotlib inline"
   ]
  },
  {
   "cell_type": "code",
   "execution_count": 87,
   "metadata": {
    "collapsed": true
   },
   "outputs": [],
   "source": [
    "import tensorflow as tf"
   ]
  },
  {
   "cell_type": "code",
   "execution_count": 88,
   "metadata": {
    "collapsed": true
   },
   "outputs": [],
   "source": [
    "x_data = np.linspace(0.0,10.0,1000000)"
   ]
  },
  {
   "cell_type": "code",
   "execution_count": 89,
   "metadata": {
    "collapsed": true
   },
   "outputs": [],
   "source": [
    "noise = np.random.randn(len(x_data))"
   ]
  },
  {
   "cell_type": "markdown",
   "metadata": {},
   "source": [
    "y = mx + b \n",
    "\n",
    "b = 5 "
   ]
  },
  {
   "cell_type": "code",
   "execution_count": 90,
   "metadata": {
    "collapsed": true
   },
   "outputs": [],
   "source": [
    "y_true = (0.5 * x_data ) + 5 + noise "
   ]
  },
  {
   "cell_type": "code",
   "execution_count": 91,
   "metadata": {
    "collapsed": true
   },
   "outputs": [],
   "source": [
    "x_df = pd.DataFrame(data=x_data, columns=['X Data'])"
   ]
  },
  {
   "cell_type": "code",
   "execution_count": 92,
   "metadata": {
    "collapsed": true
   },
   "outputs": [],
   "source": [
    "y_df = pd.DataFrame(data=y_true, columns=['Y'])"
   ]
  },
  {
   "cell_type": "code",
   "execution_count": 93,
   "metadata": {},
   "outputs": [
    {
     "data": {
      "text/html": [
       "<div>\n",
       "<style>\n",
       "    .dataframe thead tr:only-child th {\n",
       "        text-align: right;\n",
       "    }\n",
       "\n",
       "    .dataframe thead th {\n",
       "        text-align: left;\n",
       "    }\n",
       "\n",
       "    .dataframe tbody tr th {\n",
       "        vertical-align: top;\n",
       "    }\n",
       "</style>\n",
       "<table border=\"1\" class=\"dataframe\">\n",
       "  <thead>\n",
       "    <tr style=\"text-align: right;\">\n",
       "      <th></th>\n",
       "      <th>Y</th>\n",
       "    </tr>\n",
       "  </thead>\n",
       "  <tbody>\n",
       "    <tr>\n",
       "      <th>0</th>\n",
       "      <td>4.968421</td>\n",
       "    </tr>\n",
       "    <tr>\n",
       "      <th>1</th>\n",
       "      <td>5.649831</td>\n",
       "    </tr>\n",
       "    <tr>\n",
       "      <th>2</th>\n",
       "      <td>7.154856</td>\n",
       "    </tr>\n",
       "    <tr>\n",
       "      <th>3</th>\n",
       "      <td>4.389756</td>\n",
       "    </tr>\n",
       "    <tr>\n",
       "      <th>4</th>\n",
       "      <td>4.244695</td>\n",
       "    </tr>\n",
       "  </tbody>\n",
       "</table>\n",
       "</div>"
      ],
      "text/plain": [
       "          Y\n",
       "0  4.968421\n",
       "1  5.649831\n",
       "2  7.154856\n",
       "3  4.389756\n",
       "4  4.244695"
      ]
     },
     "execution_count": 93,
     "metadata": {},
     "output_type": "execute_result"
    }
   ],
   "source": [
    "y_df.head()"
   ]
  },
  {
   "cell_type": "code",
   "execution_count": 94,
   "metadata": {
    "collapsed": true
   },
   "outputs": [],
   "source": [
    "my_data = pd.concat([x_df, y_df],axis=1)"
   ]
  },
  {
   "cell_type": "code",
   "execution_count": 95,
   "metadata": {},
   "outputs": [
    {
     "data": {
      "text/html": [
       "<div>\n",
       "<style>\n",
       "    .dataframe thead tr:only-child th {\n",
       "        text-align: right;\n",
       "    }\n",
       "\n",
       "    .dataframe thead th {\n",
       "        text-align: left;\n",
       "    }\n",
       "\n",
       "    .dataframe tbody tr th {\n",
       "        vertical-align: top;\n",
       "    }\n",
       "</style>\n",
       "<table border=\"1\" class=\"dataframe\">\n",
       "  <thead>\n",
       "    <tr style=\"text-align: right;\">\n",
       "      <th></th>\n",
       "      <th>X Data</th>\n",
       "      <th>Y</th>\n",
       "    </tr>\n",
       "  </thead>\n",
       "  <tbody>\n",
       "    <tr>\n",
       "      <th>0</th>\n",
       "      <td>0.00000</td>\n",
       "      <td>4.968421</td>\n",
       "    </tr>\n",
       "    <tr>\n",
       "      <th>1</th>\n",
       "      <td>0.00001</td>\n",
       "      <td>5.649831</td>\n",
       "    </tr>\n",
       "    <tr>\n",
       "      <th>2</th>\n",
       "      <td>0.00002</td>\n",
       "      <td>7.154856</td>\n",
       "    </tr>\n",
       "    <tr>\n",
       "      <th>3</th>\n",
       "      <td>0.00003</td>\n",
       "      <td>4.389756</td>\n",
       "    </tr>\n",
       "    <tr>\n",
       "      <th>4</th>\n",
       "      <td>0.00004</td>\n",
       "      <td>4.244695</td>\n",
       "    </tr>\n",
       "  </tbody>\n",
       "</table>\n",
       "</div>"
      ],
      "text/plain": [
       "    X Data         Y\n",
       "0  0.00000  4.968421\n",
       "1  0.00001  5.649831\n",
       "2  0.00002  7.154856\n",
       "3  0.00003  4.389756\n",
       "4  0.00004  4.244695"
      ]
     },
     "execution_count": 95,
     "metadata": {},
     "output_type": "execute_result"
    }
   ],
   "source": [
    "my_data.head()"
   ]
  },
  {
   "cell_type": "code",
   "execution_count": 96,
   "metadata": {},
   "outputs": [
    {
     "data": {
      "text/plain": [
       "<matplotlib.axes._subplots.AxesSubplot at 0x7f819d4865f8>"
      ]
     },
     "execution_count": 96,
     "metadata": {},
     "output_type": "execute_result"
    },
    {
     "data": {
      "image/png": "[encoded data removed]",
      "text/plain": [
       "<matplotlib.figure.Figure at 0x7f819d4c5470>"
      ]
     },
     "metadata": {},
     "output_type": "display_data"
    }
   ],
   "source": [
    "my_data.sample(250).plot(kind='scatter', x='X Data', y='Y')"
   ]
  },
  {
   "cell_type": "code",
   "execution_count": 97,
   "metadata": {
    "collapsed": true
   },
   "outputs": [],
   "source": [
    "batch_size = 8"
   ]
  },
  {
   "cell_type": "code",
   "execution_count": 98,
   "metadata": {
    "collapsed": true
   },
   "outputs": [],
   "source": [
    "m = tf.Variable(0.9)\n",
    "b = tf.Variable(0.16)"
   ]
  },
  {
   "cell_type": "code",
   "execution_count": 99,
   "metadata": {
    "collapsed": true
   },
   "outputs": [],
   "source": [
    "xph = tf.placeholder(tf.float32,[batch_size])"
   ]
  },
  {
   "cell_type": "code",
   "execution_count": 100,
   "metadata": {
    "collapsed": true
   },
   "outputs": [],
   "source": [
    "yph = tf.placeholder(tf.float32,[batch_size])"
   ]
  },
  {
   "cell_type": "code",
   "execution_count": 101,
   "metadata": {
    "collapsed": true
   },
   "outputs": [],
   "source": [
    "y_model = m*xph + b"
   ]
  },
  {
   "cell_type": "code",
   "execution_count": 102,
   "metadata": {
    "collapsed": true
   },
   "outputs": [],
   "source": [
    "error = tf.reduce_sum(tf.square(yph - y_model))"
   ]
  },
  {
   "cell_type": "code",
   "execution_count": 103,
   "metadata": {
    "collapsed": true
   },
   "outputs": [],
   "source": [
    "optimizer = tf.train.GradientDescentOptimizer(learning_rate=0.001)\n",
    "train = optimizer.minimize(error)"
   ]
  },
  {
   "cell_type": "code",
   "execution_count": 104,
   "metadata": {
    "collapsed": true
   },
   "outputs": [],
   "source": [
    "init = tf.global_variables_initializer()"
   ]
  },
  {
   "cell_type": "code",
   "execution_count": 105,
   "metadata": {},
   "outputs": [
    {
     "name": "stdout",
     "output_type": "stream",
     "text": [
      "Tensor(\"Sum:0\", shape=(), dtype=float32)\n",
      "Tensor(\"Sum:0\", shape=(), dtype=float32)\n",
      "Tensor(\"Sum:0\", shape=(), dtype=float32)\n",
      "Tensor(\"Sum:0\", shape=(), dtype=float32)\n",
      "Tensor(\"Sum:0\", shape=(), dtype=float32)\n",
      "Tensor(\"Sum:0\", shape=(), dtype=float32)\n",
      "Tensor(\"Sum:0\", shape=(), dtype=float32)\n",
      "Tensor(\"Sum:0\", shape=(), dtype=float32)\n",
      "Tensor(\"Sum:0\", shape=(), dtype=float32)\n",
      "Tensor(\"Sum:0\", shape=(), dtype=float32)\n",
      "Tensor(\"Sum:0\", shape=(), dtype=float32)\n",
      "Tensor(\"Sum:0\", shape=(), dtype=float32)\n",
      "Tensor(\"Sum:0\", shape=(), dtype=float32)\n",
      "Tensor(\"Sum:0\", shape=(), dtype=float32)\n",
      "Tensor(\"Sum:0\", shape=(), dtype=float32)\n",
      "Tensor(\"Sum:0\", shape=(), dtype=float32)\n",
      "Tensor(\"Sum:0\", shape=(), dtype=float32)\n",
      "Tensor(\"Sum:0\", shape=(), dtype=float32)\n",
      "Tensor(\"Sum:0\", shape=(), dtype=float32)\n",
      "Tensor(\"Sum:0\", shape=(), dtype=float32)\n",
      "Tensor(\"Sum:0\", shape=(), dtype=float32)\n",
      "Tensor(\"Sum:0\", shape=(), dtype=float32)\n",
      "Tensor(\"Sum:0\", shape=(), dtype=float32)\n",
      "Tensor(\"Sum:0\", shape=(), dtype=float32)\n",
      "Tensor(\"Sum:0\", shape=(), dtype=float32)\n",
      "Tensor(\"Sum:0\", shape=(), dtype=float32)\n",
      "Tensor(\"Sum:0\", shape=(), dtype=float32)\n",
      "Tensor(\"Sum:0\", shape=(), dtype=float32)\n",
      "Tensor(\"Sum:0\", shape=(), dtype=float32)\n",
      "Tensor(\"Sum:0\", shape=(), dtype=float32)\n",
      "Tensor(\"Sum:0\", shape=(), dtype=float32)\n",
      "Tensor(\"Sum:0\", shape=(), dtype=float32)\n",
      "Tensor(\"Sum:0\", shape=(), dtype=float32)\n",
      "Tensor(\"Sum:0\", shape=(), dtype=float32)\n",
      "Tensor(\"Sum:0\", shape=(), dtype=float32)\n",
      "Tensor(\"Sum:0\", shape=(), dtype=float32)\n",
      "Tensor(\"Sum:0\", shape=(), dtype=float32)\n",
      "Tensor(\"Sum:0\", shape=(), dtype=float32)\n",
      "Tensor(\"Sum:0\", shape=(), dtype=float32)\n",
      "Tensor(\"Sum:0\", shape=(), dtype=float32)\n",
      "Tensor(\"Sum:0\", shape=(), dtype=float32)\n",
      "Tensor(\"Sum:0\", shape=(), dtype=float32)\n",
      "Tensor(\"Sum:0\", shape=(), dtype=float32)\n",
      "Tensor(\"Sum:0\", shape=(), dtype=float32)\n",
      "Tensor(\"Sum:0\", shape=(), dtype=float32)\n",
      "Tensor(\"Sum:0\", shape=(), dtype=float32)\n",
      "Tensor(\"Sum:0\", shape=(), dtype=float32)\n",
      "Tensor(\"Sum:0\", shape=(), dtype=float32)\n",
      "Tensor(\"Sum:0\", shape=(), dtype=float32)\n",
      "Tensor(\"Sum:0\", shape=(), dtype=float32)\n",
      "Tensor(\"Sum:0\", shape=(), dtype=float32)\n",
      "Tensor(\"Sum:0\", shape=(), dtype=float32)\n",
      "Tensor(\"Sum:0\", shape=(), dtype=float32)\n",
      "Tensor(\"Sum:0\", shape=(), dtype=float32)\n",
      "Tensor(\"Sum:0\", shape=(), dtype=float32)\n",
      "Tensor(\"Sum:0\", shape=(), dtype=float32)\n",
      "Tensor(\"Sum:0\", shape=(), dtype=float32)\n",
      "Tensor(\"Sum:0\", shape=(), dtype=float32)\n",
      "Tensor(\"Sum:0\", shape=(), dtype=float32)\n",
      "Tensor(\"Sum:0\", shape=(), dtype=float32)\n",
      "Tensor(\"Sum:0\", shape=(), dtype=float32)\n",
      "Tensor(\"Sum:0\", shape=(), dtype=float32)\n",
      "Tensor(\"Sum:0\", shape=(), dtype=float32)\n",
      "Tensor(\"Sum:0\", shape=(), dtype=float32)\n",
      "Tensor(\"Sum:0\", shape=(), dtype=float32)\n",
      "Tensor(\"Sum:0\", shape=(), dtype=float32)\n",
      "Tensor(\"Sum:0\", shape=(), dtype=float32)\n",
      "Tensor(\"Sum:0\", shape=(), dtype=float32)\n",
      "Tensor(\"Sum:0\", shape=(), dtype=float32)\n",
      "Tensor(\"Sum:0\", shape=(), dtype=float32)\n",
      "Tensor(\"Sum:0\", shape=(), dtype=float32)\n",
      "Tensor(\"Sum:0\", shape=(), dtype=float32)\n",
      "Tensor(\"Sum:0\", shape=(), dtype=float32)\n",
      "Tensor(\"Sum:0\", shape=(), dtype=float32)\n",
      "Tensor(\"Sum:0\", shape=(), dtype=float32)\n",
      "Tensor(\"Sum:0\", shape=(), dtype=float32)\n",
      "Tensor(\"Sum:0\", shape=(), dtype=float32)\n",
      "Tensor(\"Sum:0\", shape=(), dtype=float32)\n",
      "Tensor(\"Sum:0\", shape=(), dtype=float32)\n",
      "Tensor(\"Sum:0\", shape=(), dtype=float32)\n",
      "Tensor(\"Sum:0\", shape=(), dtype=float32)\n",
      "Tensor(\"Sum:0\", shape=(), dtype=float32)\n",
      "Tensor(\"Sum:0\", shape=(), dtype=float32)\n",
      "Tensor(\"Sum:0\", shape=(), dtype=float32)\n",
      "Tensor(\"Sum:0\", shape=(), dtype=float32)\n",
      "Tensor(\"Sum:0\", shape=(), dtype=float32)\n",
      "Tensor(\"Sum:0\", shape=(), dtype=float32)\n",
      "Tensor(\"Sum:0\", shape=(), dtype=float32)\n",
      "Tensor(\"Sum:0\", shape=(), dtype=float32)\n",
      "Tensor(\"Sum:0\", shape=(), dtype=float32)\n",
      "Tensor(\"Sum:0\", shape=(), dtype=float32)\n",
      "Tensor(\"Sum:0\", shape=(), dtype=float32)\n",
      "Tensor(\"Sum:0\", shape=(), dtype=float32)\n",
      "Tensor(\"Sum:0\", shape=(), dtype=float32)\n",
      "Tensor(\"Sum:0\", shape=(), dtype=float32)\n",
      "Tensor(\"Sum:0\", shape=(), dtype=float32)\n",
      "Tensor(\"Sum:0\", shape=(), dtype=float32)\n",
      "Tensor(\"Sum:0\", shape=(), dtype=float32)\n",
      "Tensor(\"Sum:0\", shape=(), dtype=float32)\n",
      "Tensor(\"Sum:0\", shape=(), dtype=float32)\n",
      "Tensor(\"Sum:0\", shape=(), dtype=float32)\n",
      "Tensor(\"Sum:0\", shape=(), dtype=float32)\n",
      "Tensor(\"Sum:0\", shape=(), dtype=float32)\n",
      "Tensor(\"Sum:0\", shape=(), dtype=float32)\n",
      "Tensor(\"Sum:0\", shape=(), dtype=float32)\n",
      "Tensor(\"Sum:0\", shape=(), dtype=float32)\n",
      "Tensor(\"Sum:0\", shape=(), dtype=float32)\n",
      "Tensor(\"Sum:0\", shape=(), dtype=float32)\n",
      "Tensor(\"Sum:0\", shape=(), dtype=float32)\n",
      "Tensor(\"Sum:0\", shape=(), dtype=float32)\n",
      "Tensor(\"Sum:0\", shape=(), dtype=float32)\n",
      "Tensor(\"Sum:0\", shape=(), dtype=float32)\n",
      "Tensor(\"Sum:0\", shape=(), dtype=float32)\n",
      "Tensor(\"Sum:0\", shape=(), dtype=float32)\n",
      "Tensor(\"Sum:0\", shape=(), dtype=float32)\n",
      "Tensor(\"Sum:0\", shape=(), dtype=float32)\n",
      "Tensor(\"Sum:0\", shape=(), dtype=float32)\n",
      "Tensor(\"Sum:0\", shape=(), dtype=float32)\n",
      "Tensor(\"Sum:0\", shape=(), dtype=float32)\n",
      "Tensor(\"Sum:0\", shape=(), dtype=float32)\n",
      "Tensor(\"Sum:0\", shape=(), dtype=float32)\n",
      "Tensor(\"Sum:0\", shape=(), dtype=float32)\n",
      "Tensor(\"Sum:0\", shape=(), dtype=float32)\n",
      "Tensor(\"Sum:0\", shape=(), dtype=float32)\n",
      "Tensor(\"Sum:0\", shape=(), dtype=float32)\n",
      "Tensor(\"Sum:0\", shape=(), dtype=float32)\n",
      "Tensor(\"Sum:0\", shape=(), dtype=float32)\n",
      "Tensor(\"Sum:0\", shape=(), dtype=float32)\n",
      "Tensor(\"Sum:0\", shape=(), dtype=float32)\n",
      "Tensor(\"Sum:0\", shape=(), dtype=float32)\n",
      "Tensor(\"Sum:0\", shape=(), dtype=float32)\n",
      "Tensor(\"Sum:0\", shape=(), dtype=float32)\n",
      "Tensor(\"Sum:0\", shape=(), dtype=float32)\n",
      "Tensor(\"Sum:0\", shape=(), dtype=float32)\n",
      "Tensor(\"Sum:0\", shape=(), dtype=float32)\n",
      "Tensor(\"Sum:0\", shape=(), dtype=float32)\n",
      "Tensor(\"Sum:0\", shape=(), dtype=float32)\n",
      "Tensor(\"Sum:0\", shape=(), dtype=float32)\n",
      "Tensor(\"Sum:0\", shape=(), dtype=float32)\n",
      "Tensor(\"Sum:0\", shape=(), dtype=float32)\n",
      "Tensor(\"Sum:0\", shape=(), dtype=float32)\n",
      "Tensor(\"Sum:0\", shape=(), dtype=float32)\n",
      "Tensor(\"Sum:0\", shape=(), dtype=float32)\n",
      "Tensor(\"Sum:0\", shape=(), dtype=float32)\n",
      "Tensor(\"Sum:0\", shape=(), dtype=float32)\n",
      "Tensor(\"Sum:0\", shape=(), dtype=float32)\n",
      "Tensor(\"Sum:0\", shape=(), dtype=float32)\n",
      "Tensor(\"Sum:0\", shape=(), dtype=float32)\n",
      "Tensor(\"Sum:0\", shape=(), dtype=float32)\n",
      "Tensor(\"Sum:0\", shape=(), dtype=float32)\n",
      "Tensor(\"Sum:0\", shape=(), dtype=float32)\n",
      "Tensor(\"Sum:0\", shape=(), dtype=float32)\n",
      "Tensor(\"Sum:0\", shape=(), dtype=float32)\n",
      "Tensor(\"Sum:0\", shape=(), dtype=float32)\n",
      "Tensor(\"Sum:0\", shape=(), dtype=float32)\n",
      "Tensor(\"Sum:0\", shape=(), dtype=float32)\n",
      "Tensor(\"Sum:0\", shape=(), dtype=float32)\n",
      "Tensor(\"Sum:0\", shape=(), dtype=float32)\n",
      "Tensor(\"Sum:0\", shape=(), dtype=float32)\n",
      "Tensor(\"Sum:0\", shape=(), dtype=float32)\n",
      "Tensor(\"Sum:0\", shape=(), dtype=float32)\n",
      "Tensor(\"Sum:0\", shape=(), dtype=float32)\n",
      "Tensor(\"Sum:0\", shape=(), dtype=float32)\n",
      "Tensor(\"Sum:0\", shape=(), dtype=float32)\n",
      "Tensor(\"Sum:0\", shape=(), dtype=float32)\n",
      "Tensor(\"Sum:0\", shape=(), dtype=float32)\n",
      "Tensor(\"Sum:0\", shape=(), dtype=float32)\n",
      "Tensor(\"Sum:0\", shape=(), dtype=float32)\n",
      "Tensor(\"Sum:0\", shape=(), dtype=float32)\n",
      "Tensor(\"Sum:0\", shape=(), dtype=float32)\n",
      "Tensor(\"Sum:0\", shape=(), dtype=float32)\n",
      "Tensor(\"Sum:0\", shape=(), dtype=float32)\n",
      "Tensor(\"Sum:0\", shape=(), dtype=float32)\n",
      "Tensor(\"Sum:0\", shape=(), dtype=float32)\n",
      "Tensor(\"Sum:0\", shape=(), dtype=float32)\n",
      "Tensor(\"Sum:0\", shape=(), dtype=float32)\n",
      "Tensor(\"Sum:0\", shape=(), dtype=float32)\n",
      "Tensor(\"Sum:0\", shape=(), dtype=float32)\n",
      "Tensor(\"Sum:0\", shape=(), dtype=float32)\n",
      "Tensor(\"Sum:0\", shape=(), dtype=float32)\n",
      "Tensor(\"Sum:0\", shape=(), dtype=float32)\n",
      "Tensor(\"Sum:0\", shape=(), dtype=float32)\n",
      "Tensor(\"Sum:0\", shape=(), dtype=float32)\n",
      "Tensor(\"Sum:0\", shape=(), dtype=float32)\n",
      "Tensor(\"Sum:0\", shape=(), dtype=float32)\n",
      "Tensor(\"Sum:0\", shape=(), dtype=float32)\n",
      "Tensor(\"Sum:0\", shape=(), dtype=float32)\n",
      "Tensor(\"Sum:0\", shape=(), dtype=float32)\n",
      "Tensor(\"Sum:0\", shape=(), dtype=float32)\n",
      "Tensor(\"Sum:0\", shape=(), dtype=float32)\n",
      "Tensor(\"Sum:0\", shape=(), dtype=float32)\n",
      "Tensor(\"Sum:0\", shape=(), dtype=float32)\n",
      "Tensor(\"Sum:0\", shape=(), dtype=float32)\n",
      "Tensor(\"Sum:0\", shape=(), dtype=float32)\n",
      "Tensor(\"Sum:0\", shape=(), dtype=float32)\n",
      "Tensor(\"Sum:0\", shape=(), dtype=float32)\n",
      "Tensor(\"Sum:0\", shape=(), dtype=float32)\n",
      "Tensor(\"Sum:0\", shape=(), dtype=float32)\n",
      "Tensor(\"Sum:0\", shape=(), dtype=float32)\n",
      "Tensor(\"Sum:0\", shape=(), dtype=float32)\n",
      "Tensor(\"Sum:0\", shape=(), dtype=float32)\n",
      "Tensor(\"Sum:0\", shape=(), dtype=float32)\n",
      "Tensor(\"Sum:0\", shape=(), dtype=float32)\n",
      "Tensor(\"Sum:0\", shape=(), dtype=float32)\n",
      "Tensor(\"Sum:0\", shape=(), dtype=float32)\n",
      "Tensor(\"Sum:0\", shape=(), dtype=float32)\n",
      "Tensor(\"Sum:0\", shape=(), dtype=float32)\n",
      "Tensor(\"Sum:0\", shape=(), dtype=float32)\n",
      "Tensor(\"Sum:0\", shape=(), dtype=float32)\n",
      "Tensor(\"Sum:0\", shape=(), dtype=float32)\n",
      "Tensor(\"Sum:0\", shape=(), dtype=float32)\n",
      "Tensor(\"Sum:0\", shape=(), dtype=float32)\n",
      "Tensor(\"Sum:0\", shape=(), dtype=float32)\n",
      "Tensor(\"Sum:0\", shape=(), dtype=float32)\n",
      "Tensor(\"Sum:0\", shape=(), dtype=float32)\n",
      "Tensor(\"Sum:0\", shape=(), dtype=float32)\n",
      "Tensor(\"Sum:0\", shape=(), dtype=float32)\n",
      "Tensor(\"Sum:0\", shape=(), dtype=float32)\n",
      "Tensor(\"Sum:0\", shape=(), dtype=float32)\n",
      "Tensor(\"Sum:0\", shape=(), dtype=float32)\n",
      "Tensor(\"Sum:0\", shape=(), dtype=float32)\n",
      "Tensor(\"Sum:0\", shape=(), dtype=float32)\n",
      "Tensor(\"Sum:0\", shape=(), dtype=float32)\n",
      "Tensor(\"Sum:0\", shape=(), dtype=float32)\n",
      "Tensor(\"Sum:0\", shape=(), dtype=float32)\n",
      "Tensor(\"Sum:0\", shape=(), dtype=float32)\n",
      "Tensor(\"Sum:0\", shape=(), dtype=float32)\n",
      "Tensor(\"Sum:0\", shape=(), dtype=float32)\n",
      "Tensor(\"Sum:0\", shape=(), dtype=float32)\n",
      "Tensor(\"Sum:0\", shape=(), dtype=float32)\n",
      "Tensor(\"Sum:0\", shape=(), dtype=float32)\n",
      "Tensor(\"Sum:0\", shape=(), dtype=float32)\n",
      "Tensor(\"Sum:0\", shape=(), dtype=float32)\n",
      "Tensor(\"Sum:0\", shape=(), dtype=float32)\n",
      "Tensor(\"Sum:0\", shape=(), dtype=float32)\n",
      "Tensor(\"Sum:0\", shape=(), dtype=float32)\n",
      "Tensor(\"Sum:0\", shape=(), dtype=float32)\n",
      "Tensor(\"Sum:0\", shape=(), dtype=float32)\n",
      "Tensor(\"Sum:0\", shape=(), dtype=float32)\n",
      "Tensor(\"Sum:0\", shape=(), dtype=float32)\n",
      "Tensor(\"Sum:0\", shape=(), dtype=float32)\n",
      "Tensor(\"Sum:0\", shape=(), dtype=float32)\n",
      "Tensor(\"Sum:0\", shape=(), dtype=float32)\n",
      "Tensor(\"Sum:0\", shape=(), dtype=float32)\n",
      "Tensor(\"Sum:0\", shape=(), dtype=float32)\n",
      "Tensor(\"Sum:0\", shape=(), dtype=float32)\n",
      "Tensor(\"Sum:0\", shape=(), dtype=float32)\n",
      "Tensor(\"Sum:0\", shape=(), dtype=float32)\n",
      "Tensor(\"Sum:0\", shape=(), dtype=float32)\n",
      "Tensor(\"Sum:0\", shape=(), dtype=float32)\n",
      "Tensor(\"Sum:0\", shape=(), dtype=float32)\n",
      "Tensor(\"Sum:0\", shape=(), dtype=float32)\n",
      "Tensor(\"Sum:0\", shape=(), dtype=float32)\n",
      "Tensor(\"Sum:0\", shape=(), dtype=float32)\n",
      "Tensor(\"Sum:0\", shape=(), dtype=float32)\n",
      "Tensor(\"Sum:0\", shape=(), dtype=float32)\n",
      "Tensor(\"Sum:0\", shape=(), dtype=float32)\n",
      "Tensor(\"Sum:0\", shape=(), dtype=float32)\n",
      "Tensor(\"Sum:0\", shape=(), dtype=float32)\n",
      "Tensor(\"Sum:0\", shape=(), dtype=float32)\n",
      "Tensor(\"Sum:0\", shape=(), dtype=float32)\n",
      "Tensor(\"Sum:0\", shape=(), dtype=float32)\n",
      "Tensor(\"Sum:0\", shape=(), dtype=float32)\n",
      "Tensor(\"Sum:0\", shape=(), dtype=float32)\n",
      "Tensor(\"Sum:0\", shape=(), dtype=float32)\n",
      "Tensor(\"Sum:0\", shape=(), dtype=float32)\n",
      "Tensor(\"Sum:0\", shape=(), dtype=float32)\n",
      "Tensor(\"Sum:0\", shape=(), dtype=float32)\n",
      "Tensor(\"Sum:0\", shape=(), dtype=float32)\n",
      "Tensor(\"Sum:0\", shape=(), dtype=float32)\n",
      "Tensor(\"Sum:0\", shape=(), dtype=float32)\n",
      "Tensor(\"Sum:0\", shape=(), dtype=float32)\n",
      "Tensor(\"Sum:0\", shape=(), dtype=float32)\n",
      "Tensor(\"Sum:0\", shape=(), dtype=float32)\n",
      "Tensor(\"Sum:0\", shape=(), dtype=float32)\n",
      "Tensor(\"Sum:0\", shape=(), dtype=float32)\n",
      "Tensor(\"Sum:0\", shape=(), dtype=float32)\n",
      "Tensor(\"Sum:0\", shape=(), dtype=float32)\n",
      "Tensor(\"Sum:0\", shape=(), dtype=float32)\n",
      "Tensor(\"Sum:0\", shape=(), dtype=float32)\n",
      "Tensor(\"Sum:0\", shape=(), dtype=float32)\n",
      "Tensor(\"Sum:0\", shape=(), dtype=float32)\n",
      "Tensor(\"Sum:0\", shape=(), dtype=float32)\n",
      "Tensor(\"Sum:0\", shape=(), dtype=float32)\n",
      "Tensor(\"Sum:0\", shape=(), dtype=float32)\n",
      "Tensor(\"Sum:0\", shape=(), dtype=float32)\n",
      "Tensor(\"Sum:0\", shape=(), dtype=float32)\n",
      "Tensor(\"Sum:0\", shape=(), dtype=float32)\n",
      "Tensor(\"Sum:0\", shape=(), dtype=float32)\n",
      "Tensor(\"Sum:0\", shape=(), dtype=float32)\n",
      "Tensor(\"Sum:0\", shape=(), dtype=float32)\n",
      "Tensor(\"Sum:0\", shape=(), dtype=float32)\n",
      "Tensor(\"Sum:0\", shape=(), dtype=float32)\n",
      "Tensor(\"Sum:0\", shape=(), dtype=float32)\n",
      "Tensor(\"Sum:0\", shape=(), dtype=float32)\n",
      "Tensor(\"Sum:0\", shape=(), dtype=float32)\n",
      "Tensor(\"Sum:0\", shape=(), dtype=float32)\n",
      "Tensor(\"Sum:0\", shape=(), dtype=float32)\n",
      "Tensor(\"Sum:0\", shape=(), dtype=float32)\n",
      "Tensor(\"Sum:0\", shape=(), dtype=float32)\n",
      "Tensor(\"Sum:0\", shape=(), dtype=float32)\n",
      "Tensor(\"Sum:0\", shape=(), dtype=float32)\n",
      "Tensor(\"Sum:0\", shape=(), dtype=float32)\n",
      "Tensor(\"Sum:0\", shape=(), dtype=float32)\n",
      "Tensor(\"Sum:0\", shape=(), dtype=float32)\n",
      "Tensor(\"Sum:0\", shape=(), dtype=float32)\n",
      "Tensor(\"Sum:0\", shape=(), dtype=float32)\n",
      "Tensor(\"Sum:0\", shape=(), dtype=float32)\n",
      "Tensor(\"Sum:0\", shape=(), dtype=float32)\n",
      "Tensor(\"Sum:0\", shape=(), dtype=float32)\n",
      "Tensor(\"Sum:0\", shape=(), dtype=float32)\n",
      "Tensor(\"Sum:0\", shape=(), dtype=float32)\n",
      "Tensor(\"Sum:0\", shape=(), dtype=float32)\n",
      "Tensor(\"Sum:0\", shape=(), dtype=float32)\n",
      "Tensor(\"Sum:0\", shape=(), dtype=float32)\n",
      "Tensor(\"Sum:0\", shape=(), dtype=float32)\n",
      "Tensor(\"Sum:0\", shape=(), dtype=float32)\n",
      "Tensor(\"Sum:0\", shape=(), dtype=float32)\n",
      "Tensor(\"Sum:0\", shape=(), dtype=float32)\n",
      "Tensor(\"Sum:0\", shape=(), dtype=float32)\n",
      "Tensor(\"Sum:0\", shape=(), dtype=float32)\n",
      "Tensor(\"Sum:0\", shape=(), dtype=float32)\n",
      "Tensor(\"Sum:0\", shape=(), dtype=float32)\n",
      "Tensor(\"Sum:0\", shape=(), dtype=float32)\n",
      "Tensor(\"Sum:0\", shape=(), dtype=float32)\n",
      "Tensor(\"Sum:0\", shape=(), dtype=float32)\n",
      "Tensor(\"Sum:0\", shape=(), dtype=float32)\n",
      "Tensor(\"Sum:0\", shape=(), dtype=float32)\n",
      "Tensor(\"Sum:0\", shape=(), dtype=float32)\n",
      "Tensor(\"Sum:0\", shape=(), dtype=float32)\n",
      "Tensor(\"Sum:0\", shape=(), dtype=float32)\n",
      "Tensor(\"Sum:0\", shape=(), dtype=float32)\n",
      "Tensor(\"Sum:0\", shape=(), dtype=float32)\n",
      "Tensor(\"Sum:0\", shape=(), dtype=float32)\n",
      "Tensor(\"Sum:0\", shape=(), dtype=float32)\n",
      "Tensor(\"Sum:0\", shape=(), dtype=float32)\n",
      "Tensor(\"Sum:0\", shape=(), dtype=float32)\n",
      "Tensor(\"Sum:0\", shape=(), dtype=float32)\n",
      "Tensor(\"Sum:0\", shape=(), dtype=float32)\n",
      "Tensor(\"Sum:0\", shape=(), dtype=float32)\n",
      "Tensor(\"Sum:0\", shape=(), dtype=float32)\n",
      "Tensor(\"Sum:0\", shape=(), dtype=float32)\n",
      "Tensor(\"Sum:0\", shape=(), dtype=float32)\n",
      "Tensor(\"Sum:0\", shape=(), dtype=float32)\n",
      "Tensor(\"Sum:0\", shape=(), dtype=float32)\n",
      "Tensor(\"Sum:0\", shape=(), dtype=float32)\n",
      "Tensor(\"Sum:0\", shape=(), dtype=float32)\n",
      "Tensor(\"Sum:0\", shape=(), dtype=float32)\n",
      "Tensor(\"Sum:0\", shape=(), dtype=float32)\n",
      "Tensor(\"Sum:0\", shape=(), dtype=float32)\n",
      "Tensor(\"Sum:0\", shape=(), dtype=float32)\n",
      "Tensor(\"Sum:0\", shape=(), dtype=float32)\n",
      "Tensor(\"Sum:0\", shape=(), dtype=float32)\n",
      "Tensor(\"Sum:0\", shape=(), dtype=float32)\n",
      "Tensor(\"Sum:0\", shape=(), dtype=float32)\n",
      "Tensor(\"Sum:0\", shape=(), dtype=float32)\n",
      "Tensor(\"Sum:0\", shape=(), dtype=float32)\n",
      "Tensor(\"Sum:0\", shape=(), dtype=float32)\n",
      "Tensor(\"Sum:0\", shape=(), dtype=float32)\n",
      "Tensor(\"Sum:0\", shape=(), dtype=float32)\n",
      "Tensor(\"Sum:0\", shape=(), dtype=float32)\n",
      "Tensor(\"Sum:0\", shape=(), dtype=float32)\n",
      "Tensor(\"Sum:0\", shape=(), dtype=float32)\n",
      "Tensor(\"Sum:0\", shape=(), dtype=float32)\n",
      "Tensor(\"Sum:0\", shape=(), dtype=float32)\n",
      "Tensor(\"Sum:0\", shape=(), dtype=float32)\n",
      "Tensor(\"Sum:0\", shape=(), dtype=float32)\n",
      "Tensor(\"Sum:0\", shape=(), dtype=float32)\n",
      "Tensor(\"Sum:0\", shape=(), dtype=float32)\n",
      "Tensor(\"Sum:0\", shape=(), dtype=float32)\n",
      "Tensor(\"Sum:0\", shape=(), dtype=float32)\n",
      "Tensor(\"Sum:0\", shape=(), dtype=float32)\n",
      "Tensor(\"Sum:0\", shape=(), dtype=float32)\n",
      "Tensor(\"Sum:0\", shape=(), dtype=float32)\n",
      "Tensor(\"Sum:0\", shape=(), dtype=float32)\n",
      "Tensor(\"Sum:0\", shape=(), dtype=float32)\n",
      "Tensor(\"Sum:0\", shape=(), dtype=float32)\n",
      "Tensor(\"Sum:0\", shape=(), dtype=float32)\n",
      "Tensor(\"Sum:0\", shape=(), dtype=float32)\n",
      "Tensor(\"Sum:0\", shape=(), dtype=float32)\n",
      "Tensor(\"Sum:0\", shape=(), dtype=float32)\n",
      "Tensor(\"Sum:0\", shape=(), dtype=float32)\n",
      "Tensor(\"Sum:0\", shape=(), dtype=float32)\n",
      "Tensor(\"Sum:0\", shape=(), dtype=float32)\n",
      "Tensor(\"Sum:0\", shape=(), dtype=float32)\n",
      "Tensor(\"Sum:0\", shape=(), dtype=float32)\n",
      "Tensor(\"Sum:0\", shape=(), dtype=float32)\n",
      "Tensor(\"Sum:0\", shape=(), dtype=float32)\n",
      "Tensor(\"Sum:0\", shape=(), dtype=float32)\n",
      "Tensor(\"Sum:0\", shape=(), dtype=float32)\n",
      "Tensor(\"Sum:0\", shape=(), dtype=float32)\n",
      "Tensor(\"Sum:0\", shape=(), dtype=float32)\n",
      "Tensor(\"Sum:0\", shape=(), dtype=float32)\n",
      "Tensor(\"Sum:0\", shape=(), dtype=float32)\n",
      "Tensor(\"Sum:0\", shape=(), dtype=float32)\n",
      "Tensor(\"Sum:0\", shape=(), dtype=float32)\n",
      "Tensor(\"Sum:0\", shape=(), dtype=float32)\n",
      "Tensor(\"Sum:0\", shape=(), dtype=float32)\n",
      "Tensor(\"Sum:0\", shape=(), dtype=float32)\n",
      "Tensor(\"Sum:0\", shape=(), dtype=float32)\n",
      "Tensor(\"Sum:0\", shape=(), dtype=float32)\n",
      "Tensor(\"Sum:0\", shape=(), dtype=float32)\n",
      "Tensor(\"Sum:0\", shape=(), dtype=float32)\n",
      "Tensor(\"Sum:0\", shape=(), dtype=float32)\n",
      "Tensor(\"Sum:0\", shape=(), dtype=float32)\n",
      "Tensor(\"Sum:0\", shape=(), dtype=float32)\n",
      "Tensor(\"Sum:0\", shape=(), dtype=float32)\n",
      "Tensor(\"Sum:0\", shape=(), dtype=float32)\n",
      "Tensor(\"Sum:0\", shape=(), dtype=float32)\n",
      "Tensor(\"Sum:0\", shape=(), dtype=float32)\n",
      "Tensor(\"Sum:0\", shape=(), dtype=float32)\n",
      "Tensor(\"Sum:0\", shape=(), dtype=float32)\n",
      "Tensor(\"Sum:0\", shape=(), dtype=float32)\n",
      "Tensor(\"Sum:0\", shape=(), dtype=float32)\n",
      "Tensor(\"Sum:0\", shape=(), dtype=float32)\n",
      "Tensor(\"Sum:0\", shape=(), dtype=float32)\n",
      "Tensor(\"Sum:0\", shape=(), dtype=float32)\n",
      "Tensor(\"Sum:0\", shape=(), dtype=float32)\n",
      "Tensor(\"Sum:0\", shape=(), dtype=float32)\n",
      "Tensor(\"Sum:0\", shape=(), dtype=float32)\n",
      "Tensor(\"Sum:0\", shape=(), dtype=float32)\n",
      "Tensor(\"Sum:0\", shape=(), dtype=float32)\n",
      "Tensor(\"Sum:0\", shape=(), dtype=float32)\n",
      "Tensor(\"Sum:0\", shape=(), dtype=float32)\n",
      "Tensor(\"Sum:0\", shape=(), dtype=float32)\n",
      "Tensor(\"Sum:0\", shape=(), dtype=float32)\n",
      "Tensor(\"Sum:0\", shape=(), dtype=float32)\n",
      "Tensor(\"Sum:0\", shape=(), dtype=float32)\n",
      "Tensor(\"Sum:0\", shape=(), dtype=float32)\n",
      "Tensor(\"Sum:0\", shape=(), dtype=float32)\n",
      "Tensor(\"Sum:0\", shape=(), dtype=float32)\n",
      "Tensor(\"Sum:0\", shape=(), dtype=float32)\n",
      "Tensor(\"Sum:0\", shape=(), dtype=float32)\n",
      "Tensor(\"Sum:0\", shape=(), dtype=float32)\n",
      "Tensor(\"Sum:0\", shape=(), dtype=float32)\n",
      "Tensor(\"Sum:0\", shape=(), dtype=float32)\n",
      "Tensor(\"Sum:0\", shape=(), dtype=float32)\n",
      "Tensor(\"Sum:0\", shape=(), dtype=float32)\n",
      "Tensor(\"Sum:0\", shape=(), dtype=float32)\n",
      "Tensor(\"Sum:0\", shape=(), dtype=float32)\n",
      "Tensor(\"Sum:0\", shape=(), dtype=float32)\n",
      "Tensor(\"Sum:0\", shape=(), dtype=float32)\n",
      "Tensor(\"Sum:0\", shape=(), dtype=float32)\n",
      "Tensor(\"Sum:0\", shape=(), dtype=float32)\n",
      "Tensor(\"Sum:0\", shape=(), dtype=float32)\n",
      "Tensor(\"Sum:0\", shape=(), dtype=float32)\n",
      "Tensor(\"Sum:0\", shape=(), dtype=float32)\n",
      "Tensor(\"Sum:0\", shape=(), dtype=float32)\n",
      "Tensor(\"Sum:0\", shape=(), dtype=float32)\n",
      "Tensor(\"Sum:0\", shape=(), dtype=float32)\n",
      "Tensor(\"Sum:0\", shape=(), dtype=float32)\n",
      "Tensor(\"Sum:0\", shape=(), dtype=float32)\n",
      "Tensor(\"Sum:0\", shape=(), dtype=float32)\n",
      "Tensor(\"Sum:0\", shape=(), dtype=float32)\n",
      "Tensor(\"Sum:0\", shape=(), dtype=float32)\n",
      "Tensor(\"Sum:0\", shape=(), dtype=float32)\n",
      "Tensor(\"Sum:0\", shape=(), dtype=float32)\n",
      "Tensor(\"Sum:0\", shape=(), dtype=float32)\n",
      "Tensor(\"Sum:0\", shape=(), dtype=float32)\n",
      "Tensor(\"Sum:0\", shape=(), dtype=float32)\n",
      "Tensor(\"Sum:0\", shape=(), dtype=float32)\n",
      "Tensor(\"Sum:0\", shape=(), dtype=float32)\n",
      "Tensor(\"Sum:0\", shape=(), dtype=float32)\n",
      "Tensor(\"Sum:0\", shape=(), dtype=float32)\n",
      "Tensor(\"Sum:0\", shape=(), dtype=float32)\n",
      "Tensor(\"Sum:0\", shape=(), dtype=float32)\n",
      "Tensor(\"Sum:0\", shape=(), dtype=float32)\n",
      "Tensor(\"Sum:0\", shape=(), dtype=float32)\n",
      "Tensor(\"Sum:0\", shape=(), dtype=float32)\n",
      "Tensor(\"Sum:0\", shape=(), dtype=float32)\n",
      "Tensor(\"Sum:0\", shape=(), dtype=float32)\n",
      "Tensor(\"Sum:0\", shape=(), dtype=float32)\n",
      "Tensor(\"Sum:0\", shape=(), dtype=float32)\n",
      "Tensor(\"Sum:0\", shape=(), dtype=float32)\n",
      "Tensor(\"Sum:0\", shape=(), dtype=float32)\n",
      "Tensor(\"Sum:0\", shape=(), dtype=float32)\n",
      "Tensor(\"Sum:0\", shape=(), dtype=float32)\n",
      "Tensor(\"Sum:0\", shape=(), dtype=float32)\n",
      "Tensor(\"Sum:0\", shape=(), dtype=float32)\n",
      "Tensor(\"Sum:0\", shape=(), dtype=float32)\n",
      "Tensor(\"Sum:0\", shape=(), dtype=float32)\n",
      "Tensor(\"Sum:0\", shape=(), dtype=float32)\n",
      "Tensor(\"Sum:0\", shape=(), dtype=float32)\n",
      "Tensor(\"Sum:0\", shape=(), dtype=float32)\n",
      "Tensor(\"Sum:0\", shape=(), dtype=float32)\n",
      "Tensor(\"Sum:0\", shape=(), dtype=float32)\n",
      "Tensor(\"Sum:0\", shape=(), dtype=float32)\n",
      "Tensor(\"Sum:0\", shape=(), dtype=float32)\n",
      "Tensor(\"Sum:0\", shape=(), dtype=float32)\n",
      "Tensor(\"Sum:0\", shape=(), dtype=float32)\n",
      "Tensor(\"Sum:0\", shape=(), dtype=float32)\n",
      "Tensor(\"Sum:0\", shape=(), dtype=float32)\n",
      "Tensor(\"Sum:0\", shape=(), dtype=float32)\n",
      "Tensor(\"Sum:0\", shape=(), dtype=float32)\n",
      "Tensor(\"Sum:0\", shape=(), dtype=float32)\n",
      "Tensor(\"Sum:0\", shape=(), dtype=float32)\n",
      "Tensor(\"Sum:0\", shape=(), dtype=float32)\n",
      "Tensor(\"Sum:0\", shape=(), dtype=float32)\n",
      "Tensor(\"Sum:0\", shape=(), dtype=float32)\n",
      "Tensor(\"Sum:0\", shape=(), dtype=float32)\n",
      "Tensor(\"Sum:0\", shape=(), dtype=float32)\n",
      "Tensor(\"Sum:0\", shape=(), dtype=float32)\n",
      "Tensor(\"Sum:0\", shape=(), dtype=float32)\n",
      "Tensor(\"Sum:0\", shape=(), dtype=float32)\n",
      "Tensor(\"Sum:0\", shape=(), dtype=float32)\n",
      "Tensor(\"Sum:0\", shape=(), dtype=float32)\n",
      "Tensor(\"Sum:0\", shape=(), dtype=float32)\n",
      "Tensor(\"Sum:0\", shape=(), dtype=float32)\n",
      "Tensor(\"Sum:0\", shape=(), dtype=float32)\n",
      "Tensor(\"Sum:0\", shape=(), dtype=float32)\n",
      "Tensor(\"Sum:0\", shape=(), dtype=float32)\n",
      "Tensor(\"Sum:0\", shape=(), dtype=float32)\n",
      "Tensor(\"Sum:0\", shape=(), dtype=float32)\n",
      "Tensor(\"Sum:0\", shape=(), dtype=float32)\n",
      "Tensor(\"Sum:0\", shape=(), dtype=float32)\n",
      "Tensor(\"Sum:0\", shape=(), dtype=float32)\n",
      "Tensor(\"Sum:0\", shape=(), dtype=float32)\n",
      "Tensor(\"Sum:0\", shape=(), dtype=float32)\n",
      "Tensor(\"Sum:0\", shape=(), dtype=float32)\n",
      "Tensor(\"Sum:0\", shape=(), dtype=float32)\n",
      "Tensor(\"Sum:0\", shape=(), dtype=float32)\n",
      "Tensor(\"Sum:0\", shape=(), dtype=float32)\n",
      "Tensor(\"Sum:0\", shape=(), dtype=float32)\n",
      "Tensor(\"Sum:0\", shape=(), dtype=float32)\n",
      "Tensor(\"Sum:0\", shape=(), dtype=float32)\n",
      "Tensor(\"Sum:0\", shape=(), dtype=float32)\n",
      "Tensor(\"Sum:0\", shape=(), dtype=float32)\n",
      "Tensor(\"Sum:0\", shape=(), dtype=float32)\n",
      "Tensor(\"Sum:0\", shape=(), dtype=float32)\n",
      "Tensor(\"Sum:0\", shape=(), dtype=float32)\n",
      "Tensor(\"Sum:0\", shape=(), dtype=float32)\n",
      "Tensor(\"Sum:0\", shape=(), dtype=float32)\n",
      "Tensor(\"Sum:0\", shape=(), dtype=float32)\n",
      "Tensor(\"Sum:0\", shape=(), dtype=float32)\n",
      "Tensor(\"Sum:0\", shape=(), dtype=float32)\n",
      "Tensor(\"Sum:0\", shape=(), dtype=float32)\n",
      "Tensor(\"Sum:0\", shape=(), dtype=float32)\n",
      "Tensor(\"Sum:0\", shape=(), dtype=float32)\n",
      "Tensor(\"Sum:0\", shape=(), dtype=float32)\n",
      "Tensor(\"Sum:0\", shape=(), dtype=float32)\n",
      "Tensor(\"Sum:0\", shape=(), dtype=float32)\n",
      "Tensor(\"Sum:0\", shape=(), dtype=float32)\n",
      "Tensor(\"Sum:0\", shape=(), dtype=float32)\n",
      "Tensor(\"Sum:0\", shape=(), dtype=float32)\n",
      "Tensor(\"Sum:0\", shape=(), dtype=float32)\n",
      "Tensor(\"Sum:0\", shape=(), dtype=float32)\n",
      "Tensor(\"Sum:0\", shape=(), dtype=float32)\n",
      "Tensor(\"Sum:0\", shape=(), dtype=float32)\n",
      "Tensor(\"Sum:0\", shape=(), dtype=float32)\n",
      "Tensor(\"Sum:0\", shape=(), dtype=float32)\n",
      "Tensor(\"Sum:0\", shape=(), dtype=float32)\n",
      "Tensor(\"Sum:0\", shape=(), dtype=float32)\n",
      "Tensor(\"Sum:0\", shape=(), dtype=float32)\n",
      "Tensor(\"Sum:0\", shape=(), dtype=float32)\n",
      "Tensor(\"Sum:0\", shape=(), dtype=float32)\n",
      "Tensor(\"Sum:0\", shape=(), dtype=float32)\n",
      "Tensor(\"Sum:0\", shape=(), dtype=float32)\n",
      "Tensor(\"Sum:0\", shape=(), dtype=float32)\n",
      "Tensor(\"Sum:0\", shape=(), dtype=float32)\n",
      "Tensor(\"Sum:0\", shape=(), dtype=float32)\n",
      "Tensor(\"Sum:0\", shape=(), dtype=float32)\n",
      "Tensor(\"Sum:0\", shape=(), dtype=float32)\n",
      "Tensor(\"Sum:0\", shape=(), dtype=float32)\n",
      "Tensor(\"Sum:0\", shape=(), dtype=float32)\n",
      "Tensor(\"Sum:0\", shape=(), dtype=float32)\n",
      "Tensor(\"Sum:0\", shape=(), dtype=float32)\n",
      "Tensor(\"Sum:0\", shape=(), dtype=float32)\n",
      "Tensor(\"Sum:0\", shape=(), dtype=float32)\n",
      "Tensor(\"Sum:0\", shape=(), dtype=float32)\n",
      "Tensor(\"Sum:0\", shape=(), dtype=float32)\n",
      "Tensor(\"Sum:0\", shape=(), dtype=float32)\n",
      "Tensor(\"Sum:0\", shape=(), dtype=float32)\n",
      "Tensor(\"Sum:0\", shape=(), dtype=float32)\n"
     ]
    },
    {
     "name": "stdout",
     "output_type": "stream",
     "text": [
      "Tensor(\"Sum:0\", shape=(), dtype=float32)\n",
      "Tensor(\"Sum:0\", shape=(), dtype=float32)\n",
      "Tensor(\"Sum:0\", shape=(), dtype=float32)\n",
      "Tensor(\"Sum:0\", shape=(), dtype=float32)\n",
      "Tensor(\"Sum:0\", shape=(), dtype=float32)\n",
      "Tensor(\"Sum:0\", shape=(), dtype=float32)\n",
      "Tensor(\"Sum:0\", shape=(), dtype=float32)\n",
      "Tensor(\"Sum:0\", shape=(), dtype=float32)\n",
      "Tensor(\"Sum:0\", shape=(), dtype=float32)\n",
      "Tensor(\"Sum:0\", shape=(), dtype=float32)\n",
      "Tensor(\"Sum:0\", shape=(), dtype=float32)\n",
      "Tensor(\"Sum:0\", shape=(), dtype=float32)\n",
      "Tensor(\"Sum:0\", shape=(), dtype=float32)\n",
      "Tensor(\"Sum:0\", shape=(), dtype=float32)\n",
      "Tensor(\"Sum:0\", shape=(), dtype=float32)\n",
      "Tensor(\"Sum:0\", shape=(), dtype=float32)\n",
      "Tensor(\"Sum:0\", shape=(), dtype=float32)\n",
      "Tensor(\"Sum:0\", shape=(), dtype=float32)\n",
      "Tensor(\"Sum:0\", shape=(), dtype=float32)\n",
      "Tensor(\"Sum:0\", shape=(), dtype=float32)\n",
      "Tensor(\"Sum:0\", shape=(), dtype=float32)\n",
      "Tensor(\"Sum:0\", shape=(), dtype=float32)\n",
      "Tensor(\"Sum:0\", shape=(), dtype=float32)\n",
      "Tensor(\"Sum:0\", shape=(), dtype=float32)\n",
      "Tensor(\"Sum:0\", shape=(), dtype=float32)\n",
      "Tensor(\"Sum:0\", shape=(), dtype=float32)\n",
      "Tensor(\"Sum:0\", shape=(), dtype=float32)\n",
      "Tensor(\"Sum:0\", shape=(), dtype=float32)\n",
      "Tensor(\"Sum:0\", shape=(), dtype=float32)\n",
      "Tensor(\"Sum:0\", shape=(), dtype=float32)\n",
      "Tensor(\"Sum:0\", shape=(), dtype=float32)\n",
      "Tensor(\"Sum:0\", shape=(), dtype=float32)\n",
      "Tensor(\"Sum:0\", shape=(), dtype=float32)\n",
      "Tensor(\"Sum:0\", shape=(), dtype=float32)\n",
      "Tensor(\"Sum:0\", shape=(), dtype=float32)\n",
      "Tensor(\"Sum:0\", shape=(), dtype=float32)\n",
      "Tensor(\"Sum:0\", shape=(), dtype=float32)\n",
      "Tensor(\"Sum:0\", shape=(), dtype=float32)\n",
      "Tensor(\"Sum:0\", shape=(), dtype=float32)\n",
      "Tensor(\"Sum:0\", shape=(), dtype=float32)\n",
      "Tensor(\"Sum:0\", shape=(), dtype=float32)\n",
      "Tensor(\"Sum:0\", shape=(), dtype=float32)\n",
      "Tensor(\"Sum:0\", shape=(), dtype=float32)\n",
      "Tensor(\"Sum:0\", shape=(), dtype=float32)\n",
      "Tensor(\"Sum:0\", shape=(), dtype=float32)\n",
      "Tensor(\"Sum:0\", shape=(), dtype=float32)\n",
      "Tensor(\"Sum:0\", shape=(), dtype=float32)\n",
      "Tensor(\"Sum:0\", shape=(), dtype=float32)\n",
      "Tensor(\"Sum:0\", shape=(), dtype=float32)\n",
      "Tensor(\"Sum:0\", shape=(), dtype=float32)\n",
      "Tensor(\"Sum:0\", shape=(), dtype=float32)\n",
      "Tensor(\"Sum:0\", shape=(), dtype=float32)\n",
      "Tensor(\"Sum:0\", shape=(), dtype=float32)\n",
      "Tensor(\"Sum:0\", shape=(), dtype=float32)\n",
      "Tensor(\"Sum:0\", shape=(), dtype=float32)\n",
      "Tensor(\"Sum:0\", shape=(), dtype=float32)\n",
      "Tensor(\"Sum:0\", shape=(), dtype=float32)\n",
      "Tensor(\"Sum:0\", shape=(), dtype=float32)\n",
      "Tensor(\"Sum:0\", shape=(), dtype=float32)\n",
      "Tensor(\"Sum:0\", shape=(), dtype=float32)\n",
      "Tensor(\"Sum:0\", shape=(), dtype=float32)\n",
      "Tensor(\"Sum:0\", shape=(), dtype=float32)\n",
      "Tensor(\"Sum:0\", shape=(), dtype=float32)\n",
      "Tensor(\"Sum:0\", shape=(), dtype=float32)\n",
      "Tensor(\"Sum:0\", shape=(), dtype=float32)\n",
      "Tensor(\"Sum:0\", shape=(), dtype=float32)\n",
      "Tensor(\"Sum:0\", shape=(), dtype=float32)\n",
      "Tensor(\"Sum:0\", shape=(), dtype=float32)\n",
      "Tensor(\"Sum:0\", shape=(), dtype=float32)\n",
      "Tensor(\"Sum:0\", shape=(), dtype=float32)\n",
      "Tensor(\"Sum:0\", shape=(), dtype=float32)\n",
      "Tensor(\"Sum:0\", shape=(), dtype=float32)\n",
      "Tensor(\"Sum:0\", shape=(), dtype=float32)\n",
      "Tensor(\"Sum:0\", shape=(), dtype=float32)\n",
      "Tensor(\"Sum:0\", shape=(), dtype=float32)\n",
      "Tensor(\"Sum:0\", shape=(), dtype=float32)\n",
      "Tensor(\"Sum:0\", shape=(), dtype=float32)\n",
      "Tensor(\"Sum:0\", shape=(), dtype=float32)\n",
      "Tensor(\"Sum:0\", shape=(), dtype=float32)\n",
      "Tensor(\"Sum:0\", shape=(), dtype=float32)\n",
      "Tensor(\"Sum:0\", shape=(), dtype=float32)\n",
      "Tensor(\"Sum:0\", shape=(), dtype=float32)\n",
      "Tensor(\"Sum:0\", shape=(), dtype=float32)\n",
      "Tensor(\"Sum:0\", shape=(), dtype=float32)\n",
      "Tensor(\"Sum:0\", shape=(), dtype=float32)\n",
      "Tensor(\"Sum:0\", shape=(), dtype=float32)\n",
      "Tensor(\"Sum:0\", shape=(), dtype=float32)\n",
      "Tensor(\"Sum:0\", shape=(), dtype=float32)\n",
      "Tensor(\"Sum:0\", shape=(), dtype=float32)\n",
      "Tensor(\"Sum:0\", shape=(), dtype=float32)\n",
      "Tensor(\"Sum:0\", shape=(), dtype=float32)\n",
      "Tensor(\"Sum:0\", shape=(), dtype=float32)\n",
      "Tensor(\"Sum:0\", shape=(), dtype=float32)\n",
      "Tensor(\"Sum:0\", shape=(), dtype=float32)\n",
      "Tensor(\"Sum:0\", shape=(), dtype=float32)\n",
      "Tensor(\"Sum:0\", shape=(), dtype=float32)\n",
      "Tensor(\"Sum:0\", shape=(), dtype=float32)\n",
      "Tensor(\"Sum:0\", shape=(), dtype=float32)\n",
      "Tensor(\"Sum:0\", shape=(), dtype=float32)\n",
      "Tensor(\"Sum:0\", shape=(), dtype=float32)\n",
      "Tensor(\"Sum:0\", shape=(), dtype=float32)\n",
      "Tensor(\"Sum:0\", shape=(), dtype=float32)\n",
      "Tensor(\"Sum:0\", shape=(), dtype=float32)\n",
      "Tensor(\"Sum:0\", shape=(), dtype=float32)\n",
      "Tensor(\"Sum:0\", shape=(), dtype=float32)\n",
      "Tensor(\"Sum:0\", shape=(), dtype=float32)\n",
      "Tensor(\"Sum:0\", shape=(), dtype=float32)\n",
      "Tensor(\"Sum:0\", shape=(), dtype=float32)\n",
      "Tensor(\"Sum:0\", shape=(), dtype=float32)\n",
      "Tensor(\"Sum:0\", shape=(), dtype=float32)\n",
      "Tensor(\"Sum:0\", shape=(), dtype=float32)\n",
      "Tensor(\"Sum:0\", shape=(), dtype=float32)\n",
      "Tensor(\"Sum:0\", shape=(), dtype=float32)\n",
      "Tensor(\"Sum:0\", shape=(), dtype=float32)\n",
      "Tensor(\"Sum:0\", shape=(), dtype=float32)\n",
      "Tensor(\"Sum:0\", shape=(), dtype=float32)\n",
      "Tensor(\"Sum:0\", shape=(), dtype=float32)\n",
      "Tensor(\"Sum:0\", shape=(), dtype=float32)\n",
      "Tensor(\"Sum:0\", shape=(), dtype=float32)\n",
      "Tensor(\"Sum:0\", shape=(), dtype=float32)\n",
      "Tensor(\"Sum:0\", shape=(), dtype=float32)\n",
      "Tensor(\"Sum:0\", shape=(), dtype=float32)\n",
      "Tensor(\"Sum:0\", shape=(), dtype=float32)\n",
      "Tensor(\"Sum:0\", shape=(), dtype=float32)\n",
      "Tensor(\"Sum:0\", shape=(), dtype=float32)\n",
      "Tensor(\"Sum:0\", shape=(), dtype=float32)\n",
      "Tensor(\"Sum:0\", shape=(), dtype=float32)\n",
      "Tensor(\"Sum:0\", shape=(), dtype=float32)\n",
      "Tensor(\"Sum:0\", shape=(), dtype=float32)\n",
      "Tensor(\"Sum:0\", shape=(), dtype=float32)\n",
      "Tensor(\"Sum:0\", shape=(), dtype=float32)\n",
      "Tensor(\"Sum:0\", shape=(), dtype=float32)\n",
      "Tensor(\"Sum:0\", shape=(), dtype=float32)\n",
      "Tensor(\"Sum:0\", shape=(), dtype=float32)\n",
      "Tensor(\"Sum:0\", shape=(), dtype=float32)\n",
      "Tensor(\"Sum:0\", shape=(), dtype=float32)\n",
      "Tensor(\"Sum:0\", shape=(), dtype=float32)\n",
      "Tensor(\"Sum:0\", shape=(), dtype=float32)\n",
      "Tensor(\"Sum:0\", shape=(), dtype=float32)\n",
      "Tensor(\"Sum:0\", shape=(), dtype=float32)\n",
      "Tensor(\"Sum:0\", shape=(), dtype=float32)\n",
      "Tensor(\"Sum:0\", shape=(), dtype=float32)\n",
      "Tensor(\"Sum:0\", shape=(), dtype=float32)\n",
      "Tensor(\"Sum:0\", shape=(), dtype=float32)\n",
      "Tensor(\"Sum:0\", shape=(), dtype=float32)\n",
      "Tensor(\"Sum:0\", shape=(), dtype=float32)\n",
      "Tensor(\"Sum:0\", shape=(), dtype=float32)\n",
      "Tensor(\"Sum:0\", shape=(), dtype=float32)\n",
      "Tensor(\"Sum:0\", shape=(), dtype=float32)\n",
      "Tensor(\"Sum:0\", shape=(), dtype=float32)\n",
      "Tensor(\"Sum:0\", shape=(), dtype=float32)\n",
      "Tensor(\"Sum:0\", shape=(), dtype=float32)\n",
      "Tensor(\"Sum:0\", shape=(), dtype=float32)\n",
      "Tensor(\"Sum:0\", shape=(), dtype=float32)\n",
      "Tensor(\"Sum:0\", shape=(), dtype=float32)\n",
      "Tensor(\"Sum:0\", shape=(), dtype=float32)\n",
      "Tensor(\"Sum:0\", shape=(), dtype=float32)\n",
      "Tensor(\"Sum:0\", shape=(), dtype=float32)\n",
      "Tensor(\"Sum:0\", shape=(), dtype=float32)\n",
      "Tensor(\"Sum:0\", shape=(), dtype=float32)\n",
      "Tensor(\"Sum:0\", shape=(), dtype=float32)\n",
      "Tensor(\"Sum:0\", shape=(), dtype=float32)\n",
      "Tensor(\"Sum:0\", shape=(), dtype=float32)\n",
      "Tensor(\"Sum:0\", shape=(), dtype=float32)\n",
      "Tensor(\"Sum:0\", shape=(), dtype=float32)\n",
      "Tensor(\"Sum:0\", shape=(), dtype=float32)\n",
      "Tensor(\"Sum:0\", shape=(), dtype=float32)\n",
      "Tensor(\"Sum:0\", shape=(), dtype=float32)\n",
      "Tensor(\"Sum:0\", shape=(), dtype=float32)\n",
      "Tensor(\"Sum:0\", shape=(), dtype=float32)\n",
      "Tensor(\"Sum:0\", shape=(), dtype=float32)\n",
      "Tensor(\"Sum:0\", shape=(), dtype=float32)\n",
      "Tensor(\"Sum:0\", shape=(), dtype=float32)\n",
      "Tensor(\"Sum:0\", shape=(), dtype=float32)\n",
      "Tensor(\"Sum:0\", shape=(), dtype=float32)\n",
      "Tensor(\"Sum:0\", shape=(), dtype=float32)\n",
      "Tensor(\"Sum:0\", shape=(), dtype=float32)\n",
      "Tensor(\"Sum:0\", shape=(), dtype=float32)\n",
      "Tensor(\"Sum:0\", shape=(), dtype=float32)\n",
      "Tensor(\"Sum:0\", shape=(), dtype=float32)\n",
      "Tensor(\"Sum:0\", shape=(), dtype=float32)\n",
      "Tensor(\"Sum:0\", shape=(), dtype=float32)\n",
      "Tensor(\"Sum:0\", shape=(), dtype=float32)\n",
      "Tensor(\"Sum:0\", shape=(), dtype=float32)\n",
      "Tensor(\"Sum:0\", shape=(), dtype=float32)\n",
      "Tensor(\"Sum:0\", shape=(), dtype=float32)\n",
      "Tensor(\"Sum:0\", shape=(), dtype=float32)\n",
      "Tensor(\"Sum:0\", shape=(), dtype=float32)\n",
      "Tensor(\"Sum:0\", shape=(), dtype=float32)\n",
      "Tensor(\"Sum:0\", shape=(), dtype=float32)\n",
      "Tensor(\"Sum:0\", shape=(), dtype=float32)\n",
      "Tensor(\"Sum:0\", shape=(), dtype=float32)\n",
      "Tensor(\"Sum:0\", shape=(), dtype=float32)\n",
      "Tensor(\"Sum:0\", shape=(), dtype=float32)\n",
      "Tensor(\"Sum:0\", shape=(), dtype=float32)\n",
      "Tensor(\"Sum:0\", shape=(), dtype=float32)\n",
      "Tensor(\"Sum:0\", shape=(), dtype=float32)\n",
      "Tensor(\"Sum:0\", shape=(), dtype=float32)\n",
      "Tensor(\"Sum:0\", shape=(), dtype=float32)\n",
      "Tensor(\"Sum:0\", shape=(), dtype=float32)\n",
      "Tensor(\"Sum:0\", shape=(), dtype=float32)\n",
      "Tensor(\"Sum:0\", shape=(), dtype=float32)\n",
      "Tensor(\"Sum:0\", shape=(), dtype=float32)\n",
      "Tensor(\"Sum:0\", shape=(), dtype=float32)\n",
      "Tensor(\"Sum:0\", shape=(), dtype=float32)\n",
      "Tensor(\"Sum:0\", shape=(), dtype=float32)\n",
      "Tensor(\"Sum:0\", shape=(), dtype=float32)\n",
      "Tensor(\"Sum:0\", shape=(), dtype=float32)\n",
      "Tensor(\"Sum:0\", shape=(), dtype=float32)\n",
      "Tensor(\"Sum:0\", shape=(), dtype=float32)\n",
      "Tensor(\"Sum:0\", shape=(), dtype=float32)\n",
      "Tensor(\"Sum:0\", shape=(), dtype=float32)\n",
      "Tensor(\"Sum:0\", shape=(), dtype=float32)\n",
      "Tensor(\"Sum:0\", shape=(), dtype=float32)\n",
      "Tensor(\"Sum:0\", shape=(), dtype=float32)\n",
      "Tensor(\"Sum:0\", shape=(), dtype=float32)\n",
      "Tensor(\"Sum:0\", shape=(), dtype=float32)\n",
      "Tensor(\"Sum:0\", shape=(), dtype=float32)\n",
      "Tensor(\"Sum:0\", shape=(), dtype=float32)\n",
      "Tensor(\"Sum:0\", shape=(), dtype=float32)\n",
      "Tensor(\"Sum:0\", shape=(), dtype=float32)\n",
      "Tensor(\"Sum:0\", shape=(), dtype=float32)\n",
      "Tensor(\"Sum:0\", shape=(), dtype=float32)\n",
      "Tensor(\"Sum:0\", shape=(), dtype=float32)\n",
      "Tensor(\"Sum:0\", shape=(), dtype=float32)\n",
      "Tensor(\"Sum:0\", shape=(), dtype=float32)\n",
      "Tensor(\"Sum:0\", shape=(), dtype=float32)\n",
      "Tensor(\"Sum:0\", shape=(), dtype=float32)\n",
      "Tensor(\"Sum:0\", shape=(), dtype=float32)\n",
      "Tensor(\"Sum:0\", shape=(), dtype=float32)\n",
      "Tensor(\"Sum:0\", shape=(), dtype=float32)\n",
      "Tensor(\"Sum:0\", shape=(), dtype=float32)\n",
      "Tensor(\"Sum:0\", shape=(), dtype=float32)\n",
      "Tensor(\"Sum:0\", shape=(), dtype=float32)\n",
      "Tensor(\"Sum:0\", shape=(), dtype=float32)\n",
      "Tensor(\"Sum:0\", shape=(), dtype=float32)\n",
      "Tensor(\"Sum:0\", shape=(), dtype=float32)\n",
      "Tensor(\"Sum:0\", shape=(), dtype=float32)\n",
      "Tensor(\"Sum:0\", shape=(), dtype=float32)\n",
      "Tensor(\"Sum:0\", shape=(), dtype=float32)\n",
      "Tensor(\"Sum:0\", shape=(), dtype=float32)\n",
      "Tensor(\"Sum:0\", shape=(), dtype=float32)\n",
      "Tensor(\"Sum:0\", shape=(), dtype=float32)\n",
      "Tensor(\"Sum:0\", shape=(), dtype=float32)\n",
      "Tensor(\"Sum:0\", shape=(), dtype=float32)\n",
      "Tensor(\"Sum:0\", shape=(), dtype=float32)\n",
      "Tensor(\"Sum:0\", shape=(), dtype=float32)\n",
      "Tensor(\"Sum:0\", shape=(), dtype=float32)\n",
      "Tensor(\"Sum:0\", shape=(), dtype=float32)\n",
      "Tensor(\"Sum:0\", shape=(), dtype=float32)\n",
      "Tensor(\"Sum:0\", shape=(), dtype=float32)\n",
      "Tensor(\"Sum:0\", shape=(), dtype=float32)\n",
      "Tensor(\"Sum:0\", shape=(), dtype=float32)\n",
      "Tensor(\"Sum:0\", shape=(), dtype=float32)\n",
      "Tensor(\"Sum:0\", shape=(), dtype=float32)\n",
      "Tensor(\"Sum:0\", shape=(), dtype=float32)\n",
      "Tensor(\"Sum:0\", shape=(), dtype=float32)\n",
      "Tensor(\"Sum:0\", shape=(), dtype=float32)\n",
      "Tensor(\"Sum:0\", shape=(), dtype=float32)\n",
      "Tensor(\"Sum:0\", shape=(), dtype=float32)\n",
      "Tensor(\"Sum:0\", shape=(), dtype=float32)\n",
      "Tensor(\"Sum:0\", shape=(), dtype=float32)\n",
      "Tensor(\"Sum:0\", shape=(), dtype=float32)\n",
      "Tensor(\"Sum:0\", shape=(), dtype=float32)\n",
      "Tensor(\"Sum:0\", shape=(), dtype=float32)\n",
      "Tensor(\"Sum:0\", shape=(), dtype=float32)\n",
      "Tensor(\"Sum:0\", shape=(), dtype=float32)\n",
      "Tensor(\"Sum:0\", shape=(), dtype=float32)\n",
      "Tensor(\"Sum:0\", shape=(), dtype=float32)\n",
      "Tensor(\"Sum:0\", shape=(), dtype=float32)\n",
      "Tensor(\"Sum:0\", shape=(), dtype=float32)\n",
      "Tensor(\"Sum:0\", shape=(), dtype=float32)\n",
      "Tensor(\"Sum:0\", shape=(), dtype=float32)\n",
      "Tensor(\"Sum:0\", shape=(), dtype=float32)\n",
      "Tensor(\"Sum:0\", shape=(), dtype=float32)\n",
      "Tensor(\"Sum:0\", shape=(), dtype=float32)\n",
      "Tensor(\"Sum:0\", shape=(), dtype=float32)\n",
      "Tensor(\"Sum:0\", shape=(), dtype=float32)\n",
      "Tensor(\"Sum:0\", shape=(), dtype=float32)\n",
      "Tensor(\"Sum:0\", shape=(), dtype=float32)\n",
      "Tensor(\"Sum:0\", shape=(), dtype=float32)\n",
      "Tensor(\"Sum:0\", shape=(), dtype=float32)\n",
      "Tensor(\"Sum:0\", shape=(), dtype=float32)\n",
      "Tensor(\"Sum:0\", shape=(), dtype=float32)\n",
      "Tensor(\"Sum:0\", shape=(), dtype=float32)\n",
      "Tensor(\"Sum:0\", shape=(), dtype=float32)\n",
      "Tensor(\"Sum:0\", shape=(), dtype=float32)\n",
      "Tensor(\"Sum:0\", shape=(), dtype=float32)\n",
      "Tensor(\"Sum:0\", shape=(), dtype=float32)\n",
      "Tensor(\"Sum:0\", shape=(), dtype=float32)\n",
      "Tensor(\"Sum:0\", shape=(), dtype=float32)\n",
      "Tensor(\"Sum:0\", shape=(), dtype=float32)\n",
      "Tensor(\"Sum:0\", shape=(), dtype=float32)\n",
      "Tensor(\"Sum:0\", shape=(), dtype=float32)\n",
      "Tensor(\"Sum:0\", shape=(), dtype=float32)\n",
      "Tensor(\"Sum:0\", shape=(), dtype=float32)\n",
      "Tensor(\"Sum:0\", shape=(), dtype=float32)\n",
      "Tensor(\"Sum:0\", shape=(), dtype=float32)\n",
      "Tensor(\"Sum:0\", shape=(), dtype=float32)\n",
      "Tensor(\"Sum:0\", shape=(), dtype=float32)\n",
      "Tensor(\"Sum:0\", shape=(), dtype=float32)\n",
      "Tensor(\"Sum:0\", shape=(), dtype=float32)\n",
      "Tensor(\"Sum:0\", shape=(), dtype=float32)\n",
      "Tensor(\"Sum:0\", shape=(), dtype=float32)\n",
      "Tensor(\"Sum:0\", shape=(), dtype=float32)\n",
      "Tensor(\"Sum:0\", shape=(), dtype=float32)\n",
      "Tensor(\"Sum:0\", shape=(), dtype=float32)\n",
      "Tensor(\"Sum:0\", shape=(), dtype=float32)\n",
      "Tensor(\"Sum:0\", shape=(), dtype=float32)\n",
      "Tensor(\"Sum:0\", shape=(), dtype=float32)\n",
      "Tensor(\"Sum:0\", shape=(), dtype=float32)\n",
      "Tensor(\"Sum:0\", shape=(), dtype=float32)\n",
      "Tensor(\"Sum:0\", shape=(), dtype=float32)\n",
      "Tensor(\"Sum:0\", shape=(), dtype=float32)\n",
      "Tensor(\"Sum:0\", shape=(), dtype=float32)\n",
      "Tensor(\"Sum:0\", shape=(), dtype=float32)\n",
      "Tensor(\"Sum:0\", shape=(), dtype=float32)\n",
      "Tensor(\"Sum:0\", shape=(), dtype=float32)\n",
      "Tensor(\"Sum:0\", shape=(), dtype=float32)\n",
      "Tensor(\"Sum:0\", shape=(), dtype=float32)\n",
      "Tensor(\"Sum:0\", shape=(), dtype=float32)\n",
      "Tensor(\"Sum:0\", shape=(), dtype=float32)\n",
      "Tensor(\"Sum:0\", shape=(), dtype=float32)\n",
      "Tensor(\"Sum:0\", shape=(), dtype=float32)\n",
      "Tensor(\"Sum:0\", shape=(), dtype=float32)\n",
      "Tensor(\"Sum:0\", shape=(), dtype=float32)\n",
      "Tensor(\"Sum:0\", shape=(), dtype=float32)\n",
      "Tensor(\"Sum:0\", shape=(), dtype=float32)\n",
      "Tensor(\"Sum:0\", shape=(), dtype=float32)\n",
      "Tensor(\"Sum:0\", shape=(), dtype=float32)\n",
      "Tensor(\"Sum:0\", shape=(), dtype=float32)\n",
      "Tensor(\"Sum:0\", shape=(), dtype=float32)\n",
      "Tensor(\"Sum:0\", shape=(), dtype=float32)\n",
      "Tensor(\"Sum:0\", shape=(), dtype=float32)\n",
      "Tensor(\"Sum:0\", shape=(), dtype=float32)\n",
      "Tensor(\"Sum:0\", shape=(), dtype=float32)\n",
      "Tensor(\"Sum:0\", shape=(), dtype=float32)\n",
      "Tensor(\"Sum:0\", shape=(), dtype=float32)\n",
      "Tensor(\"Sum:0\", shape=(), dtype=float32)\n",
      "Tensor(\"Sum:0\", shape=(), dtype=float32)\n",
      "Tensor(\"Sum:0\", shape=(), dtype=float32)\n",
      "Tensor(\"Sum:0\", shape=(), dtype=float32)\n",
      "Tensor(\"Sum:0\", shape=(), dtype=float32)\n",
      "Tensor(\"Sum:0\", shape=(), dtype=float32)\n",
      "Tensor(\"Sum:0\", shape=(), dtype=float32)\n",
      "Tensor(\"Sum:0\", shape=(), dtype=float32)\n",
      "Tensor(\"Sum:0\", shape=(), dtype=float32)\n",
      "Tensor(\"Sum:0\", shape=(), dtype=float32)\n",
      "Tensor(\"Sum:0\", shape=(), dtype=float32)\n",
      "Tensor(\"Sum:0\", shape=(), dtype=float32)\n",
      "Tensor(\"Sum:0\", shape=(), dtype=float32)\n",
      "Tensor(\"Sum:0\", shape=(), dtype=float32)\n",
      "Tensor(\"Sum:0\", shape=(), dtype=float32)\n",
      "Tensor(\"Sum:0\", shape=(), dtype=float32)\n",
      "Tensor(\"Sum:0\", shape=(), dtype=float32)\n",
      "Tensor(\"Sum:0\", shape=(), dtype=float32)\n",
      "Tensor(\"Sum:0\", shape=(), dtype=float32)\n",
      "Tensor(\"Sum:0\", shape=(), dtype=float32)\n",
      "Tensor(\"Sum:0\", shape=(), dtype=float32)\n",
      "Tensor(\"Sum:0\", shape=(), dtype=float32)\n",
      "Tensor(\"Sum:0\", shape=(), dtype=float32)\n",
      "Tensor(\"Sum:0\", shape=(), dtype=float32)\n",
      "Tensor(\"Sum:0\", shape=(), dtype=float32)\n",
      "Tensor(\"Sum:0\", shape=(), dtype=float32)\n",
      "Tensor(\"Sum:0\", shape=(), dtype=float32)\n",
      "Tensor(\"Sum:0\", shape=(), dtype=float32)\n",
      "Tensor(\"Sum:0\", shape=(), dtype=float32)\n",
      "Tensor(\"Sum:0\", shape=(), dtype=float32)\n",
      "Tensor(\"Sum:0\", shape=(), dtype=float32)\n",
      "Tensor(\"Sum:0\", shape=(), dtype=float32)\n",
      "Tensor(\"Sum:0\", shape=(), dtype=float32)\n",
      "Tensor(\"Sum:0\", shape=(), dtype=float32)\n",
      "Tensor(\"Sum:0\", shape=(), dtype=float32)\n",
      "Tensor(\"Sum:0\", shape=(), dtype=float32)\n",
      "Tensor(\"Sum:0\", shape=(), dtype=float32)\n",
      "Tensor(\"Sum:0\", shape=(), dtype=float32)\n",
      "Tensor(\"Sum:0\", shape=(), dtype=float32)\n",
      "Tensor(\"Sum:0\", shape=(), dtype=float32)\n",
      "Tensor(\"Sum:0\", shape=(), dtype=float32)\n",
      "Tensor(\"Sum:0\", shape=(), dtype=float32)\n",
      "Tensor(\"Sum:0\", shape=(), dtype=float32)\n",
      "Tensor(\"Sum:0\", shape=(), dtype=float32)\n",
      "Tensor(\"Sum:0\", shape=(), dtype=float32)\n",
      "Tensor(\"Sum:0\", shape=(), dtype=float32)\n",
      "Tensor(\"Sum:0\", shape=(), dtype=float32)\n",
      "Tensor(\"Sum:0\", shape=(), dtype=float32)\n",
      "Tensor(\"Sum:0\", shape=(), dtype=float32)\n",
      "Tensor(\"Sum:0\", shape=(), dtype=float32)\n",
      "Tensor(\"Sum:0\", shape=(), dtype=float32)\n",
      "Tensor(\"Sum:0\", shape=(), dtype=float32)\n",
      "Tensor(\"Sum:0\", shape=(), dtype=float32)\n",
      "Tensor(\"Sum:0\", shape=(), dtype=float32)\n",
      "Tensor(\"Sum:0\", shape=(), dtype=float32)\n",
      "Tensor(\"Sum:0\", shape=(), dtype=float32)\n",
      "Tensor(\"Sum:0\", shape=(), dtype=float32)\n",
      "Tensor(\"Sum:0\", shape=(), dtype=float32)\n",
      "Tensor(\"Sum:0\", shape=(), dtype=float32)\n",
      "Tensor(\"Sum:0\", shape=(), dtype=float32)\n",
      "Tensor(\"Sum:0\", shape=(), dtype=float32)\n",
      "Tensor(\"Sum:0\", shape=(), dtype=float32)\n",
      "Tensor(\"Sum:0\", shape=(), dtype=float32)\n",
      "Tensor(\"Sum:0\", shape=(), dtype=float32)\n",
      "Tensor(\"Sum:0\", shape=(), dtype=float32)\n",
      "Tensor(\"Sum:0\", shape=(), dtype=float32)\n",
      "Tensor(\"Sum:0\", shape=(), dtype=float32)\n",
      "Tensor(\"Sum:0\", shape=(), dtype=float32)\n",
      "Tensor(\"Sum:0\", shape=(), dtype=float32)\n",
      "Tensor(\"Sum:0\", shape=(), dtype=float32)\n",
      "Tensor(\"Sum:0\", shape=(), dtype=float32)\n",
      "Tensor(\"Sum:0\", shape=(), dtype=float32)\n",
      "Tensor(\"Sum:0\", shape=(), dtype=float32)\n",
      "Tensor(\"Sum:0\", shape=(), dtype=float32)\n",
      "Tensor(\"Sum:0\", shape=(), dtype=float32)\n",
      "Tensor(\"Sum:0\", shape=(), dtype=float32)\n",
      "Tensor(\"Sum:0\", shape=(), dtype=float32)\n",
      "Tensor(\"Sum:0\", shape=(), dtype=float32)\n",
      "Tensor(\"Sum:0\", shape=(), dtype=float32)\n",
      "Tensor(\"Sum:0\", shape=(), dtype=float32)\n",
      "Tensor(\"Sum:0\", shape=(), dtype=float32)\n",
      "Tensor(\"Sum:0\", shape=(), dtype=float32)\n",
      "Tensor(\"Sum:0\", shape=(), dtype=float32)\n",
      "Tensor(\"Sum:0\", shape=(), dtype=float32)\n",
      "Tensor(\"Sum:0\", shape=(), dtype=float32)\n",
      "Tensor(\"Sum:0\", shape=(), dtype=float32)\n",
      "Tensor(\"Sum:0\", shape=(), dtype=float32)\n",
      "Tensor(\"Sum:0\", shape=(), dtype=float32)\n",
      "Tensor(\"Sum:0\", shape=(), dtype=float32)\n"
     ]
    }
   ],
   "source": [
    "with tf.Session() as sess:\n",
    "    \n",
    "    sess.run(init)\n",
    "    \n",
    "    batches = 1000\n",
    "    \n",
    "    for i in range(batches):\n",
    "        \n",
    "        rand_ind = np.random.randint(len(x_data),size=batch_size)\n",
    "        \n",
    "        feed = {xph:x_data[rand_ind],yph:y_true[rand_ind]}\n",
    "        \n",
    "        sess.run(train,feed_dict = feed)\n",
    "        print(error)\n",
    "    \n",
    "    model_m, model_b = sess.run([m,b])\n",
    "        "
   ]
  },
  {
   "cell_type": "code",
   "execution_count": 106,
   "metadata": {},
   "outputs": [
    {
     "data": {
      "text/plain": [
       "0.51775217"
      ]
     },
     "execution_count": 106,
     "metadata": {},
     "output_type": "execute_result"
    }
   ],
   "source": [
    "model_m"
   ]
  },
  {
   "cell_type": "code",
   "execution_count": 107,
   "metadata": {},
   "outputs": [
    {
     "data": {
      "text/plain": [
       "4.9037981"
      ]
     },
     "execution_count": 107,
     "metadata": {},
     "output_type": "execute_result"
    }
   ],
   "source": [
    "model_b"
   ]
  },
  {
   "cell_type": "code",
   "execution_count": 108,
   "metadata": {
    "collapsed": true
   },
   "outputs": [],
   "source": [
    "y_hat = x_data * model_m + model_b "
   ]
  },
  {
   "cell_type": "code",
   "execution_count": 109,
   "metadata": {},
   "outputs": [
    {
     "data": {
      "text/plain": [
       "[<matplotlib.lines.Line2D at 0x7f819d4594a8>]"
      ]
     },
     "execution_count": 109,
     "metadata": {},
     "output_type": "execute_result"
    },
    {
     "data": {
      "image/png": "[encoded data removed]",
      "text/plain": [
       "<matplotlib.figure.Figure at 0x7f819d459e48>"
      ]
     },
     "metadata": {},
     "output_type": "display_data"
    }
   ],
   "source": [
    "my_data.sample(250).plot(kind='scatter', x='X Data', y='Y');\n",
    "plt.plot(x_data, y_hat, 'r')"
   ]
  },
  {
   "cell_type": "markdown",
   "metadata": {},
   "source": [
    "- Define variables\n",
    "- Define placeholders\n",
    "- Define operations\n",
    "- Define error / loss\n",
    "- Create optimizer\n",
    "- Create trainer\n",
    "- Initialize \n",
    "- Run in batches --> hardest part  "
   ]
  },
  {
   "cell_type": "markdown",
   "metadata": {},
   "source": [
    "## Regression part II"
   ]
  },
  {
   "cell_type": "markdown",
   "metadata": {},
   "source": [
    "In general, to use TF estimator API the steps are:\n",
    "- Define a list of feature columns\n",
    "- Create the Estimator Model\n",
    "- Create a Data Input Function\n",
    "- Call train, evaluate, and predict mothods on the setimator object "
   ]
  },
  {
   "cell_type": "code",
   "execution_count": 110,
   "metadata": {
    "collapsed": true
   },
   "outputs": [],
   "source": [
    "# creating the feature columns list for the estimator\n",
    "\n",
    "feat_cols = [tf.feature_column.numeric_column('x', shape=[1])]"
   ]
  },
  {
   "cell_type": "code",
   "execution_count": 111,
   "metadata": {},
   "outputs": [
    {
     "data": {
      "text/plain": [
       "[_NumericColumn(key='x', shape=(1,), default_value=None, dtype=tf.float32, normalizer_fn=None)]"
      ]
     },
     "execution_count": 111,
     "metadata": {},
     "output_type": "execute_result"
    }
   ],
   "source": [
    "feat_cols"
   ]
  },
  {
   "cell_type": "code",
   "execution_count": 112,
   "metadata": {},
   "outputs": [
    {
     "data": {
      "text/html": [
       "<div>\n",
       "<style>\n",
       "    .dataframe thead tr:only-child th {\n",
       "        text-align: right;\n",
       "    }\n",
       "\n",
       "    .dataframe thead th {\n",
       "        text-align: left;\n",
       "    }\n",
       "\n",
       "    .dataframe tbody tr th {\n",
       "        vertical-align: top;\n",
       "    }\n",
       "</style>\n",
       "<table border=\"1\" class=\"dataframe\">\n",
       "  <thead>\n",
       "    <tr style=\"text-align: right;\">\n",
       "      <th></th>\n",
       "      <th>X Data</th>\n",
       "      <th>Y</th>\n",
       "    </tr>\n",
       "  </thead>\n",
       "  <tbody>\n",
       "    <tr>\n",
       "      <th>0</th>\n",
       "      <td>0.00000</td>\n",
       "      <td>4.968421</td>\n",
       "    </tr>\n",
       "    <tr>\n",
       "      <th>1</th>\n",
       "      <td>0.00001</td>\n",
       "      <td>5.649831</td>\n",
       "    </tr>\n",
       "    <tr>\n",
       "      <th>2</th>\n",
       "      <td>0.00002</td>\n",
       "      <td>7.154856</td>\n",
       "    </tr>\n",
       "  </tbody>\n",
       "</table>\n",
       "</div>"
      ],
      "text/plain": [
       "    X Data         Y\n",
       "0  0.00000  4.968421\n",
       "1  0.00001  5.649831\n",
       "2  0.00002  7.154856"
      ]
     },
     "execution_count": 112,
     "metadata": {},
     "output_type": "execute_result"
    }
   ],
   "source": [
    "my_data.head(3)"
   ]
  },
  {
   "cell_type": "code",
   "execution_count": 113,
   "metadata": {},
   "outputs": [
    {
     "name": "stdout",
     "output_type": "stream",
     "text": [
      "INFO:tensorflow:Using default config.\n",
      "WARNING:tensorflow:Using temporary folder as model directory: /tmp/tmp8_l6te4u\n",
      "INFO:tensorflow:Using config: {'_save_summary_steps': 100, '_tf_random_seed': 1, '_keep_checkpoint_max': 5, '_model_dir': '/tmp/tmp8_l6te4u', '_save_checkpoints_secs': 600, '_save_checkpoints_steps': None, '_keep_checkpoint_every_n_hours': 10000, '_session_config': None, '_log_step_count_steps': 100}\n"
     ]
    }
   ],
   "source": [
    "estimator = tf.estimator.LinearRegressor(feature_columns=feat_cols)"
   ]
  },
  {
   "cell_type": "code",
   "execution_count": 114,
   "metadata": {
    "collapsed": true
   },
   "outputs": [],
   "source": [
    "from sklearn.model_selection import train_test_split"
   ]
  },
  {
   "cell_type": "code",
   "execution_count": 115,
   "metadata": {
    "collapsed": true
   },
   "outputs": [],
   "source": [
    "x_train, x_eval, y_train, y_eval = train_test_split(x_data,y_true,test_size=0.3,random_state=101)"
   ]
  },
  {
   "cell_type": "code",
   "execution_count": 116,
   "metadata": {},
   "outputs": [
    {
     "name": "stdout",
     "output_type": "stream",
     "text": [
      "(700000,)\n"
     ]
    }
   ],
   "source": [
    "print(x_train.shape)"
   ]
  },
  {
   "cell_type": "code",
   "execution_count": 117,
   "metadata": {},
   "outputs": [
    {
     "data": {
      "text/plain": [
       "(300000,)"
      ]
     },
     "execution_count": 117,
     "metadata": {},
     "output_type": "execute_result"
    }
   ],
   "source": [
    "x_eval.shape"
   ]
  },
  {
   "cell_type": "code",
   "execution_count": 118,
   "metadata": {
    "collapsed": true
   },
   "outputs": [],
   "source": [
    "input_func = tf.estimator.inputs.numpy_input_fn({'x':x_train},y_train,batch_size=8,\n",
    "                                                num_epochs=None,shuffle=True)"
   ]
  },
  {
   "cell_type": "code",
   "execution_count": 119,
   "metadata": {
    "collapsed": true
   },
   "outputs": [],
   "source": [
    "train_input_func = tf.estimator.inputs.numpy_input_fn({'x':x_train},y_train,batch_size=8,\n",
    "                                                      num_epochs=1000,shuffle=False)"
   ]
  },
  {
   "cell_type": "code",
   "execution_count": 120,
   "metadata": {
    "collapsed": true
   },
   "outputs": [],
   "source": [
    "eval_input_func = tf.estimator.inputs.numpy_input_fn({'x':x_eval},y_eval,batch_size=8,\n",
    "                                                      num_epochs=1000,shuffle=False)"
   ]
  },
  {
   "cell_type": "code",
   "execution_count": 121,
   "metadata": {},
   "outputs": [
    {
     "name": "stdout",
     "output_type": "stream",
     "text": [
      "INFO:tensorflow:Create CheckpointSaverHook.\n",
      "INFO:tensorflow:Saving checkpoints for 1 into /tmp/tmp8_l6te4u/model.ckpt.\n",
      "INFO:tensorflow:step = 1, loss = 437.182\n",
      "INFO:tensorflow:global_step/sec: 810.545\n",
      "INFO:tensorflow:step = 101, loss = 31.3368 (0.127 sec)\n",
      "INFO:tensorflow:global_step/sec: 683.334\n",
      "INFO:tensorflow:step = 201, loss = 24.838 (0.144 sec)\n",
      "INFO:tensorflow:global_step/sec: 648.655\n",
      "INFO:tensorflow:step = 301, loss = 14.9405 (0.155 sec)\n",
      "INFO:tensorflow:global_step/sec: 797.592\n",
      "INFO:tensorflow:step = 401, loss = 12.307 (0.125 sec)\n",
      "INFO:tensorflow:global_step/sec: 863.001\n",
      "INFO:tensorflow:step = 501, loss = 5.24463 (0.115 sec)\n",
      "INFO:tensorflow:global_step/sec: 1015.53\n",
      "INFO:tensorflow:step = 601, loss = 4.23349 (0.099 sec)\n",
      "INFO:tensorflow:global_step/sec: 964.261\n",
      "INFO:tensorflow:step = 701, loss = 22.9629 (0.103 sec)\n",
      "INFO:tensorflow:global_step/sec: 1030.9\n",
      "INFO:tensorflow:step = 801, loss = 4.65658 (0.098 sec)\n",
      "INFO:tensorflow:global_step/sec: 843.378\n",
      "INFO:tensorflow:step = 901, loss = 9.31664 (0.118 sec)\n",
      "INFO:tensorflow:Saving checkpoints for 1000 into /tmp/tmp8_l6te4u/model.ckpt.\n",
      "INFO:tensorflow:Loss for final step: 5.5385.\n"
     ]
    },
    {
     "data": {
      "text/plain": [
       "<tensorflow.python.estimator.canned.linear.LinearRegressor at 0x7f819d0f5fd0>"
      ]
     },
     "execution_count": 121,
     "metadata": {},
     "output_type": "execute_result"
    }
   ],
   "source": [
    "estimator.train(input_fn=input_func,steps=1000)"
   ]
  },
  {
   "cell_type": "code",
   "execution_count": 122,
   "metadata": {},
   "outputs": [
    {
     "name": "stdout",
     "output_type": "stream",
     "text": [
      "INFO:tensorflow:Starting evaluation at 2018-04-11-07:55:01\n",
      "INFO:tensorflow:Restoring parameters from /tmp/tmp8_l6te4u/model.ckpt-1000\n",
      "INFO:tensorflow:Evaluation [1/1000]\n",
      "INFO:tensorflow:Evaluation [2/1000]\n",
      "INFO:tensorflow:Evaluation [3/1000]\n",
      "INFO:tensorflow:Evaluation [4/1000]\n",
      "INFO:tensorflow:Evaluation [5/1000]\n",
      "INFO:tensorflow:Evaluation [6/1000]\n",
      "INFO:tensorflow:Evaluation [7/1000]\n",
      "INFO:tensorflow:Evaluation [8/1000]\n",
      "INFO:tensorflow:Evaluation [9/1000]\n",
      "INFO:tensorflow:Evaluation [10/1000]\n",
      "INFO:tensorflow:Evaluation [11/1000]\n",
      "INFO:tensorflow:Evaluation [12/1000]\n",
      "INFO:tensorflow:Evaluation [13/1000]\n",
      "INFO:tensorflow:Evaluation [14/1000]\n",
      "INFO:tensorflow:Evaluation [15/1000]\n",
      "INFO:tensorflow:Evaluation [16/1000]\n",
      "INFO:tensorflow:Evaluation [17/1000]\n",
      "INFO:tensorflow:Evaluation [18/1000]\n",
      "INFO:tensorflow:Evaluation [19/1000]\n",
      "INFO:tensorflow:Evaluation [20/1000]\n",
      "INFO:tensorflow:Evaluation [21/1000]\n",
      "INFO:tensorflow:Evaluation [22/1000]\n",
      "INFO:tensorflow:Evaluation [23/1000]\n",
      "INFO:tensorflow:Evaluation [24/1000]\n",
      "INFO:tensorflow:Evaluation [25/1000]\n",
      "INFO:tensorflow:Evaluation [26/1000]\n",
      "INFO:tensorflow:Evaluation [27/1000]\n",
      "INFO:tensorflow:Evaluation [28/1000]\n",
      "INFO:tensorflow:Evaluation [29/1000]\n",
      "INFO:tensorflow:Evaluation [30/1000]\n",
      "INFO:tensorflow:Evaluation [31/1000]\n",
      "INFO:tensorflow:Evaluation [32/1000]\n",
      "INFO:tensorflow:Evaluation [33/1000]\n",
      "INFO:tensorflow:Evaluation [34/1000]\n",
      "INFO:tensorflow:Evaluation [35/1000]\n",
      "INFO:tensorflow:Evaluation [36/1000]\n",
      "INFO:tensorflow:Evaluation [37/1000]\n",
      "INFO:tensorflow:Evaluation [38/1000]\n",
      "INFO:tensorflow:Evaluation [39/1000]\n",
      "INFO:tensorflow:Evaluation [40/1000]\n",
      "INFO:tensorflow:Evaluation [41/1000]\n",
      "INFO:tensorflow:Evaluation [42/1000]\n",
      "INFO:tensorflow:Evaluation [43/1000]\n",
      "INFO:tensorflow:Evaluation [44/1000]\n",
      "INFO:tensorflow:Evaluation [45/1000]\n",
      "INFO:tensorflow:Evaluation [46/1000]\n",
      "INFO:tensorflow:Evaluation [47/1000]\n",
      "INFO:tensorflow:Evaluation [48/1000]\n",
      "INFO:tensorflow:Evaluation [49/1000]\n",
      "INFO:tensorflow:Evaluation [50/1000]\n",
      "INFO:tensorflow:Evaluation [51/1000]\n",
      "INFO:tensorflow:Evaluation [52/1000]\n",
      "INFO:tensorflow:Evaluation [53/1000]\n",
      "INFO:tensorflow:Evaluation [54/1000]\n",
      "INFO:tensorflow:Evaluation [55/1000]\n",
      "INFO:tensorflow:Evaluation [56/1000]\n",
      "INFO:tensorflow:Evaluation [57/1000]\n",
      "INFO:tensorflow:Evaluation [58/1000]\n",
      "INFO:tensorflow:Evaluation [59/1000]\n",
      "INFO:tensorflow:Evaluation [60/1000]\n",
      "INFO:tensorflow:Evaluation [61/1000]\n",
      "INFO:tensorflow:Evaluation [62/1000]\n",
      "INFO:tensorflow:Evaluation [63/1000]\n",
      "INFO:tensorflow:Evaluation [64/1000]\n",
      "INFO:tensorflow:Evaluation [65/1000]\n",
      "INFO:tensorflow:Evaluation [66/1000]\n",
      "INFO:tensorflow:Evaluation [67/1000]\n",
      "INFO:tensorflow:Evaluation [68/1000]\n",
      "INFO:tensorflow:Evaluation [69/1000]\n",
      "INFO:tensorflow:Evaluation [70/1000]\n",
      "INFO:tensorflow:Evaluation [71/1000]\n",
      "INFO:tensorflow:Evaluation [72/1000]\n",
      "INFO:tensorflow:Evaluation [73/1000]\n",
      "INFO:tensorflow:Evaluation [74/1000]\n",
      "INFO:tensorflow:Evaluation [75/1000]\n",
      "INFO:tensorflow:Evaluation [76/1000]\n",
      "INFO:tensorflow:Evaluation [77/1000]\n",
      "INFO:tensorflow:Evaluation [78/1000]\n",
      "INFO:tensorflow:Evaluation [79/1000]\n",
      "INFO:tensorflow:Evaluation [80/1000]\n",
      "INFO:tensorflow:Evaluation [81/1000]\n",
      "INFO:tensorflow:Evaluation [82/1000]\n",
      "INFO:tensorflow:Evaluation [83/1000]\n",
      "INFO:tensorflow:Evaluation [84/1000]\n",
      "INFO:tensorflow:Evaluation [85/1000]\n",
      "INFO:tensorflow:Evaluation [86/1000]\n",
      "INFO:tensorflow:Evaluation [87/1000]\n",
      "INFO:tensorflow:Evaluation [88/1000]\n",
      "INFO:tensorflow:Evaluation [89/1000]\n",
      "INFO:tensorflow:Evaluation [90/1000]\n",
      "INFO:tensorflow:Evaluation [91/1000]\n",
      "INFO:tensorflow:Evaluation [92/1000]\n",
      "INFO:tensorflow:Evaluation [93/1000]\n",
      "INFO:tensorflow:Evaluation [94/1000]\n",
      "INFO:tensorflow:Evaluation [95/1000]\n",
      "INFO:tensorflow:Evaluation [96/1000]\n",
      "INFO:tensorflow:Evaluation [97/1000]\n",
      "INFO:tensorflow:Evaluation [98/1000]\n",
      "INFO:tensorflow:Evaluation [99/1000]\n",
      "INFO:tensorflow:Evaluation [100/1000]\n",
      "INFO:tensorflow:Evaluation [101/1000]\n",
      "INFO:tensorflow:Evaluation [102/1000]\n",
      "INFO:tensorflow:Evaluation [103/1000]\n",
      "INFO:tensorflow:Evaluation [104/1000]\n",
      "INFO:tensorflow:Evaluation [105/1000]\n",
      "INFO:tensorflow:Evaluation [106/1000]\n",
      "INFO:tensorflow:Evaluation [107/1000]\n",
      "INFO:tensorflow:Evaluation [108/1000]\n",
      "INFO:tensorflow:Evaluation [109/1000]\n",
      "INFO:tensorflow:Evaluation [110/1000]\n",
      "INFO:tensorflow:Evaluation [111/1000]\n",
      "INFO:tensorflow:Evaluation [112/1000]\n",
      "INFO:tensorflow:Evaluation [113/1000]\n",
      "INFO:tensorflow:Evaluation [114/1000]\n",
      "INFO:tensorflow:Evaluation [115/1000]\n",
      "INFO:tensorflow:Evaluation [116/1000]\n",
      "INFO:tensorflow:Evaluation [117/1000]\n",
      "INFO:tensorflow:Evaluation [118/1000]\n",
      "INFO:tensorflow:Evaluation [119/1000]\n",
      "INFO:tensorflow:Evaluation [120/1000]\n",
      "INFO:tensorflow:Evaluation [121/1000]\n",
      "INFO:tensorflow:Evaluation [122/1000]\n",
      "INFO:tensorflow:Evaluation [123/1000]\n",
      "INFO:tensorflow:Evaluation [124/1000]\n",
      "INFO:tensorflow:Evaluation [125/1000]\n",
      "INFO:tensorflow:Evaluation [126/1000]\n",
      "INFO:tensorflow:Evaluation [127/1000]\n",
      "INFO:tensorflow:Evaluation [128/1000]\n",
      "INFO:tensorflow:Evaluation [129/1000]\n",
      "INFO:tensorflow:Evaluation [130/1000]\n",
      "INFO:tensorflow:Evaluation [131/1000]\n",
      "INFO:tensorflow:Evaluation [132/1000]\n",
      "INFO:tensorflow:Evaluation [133/1000]\n",
      "INFO:tensorflow:Evaluation [134/1000]\n",
      "INFO:tensorflow:Evaluation [135/1000]\n",
      "INFO:tensorflow:Evaluation [136/1000]\n",
      "INFO:tensorflow:Evaluation [137/1000]\n",
      "INFO:tensorflow:Evaluation [138/1000]\n",
      "INFO:tensorflow:Evaluation [139/1000]\n",
      "INFO:tensorflow:Evaluation [140/1000]\n",
      "INFO:tensorflow:Evaluation [141/1000]\n",
      "INFO:tensorflow:Evaluation [142/1000]\n",
      "INFO:tensorflow:Evaluation [143/1000]\n",
      "INFO:tensorflow:Evaluation [144/1000]\n",
      "INFO:tensorflow:Evaluation [145/1000]\n",
      "INFO:tensorflow:Evaluation [146/1000]\n",
      "INFO:tensorflow:Evaluation [147/1000]\n",
      "INFO:tensorflow:Evaluation [148/1000]\n",
      "INFO:tensorflow:Evaluation [149/1000]\n",
      "INFO:tensorflow:Evaluation [150/1000]\n",
      "INFO:tensorflow:Evaluation [151/1000]\n",
      "INFO:tensorflow:Evaluation [152/1000]\n",
      "INFO:tensorflow:Evaluation [153/1000]\n",
      "INFO:tensorflow:Evaluation [154/1000]\n",
      "INFO:tensorflow:Evaluation [155/1000]\n",
      "INFO:tensorflow:Evaluation [156/1000]\n",
      "INFO:tensorflow:Evaluation [157/1000]\n",
      "INFO:tensorflow:Evaluation [158/1000]\n",
      "INFO:tensorflow:Evaluation [159/1000]\n",
      "INFO:tensorflow:Evaluation [160/1000]\n",
      "INFO:tensorflow:Evaluation [161/1000]\n",
      "INFO:tensorflow:Evaluation [162/1000]\n",
      "INFO:tensorflow:Evaluation [163/1000]\n",
      "INFO:tensorflow:Evaluation [164/1000]\n",
      "INFO:tensorflow:Evaluation [165/1000]\n",
      "INFO:tensorflow:Evaluation [166/1000]\n",
      "INFO:tensorflow:Evaluation [167/1000]\n",
      "INFO:tensorflow:Evaluation [168/1000]\n",
      "INFO:tensorflow:Evaluation [169/1000]\n",
      "INFO:tensorflow:Evaluation [170/1000]\n",
      "INFO:tensorflow:Evaluation [171/1000]\n",
      "INFO:tensorflow:Evaluation [172/1000]\n",
      "INFO:tensorflow:Evaluation [173/1000]\n",
      "INFO:tensorflow:Evaluation [174/1000]\n",
      "INFO:tensorflow:Evaluation [175/1000]\n",
      "INFO:tensorflow:Evaluation [176/1000]\n",
      "INFO:tensorflow:Evaluation [177/1000]\n",
      "INFO:tensorflow:Evaluation [178/1000]\n",
      "INFO:tensorflow:Evaluation [179/1000]\n",
      "INFO:tensorflow:Evaluation [180/1000]\n",
      "INFO:tensorflow:Evaluation [181/1000]\n",
      "INFO:tensorflow:Evaluation [182/1000]\n",
      "INFO:tensorflow:Evaluation [183/1000]\n",
      "INFO:tensorflow:Evaluation [184/1000]\n",
      "INFO:tensorflow:Evaluation [185/1000]\n",
      "INFO:tensorflow:Evaluation [186/1000]\n",
      "INFO:tensorflow:Evaluation [187/1000]\n",
      "INFO:tensorflow:Evaluation [188/1000]\n",
      "INFO:tensorflow:Evaluation [189/1000]\n",
      "INFO:tensorflow:Evaluation [190/1000]\n",
      "INFO:tensorflow:Evaluation [191/1000]\n",
      "INFO:tensorflow:Evaluation [192/1000]\n",
      "INFO:tensorflow:Evaluation [193/1000]\n",
      "INFO:tensorflow:Evaluation [194/1000]\n",
      "INFO:tensorflow:Evaluation [195/1000]\n",
      "INFO:tensorflow:Evaluation [196/1000]\n",
      "INFO:tensorflow:Evaluation [197/1000]\n",
      "INFO:tensorflow:Evaluation [198/1000]\n",
      "INFO:tensorflow:Evaluation [199/1000]\n",
      "INFO:tensorflow:Evaluation [200/1000]\n",
      "INFO:tensorflow:Evaluation [201/1000]\n",
      "INFO:tensorflow:Evaluation [202/1000]\n",
      "INFO:tensorflow:Evaluation [203/1000]\n",
      "INFO:tensorflow:Evaluation [204/1000]\n",
      "INFO:tensorflow:Evaluation [205/1000]\n",
      "INFO:tensorflow:Evaluation [206/1000]\n",
      "INFO:tensorflow:Evaluation [207/1000]\n",
      "INFO:tensorflow:Evaluation [208/1000]\n",
      "INFO:tensorflow:Evaluation [209/1000]\n",
      "INFO:tensorflow:Evaluation [210/1000]\n",
      "INFO:tensorflow:Evaluation [211/1000]\n",
      "INFO:tensorflow:Evaluation [212/1000]\n",
      "INFO:tensorflow:Evaluation [213/1000]\n",
      "INFO:tensorflow:Evaluation [214/1000]\n",
      "INFO:tensorflow:Evaluation [215/1000]\n"
     ]
    },
    {
     "name": "stdout",
     "output_type": "stream",
     "text": [
      "INFO:tensorflow:Evaluation [216/1000]\n",
      "INFO:tensorflow:Evaluation [217/1000]\n",
      "INFO:tensorflow:Evaluation [218/1000]\n",
      "INFO:tensorflow:Evaluation [219/1000]\n",
      "INFO:tensorflow:Evaluation [220/1000]\n",
      "INFO:tensorflow:Evaluation [221/1000]\n",
      "INFO:tensorflow:Evaluation [222/1000]\n",
      "INFO:tensorflow:Evaluation [223/1000]\n",
      "INFO:tensorflow:Evaluation [224/1000]\n",
      "INFO:tensorflow:Evaluation [225/1000]\n",
      "INFO:tensorflow:Evaluation [226/1000]\n",
      "INFO:tensorflow:Evaluation [227/1000]\n",
      "INFO:tensorflow:Evaluation [228/1000]\n",
      "INFO:tensorflow:Evaluation [229/1000]\n",
      "INFO:tensorflow:Evaluation [230/1000]\n",
      "INFO:tensorflow:Evaluation [231/1000]\n",
      "INFO:tensorflow:Evaluation [232/1000]\n",
      "INFO:tensorflow:Evaluation [233/1000]\n",
      "INFO:tensorflow:Evaluation [234/1000]\n",
      "INFO:tensorflow:Evaluation [235/1000]\n",
      "INFO:tensorflow:Evaluation [236/1000]\n",
      "INFO:tensorflow:Evaluation [237/1000]\n",
      "INFO:tensorflow:Evaluation [238/1000]\n",
      "INFO:tensorflow:Evaluation [239/1000]\n",
      "INFO:tensorflow:Evaluation [240/1000]\n",
      "INFO:tensorflow:Evaluation [241/1000]\n",
      "INFO:tensorflow:Evaluation [242/1000]\n",
      "INFO:tensorflow:Evaluation [243/1000]\n",
      "INFO:tensorflow:Evaluation [244/1000]\n",
      "INFO:tensorflow:Evaluation [245/1000]\n",
      "INFO:tensorflow:Evaluation [246/1000]\n",
      "INFO:tensorflow:Evaluation [247/1000]\n",
      "INFO:tensorflow:Evaluation [248/1000]\n",
      "INFO:tensorflow:Evaluation [249/1000]\n",
      "INFO:tensorflow:Evaluation [250/1000]\n",
      "INFO:tensorflow:Evaluation [251/1000]\n",
      "INFO:tensorflow:Evaluation [252/1000]\n",
      "INFO:tensorflow:Evaluation [253/1000]\n",
      "INFO:tensorflow:Evaluation [254/1000]\n",
      "INFO:tensorflow:Evaluation [255/1000]\n",
      "INFO:tensorflow:Evaluation [256/1000]\n",
      "INFO:tensorflow:Evaluation [257/1000]\n",
      "INFO:tensorflow:Evaluation [258/1000]\n",
      "INFO:tensorflow:Evaluation [259/1000]\n",
      "INFO:tensorflow:Evaluation [260/1000]\n",
      "INFO:tensorflow:Evaluation [261/1000]\n",
      "INFO:tensorflow:Evaluation [262/1000]\n",
      "INFO:tensorflow:Evaluation [263/1000]\n",
      "INFO:tensorflow:Evaluation [264/1000]\n",
      "INFO:tensorflow:Evaluation [265/1000]\n",
      "INFO:tensorflow:Evaluation [266/1000]\n",
      "INFO:tensorflow:Evaluation [267/1000]\n",
      "INFO:tensorflow:Evaluation [268/1000]\n",
      "INFO:tensorflow:Evaluation [269/1000]\n",
      "INFO:tensorflow:Evaluation [270/1000]\n",
      "INFO:tensorflow:Evaluation [271/1000]\n",
      "INFO:tensorflow:Evaluation [272/1000]\n",
      "INFO:tensorflow:Evaluation [273/1000]\n",
      "INFO:tensorflow:Evaluation [274/1000]\n",
      "INFO:tensorflow:Evaluation [275/1000]\n",
      "INFO:tensorflow:Evaluation [276/1000]\n",
      "INFO:tensorflow:Evaluation [277/1000]\n",
      "INFO:tensorflow:Evaluation [278/1000]\n",
      "INFO:tensorflow:Evaluation [279/1000]\n",
      "INFO:tensorflow:Evaluation [280/1000]\n",
      "INFO:tensorflow:Evaluation [281/1000]\n",
      "INFO:tensorflow:Evaluation [282/1000]\n",
      "INFO:tensorflow:Evaluation [283/1000]\n",
      "INFO:tensorflow:Evaluation [284/1000]\n",
      "INFO:tensorflow:Evaluation [285/1000]\n",
      "INFO:tensorflow:Evaluation [286/1000]\n",
      "INFO:tensorflow:Evaluation [287/1000]\n",
      "INFO:tensorflow:Evaluation [288/1000]\n",
      "INFO:tensorflow:Evaluation [289/1000]\n",
      "INFO:tensorflow:Evaluation [290/1000]\n",
      "INFO:tensorflow:Evaluation [291/1000]\n",
      "INFO:tensorflow:Evaluation [292/1000]\n",
      "INFO:tensorflow:Evaluation [293/1000]\n",
      "INFO:tensorflow:Evaluation [294/1000]\n",
      "INFO:tensorflow:Evaluation [295/1000]\n",
      "INFO:tensorflow:Evaluation [296/1000]\n",
      "INFO:tensorflow:Evaluation [297/1000]\n",
      "INFO:tensorflow:Evaluation [298/1000]\n",
      "INFO:tensorflow:Evaluation [299/1000]\n",
      "INFO:tensorflow:Evaluation [300/1000]\n",
      "INFO:tensorflow:Evaluation [301/1000]\n",
      "INFO:tensorflow:Evaluation [302/1000]\n",
      "INFO:tensorflow:Evaluation [303/1000]\n",
      "INFO:tensorflow:Evaluation [304/1000]\n",
      "INFO:tensorflow:Evaluation [305/1000]\n",
      "INFO:tensorflow:Evaluation [306/1000]\n",
      "INFO:tensorflow:Evaluation [307/1000]\n",
      "INFO:tensorflow:Evaluation [308/1000]\n",
      "INFO:tensorflow:Evaluation [309/1000]\n",
      "INFO:tensorflow:Evaluation [310/1000]\n",
      "INFO:tensorflow:Evaluation [311/1000]\n",
      "INFO:tensorflow:Evaluation [312/1000]\n",
      "INFO:tensorflow:Evaluation [313/1000]\n",
      "INFO:tensorflow:Evaluation [314/1000]\n",
      "INFO:tensorflow:Evaluation [315/1000]\n",
      "INFO:tensorflow:Evaluation [316/1000]\n",
      "INFO:tensorflow:Evaluation [317/1000]\n",
      "INFO:tensorflow:Evaluation [318/1000]\n",
      "INFO:tensorflow:Evaluation [319/1000]\n",
      "INFO:tensorflow:Evaluation [320/1000]\n",
      "INFO:tensorflow:Evaluation [321/1000]\n",
      "INFO:tensorflow:Evaluation [322/1000]\n",
      "INFO:tensorflow:Evaluation [323/1000]\n",
      "INFO:tensorflow:Evaluation [324/1000]\n",
      "INFO:tensorflow:Evaluation [325/1000]\n",
      "INFO:tensorflow:Evaluation [326/1000]\n",
      "INFO:tensorflow:Evaluation [327/1000]\n",
      "INFO:tensorflow:Evaluation [328/1000]\n",
      "INFO:tensorflow:Evaluation [329/1000]\n",
      "INFO:tensorflow:Evaluation [330/1000]\n",
      "INFO:tensorflow:Evaluation [331/1000]\n",
      "INFO:tensorflow:Evaluation [332/1000]\n",
      "INFO:tensorflow:Evaluation [333/1000]\n",
      "INFO:tensorflow:Evaluation [334/1000]\n",
      "INFO:tensorflow:Evaluation [335/1000]\n",
      "INFO:tensorflow:Evaluation [336/1000]\n",
      "INFO:tensorflow:Evaluation [337/1000]\n",
      "INFO:tensorflow:Evaluation [338/1000]\n",
      "INFO:tensorflow:Evaluation [339/1000]\n",
      "INFO:tensorflow:Evaluation [340/1000]\n",
      "INFO:tensorflow:Evaluation [341/1000]\n",
      "INFO:tensorflow:Evaluation [342/1000]\n",
      "INFO:tensorflow:Evaluation [343/1000]\n",
      "INFO:tensorflow:Evaluation [344/1000]\n",
      "INFO:tensorflow:Evaluation [345/1000]\n",
      "INFO:tensorflow:Evaluation [346/1000]\n",
      "INFO:tensorflow:Evaluation [347/1000]\n",
      "INFO:tensorflow:Evaluation [348/1000]\n",
      "INFO:tensorflow:Evaluation [349/1000]\n",
      "INFO:tensorflow:Evaluation [350/1000]\n",
      "INFO:tensorflow:Evaluation [351/1000]\n",
      "INFO:tensorflow:Evaluation [352/1000]\n",
      "INFO:tensorflow:Evaluation [353/1000]\n",
      "INFO:tensorflow:Evaluation [354/1000]\n",
      "INFO:tensorflow:Evaluation [355/1000]\n",
      "INFO:tensorflow:Evaluation [356/1000]\n",
      "INFO:tensorflow:Evaluation [357/1000]\n",
      "INFO:tensorflow:Evaluation [358/1000]\n",
      "INFO:tensorflow:Evaluation [359/1000]\n",
      "INFO:tensorflow:Evaluation [360/1000]\n",
      "INFO:tensorflow:Evaluation [361/1000]\n",
      "INFO:tensorflow:Evaluation [362/1000]\n",
      "INFO:tensorflow:Evaluation [363/1000]\n",
      "INFO:tensorflow:Evaluation [364/1000]\n",
      "INFO:tensorflow:Evaluation [365/1000]\n",
      "INFO:tensorflow:Evaluation [366/1000]\n",
      "INFO:tensorflow:Evaluation [367/1000]\n",
      "INFO:tensorflow:Evaluation [368/1000]\n",
      "INFO:tensorflow:Evaluation [369/1000]\n",
      "INFO:tensorflow:Evaluation [370/1000]\n",
      "INFO:tensorflow:Evaluation [371/1000]\n",
      "INFO:tensorflow:Evaluation [372/1000]\n",
      "INFO:tensorflow:Evaluation [373/1000]\n",
      "INFO:tensorflow:Evaluation [374/1000]\n",
      "INFO:tensorflow:Evaluation [375/1000]\n",
      "INFO:tensorflow:Evaluation [376/1000]\n",
      "INFO:tensorflow:Evaluation [377/1000]\n",
      "INFO:tensorflow:Evaluation [378/1000]\n",
      "INFO:tensorflow:Evaluation [379/1000]\n",
      "INFO:tensorflow:Evaluation [380/1000]\n",
      "INFO:tensorflow:Evaluation [381/1000]\n",
      "INFO:tensorflow:Evaluation [382/1000]\n",
      "INFO:tensorflow:Evaluation [383/1000]\n",
      "INFO:tensorflow:Evaluation [384/1000]\n",
      "INFO:tensorflow:Evaluation [385/1000]\n",
      "INFO:tensorflow:Evaluation [386/1000]\n",
      "INFO:tensorflow:Evaluation [387/1000]\n",
      "INFO:tensorflow:Evaluation [388/1000]\n",
      "INFO:tensorflow:Evaluation [389/1000]\n",
      "INFO:tensorflow:Evaluation [390/1000]\n",
      "INFO:tensorflow:Evaluation [391/1000]\n",
      "INFO:tensorflow:Evaluation [392/1000]\n",
      "INFO:tensorflow:Evaluation [393/1000]\n",
      "INFO:tensorflow:Evaluation [394/1000]\n",
      "INFO:tensorflow:Evaluation [395/1000]\n",
      "INFO:tensorflow:Evaluation [396/1000]\n",
      "INFO:tensorflow:Evaluation [397/1000]\n",
      "INFO:tensorflow:Evaluation [398/1000]\n",
      "INFO:tensorflow:Evaluation [399/1000]\n",
      "INFO:tensorflow:Evaluation [400/1000]\n",
      "INFO:tensorflow:Evaluation [401/1000]\n",
      "INFO:tensorflow:Evaluation [402/1000]\n",
      "INFO:tensorflow:Evaluation [403/1000]\n",
      "INFO:tensorflow:Evaluation [404/1000]\n",
      "INFO:tensorflow:Evaluation [405/1000]\n",
      "INFO:tensorflow:Evaluation [406/1000]\n",
      "INFO:tensorflow:Evaluation [407/1000]\n",
      "INFO:tensorflow:Evaluation [408/1000]\n",
      "INFO:tensorflow:Evaluation [409/1000]\n",
      "INFO:tensorflow:Evaluation [410/1000]\n",
      "INFO:tensorflow:Evaluation [411/1000]\n",
      "INFO:tensorflow:Evaluation [412/1000]\n",
      "INFO:tensorflow:Evaluation [413/1000]\n",
      "INFO:tensorflow:Evaluation [414/1000]\n",
      "INFO:tensorflow:Evaluation [415/1000]\n",
      "INFO:tensorflow:Evaluation [416/1000]\n",
      "INFO:tensorflow:Evaluation [417/1000]\n",
      "INFO:tensorflow:Evaluation [418/1000]\n",
      "INFO:tensorflow:Evaluation [419/1000]\n",
      "INFO:tensorflow:Evaluation [420/1000]\n",
      "INFO:tensorflow:Evaluation [421/1000]\n",
      "INFO:tensorflow:Evaluation [422/1000]\n",
      "INFO:tensorflow:Evaluation [423/1000]\n",
      "INFO:tensorflow:Evaluation [424/1000]\n",
      "INFO:tensorflow:Evaluation [425/1000]\n",
      "INFO:tensorflow:Evaluation [426/1000]\n",
      "INFO:tensorflow:Evaluation [427/1000]\n",
      "INFO:tensorflow:Evaluation [428/1000]\n",
      "INFO:tensorflow:Evaluation [429/1000]\n",
      "INFO:tensorflow:Evaluation [430/1000]\n",
      "INFO:tensorflow:Evaluation [431/1000]\n"
     ]
    },
    {
     "name": "stdout",
     "output_type": "stream",
     "text": [
      "INFO:tensorflow:Evaluation [432/1000]\n",
      "INFO:tensorflow:Evaluation [433/1000]\n",
      "INFO:tensorflow:Evaluation [434/1000]\n",
      "INFO:tensorflow:Evaluation [435/1000]\n",
      "INFO:tensorflow:Evaluation [436/1000]\n",
      "INFO:tensorflow:Evaluation [437/1000]\n",
      "INFO:tensorflow:Evaluation [438/1000]\n",
      "INFO:tensorflow:Evaluation [439/1000]\n",
      "INFO:tensorflow:Evaluation [440/1000]\n",
      "INFO:tensorflow:Evaluation [441/1000]\n",
      "INFO:tensorflow:Evaluation [442/1000]\n",
      "INFO:tensorflow:Evaluation [443/1000]\n",
      "INFO:tensorflow:Evaluation [444/1000]\n",
      "INFO:tensorflow:Evaluation [445/1000]\n",
      "INFO:tensorflow:Evaluation [446/1000]\n",
      "INFO:tensorflow:Evaluation [447/1000]\n",
      "INFO:tensorflow:Evaluation [448/1000]\n",
      "INFO:tensorflow:Evaluation [449/1000]\n",
      "INFO:tensorflow:Evaluation [450/1000]\n",
      "INFO:tensorflow:Evaluation [451/1000]\n",
      "INFO:tensorflow:Evaluation [452/1000]\n",
      "INFO:tensorflow:Evaluation [453/1000]\n",
      "INFO:tensorflow:Evaluation [454/1000]\n",
      "INFO:tensorflow:Evaluation [455/1000]\n",
      "INFO:tensorflow:Evaluation [456/1000]\n",
      "INFO:tensorflow:Evaluation [457/1000]\n",
      "INFO:tensorflow:Evaluation [458/1000]\n",
      "INFO:tensorflow:Evaluation [459/1000]\n",
      "INFO:tensorflow:Evaluation [460/1000]\n",
      "INFO:tensorflow:Evaluation [461/1000]\n",
      "INFO:tensorflow:Evaluation [462/1000]\n",
      "INFO:tensorflow:Evaluation [463/1000]\n",
      "INFO:tensorflow:Evaluation [464/1000]\n",
      "INFO:tensorflow:Evaluation [465/1000]\n",
      "INFO:tensorflow:Evaluation [466/1000]\n",
      "INFO:tensorflow:Evaluation [467/1000]\n",
      "INFO:tensorflow:Evaluation [468/1000]\n",
      "INFO:tensorflow:Evaluation [469/1000]\n",
      "INFO:tensorflow:Evaluation [470/1000]\n",
      "INFO:tensorflow:Evaluation [471/1000]\n",
      "INFO:tensorflow:Evaluation [472/1000]\n",
      "INFO:tensorflow:Evaluation [473/1000]\n",
      "INFO:tensorflow:Evaluation [474/1000]\n",
      "INFO:tensorflow:Evaluation [475/1000]\n",
      "INFO:tensorflow:Evaluation [476/1000]\n",
      "INFO:tensorflow:Evaluation [477/1000]\n",
      "INFO:tensorflow:Evaluation [478/1000]\n",
      "INFO:tensorflow:Evaluation [479/1000]\n",
      "INFO:tensorflow:Evaluation [480/1000]\n",
      "INFO:tensorflow:Evaluation [481/1000]\n",
      "INFO:tensorflow:Evaluation [482/1000]\n",
      "INFO:tensorflow:Evaluation [483/1000]\n",
      "INFO:tensorflow:Evaluation [484/1000]\n",
      "INFO:tensorflow:Evaluation [485/1000]\n",
      "INFO:tensorflow:Evaluation [486/1000]\n",
      "INFO:tensorflow:Evaluation [487/1000]\n",
      "INFO:tensorflow:Evaluation [488/1000]\n",
      "INFO:tensorflow:Evaluation [489/1000]\n",
      "INFO:tensorflow:Evaluation [490/1000]\n",
      "INFO:tensorflow:Evaluation [491/1000]\n",
      "INFO:tensorflow:Evaluation [492/1000]\n",
      "INFO:tensorflow:Evaluation [493/1000]\n",
      "INFO:tensorflow:Evaluation [494/1000]\n",
      "INFO:tensorflow:Evaluation [495/1000]\n",
      "INFO:tensorflow:Evaluation [496/1000]\n",
      "INFO:tensorflow:Evaluation [497/1000]\n",
      "INFO:tensorflow:Evaluation [498/1000]\n",
      "INFO:tensorflow:Evaluation [499/1000]\n",
      "INFO:tensorflow:Evaluation [500/1000]\n",
      "INFO:tensorflow:Evaluation [501/1000]\n",
      "INFO:tensorflow:Evaluation [502/1000]\n",
      "INFO:tensorflow:Evaluation [503/1000]\n",
      "INFO:tensorflow:Evaluation [504/1000]\n",
      "INFO:tensorflow:Evaluation [505/1000]\n",
      "INFO:tensorflow:Evaluation [506/1000]\n",
      "INFO:tensorflow:Evaluation [507/1000]\n",
      "INFO:tensorflow:Evaluation [508/1000]\n",
      "INFO:tensorflow:Evaluation [509/1000]\n",
      "INFO:tensorflow:Evaluation [510/1000]\n",
      "INFO:tensorflow:Evaluation [511/1000]\n",
      "INFO:tensorflow:Evaluation [512/1000]\n",
      "INFO:tensorflow:Evaluation [513/1000]\n",
      "INFO:tensorflow:Evaluation [514/1000]\n",
      "INFO:tensorflow:Evaluation [515/1000]\n",
      "INFO:tensorflow:Evaluation [516/1000]\n",
      "INFO:tensorflow:Evaluation [517/1000]\n",
      "INFO:tensorflow:Evaluation [518/1000]\n",
      "INFO:tensorflow:Evaluation [519/1000]\n",
      "INFO:tensorflow:Evaluation [520/1000]\n",
      "INFO:tensorflow:Evaluation [521/1000]\n",
      "INFO:tensorflow:Evaluation [522/1000]\n",
      "INFO:tensorflow:Evaluation [523/1000]\n",
      "INFO:tensorflow:Evaluation [524/1000]\n",
      "INFO:tensorflow:Evaluation [525/1000]\n",
      "INFO:tensorflow:Evaluation [526/1000]\n",
      "INFO:tensorflow:Evaluation [527/1000]\n",
      "INFO:tensorflow:Evaluation [528/1000]\n",
      "INFO:tensorflow:Evaluation [529/1000]\n",
      "INFO:tensorflow:Evaluation [530/1000]\n",
      "INFO:tensorflow:Evaluation [531/1000]\n",
      "INFO:tensorflow:Evaluation [532/1000]\n",
      "INFO:tensorflow:Evaluation [533/1000]\n",
      "INFO:tensorflow:Evaluation [534/1000]\n",
      "INFO:tensorflow:Evaluation [535/1000]\n",
      "INFO:tensorflow:Evaluation [536/1000]\n",
      "INFO:tensorflow:Evaluation [537/1000]\n",
      "INFO:tensorflow:Evaluation [538/1000]\n",
      "INFO:tensorflow:Evaluation [539/1000]\n",
      "INFO:tensorflow:Evaluation [540/1000]\n",
      "INFO:tensorflow:Evaluation [541/1000]\n",
      "INFO:tensorflow:Evaluation [542/1000]\n",
      "INFO:tensorflow:Evaluation [543/1000]\n",
      "INFO:tensorflow:Evaluation [544/1000]\n",
      "INFO:tensorflow:Evaluation [545/1000]\n",
      "INFO:tensorflow:Evaluation [546/1000]\n",
      "INFO:tensorflow:Evaluation [547/1000]\n",
      "INFO:tensorflow:Evaluation [548/1000]\n",
      "INFO:tensorflow:Evaluation [549/1000]\n",
      "INFO:tensorflow:Evaluation [550/1000]\n",
      "INFO:tensorflow:Evaluation [551/1000]\n",
      "INFO:tensorflow:Evaluation [552/1000]\n",
      "INFO:tensorflow:Evaluation [553/1000]\n",
      "INFO:tensorflow:Evaluation [554/1000]\n",
      "INFO:tensorflow:Evaluation [555/1000]\n",
      "INFO:tensorflow:Evaluation [556/1000]\n",
      "INFO:tensorflow:Evaluation [557/1000]\n",
      "INFO:tensorflow:Evaluation [558/1000]\n",
      "INFO:tensorflow:Evaluation [559/1000]\n",
      "INFO:tensorflow:Evaluation [560/1000]\n",
      "INFO:tensorflow:Evaluation [561/1000]\n",
      "INFO:tensorflow:Evaluation [562/1000]\n",
      "INFO:tensorflow:Evaluation [563/1000]\n",
      "INFO:tensorflow:Evaluation [564/1000]\n",
      "INFO:tensorflow:Evaluation [565/1000]\n",
      "INFO:tensorflow:Evaluation [566/1000]\n",
      "INFO:tensorflow:Evaluation [567/1000]\n",
      "INFO:tensorflow:Evaluation [568/1000]\n",
      "INFO:tensorflow:Evaluation [569/1000]\n",
      "INFO:tensorflow:Evaluation [570/1000]\n",
      "INFO:tensorflow:Evaluation [571/1000]\n",
      "INFO:tensorflow:Evaluation [572/1000]\n",
      "INFO:tensorflow:Evaluation [573/1000]\n",
      "INFO:tensorflow:Evaluation [574/1000]\n",
      "INFO:tensorflow:Evaluation [575/1000]\n",
      "INFO:tensorflow:Evaluation [576/1000]\n",
      "INFO:tensorflow:Evaluation [577/1000]\n",
      "INFO:tensorflow:Evaluation [578/1000]\n",
      "INFO:tensorflow:Evaluation [579/1000]\n",
      "INFO:tensorflow:Evaluation [580/1000]\n",
      "INFO:tensorflow:Evaluation [581/1000]\n",
      "INFO:tensorflow:Evaluation [582/1000]\n",
      "INFO:tensorflow:Evaluation [583/1000]\n",
      "INFO:tensorflow:Evaluation [584/1000]\n",
      "INFO:tensorflow:Evaluation [585/1000]\n",
      "INFO:tensorflow:Evaluation [586/1000]\n",
      "INFO:tensorflow:Evaluation [587/1000]\n",
      "INFO:tensorflow:Evaluation [588/1000]\n",
      "INFO:tensorflow:Evaluation [589/1000]\n",
      "INFO:tensorflow:Evaluation [590/1000]\n",
      "INFO:tensorflow:Evaluation [591/1000]\n",
      "INFO:tensorflow:Evaluation [592/1000]\n",
      "INFO:tensorflow:Evaluation [593/1000]\n",
      "INFO:tensorflow:Evaluation [594/1000]\n",
      "INFO:tensorflow:Evaluation [595/1000]\n",
      "INFO:tensorflow:Evaluation [596/1000]\n",
      "INFO:tensorflow:Evaluation [597/1000]\n",
      "INFO:tensorflow:Evaluation [598/1000]\n",
      "INFO:tensorflow:Evaluation [599/1000]\n",
      "INFO:tensorflow:Evaluation [600/1000]\n",
      "INFO:tensorflow:Evaluation [601/1000]\n",
      "INFO:tensorflow:Evaluation [602/1000]\n",
      "INFO:tensorflow:Evaluation [603/1000]\n",
      "INFO:tensorflow:Evaluation [604/1000]\n",
      "INFO:tensorflow:Evaluation [605/1000]\n",
      "INFO:tensorflow:Evaluation [606/1000]\n",
      "INFO:tensorflow:Evaluation [607/1000]\n",
      "INFO:tensorflow:Evaluation [608/1000]\n",
      "INFO:tensorflow:Evaluation [609/1000]\n",
      "INFO:tensorflow:Evaluation [610/1000]\n",
      "INFO:tensorflow:Evaluation [611/1000]\n",
      "INFO:tensorflow:Evaluation [612/1000]\n",
      "INFO:tensorflow:Evaluation [613/1000]\n",
      "INFO:tensorflow:Evaluation [614/1000]\n",
      "INFO:tensorflow:Evaluation [615/1000]\n",
      "INFO:tensorflow:Evaluation [616/1000]\n",
      "INFO:tensorflow:Evaluation [617/1000]\n",
      "INFO:tensorflow:Evaluation [618/1000]\n",
      "INFO:tensorflow:Evaluation [619/1000]\n",
      "INFO:tensorflow:Evaluation [620/1000]\n",
      "INFO:tensorflow:Evaluation [621/1000]\n",
      "INFO:tensorflow:Evaluation [622/1000]\n",
      "INFO:tensorflow:Evaluation [623/1000]\n",
      "INFO:tensorflow:Evaluation [624/1000]\n",
      "INFO:tensorflow:Evaluation [625/1000]\n",
      "INFO:tensorflow:Evaluation [626/1000]\n",
      "INFO:tensorflow:Evaluation [627/1000]\n",
      "INFO:tensorflow:Evaluation [628/1000]\n",
      "INFO:tensorflow:Evaluation [629/1000]\n",
      "INFO:tensorflow:Evaluation [630/1000]\n",
      "INFO:tensorflow:Evaluation [631/1000]\n",
      "INFO:tensorflow:Evaluation [632/1000]\n",
      "INFO:tensorflow:Evaluation [633/1000]\n",
      "INFO:tensorflow:Evaluation [634/1000]\n",
      "INFO:tensorflow:Evaluation [635/1000]\n",
      "INFO:tensorflow:Evaluation [636/1000]\n",
      "INFO:tensorflow:Evaluation [637/1000]\n",
      "INFO:tensorflow:Evaluation [638/1000]\n",
      "INFO:tensorflow:Evaluation [639/1000]\n",
      "INFO:tensorflow:Evaluation [640/1000]\n",
      "INFO:tensorflow:Evaluation [641/1000]\n",
      "INFO:tensorflow:Evaluation [642/1000]\n",
      "INFO:tensorflow:Evaluation [643/1000]\n",
      "INFO:tensorflow:Evaluation [644/1000]\n",
      "INFO:tensorflow:Evaluation [645/1000]\n",
      "INFO:tensorflow:Evaluation [646/1000]\n",
      "INFO:tensorflow:Evaluation [647/1000]\n"
     ]
    },
    {
     "name": "stdout",
     "output_type": "stream",
     "text": [
      "INFO:tensorflow:Evaluation [648/1000]\n",
      "INFO:tensorflow:Evaluation [649/1000]\n",
      "INFO:tensorflow:Evaluation [650/1000]\n",
      "INFO:tensorflow:Evaluation [651/1000]\n",
      "INFO:tensorflow:Evaluation [652/1000]\n",
      "INFO:tensorflow:Evaluation [653/1000]\n",
      "INFO:tensorflow:Evaluation [654/1000]\n",
      "INFO:tensorflow:Evaluation [655/1000]\n",
      "INFO:tensorflow:Evaluation [656/1000]\n",
      "INFO:tensorflow:Evaluation [657/1000]\n",
      "INFO:tensorflow:Evaluation [658/1000]\n",
      "INFO:tensorflow:Evaluation [659/1000]\n",
      "INFO:tensorflow:Evaluation [660/1000]\n",
      "INFO:tensorflow:Evaluation [661/1000]\n",
      "INFO:tensorflow:Evaluation [662/1000]\n",
      "INFO:tensorflow:Evaluation [663/1000]\n",
      "INFO:tensorflow:Evaluation [664/1000]\n",
      "INFO:tensorflow:Evaluation [665/1000]\n",
      "INFO:tensorflow:Evaluation [666/1000]\n",
      "INFO:tensorflow:Evaluation [667/1000]\n",
      "INFO:tensorflow:Evaluation [668/1000]\n",
      "INFO:tensorflow:Evaluation [669/1000]\n",
      "INFO:tensorflow:Evaluation [670/1000]\n",
      "INFO:tensorflow:Evaluation [671/1000]\n",
      "INFO:tensorflow:Evaluation [672/1000]\n",
      "INFO:tensorflow:Evaluation [673/1000]\n",
      "INFO:tensorflow:Evaluation [674/1000]\n",
      "INFO:tensorflow:Evaluation [675/1000]\n",
      "INFO:tensorflow:Evaluation [676/1000]\n",
      "INFO:tensorflow:Evaluation [677/1000]\n",
      "INFO:tensorflow:Evaluation [678/1000]\n",
      "INFO:tensorflow:Evaluation [679/1000]\n",
      "INFO:tensorflow:Evaluation [680/1000]\n",
      "INFO:tensorflow:Evaluation [681/1000]\n",
      "INFO:tensorflow:Evaluation [682/1000]\n",
      "INFO:tensorflow:Evaluation [683/1000]\n",
      "INFO:tensorflow:Evaluation [684/1000]\n",
      "INFO:tensorflow:Evaluation [685/1000]\n",
      "INFO:tensorflow:Evaluation [686/1000]\n",
      "INFO:tensorflow:Evaluation [687/1000]\n",
      "INFO:tensorflow:Evaluation [688/1000]\n",
      "INFO:tensorflow:Evaluation [689/1000]\n",
      "INFO:tensorflow:Evaluation [690/1000]\n",
      "INFO:tensorflow:Evaluation [691/1000]\n",
      "INFO:tensorflow:Evaluation [692/1000]\n",
      "INFO:tensorflow:Evaluation [693/1000]\n",
      "INFO:tensorflow:Evaluation [694/1000]\n",
      "INFO:tensorflow:Evaluation [695/1000]\n",
      "INFO:tensorflow:Evaluation [696/1000]\n",
      "INFO:tensorflow:Evaluation [697/1000]\n",
      "INFO:tensorflow:Evaluation [698/1000]\n",
      "INFO:tensorflow:Evaluation [699/1000]\n",
      "INFO:tensorflow:Evaluation [700/1000]\n",
      "INFO:tensorflow:Evaluation [701/1000]\n",
      "INFO:tensorflow:Evaluation [702/1000]\n",
      "INFO:tensorflow:Evaluation [703/1000]\n",
      "INFO:tensorflow:Evaluation [704/1000]\n",
      "INFO:tensorflow:Evaluation [705/1000]\n",
      "INFO:tensorflow:Evaluation [706/1000]\n",
      "INFO:tensorflow:Evaluation [707/1000]\n",
      "INFO:tensorflow:Evaluation [708/1000]\n",
      "INFO:tensorflow:Evaluation [709/1000]\n",
      "INFO:tensorflow:Evaluation [710/1000]\n",
      "INFO:tensorflow:Evaluation [711/1000]\n",
      "INFO:tensorflow:Evaluation [712/1000]\n",
      "INFO:tensorflow:Evaluation [713/1000]\n",
      "INFO:tensorflow:Evaluation [714/1000]\n",
      "INFO:tensorflow:Evaluation [715/1000]\n",
      "INFO:tensorflow:Evaluation [716/1000]\n",
      "INFO:tensorflow:Evaluation [717/1000]\n",
      "INFO:tensorflow:Evaluation [718/1000]\n",
      "INFO:tensorflow:Evaluation [719/1000]\n",
      "INFO:tensorflow:Evaluation [720/1000]\n",
      "INFO:tensorflow:Evaluation [721/1000]\n",
      "INFO:tensorflow:Evaluation [722/1000]\n",
      "INFO:tensorflow:Evaluation [723/1000]\n",
      "INFO:tensorflow:Evaluation [724/1000]\n",
      "INFO:tensorflow:Evaluation [725/1000]\n",
      "INFO:tensorflow:Evaluation [726/1000]\n",
      "INFO:tensorflow:Evaluation [727/1000]\n",
      "INFO:tensorflow:Evaluation [728/1000]\n",
      "INFO:tensorflow:Evaluation [729/1000]\n",
      "INFO:tensorflow:Evaluation [730/1000]\n",
      "INFO:tensorflow:Evaluation [731/1000]\n",
      "INFO:tensorflow:Evaluation [732/1000]\n",
      "INFO:tensorflow:Evaluation [733/1000]\n",
      "INFO:tensorflow:Evaluation [734/1000]\n",
      "INFO:tensorflow:Evaluation [735/1000]\n",
      "INFO:tensorflow:Evaluation [736/1000]\n",
      "INFO:tensorflow:Evaluation [737/1000]\n",
      "INFO:tensorflow:Evaluation [738/1000]\n",
      "INFO:tensorflow:Evaluation [739/1000]\n",
      "INFO:tensorflow:Evaluation [740/1000]\n",
      "INFO:tensorflow:Evaluation [741/1000]\n",
      "INFO:tensorflow:Evaluation [742/1000]\n",
      "INFO:tensorflow:Evaluation [743/1000]\n",
      "INFO:tensorflow:Evaluation [744/1000]\n",
      "INFO:tensorflow:Evaluation [745/1000]\n",
      "INFO:tensorflow:Evaluation [746/1000]\n",
      "INFO:tensorflow:Evaluation [747/1000]\n",
      "INFO:tensorflow:Evaluation [748/1000]\n",
      "INFO:tensorflow:Evaluation [749/1000]\n",
      "INFO:tensorflow:Evaluation [750/1000]\n",
      "INFO:tensorflow:Evaluation [751/1000]\n",
      "INFO:tensorflow:Evaluation [752/1000]\n",
      "INFO:tensorflow:Evaluation [753/1000]\n",
      "INFO:tensorflow:Evaluation [754/1000]\n",
      "INFO:tensorflow:Evaluation [755/1000]\n",
      "INFO:tensorflow:Evaluation [756/1000]\n",
      "INFO:tensorflow:Evaluation [757/1000]\n",
      "INFO:tensorflow:Evaluation [758/1000]\n",
      "INFO:tensorflow:Evaluation [759/1000]\n",
      "INFO:tensorflow:Evaluation [760/1000]\n",
      "INFO:tensorflow:Evaluation [761/1000]\n",
      "INFO:tensorflow:Evaluation [762/1000]\n",
      "INFO:tensorflow:Evaluation [763/1000]\n",
      "INFO:tensorflow:Evaluation [764/1000]\n",
      "INFO:tensorflow:Evaluation [765/1000]\n",
      "INFO:tensorflow:Evaluation [766/1000]\n",
      "INFO:tensorflow:Evaluation [767/1000]\n",
      "INFO:tensorflow:Evaluation [768/1000]\n",
      "INFO:tensorflow:Evaluation [769/1000]\n",
      "INFO:tensorflow:Evaluation [770/1000]\n",
      "INFO:tensorflow:Evaluation [771/1000]\n",
      "INFO:tensorflow:Evaluation [772/1000]\n",
      "INFO:tensorflow:Evaluation [773/1000]\n",
      "INFO:tensorflow:Evaluation [774/1000]\n",
      "INFO:tensorflow:Evaluation [775/1000]\n",
      "INFO:tensorflow:Evaluation [776/1000]\n",
      "INFO:tensorflow:Evaluation [777/1000]\n",
      "INFO:tensorflow:Evaluation [778/1000]\n",
      "INFO:tensorflow:Evaluation [779/1000]\n",
      "INFO:tensorflow:Evaluation [780/1000]\n",
      "INFO:tensorflow:Evaluation [781/1000]\n",
      "INFO:tensorflow:Evaluation [782/1000]\n",
      "INFO:tensorflow:Evaluation [783/1000]\n",
      "INFO:tensorflow:Evaluation [784/1000]\n",
      "INFO:tensorflow:Evaluation [785/1000]\n",
      "INFO:tensorflow:Evaluation [786/1000]\n",
      "INFO:tensorflow:Evaluation [787/1000]\n",
      "INFO:tensorflow:Evaluation [788/1000]\n",
      "INFO:tensorflow:Evaluation [789/1000]\n",
      "INFO:tensorflow:Evaluation [790/1000]\n",
      "INFO:tensorflow:Evaluation [791/1000]\n",
      "INFO:tensorflow:Evaluation [792/1000]\n",
      "INFO:tensorflow:Evaluation [793/1000]\n",
      "INFO:tensorflow:Evaluation [794/1000]\n",
      "INFO:tensorflow:Evaluation [795/1000]\n",
      "INFO:tensorflow:Evaluation [796/1000]\n",
      "INFO:tensorflow:Evaluation [797/1000]\n",
      "INFO:tensorflow:Evaluation [798/1000]\n",
      "INFO:tensorflow:Evaluation [799/1000]\n",
      "INFO:tensorflow:Evaluation [800/1000]\n",
      "INFO:tensorflow:Evaluation [801/1000]\n",
      "INFO:tensorflow:Evaluation [802/1000]\n",
      "INFO:tensorflow:Evaluation [803/1000]\n",
      "INFO:tensorflow:Evaluation [804/1000]\n",
      "INFO:tensorflow:Evaluation [805/1000]\n",
      "INFO:tensorflow:Evaluation [806/1000]\n",
      "INFO:tensorflow:Evaluation [807/1000]\n",
      "INFO:tensorflow:Evaluation [808/1000]\n",
      "INFO:tensorflow:Evaluation [809/1000]\n",
      "INFO:tensorflow:Evaluation [810/1000]\n",
      "INFO:tensorflow:Evaluation [811/1000]\n",
      "INFO:tensorflow:Evaluation [812/1000]\n",
      "INFO:tensorflow:Evaluation [813/1000]\n",
      "INFO:tensorflow:Evaluation [814/1000]\n",
      "INFO:tensorflow:Evaluation [815/1000]\n",
      "INFO:tensorflow:Evaluation [816/1000]\n",
      "INFO:tensorflow:Evaluation [817/1000]\n",
      "INFO:tensorflow:Evaluation [818/1000]\n",
      "INFO:tensorflow:Evaluation [819/1000]\n",
      "INFO:tensorflow:Evaluation [820/1000]\n",
      "INFO:tensorflow:Evaluation [821/1000]\n",
      "INFO:tensorflow:Evaluation [822/1000]\n",
      "INFO:tensorflow:Evaluation [823/1000]\n",
      "INFO:tensorflow:Evaluation [824/1000]\n",
      "INFO:tensorflow:Evaluation [825/1000]\n",
      "INFO:tensorflow:Evaluation [826/1000]\n",
      "INFO:tensorflow:Evaluation [827/1000]\n",
      "INFO:tensorflow:Evaluation [828/1000]\n",
      "INFO:tensorflow:Evaluation [829/1000]\n",
      "INFO:tensorflow:Evaluation [830/1000]\n",
      "INFO:tensorflow:Evaluation [831/1000]\n",
      "INFO:tensorflow:Evaluation [832/1000]\n",
      "INFO:tensorflow:Evaluation [833/1000]\n",
      "INFO:tensorflow:Evaluation [834/1000]\n",
      "INFO:tensorflow:Evaluation [835/1000]\n",
      "INFO:tensorflow:Evaluation [836/1000]\n",
      "INFO:tensorflow:Evaluation [837/1000]\n",
      "INFO:tensorflow:Evaluation [838/1000]\n",
      "INFO:tensorflow:Evaluation [839/1000]\n",
      "INFO:tensorflow:Evaluation [840/1000]\n",
      "INFO:tensorflow:Evaluation [841/1000]\n",
      "INFO:tensorflow:Evaluation [842/1000]\n",
      "INFO:tensorflow:Evaluation [843/1000]\n",
      "INFO:tensorflow:Evaluation [844/1000]\n",
      "INFO:tensorflow:Evaluation [845/1000]\n",
      "INFO:tensorflow:Evaluation [846/1000]\n",
      "INFO:tensorflow:Evaluation [847/1000]\n",
      "INFO:tensorflow:Evaluation [848/1000]\n",
      "INFO:tensorflow:Evaluation [849/1000]\n",
      "INFO:tensorflow:Evaluation [850/1000]\n",
      "INFO:tensorflow:Evaluation [851/1000]\n",
      "INFO:tensorflow:Evaluation [852/1000]\n",
      "INFO:tensorflow:Evaluation [853/1000]\n",
      "INFO:tensorflow:Evaluation [854/1000]\n",
      "INFO:tensorflow:Evaluation [855/1000]\n",
      "INFO:tensorflow:Evaluation [856/1000]\n",
      "INFO:tensorflow:Evaluation [857/1000]\n",
      "INFO:tensorflow:Evaluation [858/1000]\n",
      "INFO:tensorflow:Evaluation [859/1000]\n",
      "INFO:tensorflow:Evaluation [860/1000]\n",
      "INFO:tensorflow:Evaluation [861/1000]\n",
      "INFO:tensorflow:Evaluation [862/1000]\n",
      "INFO:tensorflow:Evaluation [863/1000]\n"
     ]
    },
    {
     "name": "stdout",
     "output_type": "stream",
     "text": [
      "INFO:tensorflow:Evaluation [864/1000]\n",
      "INFO:tensorflow:Evaluation [865/1000]\n",
      "INFO:tensorflow:Evaluation [866/1000]\n",
      "INFO:tensorflow:Evaluation [867/1000]\n",
      "INFO:tensorflow:Evaluation [868/1000]\n",
      "INFO:tensorflow:Evaluation [869/1000]\n",
      "INFO:tensorflow:Evaluation [870/1000]\n",
      "INFO:tensorflow:Evaluation [871/1000]\n",
      "INFO:tensorflow:Evaluation [872/1000]\n",
      "INFO:tensorflow:Evaluation [873/1000]\n",
      "INFO:tensorflow:Evaluation [874/1000]\n",
      "INFO:tensorflow:Evaluation [875/1000]\n",
      "INFO:tensorflow:Evaluation [876/1000]\n",
      "INFO:tensorflow:Evaluation [877/1000]\n",
      "INFO:tensorflow:Evaluation [878/1000]\n",
      "INFO:tensorflow:Evaluation [879/1000]\n",
      "INFO:tensorflow:Evaluation [880/1000]\n",
      "INFO:tensorflow:Evaluation [881/1000]\n",
      "INFO:tensorflow:Evaluation [882/1000]\n",
      "INFO:tensorflow:Evaluation [883/1000]\n",
      "INFO:tensorflow:Evaluation [884/1000]\n",
      "INFO:tensorflow:Evaluation [885/1000]\n",
      "INFO:tensorflow:Evaluation [886/1000]\n",
      "INFO:tensorflow:Evaluation [887/1000]\n",
      "INFO:tensorflow:Evaluation [888/1000]\n",
      "INFO:tensorflow:Evaluation [889/1000]\n",
      "INFO:tensorflow:Evaluation [890/1000]\n",
      "INFO:tensorflow:Evaluation [891/1000]\n",
      "INFO:tensorflow:Evaluation [892/1000]\n",
      "INFO:tensorflow:Evaluation [893/1000]\n",
      "INFO:tensorflow:Evaluation [894/1000]\n",
      "INFO:tensorflow:Evaluation [895/1000]\n",
      "INFO:tensorflow:Evaluation [896/1000]\n",
      "INFO:tensorflow:Evaluation [897/1000]\n",
      "INFO:tensorflow:Evaluation [898/1000]\n",
      "INFO:tensorflow:Evaluation [899/1000]\n",
      "INFO:tensorflow:Evaluation [900/1000]\n",
      "INFO:tensorflow:Evaluation [901/1000]\n",
      "INFO:tensorflow:Evaluation [902/1000]\n",
      "INFO:tensorflow:Evaluation [903/1000]\n",
      "INFO:tensorflow:Evaluation [904/1000]\n",
      "INFO:tensorflow:Evaluation [905/1000]\n",
      "INFO:tensorflow:Evaluation [906/1000]\n",
      "INFO:tensorflow:Evaluation [907/1000]\n",
      "INFO:tensorflow:Evaluation [908/1000]\n",
      "INFO:tensorflow:Evaluation [909/1000]\n",
      "INFO:tensorflow:Evaluation [910/1000]\n",
      "INFO:tensorflow:Evaluation [911/1000]\n",
      "INFO:tensorflow:Evaluation [912/1000]\n",
      "INFO:tensorflow:Evaluation [913/1000]\n",
      "INFO:tensorflow:Evaluation [914/1000]\n",
      "INFO:tensorflow:Evaluation [915/1000]\n",
      "INFO:tensorflow:Evaluation [916/1000]\n",
      "INFO:tensorflow:Evaluation [917/1000]\n",
      "INFO:tensorflow:Evaluation [918/1000]\n",
      "INFO:tensorflow:Evaluation [919/1000]\n",
      "INFO:tensorflow:Evaluation [920/1000]\n",
      "INFO:tensorflow:Evaluation [921/1000]\n",
      "INFO:tensorflow:Evaluation [922/1000]\n",
      "INFO:tensorflow:Evaluation [923/1000]\n",
      "INFO:tensorflow:Evaluation [924/1000]\n",
      "INFO:tensorflow:Evaluation [925/1000]\n",
      "INFO:tensorflow:Evaluation [926/1000]\n",
      "INFO:tensorflow:Evaluation [927/1000]\n",
      "INFO:tensorflow:Evaluation [928/1000]\n",
      "INFO:tensorflow:Evaluation [929/1000]\n",
      "INFO:tensorflow:Evaluation [930/1000]\n",
      "INFO:tensorflow:Evaluation [931/1000]\n",
      "INFO:tensorflow:Evaluation [932/1000]\n",
      "INFO:tensorflow:Evaluation [933/1000]\n",
      "INFO:tensorflow:Evaluation [934/1000]\n",
      "INFO:tensorflow:Evaluation [935/1000]\n",
      "INFO:tensorflow:Evaluation [936/1000]\n",
      "INFO:tensorflow:Evaluation [937/1000]\n",
      "INFO:tensorflow:Evaluation [938/1000]\n",
      "INFO:tensorflow:Evaluation [939/1000]\n",
      "INFO:tensorflow:Evaluation [940/1000]\n",
      "INFO:tensorflow:Evaluation [941/1000]\n",
      "INFO:tensorflow:Evaluation [942/1000]\n",
      "INFO:tensorflow:Evaluation [943/1000]\n",
      "INFO:tensorflow:Evaluation [944/1000]\n",
      "INFO:tensorflow:Evaluation [945/1000]\n",
      "INFO:tensorflow:Evaluation [946/1000]\n",
      "INFO:tensorflow:Evaluation [947/1000]\n",
      "INFO:tensorflow:Evaluation [948/1000]\n",
      "INFO:tensorflow:Evaluation [949/1000]\n",
      "INFO:tensorflow:Evaluation [950/1000]\n",
      "INFO:tensorflow:Evaluation [951/1000]\n",
      "INFO:tensorflow:Evaluation [952/1000]\n",
      "INFO:tensorflow:Evaluation [953/1000]\n",
      "INFO:tensorflow:Evaluation [954/1000]\n",
      "INFO:tensorflow:Evaluation [955/1000]\n",
      "INFO:tensorflow:Evaluation [956/1000]\n",
      "INFO:tensorflow:Evaluation [957/1000]\n",
      "INFO:tensorflow:Evaluation [958/1000]\n",
      "INFO:tensorflow:Evaluation [959/1000]\n",
      "INFO:tensorflow:Evaluation [960/1000]\n",
      "INFO:tensorflow:Evaluation [961/1000]\n",
      "INFO:tensorflow:Evaluation [962/1000]\n",
      "INFO:tensorflow:Evaluation [963/1000]\n",
      "INFO:tensorflow:Evaluation [964/1000]\n",
      "INFO:tensorflow:Evaluation [965/1000]\n",
      "INFO:tensorflow:Evaluation [966/1000]\n",
      "INFO:tensorflow:Evaluation [967/1000]\n",
      "INFO:tensorflow:Evaluation [968/1000]\n",
      "INFO:tensorflow:Evaluation [969/1000]\n",
      "INFO:tensorflow:Evaluation [970/1000]\n",
      "INFO:tensorflow:Evaluation [971/1000]\n",
      "INFO:tensorflow:Evaluation [972/1000]\n",
      "INFO:tensorflow:Evaluation [973/1000]\n",
      "INFO:tensorflow:Evaluation [974/1000]\n",
      "INFO:tensorflow:Evaluation [975/1000]\n",
      "INFO:tensorflow:Evaluation [976/1000]\n",
      "INFO:tensorflow:Evaluation [977/1000]\n",
      "INFO:tensorflow:Evaluation [978/1000]\n",
      "INFO:tensorflow:Evaluation [979/1000]\n",
      "INFO:tensorflow:Evaluation [980/1000]\n",
      "INFO:tensorflow:Evaluation [981/1000]\n",
      "INFO:tensorflow:Evaluation [982/1000]\n",
      "INFO:tensorflow:Evaluation [983/1000]\n",
      "INFO:tensorflow:Evaluation [984/1000]\n",
      "INFO:tensorflow:Evaluation [985/1000]\n",
      "INFO:tensorflow:Evaluation [986/1000]\n",
      "INFO:tensorflow:Evaluation [987/1000]\n",
      "INFO:tensorflow:Evaluation [988/1000]\n",
      "INFO:tensorflow:Evaluation [989/1000]\n",
      "INFO:tensorflow:Evaluation [990/1000]\n",
      "INFO:tensorflow:Evaluation [991/1000]\n",
      "INFO:tensorflow:Evaluation [992/1000]\n",
      "INFO:tensorflow:Evaluation [993/1000]\n",
      "INFO:tensorflow:Evaluation [994/1000]\n",
      "INFO:tensorflow:Evaluation [995/1000]\n",
      "INFO:tensorflow:Evaluation [996/1000]\n",
      "INFO:tensorflow:Evaluation [997/1000]\n",
      "INFO:tensorflow:Evaluation [998/1000]\n",
      "INFO:tensorflow:Evaluation [999/1000]\n",
      "INFO:tensorflow:Evaluation [1000/1000]\n",
      "INFO:tensorflow:Finished evaluation at 2018-04-11-07:55:04\n",
      "INFO:tensorflow:Saving dict for global step 1000: average_loss = 1.06915, global_step = 1000, loss = 8.55316\n"
     ]
    }
   ],
   "source": [
    "train_metrics = estimator.evaluate(input_fn=train_input_func,steps=1000)"
   ]
  },
  {
   "cell_type": "code",
   "execution_count": 123,
   "metadata": {},
   "outputs": [
    {
     "name": "stdout",
     "output_type": "stream",
     "text": [
      "INFO:tensorflow:Starting evaluation at 2018-04-11-07:55:04\n",
      "INFO:tensorflow:Restoring parameters from /tmp/tmp8_l6te4u/model.ckpt-1000\n",
      "INFO:tensorflow:Evaluation [1/1000]\n",
      "INFO:tensorflow:Evaluation [2/1000]\n",
      "INFO:tensorflow:Evaluation [3/1000]\n",
      "INFO:tensorflow:Evaluation [4/1000]\n",
      "INFO:tensorflow:Evaluation [5/1000]\n",
      "INFO:tensorflow:Evaluation [6/1000]\n",
      "INFO:tensorflow:Evaluation [7/1000]\n",
      "INFO:tensorflow:Evaluation [8/1000]\n",
      "INFO:tensorflow:Evaluation [9/1000]\n",
      "INFO:tensorflow:Evaluation [10/1000]\n",
      "INFO:tensorflow:Evaluation [11/1000]\n",
      "INFO:tensorflow:Evaluation [12/1000]\n",
      "INFO:tensorflow:Evaluation [13/1000]\n",
      "INFO:tensorflow:Evaluation [14/1000]\n",
      "INFO:tensorflow:Evaluation [15/1000]\n",
      "INFO:tensorflow:Evaluation [16/1000]\n",
      "INFO:tensorflow:Evaluation [17/1000]\n",
      "INFO:tensorflow:Evaluation [18/1000]\n",
      "INFO:tensorflow:Evaluation [19/1000]\n",
      "INFO:tensorflow:Evaluation [20/1000]\n",
      "INFO:tensorflow:Evaluation [21/1000]\n",
      "INFO:tensorflow:Evaluation [22/1000]\n",
      "INFO:tensorflow:Evaluation [23/1000]\n",
      "INFO:tensorflow:Evaluation [24/1000]\n",
      "INFO:tensorflow:Evaluation [25/1000]\n",
      "INFO:tensorflow:Evaluation [26/1000]\n",
      "INFO:tensorflow:Evaluation [27/1000]\n",
      "INFO:tensorflow:Evaluation [28/1000]\n",
      "INFO:tensorflow:Evaluation [29/1000]\n",
      "INFO:tensorflow:Evaluation [30/1000]\n",
      "INFO:tensorflow:Evaluation [31/1000]\n",
      "INFO:tensorflow:Evaluation [32/1000]\n",
      "INFO:tensorflow:Evaluation [33/1000]\n",
      "INFO:tensorflow:Evaluation [34/1000]\n",
      "INFO:tensorflow:Evaluation [35/1000]\n",
      "INFO:tensorflow:Evaluation [36/1000]\n",
      "INFO:tensorflow:Evaluation [37/1000]\n",
      "INFO:tensorflow:Evaluation [38/1000]\n",
      "INFO:tensorflow:Evaluation [39/1000]\n",
      "INFO:tensorflow:Evaluation [40/1000]\n",
      "INFO:tensorflow:Evaluation [41/1000]\n",
      "INFO:tensorflow:Evaluation [42/1000]\n",
      "INFO:tensorflow:Evaluation [43/1000]\n",
      "INFO:tensorflow:Evaluation [44/1000]\n",
      "INFO:tensorflow:Evaluation [45/1000]\n",
      "INFO:tensorflow:Evaluation [46/1000]\n",
      "INFO:tensorflow:Evaluation [47/1000]\n",
      "INFO:tensorflow:Evaluation [48/1000]\n",
      "INFO:tensorflow:Evaluation [49/1000]\n",
      "INFO:tensorflow:Evaluation [50/1000]\n",
      "INFO:tensorflow:Evaluation [51/1000]\n",
      "INFO:tensorflow:Evaluation [52/1000]\n",
      "INFO:tensorflow:Evaluation [53/1000]\n",
      "INFO:tensorflow:Evaluation [54/1000]\n",
      "INFO:tensorflow:Evaluation [55/1000]\n",
      "INFO:tensorflow:Evaluation [56/1000]\n",
      "INFO:tensorflow:Evaluation [57/1000]\n",
      "INFO:tensorflow:Evaluation [58/1000]\n",
      "INFO:tensorflow:Evaluation [59/1000]\n",
      "INFO:tensorflow:Evaluation [60/1000]\n",
      "INFO:tensorflow:Evaluation [61/1000]\n",
      "INFO:tensorflow:Evaluation [62/1000]\n",
      "INFO:tensorflow:Evaluation [63/1000]\n",
      "INFO:tensorflow:Evaluation [64/1000]\n",
      "INFO:tensorflow:Evaluation [65/1000]\n",
      "INFO:tensorflow:Evaluation [66/1000]\n",
      "INFO:tensorflow:Evaluation [67/1000]\n",
      "INFO:tensorflow:Evaluation [68/1000]\n",
      "INFO:tensorflow:Evaluation [69/1000]\n",
      "INFO:tensorflow:Evaluation [70/1000]\n",
      "INFO:tensorflow:Evaluation [71/1000]\n",
      "INFO:tensorflow:Evaluation [72/1000]\n",
      "INFO:tensorflow:Evaluation [73/1000]\n",
      "INFO:tensorflow:Evaluation [74/1000]\n",
      "INFO:tensorflow:Evaluation [75/1000]\n",
      "INFO:tensorflow:Evaluation [76/1000]\n",
      "INFO:tensorflow:Evaluation [77/1000]\n",
      "INFO:tensorflow:Evaluation [78/1000]\n",
      "INFO:tensorflow:Evaluation [79/1000]\n",
      "INFO:tensorflow:Evaluation [80/1000]\n",
      "INFO:tensorflow:Evaluation [81/1000]\n",
      "INFO:tensorflow:Evaluation [82/1000]\n",
      "INFO:tensorflow:Evaluation [83/1000]\n",
      "INFO:tensorflow:Evaluation [84/1000]\n",
      "INFO:tensorflow:Evaluation [85/1000]\n",
      "INFO:tensorflow:Evaluation [86/1000]\n",
      "INFO:tensorflow:Evaluation [87/1000]\n",
      "INFO:tensorflow:Evaluation [88/1000]\n",
      "INFO:tensorflow:Evaluation [89/1000]\n",
      "INFO:tensorflow:Evaluation [90/1000]\n",
      "INFO:tensorflow:Evaluation [91/1000]\n",
      "INFO:tensorflow:Evaluation [92/1000]\n",
      "INFO:tensorflow:Evaluation [93/1000]\n",
      "INFO:tensorflow:Evaluation [94/1000]\n",
      "INFO:tensorflow:Evaluation [95/1000]\n",
      "INFO:tensorflow:Evaluation [96/1000]\n",
      "INFO:tensorflow:Evaluation [97/1000]\n",
      "INFO:tensorflow:Evaluation [98/1000]\n",
      "INFO:tensorflow:Evaluation [99/1000]\n",
      "INFO:tensorflow:Evaluation [100/1000]\n",
      "INFO:tensorflow:Evaluation [101/1000]\n",
      "INFO:tensorflow:Evaluation [102/1000]\n",
      "INFO:tensorflow:Evaluation [103/1000]\n",
      "INFO:tensorflow:Evaluation [104/1000]\n",
      "INFO:tensorflow:Evaluation [105/1000]\n",
      "INFO:tensorflow:Evaluation [106/1000]\n",
      "INFO:tensorflow:Evaluation [107/1000]\n",
      "INFO:tensorflow:Evaluation [108/1000]\n",
      "INFO:tensorflow:Evaluation [109/1000]\n",
      "INFO:tensorflow:Evaluation [110/1000]\n",
      "INFO:tensorflow:Evaluation [111/1000]\n",
      "INFO:tensorflow:Evaluation [112/1000]\n",
      "INFO:tensorflow:Evaluation [113/1000]\n",
      "INFO:tensorflow:Evaluation [114/1000]\n",
      "INFO:tensorflow:Evaluation [115/1000]\n",
      "INFO:tensorflow:Evaluation [116/1000]\n",
      "INFO:tensorflow:Evaluation [117/1000]\n",
      "INFO:tensorflow:Evaluation [118/1000]\n",
      "INFO:tensorflow:Evaluation [119/1000]\n",
      "INFO:tensorflow:Evaluation [120/1000]\n",
      "INFO:tensorflow:Evaluation [121/1000]\n",
      "INFO:tensorflow:Evaluation [122/1000]\n",
      "INFO:tensorflow:Evaluation [123/1000]\n",
      "INFO:tensorflow:Evaluation [124/1000]\n",
      "INFO:tensorflow:Evaluation [125/1000]\n",
      "INFO:tensorflow:Evaluation [126/1000]\n",
      "INFO:tensorflow:Evaluation [127/1000]\n",
      "INFO:tensorflow:Evaluation [128/1000]\n",
      "INFO:tensorflow:Evaluation [129/1000]\n",
      "INFO:tensorflow:Evaluation [130/1000]\n",
      "INFO:tensorflow:Evaluation [131/1000]\n",
      "INFO:tensorflow:Evaluation [132/1000]\n",
      "INFO:tensorflow:Evaluation [133/1000]\n",
      "INFO:tensorflow:Evaluation [134/1000]\n",
      "INFO:tensorflow:Evaluation [135/1000]\n",
      "INFO:tensorflow:Evaluation [136/1000]\n",
      "INFO:tensorflow:Evaluation [137/1000]\n",
      "INFO:tensorflow:Evaluation [138/1000]\n",
      "INFO:tensorflow:Evaluation [139/1000]\n",
      "INFO:tensorflow:Evaluation [140/1000]\n",
      "INFO:tensorflow:Evaluation [141/1000]\n",
      "INFO:tensorflow:Evaluation [142/1000]\n",
      "INFO:tensorflow:Evaluation [143/1000]\n",
      "INFO:tensorflow:Evaluation [144/1000]\n",
      "INFO:tensorflow:Evaluation [145/1000]\n",
      "INFO:tensorflow:Evaluation [146/1000]\n",
      "INFO:tensorflow:Evaluation [147/1000]\n",
      "INFO:tensorflow:Evaluation [148/1000]\n",
      "INFO:tensorflow:Evaluation [149/1000]\n",
      "INFO:tensorflow:Evaluation [150/1000]\n",
      "INFO:tensorflow:Evaluation [151/1000]\n",
      "INFO:tensorflow:Evaluation [152/1000]\n",
      "INFO:tensorflow:Evaluation [153/1000]\n",
      "INFO:tensorflow:Evaluation [154/1000]\n",
      "INFO:tensorflow:Evaluation [155/1000]\n",
      "INFO:tensorflow:Evaluation [156/1000]\n",
      "INFO:tensorflow:Evaluation [157/1000]\n",
      "INFO:tensorflow:Evaluation [158/1000]\n",
      "INFO:tensorflow:Evaluation [159/1000]\n",
      "INFO:tensorflow:Evaluation [160/1000]\n",
      "INFO:tensorflow:Evaluation [161/1000]\n",
      "INFO:tensorflow:Evaluation [162/1000]\n",
      "INFO:tensorflow:Evaluation [163/1000]\n",
      "INFO:tensorflow:Evaluation [164/1000]\n",
      "INFO:tensorflow:Evaluation [165/1000]\n",
      "INFO:tensorflow:Evaluation [166/1000]\n",
      "INFO:tensorflow:Evaluation [167/1000]\n",
      "INFO:tensorflow:Evaluation [168/1000]\n",
      "INFO:tensorflow:Evaluation [169/1000]\n",
      "INFO:tensorflow:Evaluation [170/1000]\n",
      "INFO:tensorflow:Evaluation [171/1000]\n",
      "INFO:tensorflow:Evaluation [172/1000]\n",
      "INFO:tensorflow:Evaluation [173/1000]\n",
      "INFO:tensorflow:Evaluation [174/1000]\n",
      "INFO:tensorflow:Evaluation [175/1000]\n",
      "INFO:tensorflow:Evaluation [176/1000]\n",
      "INFO:tensorflow:Evaluation [177/1000]\n",
      "INFO:tensorflow:Evaluation [178/1000]\n",
      "INFO:tensorflow:Evaluation [179/1000]\n",
      "INFO:tensorflow:Evaluation [180/1000]\n",
      "INFO:tensorflow:Evaluation [181/1000]\n",
      "INFO:tensorflow:Evaluation [182/1000]\n",
      "INFO:tensorflow:Evaluation [183/1000]\n",
      "INFO:tensorflow:Evaluation [184/1000]\n",
      "INFO:tensorflow:Evaluation [185/1000]\n",
      "INFO:tensorflow:Evaluation [186/1000]\n",
      "INFO:tensorflow:Evaluation [187/1000]\n",
      "INFO:tensorflow:Evaluation [188/1000]\n",
      "INFO:tensorflow:Evaluation [189/1000]\n",
      "INFO:tensorflow:Evaluation [190/1000]\n",
      "INFO:tensorflow:Evaluation [191/1000]\n",
      "INFO:tensorflow:Evaluation [192/1000]\n",
      "INFO:tensorflow:Evaluation [193/1000]\n",
      "INFO:tensorflow:Evaluation [194/1000]\n",
      "INFO:tensorflow:Evaluation [195/1000]\n",
      "INFO:tensorflow:Evaluation [196/1000]\n",
      "INFO:tensorflow:Evaluation [197/1000]\n",
      "INFO:tensorflow:Evaluation [198/1000]\n",
      "INFO:tensorflow:Evaluation [199/1000]\n",
      "INFO:tensorflow:Evaluation [200/1000]\n",
      "INFO:tensorflow:Evaluation [201/1000]\n",
      "INFO:tensorflow:Evaluation [202/1000]\n",
      "INFO:tensorflow:Evaluation [203/1000]\n",
      "INFO:tensorflow:Evaluation [204/1000]\n",
      "INFO:tensorflow:Evaluation [205/1000]\n",
      "INFO:tensorflow:Evaluation [206/1000]\n",
      "INFO:tensorflow:Evaluation [207/1000]\n",
      "INFO:tensorflow:Evaluation [208/1000]\n",
      "INFO:tensorflow:Evaluation [209/1000]\n",
      "INFO:tensorflow:Evaluation [210/1000]\n",
      "INFO:tensorflow:Evaluation [211/1000]\n",
      "INFO:tensorflow:Evaluation [212/1000]\n",
      "INFO:tensorflow:Evaluation [213/1000]\n",
      "INFO:tensorflow:Evaluation [214/1000]\n",
      "INFO:tensorflow:Evaluation [215/1000]\n"
     ]
    },
    {
     "name": "stdout",
     "output_type": "stream",
     "text": [
      "INFO:tensorflow:Evaluation [216/1000]\n",
      "INFO:tensorflow:Evaluation [217/1000]\n",
      "INFO:tensorflow:Evaluation [218/1000]\n",
      "INFO:tensorflow:Evaluation [219/1000]\n",
      "INFO:tensorflow:Evaluation [220/1000]\n",
      "INFO:tensorflow:Evaluation [221/1000]\n",
      "INFO:tensorflow:Evaluation [222/1000]\n",
      "INFO:tensorflow:Evaluation [223/1000]\n",
      "INFO:tensorflow:Evaluation [224/1000]\n",
      "INFO:tensorflow:Evaluation [225/1000]\n",
      "INFO:tensorflow:Evaluation [226/1000]\n",
      "INFO:tensorflow:Evaluation [227/1000]\n",
      "INFO:tensorflow:Evaluation [228/1000]\n",
      "INFO:tensorflow:Evaluation [229/1000]\n",
      "INFO:tensorflow:Evaluation [230/1000]\n",
      "INFO:tensorflow:Evaluation [231/1000]\n",
      "INFO:tensorflow:Evaluation [232/1000]\n",
      "INFO:tensorflow:Evaluation [233/1000]\n",
      "INFO:tensorflow:Evaluation [234/1000]\n",
      "INFO:tensorflow:Evaluation [235/1000]\n",
      "INFO:tensorflow:Evaluation [236/1000]\n",
      "INFO:tensorflow:Evaluation [237/1000]\n",
      "INFO:tensorflow:Evaluation [238/1000]\n",
      "INFO:tensorflow:Evaluation [239/1000]\n",
      "INFO:tensorflow:Evaluation [240/1000]\n",
      "INFO:tensorflow:Evaluation [241/1000]\n",
      "INFO:tensorflow:Evaluation [242/1000]\n",
      "INFO:tensorflow:Evaluation [243/1000]\n",
      "INFO:tensorflow:Evaluation [244/1000]\n",
      "INFO:tensorflow:Evaluation [245/1000]\n",
      "INFO:tensorflow:Evaluation [246/1000]\n",
      "INFO:tensorflow:Evaluation [247/1000]\n",
      "INFO:tensorflow:Evaluation [248/1000]\n",
      "INFO:tensorflow:Evaluation [249/1000]\n",
      "INFO:tensorflow:Evaluation [250/1000]\n",
      "INFO:tensorflow:Evaluation [251/1000]\n",
      "INFO:tensorflow:Evaluation [252/1000]\n",
      "INFO:tensorflow:Evaluation [253/1000]\n",
      "INFO:tensorflow:Evaluation [254/1000]\n",
      "INFO:tensorflow:Evaluation [255/1000]\n",
      "INFO:tensorflow:Evaluation [256/1000]\n",
      "INFO:tensorflow:Evaluation [257/1000]\n",
      "INFO:tensorflow:Evaluation [258/1000]\n",
      "INFO:tensorflow:Evaluation [259/1000]\n",
      "INFO:tensorflow:Evaluation [260/1000]\n",
      "INFO:tensorflow:Evaluation [261/1000]\n",
      "INFO:tensorflow:Evaluation [262/1000]\n",
      "INFO:tensorflow:Evaluation [263/1000]\n",
      "INFO:tensorflow:Evaluation [264/1000]\n",
      "INFO:tensorflow:Evaluation [265/1000]\n",
      "INFO:tensorflow:Evaluation [266/1000]\n",
      "INFO:tensorflow:Evaluation [267/1000]\n",
      "INFO:tensorflow:Evaluation [268/1000]\n",
      "INFO:tensorflow:Evaluation [269/1000]\n",
      "INFO:tensorflow:Evaluation [270/1000]\n",
      "INFO:tensorflow:Evaluation [271/1000]\n",
      "INFO:tensorflow:Evaluation [272/1000]\n",
      "INFO:tensorflow:Evaluation [273/1000]\n",
      "INFO:tensorflow:Evaluation [274/1000]\n",
      "INFO:tensorflow:Evaluation [275/1000]\n",
      "INFO:tensorflow:Evaluation [276/1000]\n",
      "INFO:tensorflow:Evaluation [277/1000]\n",
      "INFO:tensorflow:Evaluation [278/1000]\n",
      "INFO:tensorflow:Evaluation [279/1000]\n",
      "INFO:tensorflow:Evaluation [280/1000]\n",
      "INFO:tensorflow:Evaluation [281/1000]\n",
      "INFO:tensorflow:Evaluation [282/1000]\n",
      "INFO:tensorflow:Evaluation [283/1000]\n",
      "INFO:tensorflow:Evaluation [284/1000]\n",
      "INFO:tensorflow:Evaluation [285/1000]\n",
      "INFO:tensorflow:Evaluation [286/1000]\n",
      "INFO:tensorflow:Evaluation [287/1000]\n",
      "INFO:tensorflow:Evaluation [288/1000]\n",
      "INFO:tensorflow:Evaluation [289/1000]\n",
      "INFO:tensorflow:Evaluation [290/1000]\n",
      "INFO:tensorflow:Evaluation [291/1000]\n",
      "INFO:tensorflow:Evaluation [292/1000]\n",
      "INFO:tensorflow:Evaluation [293/1000]\n",
      "INFO:tensorflow:Evaluation [294/1000]\n",
      "INFO:tensorflow:Evaluation [295/1000]\n",
      "INFO:tensorflow:Evaluation [296/1000]\n",
      "INFO:tensorflow:Evaluation [297/1000]\n",
      "INFO:tensorflow:Evaluation [298/1000]\n",
      "INFO:tensorflow:Evaluation [299/1000]\n",
      "INFO:tensorflow:Evaluation [300/1000]\n",
      "INFO:tensorflow:Evaluation [301/1000]\n",
      "INFO:tensorflow:Evaluation [302/1000]\n",
      "INFO:tensorflow:Evaluation [303/1000]\n",
      "INFO:tensorflow:Evaluation [304/1000]\n",
      "INFO:tensorflow:Evaluation [305/1000]\n",
      "INFO:tensorflow:Evaluation [306/1000]\n",
      "INFO:tensorflow:Evaluation [307/1000]\n",
      "INFO:tensorflow:Evaluation [308/1000]\n",
      "INFO:tensorflow:Evaluation [309/1000]\n",
      "INFO:tensorflow:Evaluation [310/1000]\n",
      "INFO:tensorflow:Evaluation [311/1000]\n",
      "INFO:tensorflow:Evaluation [312/1000]\n",
      "INFO:tensorflow:Evaluation [313/1000]\n",
      "INFO:tensorflow:Evaluation [314/1000]\n",
      "INFO:tensorflow:Evaluation [315/1000]\n",
      "INFO:tensorflow:Evaluation [316/1000]\n",
      "INFO:tensorflow:Evaluation [317/1000]\n",
      "INFO:tensorflow:Evaluation [318/1000]\n",
      "INFO:tensorflow:Evaluation [319/1000]\n",
      "INFO:tensorflow:Evaluation [320/1000]\n",
      "INFO:tensorflow:Evaluation [321/1000]\n",
      "INFO:tensorflow:Evaluation [322/1000]\n",
      "INFO:tensorflow:Evaluation [323/1000]\n",
      "INFO:tensorflow:Evaluation [324/1000]\n",
      "INFO:tensorflow:Evaluation [325/1000]\n",
      "INFO:tensorflow:Evaluation [326/1000]\n",
      "INFO:tensorflow:Evaluation [327/1000]\n",
      "INFO:tensorflow:Evaluation [328/1000]\n",
      "INFO:tensorflow:Evaluation [329/1000]\n",
      "INFO:tensorflow:Evaluation [330/1000]\n",
      "INFO:tensorflow:Evaluation [331/1000]\n",
      "INFO:tensorflow:Evaluation [332/1000]\n",
      "INFO:tensorflow:Evaluation [333/1000]\n",
      "INFO:tensorflow:Evaluation [334/1000]\n",
      "INFO:tensorflow:Evaluation [335/1000]\n",
      "INFO:tensorflow:Evaluation [336/1000]\n",
      "INFO:tensorflow:Evaluation [337/1000]\n",
      "INFO:tensorflow:Evaluation [338/1000]\n",
      "INFO:tensorflow:Evaluation [339/1000]\n",
      "INFO:tensorflow:Evaluation [340/1000]\n",
      "INFO:tensorflow:Evaluation [341/1000]\n",
      "INFO:tensorflow:Evaluation [342/1000]\n",
      "INFO:tensorflow:Evaluation [343/1000]\n",
      "INFO:tensorflow:Evaluation [344/1000]\n",
      "INFO:tensorflow:Evaluation [345/1000]\n",
      "INFO:tensorflow:Evaluation [346/1000]\n",
      "INFO:tensorflow:Evaluation [347/1000]\n",
      "INFO:tensorflow:Evaluation [348/1000]\n",
      "INFO:tensorflow:Evaluation [349/1000]\n",
      "INFO:tensorflow:Evaluation [350/1000]\n",
      "INFO:tensorflow:Evaluation [351/1000]\n",
      "INFO:tensorflow:Evaluation [352/1000]\n",
      "INFO:tensorflow:Evaluation [353/1000]\n",
      "INFO:tensorflow:Evaluation [354/1000]\n",
      "INFO:tensorflow:Evaluation [355/1000]\n",
      "INFO:tensorflow:Evaluation [356/1000]\n",
      "INFO:tensorflow:Evaluation [357/1000]\n",
      "INFO:tensorflow:Evaluation [358/1000]\n",
      "INFO:tensorflow:Evaluation [359/1000]\n",
      "INFO:tensorflow:Evaluation [360/1000]\n",
      "INFO:tensorflow:Evaluation [361/1000]\n",
      "INFO:tensorflow:Evaluation [362/1000]\n",
      "INFO:tensorflow:Evaluation [363/1000]\n",
      "INFO:tensorflow:Evaluation [364/1000]\n",
      "INFO:tensorflow:Evaluation [365/1000]\n",
      "INFO:tensorflow:Evaluation [366/1000]\n",
      "INFO:tensorflow:Evaluation [367/1000]\n",
      "INFO:tensorflow:Evaluation [368/1000]\n",
      "INFO:tensorflow:Evaluation [369/1000]\n",
      "INFO:tensorflow:Evaluation [370/1000]\n",
      "INFO:tensorflow:Evaluation [371/1000]\n",
      "INFO:tensorflow:Evaluation [372/1000]\n",
      "INFO:tensorflow:Evaluation [373/1000]\n",
      "INFO:tensorflow:Evaluation [374/1000]\n",
      "INFO:tensorflow:Evaluation [375/1000]\n",
      "INFO:tensorflow:Evaluation [376/1000]\n",
      "INFO:tensorflow:Evaluation [377/1000]\n",
      "INFO:tensorflow:Evaluation [378/1000]\n",
      "INFO:tensorflow:Evaluation [379/1000]\n",
      "INFO:tensorflow:Evaluation [380/1000]\n",
      "INFO:tensorflow:Evaluation [381/1000]\n",
      "INFO:tensorflow:Evaluation [382/1000]\n",
      "INFO:tensorflow:Evaluation [383/1000]\n",
      "INFO:tensorflow:Evaluation [384/1000]\n",
      "INFO:tensorflow:Evaluation [385/1000]\n",
      "INFO:tensorflow:Evaluation [386/1000]\n",
      "INFO:tensorflow:Evaluation [387/1000]\n",
      "INFO:tensorflow:Evaluation [388/1000]\n",
      "INFO:tensorflow:Evaluation [389/1000]\n",
      "INFO:tensorflow:Evaluation [390/1000]\n",
      "INFO:tensorflow:Evaluation [391/1000]\n",
      "INFO:tensorflow:Evaluation [392/1000]\n",
      "INFO:tensorflow:Evaluation [393/1000]\n",
      "INFO:tensorflow:Evaluation [394/1000]\n",
      "INFO:tensorflow:Evaluation [395/1000]\n",
      "INFO:tensorflow:Evaluation [396/1000]\n",
      "INFO:tensorflow:Evaluation [397/1000]\n",
      "INFO:tensorflow:Evaluation [398/1000]\n",
      "INFO:tensorflow:Evaluation [399/1000]\n",
      "INFO:tensorflow:Evaluation [400/1000]\n",
      "INFO:tensorflow:Evaluation [401/1000]\n",
      "INFO:tensorflow:Evaluation [402/1000]\n",
      "INFO:tensorflow:Evaluation [403/1000]\n",
      "INFO:tensorflow:Evaluation [404/1000]\n",
      "INFO:tensorflow:Evaluation [405/1000]\n",
      "INFO:tensorflow:Evaluation [406/1000]\n",
      "INFO:tensorflow:Evaluation [407/1000]\n",
      "INFO:tensorflow:Evaluation [408/1000]\n",
      "INFO:tensorflow:Evaluation [409/1000]\n",
      "INFO:tensorflow:Evaluation [410/1000]\n",
      "INFO:tensorflow:Evaluation [411/1000]\n",
      "INFO:tensorflow:Evaluation [412/1000]\n",
      "INFO:tensorflow:Evaluation [413/1000]\n",
      "INFO:tensorflow:Evaluation [414/1000]\n",
      "INFO:tensorflow:Evaluation [415/1000]\n",
      "INFO:tensorflow:Evaluation [416/1000]\n",
      "INFO:tensorflow:Evaluation [417/1000]\n",
      "INFO:tensorflow:Evaluation [418/1000]\n",
      "INFO:tensorflow:Evaluation [419/1000]\n",
      "INFO:tensorflow:Evaluation [420/1000]\n",
      "INFO:tensorflow:Evaluation [421/1000]\n",
      "INFO:tensorflow:Evaluation [422/1000]\n",
      "INFO:tensorflow:Evaluation [423/1000]\n",
      "INFO:tensorflow:Evaluation [424/1000]\n",
      "INFO:tensorflow:Evaluation [425/1000]\n",
      "INFO:tensorflow:Evaluation [426/1000]\n",
      "INFO:tensorflow:Evaluation [427/1000]\n",
      "INFO:tensorflow:Evaluation [428/1000]\n",
      "INFO:tensorflow:Evaluation [429/1000]\n",
      "INFO:tensorflow:Evaluation [430/1000]\n",
      "INFO:tensorflow:Evaluation [431/1000]\n"
     ]
    },
    {
     "name": "stdout",
     "output_type": "stream",
     "text": [
      "INFO:tensorflow:Evaluation [432/1000]\n",
      "INFO:tensorflow:Evaluation [433/1000]\n",
      "INFO:tensorflow:Evaluation [434/1000]\n",
      "INFO:tensorflow:Evaluation [435/1000]\n",
      "INFO:tensorflow:Evaluation [436/1000]\n",
      "INFO:tensorflow:Evaluation [437/1000]\n",
      "INFO:tensorflow:Evaluation [438/1000]\n",
      "INFO:tensorflow:Evaluation [439/1000]\n",
      "INFO:tensorflow:Evaluation [440/1000]\n",
      "INFO:tensorflow:Evaluation [441/1000]\n",
      "INFO:tensorflow:Evaluation [442/1000]\n",
      "INFO:tensorflow:Evaluation [443/1000]\n",
      "INFO:tensorflow:Evaluation [444/1000]\n",
      "INFO:tensorflow:Evaluation [445/1000]\n",
      "INFO:tensorflow:Evaluation [446/1000]\n",
      "INFO:tensorflow:Evaluation [447/1000]\n",
      "INFO:tensorflow:Evaluation [448/1000]\n",
      "INFO:tensorflow:Evaluation [449/1000]\n",
      "INFO:tensorflow:Evaluation [450/1000]\n",
      "INFO:tensorflow:Evaluation [451/1000]\n",
      "INFO:tensorflow:Evaluation [452/1000]\n",
      "INFO:tensorflow:Evaluation [453/1000]\n",
      "INFO:tensorflow:Evaluation [454/1000]\n",
      "INFO:tensorflow:Evaluation [455/1000]\n",
      "INFO:tensorflow:Evaluation [456/1000]\n",
      "INFO:tensorflow:Evaluation [457/1000]\n",
      "INFO:tensorflow:Evaluation [458/1000]\n",
      "INFO:tensorflow:Evaluation [459/1000]\n",
      "INFO:tensorflow:Evaluation [460/1000]\n",
      "INFO:tensorflow:Evaluation [461/1000]\n",
      "INFO:tensorflow:Evaluation [462/1000]\n",
      "INFO:tensorflow:Evaluation [463/1000]\n",
      "INFO:tensorflow:Evaluation [464/1000]\n",
      "INFO:tensorflow:Evaluation [465/1000]\n",
      "INFO:tensorflow:Evaluation [466/1000]\n",
      "INFO:tensorflow:Evaluation [467/1000]\n",
      "INFO:tensorflow:Evaluation [468/1000]\n",
      "INFO:tensorflow:Evaluation [469/1000]\n",
      "INFO:tensorflow:Evaluation [470/1000]\n",
      "INFO:tensorflow:Evaluation [471/1000]\n",
      "INFO:tensorflow:Evaluation [472/1000]\n",
      "INFO:tensorflow:Evaluation [473/1000]\n",
      "INFO:tensorflow:Evaluation [474/1000]\n",
      "INFO:tensorflow:Evaluation [475/1000]\n",
      "INFO:tensorflow:Evaluation [476/1000]\n",
      "INFO:tensorflow:Evaluation [477/1000]\n",
      "INFO:tensorflow:Evaluation [478/1000]\n",
      "INFO:tensorflow:Evaluation [479/1000]\n",
      "INFO:tensorflow:Evaluation [480/1000]\n",
      "INFO:tensorflow:Evaluation [481/1000]\n",
      "INFO:tensorflow:Evaluation [482/1000]\n",
      "INFO:tensorflow:Evaluation [483/1000]\n",
      "INFO:tensorflow:Evaluation [484/1000]\n",
      "INFO:tensorflow:Evaluation [485/1000]\n",
      "INFO:tensorflow:Evaluation [486/1000]\n",
      "INFO:tensorflow:Evaluation [487/1000]\n",
      "INFO:tensorflow:Evaluation [488/1000]\n",
      "INFO:tensorflow:Evaluation [489/1000]\n",
      "INFO:tensorflow:Evaluation [490/1000]\n",
      "INFO:tensorflow:Evaluation [491/1000]\n",
      "INFO:tensorflow:Evaluation [492/1000]\n",
      "INFO:tensorflow:Evaluation [493/1000]\n",
      "INFO:tensorflow:Evaluation [494/1000]\n",
      "INFO:tensorflow:Evaluation [495/1000]\n",
      "INFO:tensorflow:Evaluation [496/1000]\n",
      "INFO:tensorflow:Evaluation [497/1000]\n",
      "INFO:tensorflow:Evaluation [498/1000]\n",
      "INFO:tensorflow:Evaluation [499/1000]\n",
      "INFO:tensorflow:Evaluation [500/1000]\n",
      "INFO:tensorflow:Evaluation [501/1000]\n",
      "INFO:tensorflow:Evaluation [502/1000]\n",
      "INFO:tensorflow:Evaluation [503/1000]\n",
      "INFO:tensorflow:Evaluation [504/1000]\n",
      "INFO:tensorflow:Evaluation [505/1000]\n",
      "INFO:tensorflow:Evaluation [506/1000]\n",
      "INFO:tensorflow:Evaluation [507/1000]\n",
      "INFO:tensorflow:Evaluation [508/1000]\n",
      "INFO:tensorflow:Evaluation [509/1000]\n",
      "INFO:tensorflow:Evaluation [510/1000]\n",
      "INFO:tensorflow:Evaluation [511/1000]\n",
      "INFO:tensorflow:Evaluation [512/1000]\n",
      "INFO:tensorflow:Evaluation [513/1000]\n",
      "INFO:tensorflow:Evaluation [514/1000]\n",
      "INFO:tensorflow:Evaluation [515/1000]\n",
      "INFO:tensorflow:Evaluation [516/1000]\n",
      "INFO:tensorflow:Evaluation [517/1000]\n",
      "INFO:tensorflow:Evaluation [518/1000]\n",
      "INFO:tensorflow:Evaluation [519/1000]\n",
      "INFO:tensorflow:Evaluation [520/1000]\n",
      "INFO:tensorflow:Evaluation [521/1000]\n",
      "INFO:tensorflow:Evaluation [522/1000]\n",
      "INFO:tensorflow:Evaluation [523/1000]\n",
      "INFO:tensorflow:Evaluation [524/1000]\n",
      "INFO:tensorflow:Evaluation [525/1000]\n",
      "INFO:tensorflow:Evaluation [526/1000]\n",
      "INFO:tensorflow:Evaluation [527/1000]\n",
      "INFO:tensorflow:Evaluation [528/1000]\n",
      "INFO:tensorflow:Evaluation [529/1000]\n",
      "INFO:tensorflow:Evaluation [530/1000]\n",
      "INFO:tensorflow:Evaluation [531/1000]\n",
      "INFO:tensorflow:Evaluation [532/1000]\n",
      "INFO:tensorflow:Evaluation [533/1000]\n",
      "INFO:tensorflow:Evaluation [534/1000]\n",
      "INFO:tensorflow:Evaluation [535/1000]\n",
      "INFO:tensorflow:Evaluation [536/1000]\n",
      "INFO:tensorflow:Evaluation [537/1000]\n",
      "INFO:tensorflow:Evaluation [538/1000]\n",
      "INFO:tensorflow:Evaluation [539/1000]\n",
      "INFO:tensorflow:Evaluation [540/1000]\n",
      "INFO:tensorflow:Evaluation [541/1000]\n",
      "INFO:tensorflow:Evaluation [542/1000]\n",
      "INFO:tensorflow:Evaluation [543/1000]\n",
      "INFO:tensorflow:Evaluation [544/1000]\n",
      "INFO:tensorflow:Evaluation [545/1000]\n",
      "INFO:tensorflow:Evaluation [546/1000]\n",
      "INFO:tensorflow:Evaluation [547/1000]\n",
      "INFO:tensorflow:Evaluation [548/1000]\n",
      "INFO:tensorflow:Evaluation [549/1000]\n",
      "INFO:tensorflow:Evaluation [550/1000]\n",
      "INFO:tensorflow:Evaluation [551/1000]\n",
      "INFO:tensorflow:Evaluation [552/1000]\n",
      "INFO:tensorflow:Evaluation [553/1000]\n",
      "INFO:tensorflow:Evaluation [554/1000]\n",
      "INFO:tensorflow:Evaluation [555/1000]\n",
      "INFO:tensorflow:Evaluation [556/1000]\n",
      "INFO:tensorflow:Evaluation [557/1000]\n",
      "INFO:tensorflow:Evaluation [558/1000]\n",
      "INFO:tensorflow:Evaluation [559/1000]\n",
      "INFO:tensorflow:Evaluation [560/1000]\n",
      "INFO:tensorflow:Evaluation [561/1000]\n",
      "INFO:tensorflow:Evaluation [562/1000]\n",
      "INFO:tensorflow:Evaluation [563/1000]\n",
      "INFO:tensorflow:Evaluation [564/1000]\n",
      "INFO:tensorflow:Evaluation [565/1000]\n",
      "INFO:tensorflow:Evaluation [566/1000]\n",
      "INFO:tensorflow:Evaluation [567/1000]\n",
      "INFO:tensorflow:Evaluation [568/1000]\n",
      "INFO:tensorflow:Evaluation [569/1000]\n",
      "INFO:tensorflow:Evaluation [570/1000]\n",
      "INFO:tensorflow:Evaluation [571/1000]\n",
      "INFO:tensorflow:Evaluation [572/1000]\n",
      "INFO:tensorflow:Evaluation [573/1000]\n",
      "INFO:tensorflow:Evaluation [574/1000]\n",
      "INFO:tensorflow:Evaluation [575/1000]\n",
      "INFO:tensorflow:Evaluation [576/1000]\n",
      "INFO:tensorflow:Evaluation [577/1000]\n",
      "INFO:tensorflow:Evaluation [578/1000]\n",
      "INFO:tensorflow:Evaluation [579/1000]\n",
      "INFO:tensorflow:Evaluation [580/1000]\n",
      "INFO:tensorflow:Evaluation [581/1000]\n",
      "INFO:tensorflow:Evaluation [582/1000]\n",
      "INFO:tensorflow:Evaluation [583/1000]\n",
      "INFO:tensorflow:Evaluation [584/1000]\n",
      "INFO:tensorflow:Evaluation [585/1000]\n",
      "INFO:tensorflow:Evaluation [586/1000]\n",
      "INFO:tensorflow:Evaluation [587/1000]\n",
      "INFO:tensorflow:Evaluation [588/1000]\n",
      "INFO:tensorflow:Evaluation [589/1000]\n",
      "INFO:tensorflow:Evaluation [590/1000]\n",
      "INFO:tensorflow:Evaluation [591/1000]\n",
      "INFO:tensorflow:Evaluation [592/1000]\n",
      "INFO:tensorflow:Evaluation [593/1000]\n",
      "INFO:tensorflow:Evaluation [594/1000]\n",
      "INFO:tensorflow:Evaluation [595/1000]\n",
      "INFO:tensorflow:Evaluation [596/1000]\n",
      "INFO:tensorflow:Evaluation [597/1000]\n",
      "INFO:tensorflow:Evaluation [598/1000]\n",
      "INFO:tensorflow:Evaluation [599/1000]\n",
      "INFO:tensorflow:Evaluation [600/1000]\n",
      "INFO:tensorflow:Evaluation [601/1000]\n",
      "INFO:tensorflow:Evaluation [602/1000]\n",
      "INFO:tensorflow:Evaluation [603/1000]\n",
      "INFO:tensorflow:Evaluation [604/1000]\n",
      "INFO:tensorflow:Evaluation [605/1000]\n",
      "INFO:tensorflow:Evaluation [606/1000]\n",
      "INFO:tensorflow:Evaluation [607/1000]\n",
      "INFO:tensorflow:Evaluation [608/1000]\n",
      "INFO:tensorflow:Evaluation [609/1000]\n",
      "INFO:tensorflow:Evaluation [610/1000]\n",
      "INFO:tensorflow:Evaluation [611/1000]\n",
      "INFO:tensorflow:Evaluation [612/1000]\n",
      "INFO:tensorflow:Evaluation [613/1000]\n",
      "INFO:tensorflow:Evaluation [614/1000]\n",
      "INFO:tensorflow:Evaluation [615/1000]\n",
      "INFO:tensorflow:Evaluation [616/1000]\n",
      "INFO:tensorflow:Evaluation [617/1000]\n",
      "INFO:tensorflow:Evaluation [618/1000]\n",
      "INFO:tensorflow:Evaluation [619/1000]\n",
      "INFO:tensorflow:Evaluation [620/1000]\n",
      "INFO:tensorflow:Evaluation [621/1000]\n",
      "INFO:tensorflow:Evaluation [622/1000]\n",
      "INFO:tensorflow:Evaluation [623/1000]\n",
      "INFO:tensorflow:Evaluation [624/1000]\n",
      "INFO:tensorflow:Evaluation [625/1000]\n",
      "INFO:tensorflow:Evaluation [626/1000]\n",
      "INFO:tensorflow:Evaluation [627/1000]\n",
      "INFO:tensorflow:Evaluation [628/1000]\n",
      "INFO:tensorflow:Evaluation [629/1000]\n",
      "INFO:tensorflow:Evaluation [630/1000]\n",
      "INFO:tensorflow:Evaluation [631/1000]\n",
      "INFO:tensorflow:Evaluation [632/1000]\n",
      "INFO:tensorflow:Evaluation [633/1000]\n",
      "INFO:tensorflow:Evaluation [634/1000]\n",
      "INFO:tensorflow:Evaluation [635/1000]\n",
      "INFO:tensorflow:Evaluation [636/1000]\n",
      "INFO:tensorflow:Evaluation [637/1000]\n",
      "INFO:tensorflow:Evaluation [638/1000]\n",
      "INFO:tensorflow:Evaluation [639/1000]\n",
      "INFO:tensorflow:Evaluation [640/1000]\n",
      "INFO:tensorflow:Evaluation [641/1000]\n",
      "INFO:tensorflow:Evaluation [642/1000]\n",
      "INFO:tensorflow:Evaluation [643/1000]\n",
      "INFO:tensorflow:Evaluation [644/1000]\n",
      "INFO:tensorflow:Evaluation [645/1000]\n",
      "INFO:tensorflow:Evaluation [646/1000]\n",
      "INFO:tensorflow:Evaluation [647/1000]\n"
     ]
    },
    {
     "name": "stdout",
     "output_type": "stream",
     "text": [
      "INFO:tensorflow:Evaluation [648/1000]\n",
      "INFO:tensorflow:Evaluation [649/1000]\n",
      "INFO:tensorflow:Evaluation [650/1000]\n",
      "INFO:tensorflow:Evaluation [651/1000]\n",
      "INFO:tensorflow:Evaluation [652/1000]\n",
      "INFO:tensorflow:Evaluation [653/1000]\n",
      "INFO:tensorflow:Evaluation [654/1000]\n",
      "INFO:tensorflow:Evaluation [655/1000]\n",
      "INFO:tensorflow:Evaluation [656/1000]\n",
      "INFO:tensorflow:Evaluation [657/1000]\n",
      "INFO:tensorflow:Evaluation [658/1000]\n",
      "INFO:tensorflow:Evaluation [659/1000]\n",
      "INFO:tensorflow:Evaluation [660/1000]\n",
      "INFO:tensorflow:Evaluation [661/1000]\n",
      "INFO:tensorflow:Evaluation [662/1000]\n",
      "INFO:tensorflow:Evaluation [663/1000]\n",
      "INFO:tensorflow:Evaluation [664/1000]\n",
      "INFO:tensorflow:Evaluation [665/1000]\n",
      "INFO:tensorflow:Evaluation [666/1000]\n",
      "INFO:tensorflow:Evaluation [667/1000]\n",
      "INFO:tensorflow:Evaluation [668/1000]\n",
      "INFO:tensorflow:Evaluation [669/1000]\n",
      "INFO:tensorflow:Evaluation [670/1000]\n",
      "INFO:tensorflow:Evaluation [671/1000]\n",
      "INFO:tensorflow:Evaluation [672/1000]\n",
      "INFO:tensorflow:Evaluation [673/1000]\n",
      "INFO:tensorflow:Evaluation [674/1000]\n",
      "INFO:tensorflow:Evaluation [675/1000]\n",
      "INFO:tensorflow:Evaluation [676/1000]\n",
      "INFO:tensorflow:Evaluation [677/1000]\n",
      "INFO:tensorflow:Evaluation [678/1000]\n",
      "INFO:tensorflow:Evaluation [679/1000]\n",
      "INFO:tensorflow:Evaluation [680/1000]\n",
      "INFO:tensorflow:Evaluation [681/1000]\n",
      "INFO:tensorflow:Evaluation [682/1000]\n",
      "INFO:tensorflow:Evaluation [683/1000]\n",
      "INFO:tensorflow:Evaluation [684/1000]\n",
      "INFO:tensorflow:Evaluation [685/1000]\n",
      "INFO:tensorflow:Evaluation [686/1000]\n",
      "INFO:tensorflow:Evaluation [687/1000]\n",
      "INFO:tensorflow:Evaluation [688/1000]\n",
      "INFO:tensorflow:Evaluation [689/1000]\n",
      "INFO:tensorflow:Evaluation [690/1000]\n",
      "INFO:tensorflow:Evaluation [691/1000]\n",
      "INFO:tensorflow:Evaluation [692/1000]\n",
      "INFO:tensorflow:Evaluation [693/1000]\n",
      "INFO:tensorflow:Evaluation [694/1000]\n",
      "INFO:tensorflow:Evaluation [695/1000]\n",
      "INFO:tensorflow:Evaluation [696/1000]\n",
      "INFO:tensorflow:Evaluation [697/1000]\n",
      "INFO:tensorflow:Evaluation [698/1000]\n",
      "INFO:tensorflow:Evaluation [699/1000]\n",
      "INFO:tensorflow:Evaluation [700/1000]\n",
      "INFO:tensorflow:Evaluation [701/1000]\n",
      "INFO:tensorflow:Evaluation [702/1000]\n",
      "INFO:tensorflow:Evaluation [703/1000]\n",
      "INFO:tensorflow:Evaluation [704/1000]\n",
      "INFO:tensorflow:Evaluation [705/1000]\n",
      "INFO:tensorflow:Evaluation [706/1000]\n",
      "INFO:tensorflow:Evaluation [707/1000]\n",
      "INFO:tensorflow:Evaluation [708/1000]\n",
      "INFO:tensorflow:Evaluation [709/1000]\n",
      "INFO:tensorflow:Evaluation [710/1000]\n",
      "INFO:tensorflow:Evaluation [711/1000]\n",
      "INFO:tensorflow:Evaluation [712/1000]\n",
      "INFO:tensorflow:Evaluation [713/1000]\n",
      "INFO:tensorflow:Evaluation [714/1000]\n",
      "INFO:tensorflow:Evaluation [715/1000]\n",
      "INFO:tensorflow:Evaluation [716/1000]\n",
      "INFO:tensorflow:Evaluation [717/1000]\n",
      "INFO:tensorflow:Evaluation [718/1000]\n",
      "INFO:tensorflow:Evaluation [719/1000]\n",
      "INFO:tensorflow:Evaluation [720/1000]\n",
      "INFO:tensorflow:Evaluation [721/1000]\n",
      "INFO:tensorflow:Evaluation [722/1000]\n",
      "INFO:tensorflow:Evaluation [723/1000]\n",
      "INFO:tensorflow:Evaluation [724/1000]\n",
      "INFO:tensorflow:Evaluation [725/1000]\n",
      "INFO:tensorflow:Evaluation [726/1000]\n",
      "INFO:tensorflow:Evaluation [727/1000]\n",
      "INFO:tensorflow:Evaluation [728/1000]\n",
      "INFO:tensorflow:Evaluation [729/1000]\n",
      "INFO:tensorflow:Evaluation [730/1000]\n",
      "INFO:tensorflow:Evaluation [731/1000]\n",
      "INFO:tensorflow:Evaluation [732/1000]\n",
      "INFO:tensorflow:Evaluation [733/1000]\n",
      "INFO:tensorflow:Evaluation [734/1000]\n",
      "INFO:tensorflow:Evaluation [735/1000]\n",
      "INFO:tensorflow:Evaluation [736/1000]\n",
      "INFO:tensorflow:Evaluation [737/1000]\n",
      "INFO:tensorflow:Evaluation [738/1000]\n",
      "INFO:tensorflow:Evaluation [739/1000]\n",
      "INFO:tensorflow:Evaluation [740/1000]\n",
      "INFO:tensorflow:Evaluation [741/1000]\n",
      "INFO:tensorflow:Evaluation [742/1000]\n",
      "INFO:tensorflow:Evaluation [743/1000]\n",
      "INFO:tensorflow:Evaluation [744/1000]\n",
      "INFO:tensorflow:Evaluation [745/1000]\n",
      "INFO:tensorflow:Evaluation [746/1000]\n",
      "INFO:tensorflow:Evaluation [747/1000]\n",
      "INFO:tensorflow:Evaluation [748/1000]\n",
      "INFO:tensorflow:Evaluation [749/1000]\n",
      "INFO:tensorflow:Evaluation [750/1000]\n",
      "INFO:tensorflow:Evaluation [751/1000]\n",
      "INFO:tensorflow:Evaluation [752/1000]\n",
      "INFO:tensorflow:Evaluation [753/1000]\n",
      "INFO:tensorflow:Evaluation [754/1000]\n",
      "INFO:tensorflow:Evaluation [755/1000]\n",
      "INFO:tensorflow:Evaluation [756/1000]\n",
      "INFO:tensorflow:Evaluation [757/1000]\n",
      "INFO:tensorflow:Evaluation [758/1000]\n",
      "INFO:tensorflow:Evaluation [759/1000]\n",
      "INFO:tensorflow:Evaluation [760/1000]\n",
      "INFO:tensorflow:Evaluation [761/1000]\n",
      "INFO:tensorflow:Evaluation [762/1000]\n",
      "INFO:tensorflow:Evaluation [763/1000]\n",
      "INFO:tensorflow:Evaluation [764/1000]\n",
      "INFO:tensorflow:Evaluation [765/1000]\n",
      "INFO:tensorflow:Evaluation [766/1000]\n",
      "INFO:tensorflow:Evaluation [767/1000]\n",
      "INFO:tensorflow:Evaluation [768/1000]\n",
      "INFO:tensorflow:Evaluation [769/1000]\n",
      "INFO:tensorflow:Evaluation [770/1000]\n",
      "INFO:tensorflow:Evaluation [771/1000]\n",
      "INFO:tensorflow:Evaluation [772/1000]\n",
      "INFO:tensorflow:Evaluation [773/1000]\n",
      "INFO:tensorflow:Evaluation [774/1000]\n",
      "INFO:tensorflow:Evaluation [775/1000]\n",
      "INFO:tensorflow:Evaluation [776/1000]\n",
      "INFO:tensorflow:Evaluation [777/1000]\n",
      "INFO:tensorflow:Evaluation [778/1000]\n",
      "INFO:tensorflow:Evaluation [779/1000]\n",
      "INFO:tensorflow:Evaluation [780/1000]\n",
      "INFO:tensorflow:Evaluation [781/1000]\n",
      "INFO:tensorflow:Evaluation [782/1000]\n",
      "INFO:tensorflow:Evaluation [783/1000]\n",
      "INFO:tensorflow:Evaluation [784/1000]\n",
      "INFO:tensorflow:Evaluation [785/1000]\n",
      "INFO:tensorflow:Evaluation [786/1000]\n",
      "INFO:tensorflow:Evaluation [787/1000]\n",
      "INFO:tensorflow:Evaluation [788/1000]\n",
      "INFO:tensorflow:Evaluation [789/1000]\n",
      "INFO:tensorflow:Evaluation [790/1000]\n",
      "INFO:tensorflow:Evaluation [791/1000]\n",
      "INFO:tensorflow:Evaluation [792/1000]\n",
      "INFO:tensorflow:Evaluation [793/1000]\n",
      "INFO:tensorflow:Evaluation [794/1000]\n",
      "INFO:tensorflow:Evaluation [795/1000]\n",
      "INFO:tensorflow:Evaluation [796/1000]\n",
      "INFO:tensorflow:Evaluation [797/1000]\n",
      "INFO:tensorflow:Evaluation [798/1000]\n",
      "INFO:tensorflow:Evaluation [799/1000]\n",
      "INFO:tensorflow:Evaluation [800/1000]\n",
      "INFO:tensorflow:Evaluation [801/1000]\n",
      "INFO:tensorflow:Evaluation [802/1000]\n",
      "INFO:tensorflow:Evaluation [803/1000]\n",
      "INFO:tensorflow:Evaluation [804/1000]\n",
      "INFO:tensorflow:Evaluation [805/1000]\n",
      "INFO:tensorflow:Evaluation [806/1000]\n",
      "INFO:tensorflow:Evaluation [807/1000]\n",
      "INFO:tensorflow:Evaluation [808/1000]\n",
      "INFO:tensorflow:Evaluation [809/1000]\n",
      "INFO:tensorflow:Evaluation [810/1000]\n",
      "INFO:tensorflow:Evaluation [811/1000]\n",
      "INFO:tensorflow:Evaluation [812/1000]\n",
      "INFO:tensorflow:Evaluation [813/1000]\n",
      "INFO:tensorflow:Evaluation [814/1000]\n",
      "INFO:tensorflow:Evaluation [815/1000]\n",
      "INFO:tensorflow:Evaluation [816/1000]\n",
      "INFO:tensorflow:Evaluation [817/1000]\n",
      "INFO:tensorflow:Evaluation [818/1000]\n",
      "INFO:tensorflow:Evaluation [819/1000]\n",
      "INFO:tensorflow:Evaluation [820/1000]\n",
      "INFO:tensorflow:Evaluation [821/1000]\n",
      "INFO:tensorflow:Evaluation [822/1000]\n",
      "INFO:tensorflow:Evaluation [823/1000]\n",
      "INFO:tensorflow:Evaluation [824/1000]\n",
      "INFO:tensorflow:Evaluation [825/1000]\n",
      "INFO:tensorflow:Evaluation [826/1000]\n",
      "INFO:tensorflow:Evaluation [827/1000]\n",
      "INFO:tensorflow:Evaluation [828/1000]\n",
      "INFO:tensorflow:Evaluation [829/1000]\n",
      "INFO:tensorflow:Evaluation [830/1000]\n",
      "INFO:tensorflow:Evaluation [831/1000]\n",
      "INFO:tensorflow:Evaluation [832/1000]\n",
      "INFO:tensorflow:Evaluation [833/1000]\n",
      "INFO:tensorflow:Evaluation [834/1000]\n",
      "INFO:tensorflow:Evaluation [835/1000]\n",
      "INFO:tensorflow:Evaluation [836/1000]\n",
      "INFO:tensorflow:Evaluation [837/1000]\n",
      "INFO:tensorflow:Evaluation [838/1000]\n",
      "INFO:tensorflow:Evaluation [839/1000]\n",
      "INFO:tensorflow:Evaluation [840/1000]\n",
      "INFO:tensorflow:Evaluation [841/1000]\n",
      "INFO:tensorflow:Evaluation [842/1000]\n",
      "INFO:tensorflow:Evaluation [843/1000]\n",
      "INFO:tensorflow:Evaluation [844/1000]\n",
      "INFO:tensorflow:Evaluation [845/1000]\n",
      "INFO:tensorflow:Evaluation [846/1000]\n",
      "INFO:tensorflow:Evaluation [847/1000]\n",
      "INFO:tensorflow:Evaluation [848/1000]\n",
      "INFO:tensorflow:Evaluation [849/1000]\n",
      "INFO:tensorflow:Evaluation [850/1000]\n",
      "INFO:tensorflow:Evaluation [851/1000]\n",
      "INFO:tensorflow:Evaluation [852/1000]\n",
      "INFO:tensorflow:Evaluation [853/1000]\n",
      "INFO:tensorflow:Evaluation [854/1000]\n",
      "INFO:tensorflow:Evaluation [855/1000]\n",
      "INFO:tensorflow:Evaluation [856/1000]\n",
      "INFO:tensorflow:Evaluation [857/1000]\n",
      "INFO:tensorflow:Evaluation [858/1000]\n",
      "INFO:tensorflow:Evaluation [859/1000]\n",
      "INFO:tensorflow:Evaluation [860/1000]\n",
      "INFO:tensorflow:Evaluation [861/1000]\n",
      "INFO:tensorflow:Evaluation [862/1000]\n",
      "INFO:tensorflow:Evaluation [863/1000]\n"
     ]
    },
    {
     "name": "stdout",
     "output_type": "stream",
     "text": [
      "INFO:tensorflow:Evaluation [864/1000]\n",
      "INFO:tensorflow:Evaluation [865/1000]\n",
      "INFO:tensorflow:Evaluation [866/1000]\n",
      "INFO:tensorflow:Evaluation [867/1000]\n",
      "INFO:tensorflow:Evaluation [868/1000]\n",
      "INFO:tensorflow:Evaluation [869/1000]\n",
      "INFO:tensorflow:Evaluation [870/1000]\n",
      "INFO:tensorflow:Evaluation [871/1000]\n",
      "INFO:tensorflow:Evaluation [872/1000]\n",
      "INFO:tensorflow:Evaluation [873/1000]\n",
      "INFO:tensorflow:Evaluation [874/1000]\n",
      "INFO:tensorflow:Evaluation [875/1000]\n",
      "INFO:tensorflow:Evaluation [876/1000]\n",
      "INFO:tensorflow:Evaluation [877/1000]\n",
      "INFO:tensorflow:Evaluation [878/1000]\n",
      "INFO:tensorflow:Evaluation [879/1000]\n",
      "INFO:tensorflow:Evaluation [880/1000]\n",
      "INFO:tensorflow:Evaluation [881/1000]\n",
      "INFO:tensorflow:Evaluation [882/1000]\n",
      "INFO:tensorflow:Evaluation [883/1000]\n",
      "INFO:tensorflow:Evaluation [884/1000]\n",
      "INFO:tensorflow:Evaluation [885/1000]\n",
      "INFO:tensorflow:Evaluation [886/1000]\n",
      "INFO:tensorflow:Evaluation [887/1000]\n",
      "INFO:tensorflow:Evaluation [888/1000]\n",
      "INFO:tensorflow:Evaluation [889/1000]\n",
      "INFO:tensorflow:Evaluation [890/1000]\n",
      "INFO:tensorflow:Evaluation [891/1000]\n",
      "INFO:tensorflow:Evaluation [892/1000]\n",
      "INFO:tensorflow:Evaluation [893/1000]\n",
      "INFO:tensorflow:Evaluation [894/1000]\n",
      "INFO:tensorflow:Evaluation [895/1000]\n",
      "INFO:tensorflow:Evaluation [896/1000]\n",
      "INFO:tensorflow:Evaluation [897/1000]\n",
      "INFO:tensorflow:Evaluation [898/1000]\n",
      "INFO:tensorflow:Evaluation [899/1000]\n",
      "INFO:tensorflow:Evaluation [900/1000]\n",
      "INFO:tensorflow:Evaluation [901/1000]\n",
      "INFO:tensorflow:Evaluation [902/1000]\n",
      "INFO:tensorflow:Evaluation [903/1000]\n",
      "INFO:tensorflow:Evaluation [904/1000]\n",
      "INFO:tensorflow:Evaluation [905/1000]\n",
      "INFO:tensorflow:Evaluation [906/1000]\n",
      "INFO:tensorflow:Evaluation [907/1000]\n",
      "INFO:tensorflow:Evaluation [908/1000]\n",
      "INFO:tensorflow:Evaluation [909/1000]\n",
      "INFO:tensorflow:Evaluation [910/1000]\n",
      "INFO:tensorflow:Evaluation [911/1000]\n",
      "INFO:tensorflow:Evaluation [912/1000]\n",
      "INFO:tensorflow:Evaluation [913/1000]\n",
      "INFO:tensorflow:Evaluation [914/1000]\n",
      "INFO:tensorflow:Evaluation [915/1000]\n",
      "INFO:tensorflow:Evaluation [916/1000]\n",
      "INFO:tensorflow:Evaluation [917/1000]\n",
      "INFO:tensorflow:Evaluation [918/1000]\n",
      "INFO:tensorflow:Evaluation [919/1000]\n",
      "INFO:tensorflow:Evaluation [920/1000]\n",
      "INFO:tensorflow:Evaluation [921/1000]\n",
      "INFO:tensorflow:Evaluation [922/1000]\n",
      "INFO:tensorflow:Evaluation [923/1000]\n",
      "INFO:tensorflow:Evaluation [924/1000]\n",
      "INFO:tensorflow:Evaluation [925/1000]\n",
      "INFO:tensorflow:Evaluation [926/1000]\n",
      "INFO:tensorflow:Evaluation [927/1000]\n",
      "INFO:tensorflow:Evaluation [928/1000]\n",
      "INFO:tensorflow:Evaluation [929/1000]\n",
      "INFO:tensorflow:Evaluation [930/1000]\n",
      "INFO:tensorflow:Evaluation [931/1000]\n",
      "INFO:tensorflow:Evaluation [932/1000]\n",
      "INFO:tensorflow:Evaluation [933/1000]\n",
      "INFO:tensorflow:Evaluation [934/1000]\n",
      "INFO:tensorflow:Evaluation [935/1000]\n",
      "INFO:tensorflow:Evaluation [936/1000]\n",
      "INFO:tensorflow:Evaluation [937/1000]\n",
      "INFO:tensorflow:Evaluation [938/1000]\n",
      "INFO:tensorflow:Evaluation [939/1000]\n",
      "INFO:tensorflow:Evaluation [940/1000]\n",
      "INFO:tensorflow:Evaluation [941/1000]\n",
      "INFO:tensorflow:Evaluation [942/1000]\n",
      "INFO:tensorflow:Evaluation [943/1000]\n",
      "INFO:tensorflow:Evaluation [944/1000]\n",
      "INFO:tensorflow:Evaluation [945/1000]\n",
      "INFO:tensorflow:Evaluation [946/1000]\n",
      "INFO:tensorflow:Evaluation [947/1000]\n",
      "INFO:tensorflow:Evaluation [948/1000]\n",
      "INFO:tensorflow:Evaluation [949/1000]\n",
      "INFO:tensorflow:Evaluation [950/1000]\n",
      "INFO:tensorflow:Evaluation [951/1000]\n",
      "INFO:tensorflow:Evaluation [952/1000]\n",
      "INFO:tensorflow:Evaluation [953/1000]\n",
      "INFO:tensorflow:Evaluation [954/1000]\n",
      "INFO:tensorflow:Evaluation [955/1000]\n",
      "INFO:tensorflow:Evaluation [956/1000]\n",
      "INFO:tensorflow:Evaluation [957/1000]\n",
      "INFO:tensorflow:Evaluation [958/1000]\n",
      "INFO:tensorflow:Evaluation [959/1000]\n",
      "INFO:tensorflow:Evaluation [960/1000]\n",
      "INFO:tensorflow:Evaluation [961/1000]\n",
      "INFO:tensorflow:Evaluation [962/1000]\n",
      "INFO:tensorflow:Evaluation [963/1000]\n",
      "INFO:tensorflow:Evaluation [964/1000]\n",
      "INFO:tensorflow:Evaluation [965/1000]\n",
      "INFO:tensorflow:Evaluation [966/1000]\n",
      "INFO:tensorflow:Evaluation [967/1000]\n",
      "INFO:tensorflow:Evaluation [968/1000]\n",
      "INFO:tensorflow:Evaluation [969/1000]\n",
      "INFO:tensorflow:Evaluation [970/1000]\n",
      "INFO:tensorflow:Evaluation [971/1000]\n",
      "INFO:tensorflow:Evaluation [972/1000]\n",
      "INFO:tensorflow:Evaluation [973/1000]\n",
      "INFO:tensorflow:Evaluation [974/1000]\n",
      "INFO:tensorflow:Evaluation [975/1000]\n",
      "INFO:tensorflow:Evaluation [976/1000]\n",
      "INFO:tensorflow:Evaluation [977/1000]\n",
      "INFO:tensorflow:Evaluation [978/1000]\n",
      "INFO:tensorflow:Evaluation [979/1000]\n",
      "INFO:tensorflow:Evaluation [980/1000]\n",
      "INFO:tensorflow:Evaluation [981/1000]\n",
      "INFO:tensorflow:Evaluation [982/1000]\n",
      "INFO:tensorflow:Evaluation [983/1000]\n",
      "INFO:tensorflow:Evaluation [984/1000]\n",
      "INFO:tensorflow:Evaluation [985/1000]\n",
      "INFO:tensorflow:Evaluation [986/1000]\n",
      "INFO:tensorflow:Evaluation [987/1000]\n",
      "INFO:tensorflow:Evaluation [988/1000]\n",
      "INFO:tensorflow:Evaluation [989/1000]\n",
      "INFO:tensorflow:Evaluation [990/1000]\n",
      "INFO:tensorflow:Evaluation [991/1000]\n",
      "INFO:tensorflow:Evaluation [992/1000]\n",
      "INFO:tensorflow:Evaluation [993/1000]\n",
      "INFO:tensorflow:Evaluation [994/1000]\n",
      "INFO:tensorflow:Evaluation [995/1000]\n",
      "INFO:tensorflow:Evaluation [996/1000]\n",
      "INFO:tensorflow:Evaluation [997/1000]\n",
      "INFO:tensorflow:Evaluation [998/1000]\n",
      "INFO:tensorflow:Evaluation [999/1000]\n",
      "INFO:tensorflow:Evaluation [1000/1000]\n",
      "INFO:tensorflow:Finished evaluation at 2018-04-11-07:55:07\n",
      "INFO:tensorflow:Saving dict for global step 1000: average_loss = 1.04155, global_step = 1000, loss = 8.33244\n"
     ]
    }
   ],
   "source": [
    "eval_metrics = estimator.evaluate(input_fn=eval_input_func,steps=1000)"
   ]
  },
  {
   "cell_type": "code",
   "execution_count": 124,
   "metadata": {},
   "outputs": [
    {
     "name": "stdout",
     "output_type": "stream",
     "text": [
      "TRAINING DATA METRICS\n",
      "{'global_step': 1000, 'average_loss': 1.0691451, 'loss': 8.5531607}\n"
     ]
    }
   ],
   "source": [
    "print('TRAINING DATA METRICS')\n",
    "print(train_metrics)"
   ]
  },
  {
   "cell_type": "code",
   "execution_count": 125,
   "metadata": {},
   "outputs": [
    {
     "name": "stdout",
     "output_type": "stream",
     "text": [
      "EVAL METRICS\n",
      "{'global_step': 1000, 'average_loss': 1.0415549, 'loss': 8.3324394}\n"
     ]
    }
   ],
   "source": [
    "print('EVAL METRICS')\n",
    "print(eval_metrics)"
   ]
  },
  {
   "cell_type": "code",
   "execution_count": 126,
   "metadata": {
    "collapsed": true
   },
   "outputs": [],
   "source": [
    "brand_new_data = np.linspace(0,10,10)"
   ]
  },
  {
   "cell_type": "code",
   "execution_count": 127,
   "metadata": {},
   "outputs": [
    {
     "data": {
      "text/plain": [
       "array([  0.        ,   1.11111111,   2.22222222,   3.33333333,\n",
       "         4.44444444,   5.55555556,   6.66666667,   7.77777778,\n",
       "         8.88888889,  10.        ])"
      ]
     },
     "execution_count": 127,
     "metadata": {},
     "output_type": "execute_result"
    }
   ],
   "source": [
    "brand_new_data"
   ]
  },
  {
   "cell_type": "code",
   "execution_count": 128,
   "metadata": {
    "collapsed": true
   },
   "outputs": [],
   "source": [
    "input_fn_predict = tf.estimator.inputs.numpy_input_fn({'x':brand_new_data},\n",
    "                                                     shuffle=False)"
   ]
  },
  {
   "cell_type": "code",
   "execution_count": 129,
   "metadata": {},
   "outputs": [
    {
     "name": "stdout",
     "output_type": "stream",
     "text": [
      "INFO:tensorflow:Restoring parameters from /tmp/tmp8_l6te4u/model.ckpt-1000\n"
     ]
    },
    {
     "data": {
      "text/plain": [
       "[{'predictions': array([ 4.46291637], dtype=float32)},\n",
       " {'predictions': array([ 5.11691904], dtype=float32)},\n",
       " {'predictions': array([ 5.77092123], dtype=float32)},\n",
       " {'predictions': array([ 6.4249239], dtype=float32)},\n",
       " {'predictions': array([ 7.07892609], dtype=float32)},\n",
       " {'predictions': array([ 7.73292828], dtype=float32)},\n",
       " {'predictions': array([ 8.38693047], dtype=float32)},\n",
       " {'predictions': array([ 9.04093361], dtype=float32)},\n",
       " {'predictions': array([ 9.69493675], dtype=float32)},\n",
       " {'predictions': array([ 10.34893799], dtype=float32)}]"
      ]
     },
     "execution_count": 129,
     "metadata": {},
     "output_type": "execute_result"
    }
   ],
   "source": [
    "list(estimator.predict(input_fn=input_fn_predict))"
   ]
  },
  {
   "cell_type": "code",
   "execution_count": 130,
   "metadata": {},
   "outputs": [
    {
     "name": "stdout",
     "output_type": "stream",
     "text": [
      "INFO:tensorflow:Restoring parameters from /tmp/tmp8_l6te4u/model.ckpt-1000\n"
     ]
    }
   ],
   "source": [
    "predictions = []\n",
    "\n",
    "for pred in estimator.predict(input_fn=input_fn_predict):\n",
    "    predictions.append(pred['predictions'])"
   ]
  },
  {
   "cell_type": "code",
   "execution_count": 131,
   "metadata": {},
   "outputs": [
    {
     "data": {
      "text/plain": [
       "[array([ 4.46291637], dtype=float32),\n",
       " array([ 5.11691904], dtype=float32),\n",
       " array([ 5.77092123], dtype=float32),\n",
       " array([ 6.4249239], dtype=float32),\n",
       " array([ 7.07892609], dtype=float32),\n",
       " array([ 7.73292828], dtype=float32),\n",
       " array([ 8.38693047], dtype=float32),\n",
       " array([ 9.04093361], dtype=float32),\n",
       " array([ 9.69493675], dtype=float32),\n",
       " array([ 10.34893799], dtype=float32)]"
      ]
     },
     "execution_count": 131,
     "metadata": {},
     "output_type": "execute_result"
    }
   ],
   "source": [
    "predictions"
   ]
  },
  {
   "cell_type": "code",
   "execution_count": 132,
   "metadata": {},
   "outputs": [
    {
     "data": {
      "text/plain": [
       "[<matplotlib.lines.Line2D at 0x7f816e4a9320>]"
      ]
     },
     "execution_count": 132,
     "metadata": {},
     "output_type": "execute_result"
    },
    {
     "data": {
      "image/png": "[encoded data removed]",
      "text/plain": [
       "<matplotlib.figure.Figure at 0x7f816e4a99e8>"
      ]
     },
     "metadata": {},
     "output_type": "display_data"
    }
   ],
   "source": [
    "my_data.sample(n=250).plot(kind='scatter',x='X Data', y='Y')\n",
    "plt.plot(brand_new_data, predictions, 'r*')"
   ]
  },
  {
   "cell_type": "markdown",
   "metadata": {
    "collapsed": true
   },
   "source": [
    "# NN Classifier (diabetes dataset)\n"
   ]
  },
  {
   "cell_type": "code",
   "execution_count": 143,
   "metadata": {},
   "outputs": [],
   "source": [
    "diabetes = pd.read_csv('/home/wout/anaconda3/envs/tfdeeplearning/Tensorflow-Bootcamp-master/02-TensorFlow-Basics/pima-indians-diabetes.csv')"
   ]
  },
  {
   "cell_type": "code",
   "execution_count": 145,
   "metadata": {},
   "outputs": [
    {
     "data": {
      "text/html": [
       "<div>\n",
       "<style>\n",
       "    .dataframe thead tr:only-child th {\n",
       "        text-align: right;\n",
       "    }\n",
       "\n",
       "    .dataframe thead th {\n",
       "        text-align: left;\n",
       "    }\n",
       "\n",
       "    .dataframe tbody tr th {\n",
       "        vertical-align: top;\n",
       "    }\n",
       "</style>\n",
       "<table border=\"1\" class=\"dataframe\">\n",
       "  <thead>\n",
       "    <tr style=\"text-align: right;\">\n",
       "      <th></th>\n",
       "      <th>Number_pregnant</th>\n",
       "      <th>Glucose_concentration</th>\n",
       "      <th>Blood_pressure</th>\n",
       "      <th>Triceps</th>\n",
       "      <th>Insulin</th>\n",
       "      <th>BMI</th>\n",
       "      <th>Pedigree</th>\n",
       "      <th>Age</th>\n",
       "      <th>Class</th>\n",
       "      <th>Group</th>\n",
       "    </tr>\n",
       "  </thead>\n",
       "  <tbody>\n",
       "    <tr>\n",
       "      <th>0</th>\n",
       "      <td>6</td>\n",
       "      <td>0.743719</td>\n",
       "      <td>0.590164</td>\n",
       "      <td>0.353535</td>\n",
       "      <td>0.000000</td>\n",
       "      <td>0.500745</td>\n",
       "      <td>0.234415</td>\n",
       "      <td>50</td>\n",
       "      <td>1</td>\n",
       "      <td>B</td>\n",
       "    </tr>\n",
       "    <tr>\n",
       "      <th>1</th>\n",
       "      <td>1</td>\n",
       "      <td>0.427136</td>\n",
       "      <td>0.540984</td>\n",
       "      <td>0.292929</td>\n",
       "      <td>0.000000</td>\n",
       "      <td>0.396423</td>\n",
       "      <td>0.116567</td>\n",
       "      <td>31</td>\n",
       "      <td>0</td>\n",
       "      <td>C</td>\n",
       "    </tr>\n",
       "    <tr>\n",
       "      <th>2</th>\n",
       "      <td>8</td>\n",
       "      <td>0.919598</td>\n",
       "      <td>0.524590</td>\n",
       "      <td>0.000000</td>\n",
       "      <td>0.000000</td>\n",
       "      <td>0.347243</td>\n",
       "      <td>0.253629</td>\n",
       "      <td>32</td>\n",
       "      <td>1</td>\n",
       "      <td>B</td>\n",
       "    </tr>\n",
       "    <tr>\n",
       "      <th>3</th>\n",
       "      <td>1</td>\n",
       "      <td>0.447236</td>\n",
       "      <td>0.540984</td>\n",
       "      <td>0.232323</td>\n",
       "      <td>0.111111</td>\n",
       "      <td>0.418778</td>\n",
       "      <td>0.038002</td>\n",
       "      <td>21</td>\n",
       "      <td>0</td>\n",
       "      <td>B</td>\n",
       "    </tr>\n",
       "    <tr>\n",
       "      <th>4</th>\n",
       "      <td>0</td>\n",
       "      <td>0.688442</td>\n",
       "      <td>0.327869</td>\n",
       "      <td>0.353535</td>\n",
       "      <td>0.198582</td>\n",
       "      <td>0.642325</td>\n",
       "      <td>0.943638</td>\n",
       "      <td>33</td>\n",
       "      <td>1</td>\n",
       "      <td>C</td>\n",
       "    </tr>\n",
       "  </tbody>\n",
       "</table>\n",
       "</div>"
      ],
      "text/plain": [
       "   Number_pregnant  Glucose_concentration  Blood_pressure   Triceps   Insulin  \\\n",
       "0                6               0.743719        0.590164  0.353535  0.000000   \n",
       "1                1               0.427136        0.540984  0.292929  0.000000   \n",
       "2                8               0.919598        0.524590  0.000000  0.000000   \n",
       "3                1               0.447236        0.540984  0.232323  0.111111   \n",
       "4                0               0.688442        0.327869  0.353535  0.198582   \n",
       "\n",
       "        BMI  Pedigree  Age  Class Group  \n",
       "0  0.500745  0.234415   50      1     B  \n",
       "1  0.396423  0.116567   31      0     C  \n",
       "2  0.347243  0.253629   32      1     B  \n",
       "3  0.418778  0.038002   21      0     B  \n",
       "4  0.642325  0.943638   33      1     C  "
      ]
     },
     "execution_count": 145,
     "metadata": {},
     "output_type": "execute_result"
    }
   ],
   "source": [
    "diabetes.head()"
   ]
  },
  {
   "cell_type": "code",
   "execution_count": 146,
   "metadata": {},
   "outputs": [
    {
     "data": {
      "text/plain": [
       "Index(['Number_pregnant', 'Glucose_concentration', 'Blood_pressure', 'Triceps',\n",
       "       'Insulin', 'BMI', 'Pedigree', 'Age', 'Class', 'Group'],\n",
       "      dtype='object')"
      ]
     },
     "execution_count": 146,
     "metadata": {},
     "output_type": "execute_result"
    }
   ],
   "source": [
    "diabetes.columns"
   ]
  },
  {
   "cell_type": "code",
   "execution_count": 147,
   "metadata": {
    "collapsed": true
   },
   "outputs": [],
   "source": [
    "cols_to_norm = ['Number_pregnant', 'Glucose_concentration', 'Blood_pressure', 'Triceps',\n",
    "       'Insulin', 'BMI', 'Pedigree']"
   ]
  },
  {
   "cell_type": "code",
   "execution_count": 148,
   "metadata": {
    "collapsed": true
   },
   "outputs": [],
   "source": [
    "diabetes[cols_to_norm] = diabetes[cols_to_norm].apply(lambda x: (x-x.min()) / (x.max()-x.min() ))"
   ]
  },
  {
   "cell_type": "code",
   "execution_count": 149,
   "metadata": {},
   "outputs": [
    {
     "data": {
      "text/html": [
       "<div>\n",
       "<style>\n",
       "    .dataframe thead tr:only-child th {\n",
       "        text-align: right;\n",
       "    }\n",
       "\n",
       "    .dataframe thead th {\n",
       "        text-align: left;\n",
       "    }\n",
       "\n",
       "    .dataframe tbody tr th {\n",
       "        vertical-align: top;\n",
       "    }\n",
       "</style>\n",
       "<table border=\"1\" class=\"dataframe\">\n",
       "  <thead>\n",
       "    <tr style=\"text-align: right;\">\n",
       "      <th></th>\n",
       "      <th>Number_pregnant</th>\n",
       "      <th>Glucose_concentration</th>\n",
       "      <th>Blood_pressure</th>\n",
       "      <th>Triceps</th>\n",
       "      <th>Insulin</th>\n",
       "      <th>BMI</th>\n",
       "      <th>Pedigree</th>\n",
       "      <th>Age</th>\n",
       "      <th>Class</th>\n",
       "      <th>Group</th>\n",
       "    </tr>\n",
       "  </thead>\n",
       "  <tbody>\n",
       "    <tr>\n",
       "      <th>0</th>\n",
       "      <td>0.352941</td>\n",
       "      <td>0.743719</td>\n",
       "      <td>0.590164</td>\n",
       "      <td>0.353535</td>\n",
       "      <td>0.000000</td>\n",
       "      <td>0.500745</td>\n",
       "      <td>0.234415</td>\n",
       "      <td>50</td>\n",
       "      <td>1</td>\n",
       "      <td>B</td>\n",
       "    </tr>\n",
       "    <tr>\n",
       "      <th>1</th>\n",
       "      <td>0.058824</td>\n",
       "      <td>0.427136</td>\n",
       "      <td>0.540984</td>\n",
       "      <td>0.292929</td>\n",
       "      <td>0.000000</td>\n",
       "      <td>0.396423</td>\n",
       "      <td>0.116567</td>\n",
       "      <td>31</td>\n",
       "      <td>0</td>\n",
       "      <td>C</td>\n",
       "    </tr>\n",
       "    <tr>\n",
       "      <th>2</th>\n",
       "      <td>0.470588</td>\n",
       "      <td>0.919598</td>\n",
       "      <td>0.524590</td>\n",
       "      <td>0.000000</td>\n",
       "      <td>0.000000</td>\n",
       "      <td>0.347243</td>\n",
       "      <td>0.253629</td>\n",
       "      <td>32</td>\n",
       "      <td>1</td>\n",
       "      <td>B</td>\n",
       "    </tr>\n",
       "    <tr>\n",
       "      <th>3</th>\n",
       "      <td>0.058824</td>\n",
       "      <td>0.447236</td>\n",
       "      <td>0.540984</td>\n",
       "      <td>0.232323</td>\n",
       "      <td>0.111111</td>\n",
       "      <td>0.418778</td>\n",
       "      <td>0.038002</td>\n",
       "      <td>21</td>\n",
       "      <td>0</td>\n",
       "      <td>B</td>\n",
       "    </tr>\n",
       "    <tr>\n",
       "      <th>4</th>\n",
       "      <td>0.000000</td>\n",
       "      <td>0.688442</td>\n",
       "      <td>0.327869</td>\n",
       "      <td>0.353535</td>\n",
       "      <td>0.198582</td>\n",
       "      <td>0.642325</td>\n",
       "      <td>0.943638</td>\n",
       "      <td>33</td>\n",
       "      <td>1</td>\n",
       "      <td>C</td>\n",
       "    </tr>\n",
       "  </tbody>\n",
       "</table>\n",
       "</div>"
      ],
      "text/plain": [
       "   Number_pregnant  Glucose_concentration  Blood_pressure   Triceps   Insulin  \\\n",
       "0         0.352941               0.743719        0.590164  0.353535  0.000000   \n",
       "1         0.058824               0.427136        0.540984  0.292929  0.000000   \n",
       "2         0.470588               0.919598        0.524590  0.000000  0.000000   \n",
       "3         0.058824               0.447236        0.540984  0.232323  0.111111   \n",
       "4         0.000000               0.688442        0.327869  0.353535  0.198582   \n",
       "\n",
       "        BMI  Pedigree  Age  Class Group  \n",
       "0  0.500745  0.234415   50      1     B  \n",
       "1  0.396423  0.116567   31      0     C  \n",
       "2  0.347243  0.253629   32      1     B  \n",
       "3  0.418778  0.038002   21      0     B  \n",
       "4  0.642325  0.943638   33      1     C  "
      ]
     },
     "execution_count": 149,
     "metadata": {},
     "output_type": "execute_result"
    }
   ],
   "source": [
    "diabetes.head()"
   ]
  },
  {
   "cell_type": "code",
   "execution_count": 151,
   "metadata": {},
   "outputs": [
    {
     "data": {
      "text/plain": [
       "Index(['Number_pregnant', 'Glucose_concentration', 'Blood_pressure', 'Triceps',\n",
       "       'Insulin', 'BMI', 'Pedigree', 'Age', 'Class', 'Group'],\n",
       "      dtype='object')"
      ]
     },
     "execution_count": 151,
     "metadata": {},
     "output_type": "execute_result"
    }
   ],
   "source": [
    "diabetes.columns"
   ]
  },
  {
   "cell_type": "code",
   "execution_count": 152,
   "metadata": {
    "collapsed": true
   },
   "outputs": [],
   "source": [
    "num_preg = tf.feature_column.numeric_column('Number_pregnant')\n",
    "plasma_gluc = tf.feature_column.numeric_column('Glucose_concentration')\n",
    "dias_press = tf.feature_column.numeric_column('Blood_pressure')\n",
    "tricep = tf.feature_column.numeric_column('Triceps')\n",
    "insulin = tf.feature_column.numeric_column('Insulin')\n",
    "bmi = tf.feature_column.numeric_column('BMI')\n",
    "diabetes_pedigree = tf.feature_column.numeric_column('Pedigree')\n",
    "age = tf.feature_column.numeric_column('Age')"
   ]
  },
  {
   "cell_type": "code",
   "execution_count": 153,
   "metadata": {
    "collapsed": true
   },
   "outputs": [],
   "source": [
    "assigned_group = tf.feature_column.categorical_column_with_vocabulary_list('Group', ['A', 'B', 'C', 'D'])"
   ]
  },
  {
   "cell_type": "code",
   "execution_count": null,
   "metadata": {
    "collapsed": true
   },
   "outputs": [],
   "source": [
    "#assigned_group = tf.feature_column.categorical_column_with_hash_bucket('Group', hash_bucket_size=10)"
   ]
  },
  {
   "cell_type": "code",
   "execution_count": 154,
   "metadata": {},
   "outputs": [
    {
     "data": {
      "text/plain": [
       "<module 'matplotlib.pyplot' from '/home/wout/anaconda3/envs/tfdeeplearning/lib/python3.5/site-packages/matplotlib/pyplot.py'>"
      ]
     },
     "execution_count": 154,
     "metadata": {},
     "output_type": "execute_result"
    }
   ],
   "source": [
    "plt"
   ]
  },
  {
   "cell_type": "code",
   "execution_count": 155,
   "metadata": {},
   "outputs": [
    {
     "data": {
      "text/plain": [
       "<matplotlib.axes._subplots.AxesSubplot at 0x7f815f6dbf60>"
      ]
     },
     "execution_count": 155,
     "metadata": {},
     "output_type": "execute_result"
    },
    {
     "data": {
      "image/png": "[encoded data removed]",
      "text/plain": [
       "<matplotlib.figure.Figure at 0x7f815fa65b38>"
      ]
     },
     "metadata": {},
     "output_type": "display_data"
    }
   ],
   "source": [
    "diabetes['Age'].hist(bins=20)"
   ]
  },
  {
   "cell_type": "code",
   "execution_count": 158,
   "metadata": {
    "collapsed": true
   },
   "outputs": [],
   "source": [
    "age_buckets = tf.feature_column.bucketized_column(age,boundaries=[20,30,40,50,60,70,80])"
   ]
  },
  {
   "cell_type": "code",
   "execution_count": 159,
   "metadata": {},
   "outputs": [],
   "source": [
    "feat_cols = [num_preg ,plasma_gluc,dias_press ,tricep ,insulin,bmi,diabetes_pedigree ,assigned_group, age_buckets]"
   ]
  },
  {
   "cell_type": "markdown",
   "metadata": {},
   "source": [
    "TRAIN TEST SPLT"
   ]
  },
  {
   "cell_type": "code",
   "execution_count": 160,
   "metadata": {
    "collapsed": true
   },
   "outputs": [],
   "source": [
    "x_data = diabetes.drop('Class',axis=1)"
   ]
  },
  {
   "cell_type": "code",
   "execution_count": 162,
   "metadata": {},
   "outputs": [
    {
     "data": {
      "text/html": [
       "<div>\n",
       "<style>\n",
       "    .dataframe thead tr:only-child th {\n",
       "        text-align: right;\n",
       "    }\n",
       "\n",
       "    .dataframe thead th {\n",
       "        text-align: left;\n",
       "    }\n",
       "\n",
       "    .dataframe tbody tr th {\n",
       "        vertical-align: top;\n",
       "    }\n",
       "</style>\n",
       "<table border=\"1\" class=\"dataframe\">\n",
       "  <thead>\n",
       "    <tr style=\"text-align: right;\">\n",
       "      <th></th>\n",
       "      <th>Number_pregnant</th>\n",
       "      <th>Glucose_concentration</th>\n",
       "      <th>Blood_pressure</th>\n",
       "      <th>Triceps</th>\n",
       "      <th>Insulin</th>\n",
       "      <th>BMI</th>\n",
       "      <th>Pedigree</th>\n",
       "      <th>Age</th>\n",
       "      <th>Group</th>\n",
       "    </tr>\n",
       "  </thead>\n",
       "  <tbody>\n",
       "    <tr>\n",
       "      <th>0</th>\n",
       "      <td>0.352941</td>\n",
       "      <td>0.743719</td>\n",
       "      <td>0.590164</td>\n",
       "      <td>0.353535</td>\n",
       "      <td>0.000000</td>\n",
       "      <td>0.500745</td>\n",
       "      <td>0.234415</td>\n",
       "      <td>50</td>\n",
       "      <td>B</td>\n",
       "    </tr>\n",
       "    <tr>\n",
       "      <th>1</th>\n",
       "      <td>0.058824</td>\n",
       "      <td>0.427136</td>\n",
       "      <td>0.540984</td>\n",
       "      <td>0.292929</td>\n",
       "      <td>0.000000</td>\n",
       "      <td>0.396423</td>\n",
       "      <td>0.116567</td>\n",
       "      <td>31</td>\n",
       "      <td>C</td>\n",
       "    </tr>\n",
       "    <tr>\n",
       "      <th>2</th>\n",
       "      <td>0.470588</td>\n",
       "      <td>0.919598</td>\n",
       "      <td>0.524590</td>\n",
       "      <td>0.000000</td>\n",
       "      <td>0.000000</td>\n",
       "      <td>0.347243</td>\n",
       "      <td>0.253629</td>\n",
       "      <td>32</td>\n",
       "      <td>B</td>\n",
       "    </tr>\n",
       "    <tr>\n",
       "      <th>3</th>\n",
       "      <td>0.058824</td>\n",
       "      <td>0.447236</td>\n",
       "      <td>0.540984</td>\n",
       "      <td>0.232323</td>\n",
       "      <td>0.111111</td>\n",
       "      <td>0.418778</td>\n",
       "      <td>0.038002</td>\n",
       "      <td>21</td>\n",
       "      <td>B</td>\n",
       "    </tr>\n",
       "    <tr>\n",
       "      <th>4</th>\n",
       "      <td>0.000000</td>\n",
       "      <td>0.688442</td>\n",
       "      <td>0.327869</td>\n",
       "      <td>0.353535</td>\n",
       "      <td>0.198582</td>\n",
       "      <td>0.642325</td>\n",
       "      <td>0.943638</td>\n",
       "      <td>33</td>\n",
       "      <td>C</td>\n",
       "    </tr>\n",
       "  </tbody>\n",
       "</table>\n",
       "</div>"
      ],
      "text/plain": [
       "   Number_pregnant  Glucose_concentration  Blood_pressure   Triceps   Insulin  \\\n",
       "0         0.352941               0.743719        0.590164  0.353535  0.000000   \n",
       "1         0.058824               0.427136        0.540984  0.292929  0.000000   \n",
       "2         0.470588               0.919598        0.524590  0.000000  0.000000   \n",
       "3         0.058824               0.447236        0.540984  0.232323  0.111111   \n",
       "4         0.000000               0.688442        0.327869  0.353535  0.198582   \n",
       "\n",
       "        BMI  Pedigree  Age Group  \n",
       "0  0.500745  0.234415   50     B  \n",
       "1  0.396423  0.116567   31     C  \n",
       "2  0.347243  0.253629   32     B  \n",
       "3  0.418778  0.038002   21     B  \n",
       "4  0.642325  0.943638   33     C  "
      ]
     },
     "execution_count": 162,
     "metadata": {},
     "output_type": "execute_result"
    }
   ],
   "source": [
    "x_data.head()"
   ]
  },
  {
   "cell_type": "code",
   "execution_count": 163,
   "metadata": {
    "collapsed": true
   },
   "outputs": [],
   "source": [
    "labels = diabetes['Class']"
   ]
  },
  {
   "cell_type": "code",
   "execution_count": 165,
   "metadata": {},
   "outputs": [
    {
     "data": {
      "text/plain": [
       "0    1\n",
       "1    0\n",
       "2    1\n",
       "3    0\n",
       "4    1\n",
       "Name: Class, dtype: int64"
      ]
     },
     "execution_count": 165,
     "metadata": {},
     "output_type": "execute_result"
    }
   ],
   "source": [
    "labels.head()"
   ]
  },
  {
   "cell_type": "code",
   "execution_count": 166,
   "metadata": {
    "collapsed": true
   },
   "outputs": [],
   "source": [
    "#X_train, X_test, y_train, y_test = train_test_split(x_data, labels, test_size=0.3, random_state=101)"
   ]
  },
  {
   "cell_type": "code",
   "execution_count": 168,
   "metadata": {},
   "outputs": [],
   "source": [
    "input_func = tf.estimator.inputs.pandas_input_fn(x=X_train, y=y_train, batch_size=10, num_epochs=1000,shuffle=True)"
   ]
  },
  {
   "cell_type": "code",
   "execution_count": 169,
   "metadata": {},
   "outputs": [
    {
     "name": "stdout",
     "output_type": "stream",
     "text": [
      "INFO:tensorflow:Using default config.\n",
      "WARNING:tensorflow:Using temporary folder as model directory: /tmp/tmp4s0940dp\n",
      "INFO:tensorflow:Using config: {'_save_summary_steps': 100, '_tf_random_seed': 1, '_keep_checkpoint_max': 5, '_model_dir': '/tmp/tmp4s0940dp', '_save_checkpoints_secs': 600, '_save_checkpoints_steps': None, '_keep_checkpoint_every_n_hours': 10000, '_session_config': None, '_log_step_count_steps': 100}\n"
     ]
    }
   ],
   "source": [
    "model = tf.estimator.LinearClassifier(feature_columns=feat_cols, n_classes=2)"
   ]
  },
  {
   "cell_type": "code",
   "execution_count": 170,
   "metadata": {},
   "outputs": [
    {
     "name": "stdout",
     "output_type": "stream",
     "text": [
      "INFO:tensorflow:Create CheckpointSaverHook.\n",
      "INFO:tensorflow:Saving checkpoints for 1 into /tmp/tmp4s0940dp/model.ckpt.\n",
      "INFO:tensorflow:step = 1, loss = 6.93147\n",
      "INFO:tensorflow:global_step/sec: 294.081\n",
      "INFO:tensorflow:step = 101, loss = 5.08969 (0.345 sec)\n",
      "INFO:tensorflow:global_step/sec: 338.082\n",
      "INFO:tensorflow:step = 201, loss = 5.47341 (0.295 sec)\n",
      "INFO:tensorflow:global_step/sec: 304.193\n",
      "INFO:tensorflow:step = 301, loss = 5.84483 (0.328 sec)\n",
      "INFO:tensorflow:global_step/sec: 374.874\n",
      "INFO:tensorflow:step = 401, loss = 5.8924 (0.267 sec)\n",
      "INFO:tensorflow:global_step/sec: 376.726\n",
      "INFO:tensorflow:step = 501, loss = 7.1337 (0.266 sec)\n",
      "INFO:tensorflow:global_step/sec: 369.182\n",
      "INFO:tensorflow:step = 601, loss = 4.24268 (0.270 sec)\n",
      "INFO:tensorflow:global_step/sec: 412.235\n",
      "INFO:tensorflow:step = 701, loss = 3.56664 (0.246 sec)\n",
      "INFO:tensorflow:global_step/sec: 339.679\n",
      "INFO:tensorflow:step = 801, loss = 4.79603 (0.291 sec)\n",
      "INFO:tensorflow:global_step/sec: 308.294\n",
      "INFO:tensorflow:step = 901, loss = 4.95561 (0.323 sec)\n",
      "INFO:tensorflow:Saving checkpoints for 1000 into /tmp/tmp4s0940dp/model.ckpt.\n",
      "INFO:tensorflow:Loss for final step: 6.20336.\n"
     ]
    },
    {
     "data": {
      "text/plain": [
       "<tensorflow.python.estimator.canned.linear.LinearClassifier at 0x7f816ccbabe0>"
      ]
     },
     "execution_count": 170,
     "metadata": {},
     "output_type": "execute_result"
    }
   ],
   "source": [
    "model.train(input_fn=input_func, steps=1000)"
   ]
  },
  {
   "cell_type": "code",
   "execution_count": 171,
   "metadata": {
    "collapsed": true
   },
   "outputs": [],
   "source": [
    "eval_input_func = tf.estimator.inputs.pandas_input_fn(x=X_test,y=y_test,batch_size=10,num_epochs=1,shuffle=False)"
   ]
  },
  {
   "cell_type": "code",
   "execution_count": 172,
   "metadata": {},
   "outputs": [
    {
     "name": "stdout",
     "output_type": "stream",
     "text": [
      "WARNING:tensorflow:Casting <dtype: 'float32'> labels to bool.\n",
      "WARNING:tensorflow:Casting <dtype: 'float32'> labels to bool.\n",
      "INFO:tensorflow:Starting evaluation at 2018-04-11-08:47:38\n",
      "INFO:tensorflow:Restoring parameters from /tmp/tmp4s0940dp/model.ckpt-1000\n",
      "INFO:tensorflow:Finished evaluation at 2018-04-11-08:47:38\n",
      "INFO:tensorflow:Saving dict for global step 1000: accuracy = 0.735931, accuracy_baseline = 0.649351, auc = 0.802963, auc_precision_recall = 0.653614, average_loss = 0.523433, global_step = 1000, label/mean = 0.350649, loss = 5.03804, prediction/mean = 0.367805\n"
     ]
    }
   ],
   "source": [
    "results = model.evaluate(eval_input_func)"
   ]
  },
  {
   "cell_type": "code",
   "execution_count": 173,
   "metadata": {},
   "outputs": [
    {
     "data": {
      "text/plain": [
       "{'accuracy': 0.73593074,\n",
       " 'accuracy_baseline': 0.64935064,\n",
       " 'auc': 0.80296296,\n",
       " 'auc_precision_recall': 0.65361446,\n",
       " 'average_loss': 0.52343273,\n",
       " 'global_step': 1000,\n",
       " 'label/mean': 0.35064936,\n",
       " 'loss': 5.0380397,\n",
       " 'prediction/mean': 0.36780548}"
      ]
     },
     "execution_count": 173,
     "metadata": {},
     "output_type": "execute_result"
    }
   ],
   "source": [
    "results"
   ]
  },
  {
   "cell_type": "code",
   "execution_count": 174,
   "metadata": {
    "collapsed": true
   },
   "outputs": [],
   "source": [
    "pred_input_func = tf.estimator.inputs.pandas_input_fn(x=X_test,\n",
    "                                                     batch_size=10,\n",
    "                                                     num_epochs=1,\n",
    "                                                     shuffle=False)"
   ]
  },
  {
   "cell_type": "code",
   "execution_count": 175,
   "metadata": {
    "collapsed": true
   },
   "outputs": [],
   "source": [
    "predictions = model.predict(pred_input_func)"
   ]
  },
  {
   "cell_type": "code",
   "execution_count": 176,
   "metadata": {},
   "outputs": [
    {
     "name": "stdout",
     "output_type": "stream",
     "text": [
      "INFO:tensorflow:Restoring parameters from /tmp/tmp4s0940dp/model.ckpt-1000\n"
     ]
    }
   ],
   "source": [
    "my_pred = list(predictions)"
   ]
  },
  {
   "cell_type": "code",
   "execution_count": 177,
   "metadata": {},
   "outputs": [
    {
     "data": {
      "text/plain": [
       "[{'class_ids': array([1]),\n",
       "  'classes': array([b'1'], dtype=object),\n",
       "  'logistic': array([ 0.54566395], dtype=float32),\n",
       "  'logits': array([ 0.18316638], dtype=float32),\n",
       "  'probabilities': array([ 0.45433596,  0.54566395], dtype=float32)},\n",
       " {'class_ids': array([1]),\n",
       "  'classes': array([b'1'], dtype=object),\n",
       "  'logistic': array([ 0.64957607], dtype=float32),\n",
       "  'logits': array([ 0.61717641], dtype=float32),\n",
       "  'probabilities': array([ 0.3504239 ,  0.64957607], dtype=float32)},\n",
       " {'class_ids': array([0]),\n",
       "  'classes': array([b'0'], dtype=object),\n",
       "  'logistic': array([ 0.38041055], dtype=float32),\n",
       "  'logits': array([-0.48780602], dtype=float32),\n",
       "  'probabilities': array([ 0.61958945,  0.38041055], dtype=float32)},\n",
       " {'class_ids': array([0]),\n",
       "  'classes': array([b'0'], dtype=object),\n",
       "  'logistic': array([ 0.32973933], dtype=float32),\n",
       "  'logits': array([-0.7093643], dtype=float32),\n",
       "  'probabilities': array([ 0.67026067,  0.3297393 ], dtype=float32)},\n",
       " {'class_ids': array([0]),\n",
       "  'classes': array([b'0'], dtype=object),\n",
       "  'logistic': array([ 0.14501543], dtype=float32),\n",
       "  'logits': array([-1.77424324], dtype=float32),\n",
       "  'probabilities': array([ 0.85498464,  0.14501545], dtype=float32)},\n",
       " {'class_ids': array([1]),\n",
       "  'classes': array([b'1'], dtype=object),\n",
       "  'logistic': array([ 0.68570197], dtype=float32),\n",
       "  'logits': array([ 0.78010142], dtype=float32),\n",
       "  'probabilities': array([ 0.31429803,  0.68570197], dtype=float32)},\n",
       " {'class_ids': array([1]),\n",
       "  'classes': array([b'1'], dtype=object),\n",
       "  'logistic': array([ 0.61841065], dtype=float32),\n",
       "  'logits': array([ 0.48280776], dtype=float32),\n",
       "  'probabilities': array([ 0.38158932,  0.61841065], dtype=float32)},\n",
       " {'class_ids': array([0]),\n",
       "  'classes': array([b'0'], dtype=object),\n",
       "  'logistic': array([ 0.34685686], dtype=float32),\n",
       "  'logits': array([-0.63288426], dtype=float32),\n",
       "  'probabilities': array([ 0.65314317,  0.34685683], dtype=float32)},\n",
       " {'class_ids': array([0]),\n",
       "  'classes': array([b'0'], dtype=object),\n",
       "  'logistic': array([ 0.23369943], dtype=float32),\n",
       "  'logits': array([-1.18753874], dtype=float32),\n",
       "  'probabilities': array([ 0.76630056,  0.23369941], dtype=float32)},\n",
       " {'class_ids': array([0]),\n",
       "  'classes': array([b'0'], dtype=object),\n",
       "  'logistic': array([ 0.26927537], dtype=float32),\n",
       "  'logits': array([-0.99830222], dtype=float32),\n",
       "  'probabilities': array([ 0.73072463,  0.26927537], dtype=float32)},\n",
       " {'class_ids': array([0]),\n",
       "  'classes': array([b'0'], dtype=object),\n",
       "  'logistic': array([ 0.12763968], dtype=float32),\n",
       "  'logits': array([-1.92199123], dtype=float32),\n",
       "  'probabilities': array([ 0.87236029,  0.12763968], dtype=float32)},\n",
       " {'class_ids': array([0]),\n",
       "  'classes': array([b'0'], dtype=object),\n",
       "  'logistic': array([ 0.15259725], dtype=float32),\n",
       "  'logits': array([-1.71437395], dtype=float32),\n",
       "  'probabilities': array([ 0.84740281,  0.15259726], dtype=float32)},\n",
       " {'class_ids': array([0]),\n",
       "  'classes': array([b'0'], dtype=object),\n",
       "  'logistic': array([ 0.30524942], dtype=float32),\n",
       "  'logits': array([-0.82242358], dtype=float32),\n",
       "  'probabilities': array([ 0.69475055,  0.30524945], dtype=float32)},\n",
       " {'class_ids': array([1]),\n",
       "  'classes': array([b'1'], dtype=object),\n",
       "  'logistic': array([ 0.57555622], dtype=float32),\n",
       "  'logits': array([ 0.30455756], dtype=float32),\n",
       "  'probabilities': array([ 0.42444369,  0.57555622], dtype=float32)},\n",
       " {'class_ids': array([0]),\n",
       "  'classes': array([b'0'], dtype=object),\n",
       "  'logistic': array([ 0.17308226], dtype=float32),\n",
       "  'logits': array([-1.56393814], dtype=float32),\n",
       "  'probabilities': array([ 0.82691771,  0.17308226], dtype=float32)},\n",
       " {'class_ids': array([0]),\n",
       "  'classes': array([b'0'], dtype=object),\n",
       "  'logistic': array([ 0.32256624], dtype=float32),\n",
       "  'logits': array([-0.74200326], dtype=float32),\n",
       "  'probabilities': array([ 0.67743373,  0.32256624], dtype=float32)},\n",
       " {'class_ids': array([0]),\n",
       "  'classes': array([b'0'], dtype=object),\n",
       "  'logistic': array([ 0.35799211], dtype=float32),\n",
       "  'logits': array([-0.58408964], dtype=float32),\n",
       "  'probabilities': array([ 0.64200789,  0.35799211], dtype=float32)},\n",
       " {'class_ids': array([0]),\n",
       "  'classes': array([b'0'], dtype=object),\n",
       "  'logistic': array([ 0.1264118], dtype=float32),\n",
       "  'logits': array([-1.93306434], dtype=float32),\n",
       "  'probabilities': array([ 0.8735882,  0.1264118], dtype=float32)},\n",
       " {'class_ids': array([0]),\n",
       "  'classes': array([b'0'], dtype=object),\n",
       "  'logistic': array([ 0.37465051], dtype=float32),\n",
       "  'logits': array([-0.512317], dtype=float32),\n",
       "  'probabilities': array([ 0.62534946,  0.37465051], dtype=float32)},\n",
       " {'class_ids': array([0]),\n",
       "  'classes': array([b'0'], dtype=object),\n",
       "  'logistic': array([ 0.14042205], dtype=float32),\n",
       "  'logits': array([-1.81178904], dtype=float32),\n",
       "  'probabilities': array([ 0.85957801,  0.14042205], dtype=float32)},\n",
       " {'class_ids': array([0]),\n",
       "  'classes': array([b'0'], dtype=object),\n",
       "  'logistic': array([ 0.20944823], dtype=float32),\n",
       "  'logits': array([-1.32825446], dtype=float32),\n",
       "  'probabilities': array([ 0.79055178,  0.20944825], dtype=float32)},\n",
       " {'class_ids': array([0]),\n",
       "  'classes': array([b'0'], dtype=object),\n",
       "  'logistic': array([ 0.28691921], dtype=float32),\n",
       "  'logits': array([-0.91039407], dtype=float32),\n",
       "  'probabilities': array([ 0.71308076,  0.28691918], dtype=float32)},\n",
       " {'class_ids': array([1]),\n",
       "  'classes': array([b'1'], dtype=object),\n",
       "  'logistic': array([ 0.6646353], dtype=float32),\n",
       "  'logits': array([ 0.6840198], dtype=float32),\n",
       "  'probabilities': array([ 0.3353647,  0.6646353], dtype=float32)},\n",
       " {'class_ids': array([0]),\n",
       "  'classes': array([b'0'], dtype=object),\n",
       "  'logistic': array([ 0.21317121], dtype=float32),\n",
       "  'logits': array([-1.305915], dtype=float32),\n",
       "  'probabilities': array([ 0.78682876,  0.21317121], dtype=float32)},\n",
       " {'class_ids': array([0]),\n",
       "  'classes': array([b'0'], dtype=object),\n",
       "  'logistic': array([ 0.17098613], dtype=float32),\n",
       "  'logits': array([-1.57865453], dtype=float32),\n",
       "  'probabilities': array([ 0.82901388,  0.17098613], dtype=float32)},\n",
       " {'class_ids': array([1]),\n",
       "  'classes': array([b'1'], dtype=object),\n",
       "  'logistic': array([ 0.77645135], dtype=float32),\n",
       "  'logits': array([ 1.24510491], dtype=float32),\n",
       "  'probabilities': array([ 0.22354865,  0.77645135], dtype=float32)},\n",
       " {'class_ids': array([0]),\n",
       "  'classes': array([b'0'], dtype=object),\n",
       "  'logistic': array([ 0.17162988], dtype=float32),\n",
       "  'logits': array([-1.57411981], dtype=float32),\n",
       "  'probabilities': array([ 0.82837015,  0.17162988], dtype=float32)},\n",
       " {'class_ids': array([0]),\n",
       "  'classes': array([b'0'], dtype=object),\n",
       "  'logistic': array([ 0.30832168], dtype=float32),\n",
       "  'logits': array([-0.80797726], dtype=float32),\n",
       "  'probabilities': array([ 0.69167829,  0.30832168], dtype=float32)},\n",
       " {'class_ids': array([0]),\n",
       "  'classes': array([b'0'], dtype=object),\n",
       "  'logistic': array([ 0.1009385], dtype=float32),\n",
       "  'logits': array([-2.18684006], dtype=float32),\n",
       "  'probabilities': array([ 0.8990615,  0.1009385], dtype=float32)},\n",
       " {'class_ids': array([1]),\n",
       "  'classes': array([b'1'], dtype=object),\n",
       "  'logistic': array([ 0.58792782], dtype=float32),\n",
       "  'logits': array([ 0.35540569], dtype=float32),\n",
       "  'probabilities': array([ 0.41207218,  0.58792782], dtype=float32)},\n",
       " {'class_ids': array([1]),\n",
       "  'classes': array([b'1'], dtype=object),\n",
       "  'logistic': array([ 0.94425327], dtype=float32),\n",
       "  'logits': array([ 2.82957554], dtype=float32),\n",
       "  'probabilities': array([ 0.05574674,  0.94425327], dtype=float32)},\n",
       " {'class_ids': array([0]),\n",
       "  'classes': array([b'0'], dtype=object),\n",
       "  'logistic': array([ 0.43433854], dtype=float32),\n",
       "  'logits': array([-0.26417142], dtype=float32),\n",
       "  'probabilities': array([ 0.56566143,  0.43433857], dtype=float32)},\n",
       " {'class_ids': array([0]),\n",
       "  'classes': array([b'0'], dtype=object),\n",
       "  'logistic': array([ 0.31791314], dtype=float32),\n",
       "  'logits': array([-0.76337886], dtype=float32),\n",
       "  'probabilities': array([ 0.68208688,  0.31791314], dtype=float32)},\n",
       " {'class_ids': array([1]),\n",
       "  'classes': array([b'1'], dtype=object),\n",
       "  'logistic': array([ 0.53813702], dtype=float32),\n",
       "  'logits': array([ 0.15284503], dtype=float32),\n",
       "  'probabilities': array([ 0.46186295,  0.53813702], dtype=float32)},\n",
       " {'class_ids': array([0]),\n",
       "  'classes': array([b'0'], dtype=object),\n",
       "  'logistic': array([ 0.23277912], dtype=float32),\n",
       "  'logits': array([-1.19268477], dtype=float32),\n",
       "  'probabilities': array([ 0.76722091,  0.23277912], dtype=float32)},\n",
       " {'class_ids': array([0]),\n",
       "  'classes': array([b'0'], dtype=object),\n",
       "  'logistic': array([ 0.37916446], dtype=float32),\n",
       "  'logits': array([-0.4930962], dtype=float32),\n",
       "  'probabilities': array([ 0.62083554,  0.37916443], dtype=float32)},\n",
       " {'class_ids': array([1]),\n",
       "  'classes': array([b'1'], dtype=object),\n",
       "  'logistic': array([ 0.51474273], dtype=float32),\n",
       "  'logits': array([ 0.05898809], dtype=float32),\n",
       "  'probabilities': array([ 0.48525721,  0.51474273], dtype=float32)},\n",
       " {'class_ids': array([1]),\n",
       "  'classes': array([b'1'], dtype=object),\n",
       "  'logistic': array([ 0.61259156], dtype=float32),\n",
       "  'logits': array([ 0.45821869], dtype=float32),\n",
       "  'probabilities': array([ 0.38740852,  0.61259156], dtype=float32)},\n",
       " {'class_ids': array([1]),\n",
       "  'classes': array([b'1'], dtype=object),\n",
       "  'logistic': array([ 0.76466149], dtype=float32),\n",
       "  'logits': array([ 1.17840827], dtype=float32),\n",
       "  'probabilities': array([ 0.23533851,  0.76466149], dtype=float32)},\n",
       " {'class_ids': array([0]),\n",
       "  'classes': array([b'0'], dtype=object),\n",
       "  'logistic': array([ 0.35292578], dtype=float32),\n",
       "  'logits': array([-0.6062032], dtype=float32),\n",
       "  'probabilities': array([ 0.64707422,  0.35292578], dtype=float32)},\n",
       " {'class_ids': array([0]),\n",
       "  'classes': array([b'0'], dtype=object),\n",
       "  'logistic': array([ 0.17390226], dtype=float32),\n",
       "  'logits': array([-1.55821967], dtype=float32),\n",
       "  'probabilities': array([ 0.82609773,  0.17390226], dtype=float32)},\n",
       " {'class_ids': array([1]),\n",
       "  'classes': array([b'1'], dtype=object),\n",
       "  'logistic': array([ 0.56060773], dtype=float32),\n",
       "  'logits': array([ 0.24362886], dtype=float32),\n",
       "  'probabilities': array([ 0.43939227,  0.56060773], dtype=float32)},\n",
       " {'class_ids': array([0]),\n",
       "  'classes': array([b'0'], dtype=object),\n",
       "  'logistic': array([ 0.14504978], dtype=float32),\n",
       "  'logits': array([-1.77396631], dtype=float32),\n",
       "  'probabilities': array([ 0.85495019,  0.14504977], dtype=float32)},\n",
       " {'class_ids': array([1]),\n",
       "  'classes': array([b'1'], dtype=object),\n",
       "  'logistic': array([ 0.54319507], dtype=float32),\n",
       "  'logits': array([ 0.17321205], dtype=float32),\n",
       "  'probabilities': array([ 0.45680493,  0.54319507], dtype=float32)},\n",
       " {'class_ids': array([0]),\n",
       "  'classes': array([b'0'], dtype=object),\n",
       "  'logistic': array([ 0.13302673], dtype=float32),\n",
       "  'logits': array([-1.87445807], dtype=float32),\n",
       "  'probabilities': array([ 0.86697328,  0.13302672], dtype=float32)},\n",
       " {'class_ids': array([0]),\n",
       "  'classes': array([b'0'], dtype=object),\n",
       "  'logistic': array([ 0.10908279], dtype=float32),\n",
       "  'logits': array([-2.10014439], dtype=float32),\n",
       "  'probabilities': array([ 0.89091718,  0.10908279], dtype=float32)},\n",
       " {'class_ids': array([1]),\n",
       "  'classes': array([b'1'], dtype=object),\n",
       "  'logistic': array([ 0.59469908], dtype=float32),\n",
       "  'logits': array([ 0.38342583], dtype=float32),\n",
       "  'probabilities': array([ 0.40530089,  0.59469908], dtype=float32)},\n",
       " {'class_ids': array([0]),\n",
       "  'classes': array([b'0'], dtype=object),\n",
       "  'logistic': array([ 0.18398634], dtype=float32),\n",
       "  'logits': array([-1.48956966], dtype=float32),\n",
       "  'probabilities': array([ 0.81601363,  0.18398632], dtype=float32)},\n",
       " {'class_ids': array([0]),\n",
       "  'classes': array([b'0'], dtype=object),\n",
       "  'logistic': array([ 0.19214445], dtype=float32),\n",
       "  'logits': array([-1.43613577], dtype=float32),\n",
       "  'probabilities': array([ 0.80785555,  0.19214447], dtype=float32)},\n",
       " {'class_ids': array([0]),\n",
       "  'classes': array([b'0'], dtype=object),\n",
       "  'logistic': array([ 0.11856189], dtype=float32),\n",
       "  'logits': array([-2.00611973], dtype=float32),\n",
       "  'probabilities': array([ 0.88143814,  0.11856189], dtype=float32)},\n",
       " {'class_ids': array([0]),\n",
       "  'classes': array([b'0'], dtype=object),\n",
       "  'logistic': array([ 0.17171025], dtype=float32),\n",
       "  'logits': array([-1.57355452], dtype=float32),\n",
       "  'probabilities': array([ 0.82828975,  0.17171025], dtype=float32)},\n",
       " {'class_ids': array([0]),\n",
       "  'classes': array([b'0'], dtype=object),\n",
       "  'logistic': array([ 0.23745884], dtype=float32),\n",
       "  'logits': array([-1.1666621], dtype=float32),\n",
       "  'probabilities': array([ 0.76254112,  0.23745884], dtype=float32)},\n",
       " {'class_ids': array([0]),\n",
       "  'classes': array([b'0'], dtype=object),\n",
       "  'logistic': array([ 0.2541326], dtype=float32),\n",
       "  'logits': array([-1.07669163], dtype=float32),\n",
       "  'probabilities': array([ 0.74586737,  0.2541326 ], dtype=float32)},\n",
       " {'class_ids': array([0]),\n",
       "  'classes': array([b'0'], dtype=object),\n",
       "  'logistic': array([ 0.38872543], dtype=float32),\n",
       "  'logits': array([-0.45267284], dtype=float32),\n",
       "  'probabilities': array([ 0.61127454,  0.38872546], dtype=float32)},\n",
       " {'class_ids': array([0]),\n",
       "  'classes': array([b'0'], dtype=object),\n",
       "  'logistic': array([ 0.12422959], dtype=float32),\n",
       "  'logits': array([-1.95297265], dtype=float32),\n",
       "  'probabilities': array([ 0.87577039,  0.12422958], dtype=float32)},\n",
       " {'class_ids': array([0]),\n",
       "  'classes': array([b'0'], dtype=object),\n",
       "  'logistic': array([ 0.22261158], dtype=float32),\n",
       "  'logits': array([-1.25051165], dtype=float32),\n",
       "  'probabilities': array([ 0.77738839,  0.22261158], dtype=float32)},\n",
       " {'class_ids': array([0]),\n",
       "  'classes': array([b'0'], dtype=object),\n",
       "  'logistic': array([ 0.20792064], dtype=float32),\n",
       "  'logits': array([-1.33750522], dtype=float32),\n",
       "  'probabilities': array([ 0.79207939,  0.20792061], dtype=float32)},\n",
       " {'class_ids': array([0]),\n",
       "  'classes': array([b'0'], dtype=object),\n",
       "  'logistic': array([ 0.20737422], dtype=float32),\n",
       "  'logits': array([-1.34082627], dtype=float32),\n",
       "  'probabilities': array([ 0.79262584,  0.20737423], dtype=float32)},\n",
       " {'class_ids': array([0]),\n",
       "  'classes': array([b'0'], dtype=object),\n",
       "  'logistic': array([ 0.48656929], dtype=float32),\n",
       "  'logits': array([-0.05373597], dtype=float32),\n",
       "  'probabilities': array([ 0.51343077,  0.48656923], dtype=float32)},\n",
       " {'class_ids': array([0]),\n",
       "  'classes': array([b'0'], dtype=object),\n",
       "  'logistic': array([ 0.16290401], dtype=float32),\n",
       "  'logits': array([-1.63677764], dtype=float32),\n",
       "  'probabilities': array([ 0.83709604,  0.16290401], dtype=float32)},\n",
       " {'class_ids': array([0]),\n",
       "  'classes': array([b'0'], dtype=object),\n",
       "  'logistic': array([ 0.2231909], dtype=float32),\n",
       "  'logits': array([-1.24716711], dtype=float32),\n",
       "  'probabilities': array([ 0.77680916,  0.22319092], dtype=float32)},\n",
       " {'class_ids': array([1]),\n",
       "  'classes': array([b'1'], dtype=object),\n",
       "  'logistic': array([ 0.64275169], dtype=float32),\n",
       "  'logits': array([ 0.58732748], dtype=float32),\n",
       "  'probabilities': array([ 0.35724828,  0.64275169], dtype=float32)},\n",
       " {'class_ids': array([1]),\n",
       "  'classes': array([b'1'], dtype=object),\n",
       "  'logistic': array([ 0.64192206], dtype=float32),\n",
       "  'logits': array([ 0.58371639], dtype=float32),\n",
       "  'probabilities': array([ 0.35807788,  0.64192206], dtype=float32)},\n",
       " {'class_ids': array([1]),\n",
       "  'classes': array([b'1'], dtype=object),\n",
       "  'logistic': array([ 0.52185947], dtype=float32),\n",
       "  'logits': array([ 0.08749378], dtype=float32),\n",
       "  'probabilities': array([ 0.47814047,  0.52185947], dtype=float32)},\n",
       " {'class_ids': array([0]),\n",
       "  'classes': array([b'0'], dtype=object),\n",
       "  'logistic': array([ 0.35820132], dtype=float32),\n",
       "  'logits': array([-0.58317941], dtype=float32),\n",
       "  'probabilities': array([ 0.64179868,  0.35820132], dtype=float32)},\n",
       " {'class_ids': array([0]),\n",
       "  'classes': array([b'0'], dtype=object),\n",
       "  'logistic': array([ 0.49633938], dtype=float32),\n",
       "  'logits': array([-0.0146426], dtype=float32),\n",
       "  'probabilities': array([ 0.50366056,  0.49633941], dtype=float32)},\n",
       " {'class_ids': array([0]),\n",
       "  'classes': array([b'0'], dtype=object),\n",
       "  'logistic': array([ 0.17871474], dtype=float32),\n",
       "  'logits': array([-1.52507961], dtype=float32),\n",
       "  'probabilities': array([ 0.82128531,  0.17871475], dtype=float32)},\n",
       " {'class_ids': array([0]),\n",
       "  'classes': array([b'0'], dtype=object),\n",
       "  'logistic': array([ 0.18755534], dtype=float32),\n",
       "  'logits': array([-1.46597385], dtype=float32),\n",
       "  'probabilities': array([ 0.81244463,  0.18755533], dtype=float32)},\n",
       " {'class_ids': array([0]),\n",
       "  'classes': array([b'0'], dtype=object),\n",
       "  'logistic': array([ 0.14619057], dtype=float32),\n",
       "  'logits': array([-1.76479697], dtype=float32),\n",
       "  'probabilities': array([ 0.85380948,  0.14619058], dtype=float32)},\n",
       " {'class_ids': array([0]),\n",
       "  'classes': array([b'0'], dtype=object),\n",
       "  'logistic': array([ 0.12313557], dtype=float32),\n",
       "  'logits': array([-1.96306646], dtype=float32),\n",
       "  'probabilities': array([ 0.87686443,  0.12313557], dtype=float32)},\n",
       " {'class_ids': array([1]),\n",
       "  'classes': array([b'1'], dtype=object),\n",
       "  'logistic': array([ 0.62414116], dtype=float32),\n",
       "  'logits': array([ 0.50716293], dtype=float32),\n",
       "  'probabilities': array([ 0.37585884,  0.62414116], dtype=float32)},\n",
       " {'class_ids': array([0]),\n",
       "  'classes': array([b'0'], dtype=object),\n",
       "  'logistic': array([ 0.22052911], dtype=float32),\n",
       "  'logits': array([-1.26258564], dtype=float32),\n",
       "  'probabilities': array([ 0.77947086,  0.22052911], dtype=float32)},\n",
       " {'class_ids': array([0]),\n",
       "  'classes': array([b'0'], dtype=object),\n",
       "  'logistic': array([ 0.45518351], dtype=float32),\n",
       "  'logits': array([-0.1797483], dtype=float32),\n",
       "  'probabilities': array([ 0.54481649,  0.45518354], dtype=float32)},\n",
       " {'class_ids': array([1]),\n",
       "  'classes': array([b'1'], dtype=object),\n",
       "  'logistic': array([ 0.5913018], dtype=float32),\n",
       "  'logits': array([ 0.3693496], dtype=float32),\n",
       "  'probabilities': array([ 0.4086982,  0.5913018], dtype=float32)},\n",
       " {'class_ids': array([0]),\n",
       "  'classes': array([b'0'], dtype=object),\n",
       "  'logistic': array([ 0.29294434], dtype=float32),\n",
       "  'logits': array([-0.88112676], dtype=float32),\n",
       "  'probabilities': array([ 0.70705563,  0.29294434], dtype=float32)},\n",
       " {'class_ids': array([1]),\n",
       "  'classes': array([b'1'], dtype=object),\n",
       "  'logistic': array([ 0.65178138], dtype=float32),\n",
       "  'logits': array([ 0.62687862], dtype=float32),\n",
       "  'probabilities': array([ 0.34821865,  0.65178138], dtype=float32)},\n",
       " {'class_ids': array([0]),\n",
       "  'classes': array([b'0'], dtype=object),\n",
       "  'logistic': array([ 0.12536331], dtype=float32),\n",
       "  'logits': array([-1.94259262], dtype=float32),\n",
       "  'probabilities': array([ 0.87463665,  0.12536329], dtype=float32)},\n",
       " {'class_ids': array([1]),\n",
       "  'classes': array([b'1'], dtype=object),\n",
       "  'logistic': array([ 0.62750375], dtype=float32),\n",
       "  'logits': array([ 0.52152264], dtype=float32),\n",
       "  'probabilities': array([ 0.37249628,  0.62750375], dtype=float32)},\n",
       " {'class_ids': array([0]),\n",
       "  'classes': array([b'0'], dtype=object),\n",
       "  'logistic': array([ 0.12302936], dtype=float32),\n",
       "  'logits': array([-1.96405053], dtype=float32),\n",
       "  'probabilities': array([ 0.87697059,  0.12302935], dtype=float32)},\n",
       " {'class_ids': array([1]),\n",
       "  'classes': array([b'1'], dtype=object),\n",
       "  'logistic': array([ 0.5703271], dtype=float32),\n",
       "  'logits': array([ 0.28318572], dtype=float32),\n",
       "  'probabilities': array([ 0.42967293,  0.5703271 ], dtype=float32)},\n",
       " {'class_ids': array([0]),\n",
       "  'classes': array([b'0'], dtype=object),\n",
       "  'logistic': array([ 0.32160562], dtype=float32),\n",
       "  'logits': array([-0.7464028], dtype=float32),\n",
       "  'probabilities': array([ 0.67839438,  0.32160562], dtype=float32)},\n",
       " {'class_ids': array([0]),\n",
       "  'classes': array([b'0'], dtype=object),\n",
       "  'logistic': array([ 0.15491198], dtype=float32),\n",
       "  'logits': array([-1.69658375], dtype=float32),\n",
       "  'probabilities': array([ 0.84508801,  0.15491198], dtype=float32)},\n",
       " {'class_ids': array([1]),\n",
       "  'classes': array([b'1'], dtype=object),\n",
       "  'logistic': array([ 0.56684011], dtype=float32),\n",
       "  'logits': array([ 0.26897025], dtype=float32),\n",
       "  'probabilities': array([ 0.43315995,  0.56684011], dtype=float32)},\n",
       " {'class_ids': array([1]),\n",
       "  'classes': array([b'1'], dtype=object),\n",
       "  'logistic': array([ 0.61539441], dtype=float32),\n",
       "  'logits': array([ 0.47004497], dtype=float32),\n",
       "  'probabilities': array([ 0.38460559,  0.61539441], dtype=float32)},\n",
       " {'class_ids': array([1]),\n",
       "  'classes': array([b'1'], dtype=object),\n",
       "  'logistic': array([ 0.56435961], dtype=float32),\n",
       "  'logits': array([ 0.25887454], dtype=float32),\n",
       "  'probabilities': array([ 0.43564039,  0.56435961], dtype=float32)},\n",
       " {'class_ids': array([0]),\n",
       "  'classes': array([b'0'], dtype=object),\n",
       "  'logistic': array([ 0.16163719], dtype=float32),\n",
       "  'logits': array([-1.64609671], dtype=float32),\n",
       "  'probabilities': array([ 0.83836281,  0.16163719], dtype=float32)},\n",
       " {'class_ids': array([0]),\n",
       "  'classes': array([b'0'], dtype=object),\n",
       "  'logistic': array([ 0.36069736], dtype=float32),\n",
       "  'logits': array([-0.5723387], dtype=float32),\n",
       "  'probabilities': array([ 0.63930261,  0.36069733], dtype=float32)},\n",
       " {'class_ids': array([0]),\n",
       "  'classes': array([b'0'], dtype=object),\n",
       "  'logistic': array([ 0.14746688], dtype=float32),\n",
       "  'logits': array([-1.75460839], dtype=float32),\n",
       "  'probabilities': array([ 0.8525331,  0.1474669], dtype=float32)},\n",
       " {'class_ids': array([1]),\n",
       "  'classes': array([b'1'], dtype=object),\n",
       "  'logistic': array([ 0.70667267], dtype=float32),\n",
       "  'logits': array([ 0.8792783], dtype=float32),\n",
       "  'probabilities': array([ 0.29332736,  0.70667267], dtype=float32)},\n",
       " {'class_ids': array([1]),\n",
       "  'classes': array([b'1'], dtype=object),\n",
       "  'logistic': array([ 0.79708421], dtype=float32),\n",
       "  'logits': array([ 1.36816895], dtype=float32),\n",
       "  'probabilities': array([ 0.20291585,  0.79708421], dtype=float32)},\n",
       " {'class_ids': array([1]),\n",
       "  'classes': array([b'1'], dtype=object),\n",
       "  'logistic': array([ 0.63416779], dtype=float32),\n",
       "  'logits': array([ 0.55013871], dtype=float32),\n",
       "  'probabilities': array([ 0.36583224,  0.63416779], dtype=float32)},\n",
       " {'class_ids': array([0]),\n",
       "  'classes': array([b'0'], dtype=object),\n",
       "  'logistic': array([ 0.21237095], dtype=float32),\n",
       "  'logits': array([-1.31069279], dtype=float32),\n",
       "  'probabilities': array([ 0.78762907,  0.21237095], dtype=float32)},\n",
       " {'class_ids': array([0]),\n",
       "  'classes': array([b'0'], dtype=object),\n",
       "  'logistic': array([ 0.47064126], dtype=float32),\n",
       "  'logits': array([-0.11757028], dtype=float32),\n",
       "  'probabilities': array([ 0.52935874,  0.47064123], dtype=float32)},\n",
       " {'class_ids': array([0]),\n",
       "  'classes': array([b'0'], dtype=object),\n",
       "  'logistic': array([ 0.39975613], dtype=float32),\n",
       "  'logits': array([-0.40648139], dtype=float32),\n",
       "  'probabilities': array([ 0.60024387,  0.39975613], dtype=float32)},\n",
       " {'class_ids': array([0]),\n",
       "  'classes': array([b'0'], dtype=object),\n",
       "  'logistic': array([ 0.45512286], dtype=float32),\n",
       "  'logits': array([-0.17999279], dtype=float32),\n",
       "  'probabilities': array([ 0.54487711,  0.45512292], dtype=float32)},\n",
       " {'class_ids': array([0]),\n",
       "  'classes': array([b'0'], dtype=object),\n",
       "  'logistic': array([ 0.36881328], dtype=float32),\n",
       "  'logits': array([-0.53731126], dtype=float32),\n",
       "  'probabilities': array([ 0.63118672,  0.36881328], dtype=float32)},\n",
       " {'class_ids': array([0]),\n",
       "  'classes': array([b'0'], dtype=object),\n",
       "  'logistic': array([ 0.45324546], dtype=float32),\n",
       "  'logits': array([-0.18756616], dtype=float32),\n",
       "  'probabilities': array([ 0.54675454,  0.45324543], dtype=float32)},\n",
       " {'class_ids': array([0]),\n",
       "  'classes': array([b'0'], dtype=object),\n",
       "  'logistic': array([ 0.14678906], dtype=float32),\n",
       "  'logits': array([-1.76001024], dtype=float32),\n",
       "  'probabilities': array([ 0.85321093,  0.14678906], dtype=float32)},\n",
       " {'class_ids': array([1]),\n",
       "  'classes': array([b'1'], dtype=object),\n",
       "  'logistic': array([ 0.57064825], dtype=float32),\n",
       "  'logits': array([ 0.28449643], dtype=float32),\n",
       "  'probabilities': array([ 0.42935175,  0.57064825], dtype=float32)},\n",
       " {'class_ids': array([1]),\n",
       "  'classes': array([b'1'], dtype=object),\n",
       "  'logistic': array([ 0.56425303], dtype=float32),\n",
       "  'logits': array([ 0.25844097], dtype=float32),\n",
       "  'probabilities': array([ 0.435747  ,  0.56425303], dtype=float32)},\n",
       " {'class_ids': array([0]),\n",
       "  'classes': array([b'0'], dtype=object),\n",
       "  'logistic': array([ 0.24181888], dtype=float32),\n",
       "  'logits': array([-1.14273334], dtype=float32),\n",
       "  'probabilities': array([ 0.75818115,  0.24181888], dtype=float32)},\n",
       " {'class_ids': array([0]),\n",
       "  'classes': array([b'0'], dtype=object),\n",
       "  'logistic': array([ 0.16964066], dtype=float32),\n",
       "  'logits': array([-1.58817613], dtype=float32),\n",
       "  'probabilities': array([ 0.83035934,  0.16964066], dtype=float32)},\n",
       " {'class_ids': array([0]),\n",
       "  'classes': array([b'0'], dtype=object),\n",
       "  'logistic': array([ 0.16712879], dtype=float32),\n",
       "  'logits': array([-1.60611439], dtype=float32),\n",
       "  'probabilities': array([ 0.8328712 ,  0.16712879], dtype=float32)},\n",
       " {'class_ids': array([0]),\n",
       "  'classes': array([b'0'], dtype=object),\n",
       "  'logistic': array([ 0.27837619], dtype=float32),\n",
       "  'logits': array([-0.9525305], dtype=float32),\n",
       "  'probabilities': array([ 0.72162378,  0.27837619], dtype=float32)},\n",
       " {'class_ids': array([0]),\n",
       "  'classes': array([b'0'], dtype=object),\n",
       "  'logistic': array([ 0.39539236], dtype=float32),\n",
       "  'logits': array([-0.42470109], dtype=float32),\n",
       "  'probabilities': array([ 0.60460764,  0.39539239], dtype=float32)},\n",
       " {'class_ids': array([0]),\n",
       "  'classes': array([b'0'], dtype=object),\n",
       "  'logistic': array([ 0.13059701], dtype=float32),\n",
       "  'logits': array([-1.89569044], dtype=float32),\n",
       "  'probabilities': array([ 0.869403  ,  0.13059701], dtype=float32)},\n",
       " {'class_ids': array([0]),\n",
       "  'classes': array([b'0'], dtype=object),\n",
       "  'logistic': array([ 0.34409642], dtype=float32),\n",
       "  'logits': array([-0.64509189], dtype=float32),\n",
       "  'probabilities': array([ 0.65590358,  0.34409642], dtype=float32)},\n",
       " {'class_ids': array([0]),\n",
       "  'classes': array([b'0'], dtype=object),\n",
       "  'logistic': array([ 0.24776107], dtype=float32),\n",
       "  'logits': array([-1.11058915], dtype=float32),\n",
       "  'probabilities': array([ 0.75223893,  0.24776107], dtype=float32)},\n",
       " {'class_ids': array([0]),\n",
       "  'classes': array([b'0'], dtype=object),\n",
       "  'logistic': array([ 0.09403715], dtype=float32),\n",
       "  'logits': array([-2.26530838], dtype=float32),\n",
       "  'probabilities': array([ 0.90596282,  0.09403715], dtype=float32)},\n",
       " {'class_ids': array([0]),\n",
       "  'classes': array([b'0'], dtype=object),\n",
       "  'logistic': array([ 0.12354959], dtype=float32),\n",
       "  'logits': array([-1.95923758], dtype=float32),\n",
       "  'probabilities': array([ 0.87645042,  0.12354958], dtype=float32)},\n",
       " {'class_ids': array([1]),\n",
       "  'classes': array([b'1'], dtype=object),\n",
       "  'logistic': array([ 0.73445302], dtype=float32),\n",
       "  'logits': array([ 1.01733422], dtype=float32),\n",
       "  'probabilities': array([ 0.26554698,  0.73445302], dtype=float32)},\n",
       " {'class_ids': array([0]),\n",
       "  'classes': array([b'0'], dtype=object),\n",
       "  'logistic': array([ 0.17308226], dtype=float32),\n",
       "  'logits': array([-1.56393814], dtype=float32),\n",
       "  'probabilities': array([ 0.82691771,  0.17308226], dtype=float32)},\n",
       " {'class_ids': array([0]),\n",
       "  'classes': array([b'0'], dtype=object),\n",
       "  'logistic': array([ 0.12491208], dtype=float32),\n",
       "  'logits': array([-1.94671428], dtype=float32),\n",
       "  'probabilities': array([ 0.87508798,  0.12491208], dtype=float32)},\n",
       " {'class_ids': array([0]),\n",
       "  'classes': array([b'0'], dtype=object),\n",
       "  'logistic': array([ 0.14001177], dtype=float32),\n",
       "  'logits': array([-1.81519222], dtype=float32),\n",
       "  'probabilities': array([ 0.85998821,  0.14001177], dtype=float32)},\n",
       " {'class_ids': array([1]),\n",
       "  'classes': array([b'1'], dtype=object),\n",
       "  'logistic': array([ 0.50142735], dtype=float32),\n",
       "  'logits': array([ 0.00570953], dtype=float32),\n",
       "  'probabilities': array([ 0.49857259,  0.50142735], dtype=float32)},\n",
       " {'class_ids': array([0]),\n",
       "  'classes': array([b'0'], dtype=object),\n",
       "  'logistic': array([ 0.47137806], dtype=float32),\n",
       "  'logits': array([-0.11461318], dtype=float32),\n",
       "  'probabilities': array([ 0.52862197,  0.47137803], dtype=float32)},\n",
       " {'class_ids': array([0]),\n",
       "  'classes': array([b'0'], dtype=object),\n",
       "  'logistic': array([ 0.23259017], dtype=float32),\n",
       "  'logits': array([-1.19374299], dtype=float32),\n",
       "  'probabilities': array([ 0.7674098 ,  0.23259017], dtype=float32)},\n",
       " {'class_ids': array([0]),\n",
       "  'classes': array([b'0'], dtype=object),\n",
       "  'logistic': array([ 0.46334341], dtype=float32),\n",
       "  'logits': array([-0.14688987], dtype=float32),\n",
       "  'probabilities': array([ 0.53665662,  0.46334347], dtype=float32)},\n",
       " {'class_ids': array([0]),\n",
       "  'classes': array([b'0'], dtype=object),\n",
       "  'logistic': array([ 0.17698506], dtype=float32),\n",
       "  'logits': array([-1.5369091], dtype=float32),\n",
       "  'probabilities': array([ 0.82301497,  0.17698506], dtype=float32)},\n",
       " {'class_ids': array([0]),\n",
       "  'classes': array([b'0'], dtype=object),\n",
       "  'logistic': array([ 0.22906196], dtype=float32),\n",
       "  'logits': array([-1.21361554], dtype=float32),\n",
       "  'probabilities': array([ 0.7709381 ,  0.22906196], dtype=float32)},\n",
       " {'class_ids': array([1]),\n",
       "  'classes': array([b'1'], dtype=object),\n",
       "  'logistic': array([ 0.5053671], dtype=float32),\n",
       "  'logits': array([ 0.02146935], dtype=float32),\n",
       "  'probabilities': array([ 0.49463284,  0.5053671 ], dtype=float32)},\n",
       " {'class_ids': array([0]),\n",
       "  'classes': array([b'0'], dtype=object),\n",
       "  'logistic': array([ 0.4888539], dtype=float32),\n",
       "  'logits': array([-0.04459167], dtype=float32),\n",
       "  'probabilities': array([ 0.51114607,  0.48885393], dtype=float32)},\n",
       " {'class_ids': array([0]),\n",
       "  'classes': array([b'0'], dtype=object),\n",
       "  'logistic': array([ 0.13213482], dtype=float32),\n",
       "  'logits': array([-1.88221359], dtype=float32),\n",
       "  'probabilities': array([ 0.8678652 ,  0.13213482], dtype=float32)},\n",
       " {'class_ids': array([0]),\n",
       "  'classes': array([b'0'], dtype=object),\n",
       "  'logistic': array([ 0.41742384], dtype=float32),\n",
       "  'logits': array([-0.33335787], dtype=float32),\n",
       "  'probabilities': array([ 0.58257616,  0.41742381], dtype=float32)},\n",
       " {'class_ids': array([1]),\n",
       "  'classes': array([b'1'], dtype=object),\n",
       "  'logistic': array([ 0.66033053], dtype=float32),\n",
       "  'logits': array([ 0.6647675], dtype=float32),\n",
       "  'probabilities': array([ 0.33966947,  0.66033053], dtype=float32)},\n",
       " {'class_ids': array([1]),\n",
       "  'classes': array([b'1'], dtype=object),\n",
       "  'logistic': array([ 0.54769433], dtype=float32),\n",
       "  'logits': array([ 0.19135916], dtype=float32),\n",
       "  'probabilities': array([ 0.45230567,  0.54769433], dtype=float32)},\n",
       " {'class_ids': array([0]),\n",
       "  'classes': array([b'0'], dtype=object),\n",
       "  'logistic': array([ 0.3971684], dtype=float32),\n",
       "  'logits': array([-0.41727751], dtype=float32),\n",
       "  'probabilities': array([ 0.6028316,  0.3971684], dtype=float32)},\n",
       " {'class_ids': array([1]),\n",
       "  'classes': array([b'1'], dtype=object),\n",
       "  'logistic': array([ 0.57039881], dtype=float32),\n",
       "  'logits': array([ 0.28347862], dtype=float32),\n",
       "  'probabilities': array([ 0.42960113,  0.57039881], dtype=float32)},\n",
       " {'class_ids': array([0]),\n",
       "  'classes': array([b'0'], dtype=object),\n",
       "  'logistic': array([ 0.24215515], dtype=float32),\n",
       "  'logits': array([-1.14090002], dtype=float32),\n",
       "  'probabilities': array([ 0.75784487,  0.24215516], dtype=float32)},\n",
       " {'class_ids': array([0]),\n",
       "  'classes': array([b'0'], dtype=object),\n",
       "  'logistic': array([ 0.18488872], dtype=float32),\n",
       "  'logits': array([-1.48357058], dtype=float32),\n",
       "  'probabilities': array([ 0.81511134,  0.18488872], dtype=float32)},\n",
       " {'class_ids': array([0]),\n",
       "  'classes': array([b'0'], dtype=object),\n",
       "  'logistic': array([ 0.12738553], dtype=float32),\n",
       "  'logits': array([-1.92427576], dtype=float32),\n",
       "  'probabilities': array([ 0.8726145 ,  0.12738553], dtype=float32)},\n",
       " {'class_ids': array([0]),\n",
       "  'classes': array([b'0'], dtype=object),\n",
       "  'logistic': array([ 0.26292744], dtype=float32),\n",
       "  'logits': array([-1.03080821], dtype=float32),\n",
       "  'probabilities': array([ 0.73707253,  0.26292744], dtype=float32)},\n",
       " {'class_ids': array([1]),\n",
       "  'classes': array([b'1'], dtype=object),\n",
       "  'logistic': array([ 0.50806421], dtype=float32),\n",
       "  'logits': array([ 0.03225964], dtype=float32),\n",
       "  'probabilities': array([ 0.49193579,  0.50806421], dtype=float32)},\n",
       " {'class_ids': array([1]),\n",
       "  'classes': array([b'1'], dtype=object),\n",
       "  'logistic': array([ 0.66288763], dtype=float32),\n",
       "  'logits': array([ 0.67618918], dtype=float32),\n",
       "  'probabilities': array([ 0.33711237,  0.66288763], dtype=float32)},\n",
       " {'class_ids': array([0]),\n",
       "  'classes': array([b'0'], dtype=object),\n",
       "  'logistic': array([ 0.22441044], dtype=float32),\n",
       "  'logits': array([-1.24014664], dtype=float32),\n",
       "  'probabilities': array([ 0.77558953,  0.22441046], dtype=float32)},\n",
       " {'class_ids': array([0]),\n",
       "  'classes': array([b'0'], dtype=object),\n",
       "  'logistic': array([ 0.15931557], dtype=float32),\n",
       "  'logits': array([-1.66332936], dtype=float32),\n",
       "  'probabilities': array([ 0.84068441,  0.15931557], dtype=float32)},\n",
       " {'class_ids': array([0]),\n",
       "  'classes': array([b'0'], dtype=object),\n",
       "  'logistic': array([ 0.43531582], dtype=float32),\n",
       "  'logits': array([-0.26019484], dtype=float32),\n",
       "  'probabilities': array([ 0.56468415,  0.43531579], dtype=float32)},\n",
       " {'class_ids': array([0]),\n",
       "  'classes': array([b'0'], dtype=object),\n",
       "  'logistic': array([ 0.2229968], dtype=float32),\n",
       "  'logits': array([-1.24828696], dtype=float32),\n",
       "  'probabilities': array([ 0.77700317,  0.2229968 ], dtype=float32)},\n",
       " {'class_ids': array([0]),\n",
       "  'classes': array([b'0'], dtype=object),\n",
       "  'logistic': array([ 0.13981068], dtype=float32),\n",
       "  'logits': array([-1.8168633], dtype=float32),\n",
       "  'probabilities': array([ 0.86018938,  0.13981068], dtype=float32)},\n",
       " {'class_ids': array([0]),\n",
       "  'classes': array([b'0'], dtype=object),\n",
       "  'logistic': array([ 0.18210354], dtype=float32),\n",
       "  'logits': array([-1.50216031], dtype=float32),\n",
       "  'probabilities': array([ 0.81789649,  0.18210354], dtype=float32)},\n",
       " {'class_ids': array([0]),\n",
       "  'classes': array([b'0'], dtype=object),\n",
       "  'logistic': array([ 0.12277663], dtype=float32),\n",
       "  'logits': array([-1.9663949], dtype=float32),\n",
       "  'probabilities': array([ 0.87722337,  0.12277663], dtype=float32)},\n",
       " {'class_ids': array([0]),\n",
       "  'classes': array([b'0'], dtype=object),\n",
       "  'logistic': array([ 0.39412412], dtype=float32),\n",
       "  'logits': array([-0.43000925], dtype=float32),\n",
       "  'probabilities': array([ 0.60587585,  0.39412412], dtype=float32)},\n",
       " {'class_ids': array([1]),\n",
       "  'classes': array([b'1'], dtype=object),\n",
       "  'logistic': array([ 0.75787699], dtype=float32),\n",
       "  'logits': array([ 1.14107525], dtype=float32),\n",
       "  'probabilities': array([ 0.24212299,  0.75787699], dtype=float32)},\n",
       " {'class_ids': array([1]),\n",
       "  'classes': array([b'1'], dtype=object),\n",
       "  'logistic': array([ 0.77395767], dtype=float32),\n",
       "  'logits': array([ 1.23079455], dtype=float32),\n",
       "  'probabilities': array([ 0.22604242,  0.77395767], dtype=float32)},\n",
       " {'class_ids': array([1]),\n",
       "  'classes': array([b'1'], dtype=object),\n",
       "  'logistic': array([ 0.54386795], dtype=float32),\n",
       "  'logits': array([ 0.17592418], dtype=float32),\n",
       "  'probabilities': array([ 0.45613202,  0.54386795], dtype=float32)},\n",
       " {'class_ids': array([1]),\n",
       "  'classes': array([b'1'], dtype=object),\n",
       "  'logistic': array([ 0.51511276], dtype=float32),\n",
       "  'logits': array([ 0.06046951], dtype=float32),\n",
       "  'probabilities': array([ 0.48488721,  0.51511276], dtype=float32)},\n",
       " {'class_ids': array([1]),\n",
       "  'classes': array([b'1'], dtype=object),\n",
       "  'logistic': array([ 0.58159852], dtype=float32),\n",
       "  'logits': array([ 0.32933903], dtype=float32),\n",
       "  'probabilities': array([ 0.41840145,  0.58159852], dtype=float32)},\n",
       " {'class_ids': array([0]),\n",
       "  'classes': array([b'0'], dtype=object),\n",
       "  'logistic': array([ 0.10980618], dtype=float32),\n",
       "  'logits': array([-2.09272242], dtype=float32),\n",
       "  'probabilities': array([ 0.89019382,  0.10980618], dtype=float32)},\n",
       " {'class_ids': array([1]),\n",
       "  'classes': array([b'1'], dtype=object),\n",
       "  'logistic': array([ 0.54941225], dtype=float32),\n",
       "  'logits': array([ 0.19829643], dtype=float32),\n",
       "  'probabilities': array([ 0.45058766,  0.54941225], dtype=float32)},\n",
       " {'class_ids': array([1]),\n",
       "  'classes': array([b'1'], dtype=object),\n",
       "  'logistic': array([ 0.75453615], dtype=float32),\n",
       "  'logits': array([ 1.12295377], dtype=float32),\n",
       "  'probabilities': array([ 0.2454638 ,  0.75453627], dtype=float32)},\n",
       " {'class_ids': array([0]),\n",
       "  'classes': array([b'0'], dtype=object),\n",
       "  'logistic': array([ 0.42013001], dtype=float32),\n",
       "  'logits': array([-0.32223982], dtype=float32),\n",
       "  'probabilities': array([ 0.57987005,  0.42012998], dtype=float32)},\n",
       " {'class_ids': array([0]),\n",
       "  'classes': array([b'0'], dtype=object),\n",
       "  'logistic': array([ 0.25567728], dtype=float32),\n",
       "  'logits': array([-1.06855869], dtype=float32),\n",
       "  'probabilities': array([ 0.74432272,  0.25567725], dtype=float32)},\n",
       " {'class_ids': array([0]),\n",
       "  'classes': array([b'0'], dtype=object),\n",
       "  'logistic': array([ 0.348418], dtype=float32),\n",
       "  'logits': array([-0.62600034], dtype=float32),\n",
       "  'probabilities': array([ 0.651582,  0.348418], dtype=float32)},\n",
       " {'class_ids': array([1]),\n",
       "  'classes': array([b'1'], dtype=object),\n",
       "  'logistic': array([ 0.59728187], dtype=float32),\n",
       "  'logits': array([ 0.39415216], dtype=float32),\n",
       "  'probabilities': array([ 0.40271816,  0.59728187], dtype=float32)},\n",
       " {'class_ids': array([0]),\n",
       "  'classes': array([b'0'], dtype=object),\n",
       "  'logistic': array([ 0.22784768], dtype=float32),\n",
       "  'logits': array([-1.22050452], dtype=float32),\n",
       "  'probabilities': array([ 0.7721523 ,  0.22784768], dtype=float32)},\n",
       " {'class_ids': array([1]),\n",
       "  'classes': array([b'1'], dtype=object),\n",
       "  'logistic': array([ 0.6611616], dtype=float32),\n",
       "  'logits': array([ 0.66847503], dtype=float32),\n",
       "  'probabilities': array([ 0.33883837,  0.6611616 ], dtype=float32)},\n",
       " {'class_ids': array([0]),\n",
       "  'classes': array([b'0'], dtype=object),\n",
       "  'logistic': array([ 0.43186527], dtype=float32),\n",
       "  'logits': array([-0.27424502], dtype=float32),\n",
       "  'probabilities': array([ 0.56813478,  0.43186527], dtype=float32)},\n",
       " {'class_ids': array([0]),\n",
       "  'classes': array([b'0'], dtype=object),\n",
       "  'logistic': array([ 0.43069673], dtype=float32),\n",
       "  'logits': array([-0.2790091], dtype=float32),\n",
       "  'probabilities': array([ 0.56930327,  0.43069673], dtype=float32)},\n",
       " {'class_ids': array([0]),\n",
       "  'classes': array([b'0'], dtype=object),\n",
       "  'logistic': array([ 0.15503329], dtype=float32),\n",
       "  'logits': array([-1.69565737], dtype=float32),\n",
       "  'probabilities': array([ 0.84496671,  0.15503329], dtype=float32)},\n",
       " {'class_ids': array([0]),\n",
       "  'classes': array([b'0'], dtype=object),\n",
       "  'logistic': array([ 0.18333456], dtype=float32),\n",
       "  'logits': array([-1.49391675], dtype=float32),\n",
       "  'probabilities': array([ 0.81666547,  0.18333459], dtype=float32)},\n",
       " {'class_ids': array([0]),\n",
       "  'classes': array([b'0'], dtype=object),\n",
       "  'logistic': array([ 0.18120329], dtype=float32),\n",
       "  'logits': array([-1.50821626], dtype=float32),\n",
       "  'probabilities': array([ 0.81879669,  0.18120329], dtype=float32)},\n",
       " {'class_ids': array([0]),\n",
       "  'classes': array([b'0'], dtype=object),\n",
       "  'logistic': array([ 0.44640547], dtype=float32),\n",
       "  'logits': array([-0.21520483], dtype=float32),\n",
       "  'probabilities': array([ 0.55359453,  0.44640547], dtype=float32)},\n",
       " {'class_ids': array([0]),\n",
       "  'classes': array([b'0'], dtype=object),\n",
       "  'logistic': array([ 0.14301321], dtype=float32),\n",
       "  'logits': array([-1.7904855], dtype=float32),\n",
       "  'probabilities': array([ 0.85698676,  0.14301321], dtype=float32)},\n",
       " {'class_ids': array([1]),\n",
       "  'classes': array([b'1'], dtype=object),\n",
       "  'logistic': array([ 0.73777747], dtype=float32),\n",
       "  'logits': array([ 1.03444874], dtype=float32),\n",
       "  'probabilities': array([ 0.26222253,  0.73777747], dtype=float32)},\n",
       " {'class_ids': array([0]),\n",
       "  'classes': array([b'0'], dtype=object),\n",
       "  'logistic': array([ 0.19561101], dtype=float32),\n",
       "  'logits': array([-1.41395485], dtype=float32),\n",
       "  'probabilities': array([ 0.80438894,  0.19561101], dtype=float32)},\n",
       " {'class_ids': array([1]),\n",
       "  'classes': array([b'1'], dtype=object),\n",
       "  'logistic': array([ 0.5196088], dtype=float32),\n",
       "  'logits': array([ 0.07847536], dtype=float32),\n",
       "  'probabilities': array([ 0.48039123,  0.5196088 ], dtype=float32)},\n",
       " {'class_ids': array([0]),\n",
       "  'classes': array([b'0'], dtype=object),\n",
       "  'logistic': array([ 0.14856105], dtype=float32),\n",
       "  'logits': array([-1.74593186], dtype=float32),\n",
       "  'probabilities': array([ 0.85143894,  0.14856103], dtype=float32)},\n",
       " {'class_ids': array([1]),\n",
       "  'classes': array([b'1'], dtype=object),\n",
       "  'logistic': array([ 0.68427503], dtype=float32),\n",
       "  'logits': array([ 0.77348828], dtype=float32),\n",
       "  'probabilities': array([ 0.315725  ,  0.68427503], dtype=float32)},\n",
       " {'class_ids': array([0]),\n",
       "  'classes': array([b'0'], dtype=object),\n",
       "  'logistic': array([ 0.33422756], dtype=float32),\n",
       "  'logits': array([-0.68912572], dtype=float32),\n",
       "  'probabilities': array([ 0.66577244,  0.33422759], dtype=float32)},\n",
       " {'class_ids': array([0]),\n",
       "  'classes': array([b'0'], dtype=object),\n",
       "  'logistic': array([ 0.19660486], dtype=float32),\n",
       "  'logits': array([-1.40765071], dtype=float32),\n",
       "  'probabilities': array([ 0.80339515,  0.19660488], dtype=float32)},\n",
       " {'class_ids': array([0]),\n",
       "  'classes': array([b'0'], dtype=object),\n",
       "  'logistic': array([ 0.35006776], dtype=float32),\n",
       "  'logits': array([-0.61874139], dtype=float32),\n",
       "  'probabilities': array([ 0.64993227,  0.35006776], dtype=float32)},\n",
       " {'class_ids': array([0]),\n",
       "  'classes': array([b'0'], dtype=object),\n",
       "  'logistic': array([ 0.32947046], dtype=float32),\n",
       "  'logits': array([-0.71058106], dtype=float32),\n",
       "  'probabilities': array([ 0.67052954,  0.32947046], dtype=float32)},\n",
       " {'class_ids': array([0]),\n",
       "  'classes': array([b'0'], dtype=object),\n",
       "  'logistic': array([ 0.16669206], dtype=float32),\n",
       "  'logits': array([-1.60925508], dtype=float32),\n",
       "  'probabilities': array([ 0.83330798,  0.16669208], dtype=float32)},\n",
       " {'class_ids': array([1]),\n",
       "  'classes': array([b'1'], dtype=object),\n",
       "  'logistic': array([ 0.69571751], dtype=float32),\n",
       "  'logits': array([ 0.82698727], dtype=float32),\n",
       "  'probabilities': array([ 0.30428246,  0.69571751], dtype=float32)},\n",
       " {'class_ids': array([0]),\n",
       "  'classes': array([b'0'], dtype=object),\n",
       "  'logistic': array([ 0.19246587], dtype=float32),\n",
       "  'logits': array([-1.43406653], dtype=float32),\n",
       "  'probabilities': array([ 0.80753416,  0.19246587], dtype=float32)},\n",
       " {'class_ids': array([0]),\n",
       "  'classes': array([b'0'], dtype=object),\n",
       "  'logistic': array([ 0.17265731], dtype=float32),\n",
       "  'logits': array([-1.56691027], dtype=float32),\n",
       "  'probabilities': array([ 0.82734269,  0.1726573 ], dtype=float32)},\n",
       " {'class_ids': array([0]),\n",
       "  'classes': array([b'0'], dtype=object),\n",
       "  'logistic': array([ 0.28146496], dtype=float32),\n",
       "  'logits': array([-0.93720645], dtype=float32),\n",
       "  'probabilities': array([ 0.71853507,  0.28146499], dtype=float32)},\n",
       " {'class_ids': array([0]),\n",
       "  'classes': array([b'0'], dtype=object),\n",
       "  'logistic': array([ 0.45456186], dtype=float32),\n",
       "  'logits': array([-0.18225533], dtype=float32),\n",
       "  'probabilities': array([ 0.54543811,  0.45456186], dtype=float32)},\n",
       " {'class_ids': array([0]),\n",
       "  'classes': array([b'0'], dtype=object),\n",
       "  'logistic': array([ 0.28399292], dtype=float32),\n",
       "  'logits': array([-0.92474073], dtype=float32),\n",
       "  'probabilities': array([ 0.71600711,  0.28399295], dtype=float32)},\n",
       " {'class_ids': array([0]),\n",
       "  'classes': array([b'0'], dtype=object),\n",
       "  'logistic': array([ 0.11787713], dtype=float32),\n",
       "  'logits': array([-2.01268864], dtype=float32),\n",
       "  'probabilities': array([ 0.88212293,  0.11787712], dtype=float32)},\n",
       " {'class_ids': array([1]),\n",
       "  'classes': array([b'1'], dtype=object),\n",
       "  'logistic': array([ 0.84466052], dtype=float32),\n",
       "  'logits': array([ 1.69332182], dtype=float32),\n",
       "  'probabilities': array([ 0.15533949,  0.84466052], dtype=float32)},\n",
       " {'class_ids': array([1]),\n",
       "  'classes': array([b'1'], dtype=object),\n",
       "  'logistic': array([ 0.67639393], dtype=float32),\n",
       "  'logits': array([ 0.73724866], dtype=float32),\n",
       "  'probabilities': array([ 0.32360607,  0.67639393], dtype=float32)},\n",
       " {'class_ids': array([1]),\n",
       "  'classes': array([b'1'], dtype=object),\n",
       "  'logistic': array([ 0.51755553], dtype=float32),\n",
       "  'logits': array([ 0.07025099], dtype=float32),\n",
       "  'probabilities': array([ 0.48244449,  0.51755553], dtype=float32)},\n",
       " {'class_ids': array([1]),\n",
       "  'classes': array([b'1'], dtype=object),\n",
       "  'logistic': array([ 0.70973742], dtype=float32),\n",
       "  'logits': array([ 0.89410913], dtype=float32),\n",
       "  'probabilities': array([ 0.29026258,  0.70973742], dtype=float32)},\n",
       " {'class_ids': array([0]),\n",
       "  'classes': array([b'0'], dtype=object),\n",
       "  'logistic': array([ 0.11362497], dtype=float32),\n",
       "  'logits': array([-2.05423689], dtype=float32),\n",
       "  'probabilities': array([ 0.88637501,  0.11362496], dtype=float32)},\n",
       " {'class_ids': array([0]),\n",
       "  'classes': array([b'0'], dtype=object),\n",
       "  'logistic': array([ 0.14024116], dtype=float32),\n",
       "  'logits': array([-1.81328845], dtype=float32),\n",
       "  'probabilities': array([ 0.85975885,  0.14024116], dtype=float32)},\n",
       " {'class_ids': array([0]),\n",
       "  'classes': array([b'0'], dtype=object),\n",
       "  'logistic': array([ 0.20795275], dtype=float32),\n",
       "  'logits': array([-1.33731019], dtype=float32),\n",
       "  'probabilities': array([ 0.79204726,  0.20795274], dtype=float32)},\n",
       " {'class_ids': array([0]),\n",
       "  'classes': array([b'0'], dtype=object),\n",
       "  'logistic': array([ 0.32582128], dtype=float32),\n",
       "  'logits': array([-0.72714615], dtype=float32),\n",
       "  'probabilities': array([ 0.67417872,  0.32582131], dtype=float32)},\n",
       " {'class_ids': array([0]),\n",
       "  'classes': array([b'0'], dtype=object),\n",
       "  'logistic': array([ 0.36531109], dtype=float32),\n",
       "  'logits': array([-0.55238569], dtype=float32),\n",
       "  'probabilities': array([ 0.63468885,  0.36531109], dtype=float32)},\n",
       " {'class_ids': array([1]),\n",
       "  'classes': array([b'1'], dtype=object),\n",
       "  'logistic': array([ 0.54373312], dtype=float32),\n",
       "  'logits': array([ 0.17538059], dtype=float32),\n",
       "  'probabilities': array([ 0.45626691,  0.54373312], dtype=float32)},\n",
       " {'class_ids': array([1]),\n",
       "  'classes': array([b'1'], dtype=object),\n",
       "  'logistic': array([ 0.57401592], dtype=float32),\n",
       "  'logits': array([ 0.29825509], dtype=float32),\n",
       "  'probabilities': array([ 0.42598411,  0.57401592], dtype=float32)},\n",
       " {'class_ids': array([0]),\n",
       "  'classes': array([b'0'], dtype=object),\n",
       "  'logistic': array([ 0.40514591], dtype=float32),\n",
       "  'logits': array([-0.38406879], dtype=float32),\n",
       "  'probabilities': array([ 0.59485406,  0.40514591], dtype=float32)},\n",
       " {'class_ids': array([0]),\n",
       "  'classes': array([b'0'], dtype=object),\n",
       "  'logistic': array([ 0.36747667], dtype=float32),\n",
       "  'logits': array([-0.54305732], dtype=float32),\n",
       "  'probabilities': array([ 0.63252336,  0.36747667], dtype=float32)},\n",
       " {'class_ids': array([0]),\n",
       "  'classes': array([b'0'], dtype=object),\n",
       "  'logistic': array([ 0.36351258], dtype=float32),\n",
       "  'logits': array([-0.56015086], dtype=float32),\n",
       "  'probabilities': array([ 0.63648742,  0.36351255], dtype=float32)},\n",
       " {'class_ids': array([0]),\n",
       "  'classes': array([b'0'], dtype=object),\n",
       "  'logistic': array([ 0.18716699], dtype=float32),\n",
       "  'logits': array([-1.46852446], dtype=float32),\n",
       "  'probabilities': array([ 0.81283301,  0.187167  ], dtype=float32)},\n",
       " {'class_ids': array([1]),\n",
       "  'classes': array([b'1'], dtype=object),\n",
       "  'logistic': array([ 0.61091542], dtype=float32),\n",
       "  'logits': array([ 0.45116174], dtype=float32),\n",
       "  'probabilities': array([ 0.38908458,  0.61091542], dtype=float32)},\n",
       " {'class_ids': array([0]),\n",
       "  'classes': array([b'0'], dtype=object),\n",
       "  'logistic': array([ 0.1257098], dtype=float32),\n",
       "  'logits': array([-1.9394362], dtype=float32),\n",
       "  'probabilities': array([ 0.87429017,  0.12570982], dtype=float32)},\n",
       " {'class_ids': array([0]),\n",
       "  'classes': array([b'0'], dtype=object),\n",
       "  'logistic': array([ 0.25643289], dtype=float32),\n",
       "  'logits': array([-1.064592], dtype=float32),\n",
       "  'probabilities': array([ 0.74356711,  0.25643289], dtype=float32)},\n",
       " {'class_ids': array([1]),\n",
       "  'classes': array([b'1'], dtype=object),\n",
       "  'logistic': array([ 0.53258461], dtype=float32),\n",
       "  'logits': array([ 0.13052332], dtype=float32),\n",
       "  'probabilities': array([ 0.46741542,  0.53258461], dtype=float32)},\n",
       " {'class_ids': array([0]),\n",
       "  'classes': array([b'0'], dtype=object),\n",
       "  'logistic': array([ 0.33583981], dtype=float32),\n",
       "  'logits': array([-0.68188906], dtype=float32),\n",
       "  'probabilities': array([ 0.66416019,  0.33583984], dtype=float32)},\n",
       " {'class_ids': array([0]),\n",
       "  'classes': array([b'0'], dtype=object),\n",
       "  'logistic': array([ 0.19291729], dtype=float32),\n",
       "  'logits': array([-1.43116462], dtype=float32),\n",
       "  'probabilities': array([ 0.80708271,  0.19291729], dtype=float32)},\n",
       " {'class_ids': array([0]),\n",
       "  'classes': array([b'0'], dtype=object),\n",
       "  'logistic': array([ 0.26320848], dtype=float32),\n",
       "  'logits': array([-1.02935863], dtype=float32),\n",
       "  'probabilities': array([ 0.73679155,  0.26320848], dtype=float32)},\n",
       " {'class_ids': array([0]),\n",
       "  'classes': array([b'0'], dtype=object),\n",
       "  'logistic': array([ 0.25398749], dtype=float32),\n",
       "  'logits': array([-1.07745743], dtype=float32),\n",
       "  'probabilities': array([ 0.74601251,  0.25398746], dtype=float32)},\n",
       " {'class_ids': array([0]),\n",
       "  'classes': array([b'0'], dtype=object),\n",
       "  'logistic': array([ 0.13528086], dtype=float32),\n",
       "  'logits': array([-1.85505176], dtype=float32),\n",
       "  'probabilities': array([ 0.86471921,  0.13528086], dtype=float32)},\n",
       " {'class_ids': array([0]),\n",
       "  'classes': array([b'0'], dtype=object),\n",
       "  'logistic': array([ 0.1907009], dtype=float32),\n",
       "  'logits': array([-1.44546223], dtype=float32),\n",
       "  'probabilities': array([ 0.80929905,  0.1907009 ], dtype=float32)},\n",
       " {'class_ids': array([1]),\n",
       "  'classes': array([b'1'], dtype=object),\n",
       "  'logistic': array([ 0.57437676], dtype=float32),\n",
       "  'logits': array([ 0.29973102], dtype=float32),\n",
       "  'probabilities': array([ 0.42562324,  0.57437676], dtype=float32)},\n",
       " {'class_ids': array([1]),\n",
       "  'classes': array([b'1'], dtype=object),\n",
       "  'logistic': array([ 0.70277202], dtype=float32),\n",
       "  'logits': array([ 0.86053312], dtype=float32),\n",
       "  'probabilities': array([ 0.29722798,  0.70277202], dtype=float32)},\n",
       " {'class_ids': array([1]),\n",
       "  'classes': array([b'1'], dtype=object),\n",
       "  'logistic': array([ 0.64327794], dtype=float32),\n",
       "  'logits': array([ 0.58961999], dtype=float32),\n",
       "  'probabilities': array([ 0.35672203,  0.64327794], dtype=float32)},\n",
       " {'class_ids': array([1]),\n",
       "  'classes': array([b'1'], dtype=object),\n",
       "  'logistic': array([ 0.68100947], dtype=float32),\n",
       "  'logits': array([ 0.75841475], dtype=float32),\n",
       "  'probabilities': array([ 0.31899053,  0.68100947], dtype=float32)},\n",
       " {'class_ids': array([0]),\n",
       "  'classes': array([b'0'], dtype=object),\n",
       "  'logistic': array([ 0.46662322], dtype=float32),\n",
       "  'logits': array([-0.13370591], dtype=float32),\n",
       "  'probabilities': array([ 0.53337675,  0.46662322], dtype=float32)},\n",
       " {'class_ids': array([0]),\n",
       "  'classes': array([b'0'], dtype=object),\n",
       "  'logistic': array([ 0.31244776], dtype=float32),\n",
       "  'logits': array([-0.78870058], dtype=float32),\n",
       "  'probabilities': array([ 0.68755227,  0.31244776], dtype=float32)},\n",
       " {'class_ids': array([1]),\n",
       "  'classes': array([b'1'], dtype=object),\n",
       "  'logistic': array([ 0.53339905], dtype=float32),\n",
       "  'logits': array([ 0.13379538], dtype=float32),\n",
       "  'probabilities': array([ 0.46660095,  0.53339905], dtype=float32)},\n",
       " {'class_ids': array([0]),\n",
       "  'classes': array([b'0'], dtype=object),\n",
       "  'logistic': array([ 0.17495663], dtype=float32),\n",
       "  'logits': array([-1.55089784], dtype=float32),\n",
       "  'probabilities': array([ 0.82504338,  0.17495663], dtype=float32)},\n",
       " {'class_ids': array([0]),\n",
       "  'classes': array([b'0'], dtype=object),\n",
       "  'logistic': array([ 0.14746809], dtype=float32),\n",
       "  'logits': array([-1.75459886], dtype=float32),\n",
       "  'probabilities': array([ 0.85253191,  0.14746808], dtype=float32)},\n",
       " {'class_ids': array([0]),\n",
       "  'classes': array([b'0'], dtype=object),\n",
       "  'logistic': array([ 0.1751574], dtype=float32),\n",
       "  'logits': array([-1.54950762], dtype=float32),\n",
       "  'probabilities': array([ 0.82484257,  0.1751574 ], dtype=float32)},\n",
       " {'class_ids': array([1]),\n",
       "  'classes': array([b'1'], dtype=object),\n",
       "  'logistic': array([ 0.5153873], dtype=float32),\n",
       "  'logits': array([ 0.06156862], dtype=float32),\n",
       "  'probabilities': array([ 0.4846127,  0.5153873], dtype=float32)},\n",
       " {'class_ids': array([0]),\n",
       "  'classes': array([b'0'], dtype=object),\n",
       "  'logistic': array([ 0.05641139], dtype=float32),\n",
       "  'logits': array([-2.81701922], dtype=float32),\n",
       "  'probabilities': array([ 0.94358855,  0.05641139], dtype=float32)},\n",
       " {'class_ids': array([0]),\n",
       "  'classes': array([b'0'], dtype=object),\n",
       "  'logistic': array([ 0.26383066], dtype=float32),\n",
       "  'logits': array([-1.02615273], dtype=float32),\n",
       "  'probabilities': array([ 0.73616928,  0.26383063], dtype=float32)},\n",
       " {'class_ids': array([0]),\n",
       "  'classes': array([b'0'], dtype=object),\n",
       "  'logistic': array([ 0.16771269], dtype=float32),\n",
       "  'logits': array([-1.60192537], dtype=float32),\n",
       "  'probabilities': array([ 0.83228731,  0.16771269], dtype=float32)},\n",
       " {'class_ids': array([0]),\n",
       "  'classes': array([b'0'], dtype=object),\n",
       "  'logistic': array([ 0.28091994], dtype=float32),\n",
       "  'logits': array([-0.9399029], dtype=float32),\n",
       "  'probabilities': array([ 0.71908003,  0.28091994], dtype=float32)},\n",
       " {'class_ids': array([0]),\n",
       "  'classes': array([b'0'], dtype=object),\n",
       "  'logistic': array([ 0.23315266], dtype=float32),\n",
       "  'logits': array([-1.19059432], dtype=float32),\n",
       "  'probabilities': array([ 0.76684731,  0.23315266], dtype=float32)},\n",
       " {'class_ids': array([0]),\n",
       "  'classes': array([b'0'], dtype=object),\n",
       "  'logistic': array([ 0.2751517], dtype=float32),\n",
       "  'logits': array([-0.96863973], dtype=float32),\n",
       "  'probabilities': array([ 0.72484827,  0.2751517 ], dtype=float32)},\n",
       " {'class_ids': array([1]),\n",
       "  'classes': array([b'1'], dtype=object),\n",
       "  'logistic': array([ 0.77469826], dtype=float32),\n",
       "  'logits': array([ 1.23503292], dtype=float32),\n",
       "  'probabilities': array([ 0.22530177,  0.77469826], dtype=float32)},\n",
       " {'class_ids': array([0]),\n",
       "  'classes': array([b'0'], dtype=object),\n",
       "  'logistic': array([ 0.16782524], dtype=float32),\n",
       "  'logits': array([-1.60111928], dtype=float32),\n",
       "  'probabilities': array([ 0.83217478,  0.16782524], dtype=float32)},\n",
       " {'class_ids': array([0]),\n",
       "  'classes': array([b'0'], dtype=object),\n",
       "  'logistic': array([ 0.11785184], dtype=float32),\n",
       "  'logits': array([-2.01293182], dtype=float32),\n",
       "  'probabilities': array([ 0.88214815,  0.11785183], dtype=float32)},\n",
       " {'class_ids': array([1]),\n",
       "  'classes': array([b'1'], dtype=object),\n",
       "  'logistic': array([ 0.60455877], dtype=float32),\n",
       "  'logits': array([ 0.42449665], dtype=float32),\n",
       "  'probabilities': array([ 0.39544123,  0.60455877], dtype=float32)},\n",
       " {'class_ids': array([0]),\n",
       "  'classes': array([b'0'], dtype=object),\n",
       "  'logistic': array([ 0.49640164], dtype=float32),\n",
       "  'logits': array([-0.01439369], dtype=float32),\n",
       "  'probabilities': array([ 0.50359833,  0.49640164], dtype=float32)},\n",
       " {'class_ids': array([1]),\n",
       "  'classes': array([b'1'], dtype=object),\n",
       "  'logistic': array([ 0.8368631], dtype=float32),\n",
       "  'logits': array([ 1.63507092], dtype=float32),\n",
       "  'probabilities': array([ 0.16313687,  0.8368631 ], dtype=float32)},\n",
       " {'class_ids': array([1]),\n",
       "  'classes': array([b'1'], dtype=object),\n",
       "  'logistic': array([ 0.66185665], dtype=float32),\n",
       "  'logits': array([ 0.67157912], dtype=float32),\n",
       "  'probabilities': array([ 0.33814332,  0.66185665], dtype=float32)},\n",
       " {'class_ids': array([0]),\n",
       "  'classes': array([b'0'], dtype=object),\n",
       "  'logistic': array([ 0.11917204], dtype=float32),\n",
       "  'logits': array([-2.00029421], dtype=float32),\n",
       "  'probabilities': array([ 0.88082796,  0.11917203], dtype=float32)},\n",
       " {'class_ids': array([1]),\n",
       "  'classes': array([b'1'], dtype=object),\n",
       "  'logistic': array([ 0.64702743], dtype=float32),\n",
       "  'logits': array([ 0.6059984], dtype=float32),\n",
       "  'probabilities': array([ 0.35297254,  0.64702743], dtype=float32)}]"
      ]
     },
     "execution_count": 177,
     "metadata": {},
     "output_type": "execute_result"
    }
   ],
   "source": [
    "my_pred"
   ]
  },
  {
   "cell_type": "markdown",
   "metadata": {},
   "source": [
    "DNN "
   ]
  },
  {
   "cell_type": "code",
   "execution_count": 178,
   "metadata": {},
   "outputs": [
    {
     "name": "stdout",
     "output_type": "stream",
     "text": [
      "INFO:tensorflow:Using default config.\n",
      "WARNING:tensorflow:Using temporary folder as model directory: /tmp/tmp9hoguggt\n",
      "INFO:tensorflow:Using config: {'_save_summary_steps': 100, '_tf_random_seed': 1, '_keep_checkpoint_max': 5, '_model_dir': '/tmp/tmp9hoguggt', '_save_checkpoints_secs': 600, '_save_checkpoints_steps': None, '_keep_checkpoint_every_n_hours': 10000, '_session_config': None, '_log_step_count_steps': 100}\n"
     ]
    }
   ],
   "source": [
    "dnn_model = tf.estimator.DNNClassifier(hidden_units=[10,10,10],feature_columns=feat_cols,n_classes=2)"
   ]
  },
  {
   "cell_type": "code",
   "execution_count": 179,
   "metadata": {},
   "outputs": [
    {
     "ename": "ValueError",
     "evalue": "Items of feature_columns must be a _DenseColumn. You can wrap a categorical column with an embedding_column or indicator_column. Given: _VocabularyListCategoricalColumn(key='Group', vocabulary_list=('A', 'B', 'C', 'D'), dtype=tf.string, default_value=-1, num_oov_buckets=0)",
     "output_type": "error",
     "traceback": [
      "\u001b[0;31m---------------------------------------------------------------------------\u001b[0m",
      "\u001b[0;31mValueError\u001b[0m                                Traceback (most recent call last)",
      "\u001b[0;32m<ipython-input-179-d908feb8337f>\u001b[0m in \u001b[0;36m<module>\u001b[0;34m()\u001b[0m\n\u001b[0;32m----> 1\u001b[0;31m \u001b[0mdnn_model\u001b[0m\u001b[0;34m.\u001b[0m\u001b[0mtrain\u001b[0m\u001b[0;34m(\u001b[0m\u001b[0minput_fn\u001b[0m \u001b[0;34m=\u001b[0m \u001b[0minput_func\u001b[0m\u001b[0;34m,\u001b[0m \u001b[0msteps\u001b[0m\u001b[0;34m=\u001b[0m\u001b[0;36m1000\u001b[0m\u001b[0;34m)\u001b[0m\u001b[0;34m\u001b[0m\u001b[0m\n\u001b[0m",
      "\u001b[0;32m~/anaconda3/envs/tfdeeplearning/lib/python3.5/site-packages/tensorflow/python/estimator/estimator.py\u001b[0m in \u001b[0;36mtrain\u001b[0;34m(self, input_fn, hooks, steps, max_steps)\u001b[0m\n\u001b[1;32m    239\u001b[0m       \u001b[0mhooks\u001b[0m\u001b[0;34m.\u001b[0m\u001b[0mappend\u001b[0m\u001b[0;34m(\u001b[0m\u001b[0mtraining\u001b[0m\u001b[0;34m.\u001b[0m\u001b[0mStopAtStepHook\u001b[0m\u001b[0;34m(\u001b[0m\u001b[0msteps\u001b[0m\u001b[0;34m,\u001b[0m \u001b[0mmax_steps\u001b[0m\u001b[0;34m)\u001b[0m\u001b[0;34m)\u001b[0m\u001b[0;34m\u001b[0m\u001b[0m\n\u001b[1;32m    240\u001b[0m \u001b[0;34m\u001b[0m\u001b[0m\n\u001b[0;32m--> 241\u001b[0;31m     \u001b[0mloss\u001b[0m \u001b[0;34m=\u001b[0m \u001b[0mself\u001b[0m\u001b[0;34m.\u001b[0m\u001b[0m_train_model\u001b[0m\u001b[0;34m(\u001b[0m\u001b[0minput_fn\u001b[0m\u001b[0;34m=\u001b[0m\u001b[0minput_fn\u001b[0m\u001b[0;34m,\u001b[0m \u001b[0mhooks\u001b[0m\u001b[0;34m=\u001b[0m\u001b[0mhooks\u001b[0m\u001b[0;34m)\u001b[0m\u001b[0;34m\u001b[0m\u001b[0m\n\u001b[0m\u001b[1;32m    242\u001b[0m     \u001b[0mlogging\u001b[0m\u001b[0;34m.\u001b[0m\u001b[0minfo\u001b[0m\u001b[0;34m(\u001b[0m\u001b[0;34m'Loss for final step: %s.'\u001b[0m\u001b[0;34m,\u001b[0m \u001b[0mloss\u001b[0m\u001b[0;34m)\u001b[0m\u001b[0;34m\u001b[0m\u001b[0m\n\u001b[1;32m    243\u001b[0m     \u001b[0;32mreturn\u001b[0m \u001b[0mself\u001b[0m\u001b[0;34m\u001b[0m\u001b[0m\n",
      "\u001b[0;32m~/anaconda3/envs/tfdeeplearning/lib/python3.5/site-packages/tensorflow/python/estimator/estimator.py\u001b[0m in \u001b[0;36m_train_model\u001b[0;34m(self, input_fn, hooks)\u001b[0m\n\u001b[1;32m    628\u001b[0m           input_fn, model_fn_lib.ModeKeys.TRAIN)\n\u001b[1;32m    629\u001b[0m       estimator_spec = self._call_model_fn(features, labels,\n\u001b[0;32m--> 630\u001b[0;31m                                            model_fn_lib.ModeKeys.TRAIN)\n\u001b[0m\u001b[1;32m    631\u001b[0m       \u001b[0mops\u001b[0m\u001b[0;34m.\u001b[0m\u001b[0madd_to_collection\u001b[0m\u001b[0;34m(\u001b[0m\u001b[0mops\u001b[0m\u001b[0;34m.\u001b[0m\u001b[0mGraphKeys\u001b[0m\u001b[0;34m.\u001b[0m\u001b[0mLOSSES\u001b[0m\u001b[0;34m,\u001b[0m \u001b[0mestimator_spec\u001b[0m\u001b[0;34m.\u001b[0m\u001b[0mloss\u001b[0m\u001b[0;34m)\u001b[0m\u001b[0;34m\u001b[0m\u001b[0m\n\u001b[1;32m    632\u001b[0m       \u001b[0mall_hooks\u001b[0m\u001b[0;34m.\u001b[0m\u001b[0mextend\u001b[0m\u001b[0;34m(\u001b[0m\u001b[0mhooks\u001b[0m\u001b[0;34m)\u001b[0m\u001b[0;34m\u001b[0m\u001b[0m\n",
      "\u001b[0;32m~/anaconda3/envs/tfdeeplearning/lib/python3.5/site-packages/tensorflow/python/estimator/estimator.py\u001b[0m in \u001b[0;36m_call_model_fn\u001b[0;34m(self, features, labels, mode)\u001b[0m\n\u001b[1;32m    613\u001b[0m     \u001b[0;32mif\u001b[0m \u001b[0;34m'config'\u001b[0m \u001b[0;32min\u001b[0m \u001b[0mmodel_fn_args\u001b[0m\u001b[0;34m:\u001b[0m\u001b[0;34m\u001b[0m\u001b[0m\n\u001b[1;32m    614\u001b[0m       \u001b[0mkwargs\u001b[0m\u001b[0;34m[\u001b[0m\u001b[0;34m'config'\u001b[0m\u001b[0;34m]\u001b[0m \u001b[0;34m=\u001b[0m \u001b[0mself\u001b[0m\u001b[0;34m.\u001b[0m\u001b[0mconfig\u001b[0m\u001b[0;34m\u001b[0m\u001b[0m\n\u001b[0;32m--> 615\u001b[0;31m     \u001b[0mmodel_fn_results\u001b[0m \u001b[0;34m=\u001b[0m \u001b[0mself\u001b[0m\u001b[0;34m.\u001b[0m\u001b[0m_model_fn\u001b[0m\u001b[0;34m(\u001b[0m\u001b[0mfeatures\u001b[0m\u001b[0;34m=\u001b[0m\u001b[0mfeatures\u001b[0m\u001b[0;34m,\u001b[0m \u001b[0;34m**\u001b[0m\u001b[0mkwargs\u001b[0m\u001b[0;34m)\u001b[0m\u001b[0;34m\u001b[0m\u001b[0m\n\u001b[0m\u001b[1;32m    616\u001b[0m \u001b[0;34m\u001b[0m\u001b[0m\n\u001b[1;32m    617\u001b[0m     \u001b[0;32mif\u001b[0m \u001b[0;32mnot\u001b[0m \u001b[0misinstance\u001b[0m\u001b[0;34m(\u001b[0m\u001b[0mmodel_fn_results\u001b[0m\u001b[0;34m,\u001b[0m \u001b[0mmodel_fn_lib\u001b[0m\u001b[0;34m.\u001b[0m\u001b[0mEstimatorSpec\u001b[0m\u001b[0;34m)\u001b[0m\u001b[0;34m:\u001b[0m\u001b[0;34m\u001b[0m\u001b[0m\n",
      "\u001b[0;32m~/anaconda3/envs/tfdeeplearning/lib/python3.5/site-packages/tensorflow/python/estimator/canned/dnn.py\u001b[0m in \u001b[0;36m_model_fn\u001b[0;34m(features, labels, mode, config)\u001b[0m\n\u001b[1;32m    269\u001b[0m           \u001b[0mdropout\u001b[0m\u001b[0;34m=\u001b[0m\u001b[0mdropout\u001b[0m\u001b[0;34m,\u001b[0m\u001b[0;34m\u001b[0m\u001b[0m\n\u001b[1;32m    270\u001b[0m           \u001b[0minput_layer_partitioner\u001b[0m\u001b[0;34m=\u001b[0m\u001b[0minput_layer_partitioner\u001b[0m\u001b[0;34m,\u001b[0m\u001b[0;34m\u001b[0m\u001b[0m\n\u001b[0;32m--> 271\u001b[0;31m           config=config)\n\u001b[0m\u001b[1;32m    272\u001b[0m     super(DNNClassifier, self).__init__(\n\u001b[1;32m    273\u001b[0m         model_fn=_model_fn, model_dir=model_dir, config=config)\n",
      "\u001b[0;32m~/anaconda3/envs/tfdeeplearning/lib/python3.5/site-packages/tensorflow/python/estimator/canned/dnn.py\u001b[0m in \u001b[0;36m_dnn_model_fn\u001b[0;34m(features, labels, mode, head, hidden_units, feature_columns, optimizer, activation_fn, dropout, input_layer_partitioner, config)\u001b[0m\n\u001b[1;32m    100\u001b[0m       net = feature_column_lib.input_layer(\n\u001b[1;32m    101\u001b[0m           \u001b[0mfeatures\u001b[0m\u001b[0;34m=\u001b[0m\u001b[0mfeatures\u001b[0m\u001b[0;34m,\u001b[0m\u001b[0;34m\u001b[0m\u001b[0m\n\u001b[0;32m--> 102\u001b[0;31m           feature_columns=feature_columns)\n\u001b[0m\u001b[1;32m    103\u001b[0m \u001b[0;34m\u001b[0m\u001b[0m\n\u001b[1;32m    104\u001b[0m     \u001b[0;32mfor\u001b[0m \u001b[0mlayer_id\u001b[0m\u001b[0;34m,\u001b[0m \u001b[0mnum_hidden_units\u001b[0m \u001b[0;32min\u001b[0m \u001b[0menumerate\u001b[0m\u001b[0;34m(\u001b[0m\u001b[0mhidden_units\u001b[0m\u001b[0;34m)\u001b[0m\u001b[0;34m:\u001b[0m\u001b[0;34m\u001b[0m\u001b[0m\n",
      "\u001b[0;32m~/anaconda3/envs/tfdeeplearning/lib/python3.5/site-packages/tensorflow/python/feature_column/feature_column.py\u001b[0m in \u001b[0;36minput_layer\u001b[0;34m(features, feature_columns, weight_collections, trainable)\u001b[0m\n\u001b[1;32m    211\u001b[0m           \u001b[0;34m'Items of feature_columns must be a _DenseColumn. '\u001b[0m\u001b[0;34m\u001b[0m\u001b[0m\n\u001b[1;32m    212\u001b[0m           \u001b[0;34m'You can wrap a categorical column with an '\u001b[0m\u001b[0;34m\u001b[0m\u001b[0m\n\u001b[0;32m--> 213\u001b[0;31m           'embedding_column or indicator_column. Given: {}'.format(column))\n\u001b[0m\u001b[1;32m    214\u001b[0m   \u001b[0mweight_collections\u001b[0m \u001b[0;34m=\u001b[0m \u001b[0mlist\u001b[0m\u001b[0;34m(\u001b[0m\u001b[0mweight_collections\u001b[0m \u001b[0;32mor\u001b[0m \u001b[0;34m[\u001b[0m\u001b[0;34m]\u001b[0m\u001b[0;34m)\u001b[0m\u001b[0;34m\u001b[0m\u001b[0m\n\u001b[1;32m    215\u001b[0m   \u001b[0;32mif\u001b[0m \u001b[0mops\u001b[0m\u001b[0;34m.\u001b[0m\u001b[0mGraphKeys\u001b[0m\u001b[0;34m.\u001b[0m\u001b[0mGLOBAL_VARIABLES\u001b[0m \u001b[0;32mnot\u001b[0m \u001b[0;32min\u001b[0m \u001b[0mweight_collections\u001b[0m\u001b[0;34m:\u001b[0m\u001b[0;34m\u001b[0m\u001b[0m\n",
      "\u001b[0;31mValueError\u001b[0m: Items of feature_columns must be a _DenseColumn. You can wrap a categorical column with an embedding_column or indicator_column. Given: _VocabularyListCategoricalColumn(key='Group', vocabulary_list=('A', 'B', 'C', 'D'), dtype=tf.string, default_value=-1, num_oov_buckets=0)"
     ]
    }
   ],
   "source": [
    "dnn_model.train(input_fn = input_func, steps=1000)"
   ]
  },
  {
   "cell_type": "code",
   "execution_count": 184,
   "metadata": {
    "collapsed": true
   },
   "outputs": [],
   "source": [
    "embedded_group_column = tf.feature_column.embedding_column(assigned_group,dimension=4)"
   ]
  },
  {
   "cell_type": "code",
   "execution_count": 185,
   "metadata": {},
   "outputs": [],
   "source": [
    "feat_cols = [num_preg ,plasma_gluc,dias_press ,tricep ,insulin,bmi,diabetes_pedigree ,embedded_group_column, age_buckets]"
   ]
  },
  {
   "cell_type": "code",
   "execution_count": 186,
   "metadata": {
    "collapsed": true
   },
   "outputs": [],
   "source": [
    "input_func = tf.estimator.inputs.pandas_input_fn(X_train,y_train,batch_size=10,num_epochs=1000,shuffle=True)"
   ]
  },
  {
   "cell_type": "code",
   "execution_count": 187,
   "metadata": {},
   "outputs": [
    {
     "name": "stdout",
     "output_type": "stream",
     "text": [
      "INFO:tensorflow:Using default config.\n",
      "WARNING:tensorflow:Using temporary folder as model directory: /tmp/tmpd1sq2fjl\n",
      "INFO:tensorflow:Using config: {'_save_summary_steps': 100, '_tf_random_seed': 1, '_keep_checkpoint_max': 5, '_model_dir': '/tmp/tmpd1sq2fjl', '_save_checkpoints_secs': 600, '_save_checkpoints_steps': None, '_keep_checkpoint_every_n_hours': 10000, '_session_config': None, '_log_step_count_steps': 100}\n"
     ]
    }
   ],
   "source": [
    "dnn_model = tf.estimator.DNNClassifier(hidden_units=[10,10,10],feature_columns=feat_cols,n_classes=2)"
   ]
  },
  {
   "cell_type": "code",
   "execution_count": 188,
   "metadata": {},
   "outputs": [
    {
     "name": "stdout",
     "output_type": "stream",
     "text": [
      "INFO:tensorflow:Create CheckpointSaverHook.\n",
      "INFO:tensorflow:Saving checkpoints for 1 into /tmp/tmpd1sq2fjl/model.ckpt.\n",
      "INFO:tensorflow:step = 1, loss = 7.13461\n",
      "INFO:tensorflow:global_step/sec: 387.687\n",
      "INFO:tensorflow:step = 101, loss = 6.18552 (0.260 sec)\n",
      "INFO:tensorflow:global_step/sec: 399.548\n",
      "INFO:tensorflow:step = 201, loss = 4.46671 (0.250 sec)\n",
      "INFO:tensorflow:global_step/sec: 402.532\n",
      "INFO:tensorflow:step = 301, loss = 5.88154 (0.253 sec)\n",
      "INFO:tensorflow:global_step/sec: 404.733\n",
      "INFO:tensorflow:step = 401, loss = 5.30606 (0.246 sec)\n",
      "INFO:tensorflow:global_step/sec: 403.202\n",
      "INFO:tensorflow:step = 501, loss = 4.28507 (0.245 sec)\n",
      "INFO:tensorflow:global_step/sec: 458.847\n",
      "INFO:tensorflow:step = 601, loss = 5.06381 (0.219 sec)\n",
      "INFO:tensorflow:global_step/sec: 330.167\n",
      "INFO:tensorflow:step = 701, loss = 2.51019 (0.309 sec)\n",
      "INFO:tensorflow:global_step/sec: 302.896\n",
      "INFO:tensorflow:step = 801, loss = 5.4292 (0.323 sec)\n",
      "INFO:tensorflow:global_step/sec: 241.04\n",
      "INFO:tensorflow:step = 901, loss = 8.91046 (0.414 sec)\n",
      "INFO:tensorflow:Saving checkpoints for 1000 into /tmp/tmpd1sq2fjl/model.ckpt.\n",
      "INFO:tensorflow:Loss for final step: 5.85333.\n"
     ]
    },
    {
     "data": {
      "text/plain": [
       "<tensorflow.python.estimator.canned.dnn.DNNClassifier at 0x7f815d4a8128>"
      ]
     },
     "execution_count": 188,
     "metadata": {},
     "output_type": "execute_result"
    }
   ],
   "source": [
    "dnn_model.train(input_fn=input_func,steps=1000)"
   ]
  },
  {
   "cell_type": "code",
   "execution_count": 190,
   "metadata": {},
   "outputs": [],
   "source": [
    "eval_input_func = tf.estimator.inputs.pandas_input_fn(x=X_test,y=y_test,batch_size=10,num_epochs=1,shuffle=False)"
   ]
  },
  {
   "cell_type": "code",
   "execution_count": 191,
   "metadata": {},
   "outputs": [
    {
     "name": "stdout",
     "output_type": "stream",
     "text": [
      "WARNING:tensorflow:Casting <dtype: 'float32'> labels to bool.\n",
      "WARNING:tensorflow:Casting <dtype: 'float32'> labels to bool.\n",
      "INFO:tensorflow:Starting evaluation at 2018-04-11-08:59:11\n",
      "INFO:tensorflow:Restoring parameters from /tmp/tmpd1sq2fjl/model.ckpt-1000\n",
      "INFO:tensorflow:Finished evaluation at 2018-04-11-08:59:11\n",
      "INFO:tensorflow:Saving dict for global step 1000: accuracy = 0.757576, accuracy_baseline = 0.649351, auc = 0.815802, auc_precision_recall = 0.670447, average_loss = 0.529563, global_step = 1000, label/mean = 0.350649, loss = 5.09705, prediction/mean = 0.439775\n"
     ]
    },
    {
     "data": {
      "text/plain": [
       "{'accuracy': 0.75757575,\n",
       " 'accuracy_baseline': 0.64935064,\n",
       " 'auc': 0.81580245,\n",
       " 'auc_precision_recall': 0.67044657,\n",
       " 'average_loss': 0.52956319,\n",
       " 'global_step': 1000,\n",
       " 'label/mean': 0.35064936,\n",
       " 'loss': 5.0970454,\n",
       " 'prediction/mean': 0.43977481}"
      ]
     },
     "execution_count": 191,
     "metadata": {},
     "output_type": "execute_result"
    }
   ],
   "source": [
    "dnn_model.evaluate(eval_input_func)"
   ]
  },
  {
   "cell_type": "markdown",
   "metadata": {},
   "source": [
    "Summary:\n",
    "- Take in your data\n",
    "- Normalise numeric cols\n",
    "- use tf.feature_column.numeric_column for the numerical cols \n",
    "- use the vocab list or hash bucket for the categorical values \n",
    "- train test split (eval set)\n",
    "- make an input function (available for using both pandas_input_fn and numpy data sets)\n",
    "- create linear classifier\n",
    "- train it\n",
    "- evaluate\n",
    "- predict \n"
   ]
  },
  {
   "cell_type": "code",
   "execution_count": null,
   "metadata": {
    "collapsed": true
   },
   "outputs": [],
   "source": []
  }
 ],
 "metadata": {
  "kernelspec": {
   "display_name": "Python 3",
   "language": "python",
   "name": "python3"
  },
  "language_info": {
   "codemirror_mode": {
    "name": "ipython",
    "version": 3
   },
   "file_extension": ".py",
   "mimetype": "text/x-python",
   "name": "python",
   "nbconvert_exporter": "python",
   "pygments_lexer": "ipython3",
   "version": "3.5.4"
  }
 },
 "nbformat": 4,
 "nbformat_minor": 2
}
